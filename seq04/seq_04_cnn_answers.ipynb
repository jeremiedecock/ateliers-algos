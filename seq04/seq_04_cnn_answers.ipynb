{
  "cells": [
    {
      "cell_type": "markdown",
      "metadata": {
        "id": "CF7Q8jEeEPM1"
      },
      "source": [
        "## <font color=darkblue> Convolutional neural networks </font>\n"
      ]
    },
    {
      "cell_type": "markdown",
      "metadata": {
        "id": "gv1tTxcDjLW6"
      },
      "source": [
        "### <font color=darkred> Bibliography & additional ressources </font>"
      ]
    },
    {
      "cell_type": "markdown",
      "metadata": {
        "id": "SLsK5IHEjPWb"
      },
      "source": [
        "-  [1] Probabilistic machine learning: an introduction, Kevin P. Murphy, 2022, https://probml.github.io/pml-book/book1.html\n",
        "``Full book online with all basics on machine learning. Not state-of-the-art but very good introduction``\n",
        "- [2] Deep learning course, Ms. Sc. Institut Polytechnique de Paris, https://github.com/m2dsupsdlclass/lectures-labs\n",
        "- [3] Theory of deep convolutional neural networks: Downsampling, 2020,\n",
        "DX Zhou, Neural Networks.\n",
        "- [4] A mathematical theory of deep convolutional neural networks for feature extraction,\n",
        "T Wiatowski, H Bölcskei, 2017, Transactions on Information Theory.\n",
        "- https://microscope.openai.com/models\n",
        "- https://poloclub.github.io/cnn-explainer/\n",
        "- http://alexlenail.me/NN-SVG/index.html"
      ]
    },
    {
      "cell_type": "markdown",
      "metadata": {
        "id": "B61KWCTMHjsy"
      },
      "source": [
        "### <font color=darkred>Introduction : general framework & motivations</font>\n",
        "\n",
        "In machine learning applications to classification, parameter inference often boils down to solving\n",
        "$$\\mathrm{argmin}_{\\theta \\in \\mathbb{R}^d} \\,\\{\\ell_n(\\theta)=\\frac 1n \\sum_{i=1}^n \\ell(\\theta, y_i, x_i) + \\lambda \\|\\theta\\|^2\\}\\,,\n",
        "$$\n",
        " with $\\lambda>0$, $(x_i,y_i)_{1\\leq i\\leq n}$ are ``training examples of inputs and outputs`` (in a supervised setting), and $\\theta$ is an ``unknown parameter to be estimated`` and $\\ell$ the crossentropy loss (i.e. the negative loglikelihood):\n",
        "$$\n",
        "\\ell(\\theta, y_i, x_i) = -\\sum_{k=1}^M \\mathbb{1}_{y_i=k}\\log \\mathbb{P}_{\\theta}(y_i=k|x_i)\\,.\n",
        "$$"
      ]
    },
    {
      "cell_type": "markdown",
      "source": [
        "**The probabilities $\\mathbb{P}_{\\theta}(y_i=k|x_i)$, $1\\leq k \\leq M$, can be modeled using deep learning architectures which use $x_i$ as input and ouput these probabilities**."
      ],
      "metadata": {
        "id": "m8REu70yoJN1"
      }
    },
    {
      "cell_type": "code",
      "execution_count": 1,
      "metadata": {
        "id": "SQHBC-8OJxKK",
        "tags": []
      },
      "outputs": [],
      "source": [
        "import numpy as np\n",
        "import autograd\n",
        "import matplotlib.pyplot as plt\n",
        "import matplotlib.cm as cm\n",
        "import torch\n",
        "\n",
        "np.set_printoptions(precision=2)\n",
        "plt.rcParams.update(\n",
        "    {\n",
        "        \"font.size\": 25,\n",
        "        \"figure.figsize\": (14, 7),\n",
        "        \"axes.grid\": True,\n",
        "        \"grid.color\": \"#93a1a1\",\n",
        "        \"grid.alpha\": 0.3,\n",
        "        \"axes.spines.top\": False,\n",
        "        \"axes.spines.right\": False,\n",
        "    }\n",
        ")"
      ]
    },
    {
      "cell_type": "markdown",
      "metadata": {
        "id": "GxDZ_IL_GF4v"
      },
      "source": [
        "### <font color=darkred> Reminder on Feed Forward Neural Networks (from session 2)</font>"
      ]
    },
    {
      "cell_type": "markdown",
      "source": [
        "The **Multi-layer Perceptron (MLP)** or **Feed Forward Neural Network (FFNN)** weakens the modeling assumptions of the logistic regression and composes in parallel  $L$ perceptron units to produce the output. Let $x\\in\\mathbb{R}^d$ be the input and define all layers as follows.\n",
        "\n",
        "\\begin{align*}\n",
        "h_{\\theta}^0(x) &= x\\,,\\\\\n",
        "\\mathrm{Linear\\; transform}\\qquad z_{\\theta}^k(x)  &= b^k + W^kh_{\\theta}^{k-1}(x)\\quad \\mathrm{for\\;all\\;} 1\\leqslant k\\leqslant L\\,,\\\\\n",
        "\\mathrm{Nonlinear\\; transform}\\qquad h_{\\theta}^k(x)  &= \\varphi_k(z_{\\theta}^{k}(x))\\quad \\mathrm{for\\;all\\;}1\\leqslant k\\leqslant L\\,,\n",
        "\\end{align*}\n",
        "\n",
        "where for all $1 \\leqslant k \\leqslant L$, $b^k\\in\\mathbb{R}^{d_k}$, $W^k\\in\\mathbb{R}^{d_k\\times d_{k-1}}$, with $d_0 \\equiv d$, and $\\varphi^k: \\mathbb{R}^{d_k} \\to \\mathbb{R}^{d_k}$ is a nonlinear activation function.\n",
        "\n",
        "Let **$\\theta = \\{b^1,W^1,\\ldots,b^L,W^L\\}$ be the unknown parameters of the MLP and $f_{\\theta}(x) = h_{\\theta}^L(x)$** be the output layer of the MLP.\n",
        "\n",
        "In a classification setting, **the last activation function is a softmax function so that $f_{\\theta}(x)$ contains the probability for each class when the input is $x$**."
      ],
      "metadata": {
        "id": "kj9y2NaRk_zk"
      }
    },
    {
      "cell_type": "markdown",
      "source": [
        "``Illustration of a layer of a dense network``.\n",
        "\n",
        "![](https://drive.google.com/uc?export=view&id=1STDEPOohPM6RzR2nERWxnmdMzIq9l_TX)\n",
        "\n",
        "\n"
      ],
      "metadata": {
        "id": "pH5UfYYTlN6I"
      }
    },
    {
      "cell_type": "code",
      "source": [
        "import numpy as np\n",
        "import tensorflow as tf\n",
        "import matplotlib.pyplot as plt\n",
        "import keras\n",
        "from keras import datasets, layers, models\n",
        "from keras.models import Sequential\n",
        "from keras.layers import Dense, Dropout, Flatten\n",
        "from keras.layers import Conv2D, MaxPooling2D\n",
        "from keras import activations"
      ],
      "metadata": {
        "id": "9MAlA14WfIcw"
      },
      "execution_count": 2,
      "outputs": []
    },
    {
      "cell_type": "markdown",
      "source": [
        "##### Toy dataset of images"
      ],
      "metadata": {
        "id": "QaUJXP_HWVGR"
      }
    },
    {
      "cell_type": "markdown",
      "source": [
        "CIFAR10 dataset contains 60 000 images of size 32*32 displayed in 10 classes, with 6 000 images in each class:  50 000 images are used as a training set and 10 000 images as a test dataset."
      ],
      "metadata": {
        "id": "213QrKuyiIYf"
      }
    },
    {
      "cell_type": "code",
      "source": [
        "from keras.datasets import cifar10"
      ],
      "metadata": {
        "id": "8suD7JG6XUxf"
      },
      "execution_count": 3,
      "outputs": []
    },
    {
      "cell_type": "code",
      "source": [
        "(train_images, train_labels), (test_images, test_labels) = datasets.cifar10.load_data()\n",
        "\n",
        "# Normalize pixel values to be between 0 and 1\n",
        "train_images, test_images = train_images / 255.0, test_images / 255.0"
      ],
      "metadata": {
        "colab": {
          "base_uri": "https://localhost:8080/"
        },
        "id": "apZBGRauiaAb",
        "outputId": "0cbfbf54-af56-4107-ed3b-d34b0e5c319e"
      },
      "execution_count": 4,
      "outputs": [
        {
          "output_type": "stream",
          "name": "stdout",
          "text": [
            "Downloading data from https://www.cs.toronto.edu/~kriz/cifar-10-python.tar.gz\n",
            "170498071/170498071 [==============================] - 6s 0us/step\n"
          ]
        }
      ]
    },
    {
      "cell_type": "code",
      "source": [
        "class_names = ['airplane', 'automobile', 'bird', 'cat', 'deer',\n",
        "               'dog', 'frog', 'horse', 'ship', 'truck']\n",
        "\n",
        "plt.figure(figsize=(10,10))\n",
        "for i in range(5):\n",
        "    plt.subplot(1,5,i+1)\n",
        "    plt.xticks([])\n",
        "    plt.yticks([])\n",
        "    plt.grid(False)\n",
        "    plt.imshow(train_images[i])\n",
        "\n",
        "    plt.xlabel(class_names[train_labels[i][0]])\n",
        "plt.show()"
      ],
      "metadata": {
        "colab": {
          "base_uri": "https://localhost:8080/",
          "height": 207
        },
        "id": "indGKK0Lityl",
        "outputId": "2dc554ef-cf03-473c-9f10-087f5e0dbc53"
      },
      "execution_count": 5,
      "outputs": [
        {
          "output_type": "display_data",
          "data": {
            "text/plain": [
              "<Figure size 1000x1000 with 5 Axes>"
            ],
            "image/png": "[encoded data removed]"
          },
          "metadata": {}
        }
      ]
    },
    {
      "cell_type": "markdown",
      "source": [
        "The input size of the data is $32\\times 32 \\times 3$. This can be used as an input for a MLP in Keras by first **using a ``Flatten`` step which vectorizes each input as a vector of size $d=3072$**."
      ],
      "metadata": {
        "id": "UcNIGPm2lvLm"
      }
    },
    {
      "cell_type": "code",
      "source": [
        "model_ffnn = Sequential()\n",
        "model_ffnn.add(Flatten(input_shape=(32, 32, 3)))\n",
        "####\n",
        "# A compléter\n",
        "# Ajouter une couche cachée de dimension 16 et de fonction d'activation RELU\n",
        "####\n",
        "model_ffnn.add(Dense(16, activation='relu'))\n",
        "model_ffnn.add(Dense(10, activation='softmax'))"
      ],
      "metadata": {
        "id": "IfH5vURNjtGC"
      },
      "execution_count": null,
      "outputs": []
    },
    {
      "cell_type": "markdown",
      "source": [
        "How many parameters have to be trained in this model ?"
      ],
      "metadata": {
        "id": "QjxXdv3tpY0g"
      }
    },
    {
      "cell_type": "markdown",
      "source": [
        "**A compléter**\n",
        "\n",
        "The input dimension is $3072$.\n",
        "The first layer has dimension $16$, this yields $(3072+1)*16 = 49168$ parameters.\n",
        "The output layer has dimension 10, this yields $(16+1)*10 = 170$ parameters.\n",
        "\n",
        "The model has therefore $49338$ parameters."
      ],
      "metadata": {
        "id": "QI3ETfYZpd1t"
      }
    },
    {
      "cell_type": "code",
      "source": [
        " model_ffnn.summary()"
      ],
      "metadata": {
        "colab": {
          "base_uri": "https://localhost:8080/"
        },
        "id": "iCJRrtxLXiSb",
        "outputId": "42e7a611-414d-423f-a5ef-4fb6741c81cf"
      },
      "execution_count": null,
      "outputs": [
        {
          "output_type": "stream",
          "name": "stdout",
          "text": [
            "Model: \"sequential\"\n",
            "_________________________________________________________________\n",
            " Layer (type)                Output Shape              Param #   \n",
            "=================================================================\n",
            " flatten (Flatten)           (None, 3072)              0         \n",
            "                                                                 \n",
            " dense (Dense)               (None, 16)                49168     \n",
            "                                                                 \n",
            " dense_1 (Dense)             (None, 10)                170       \n",
            "                                                                 \n",
            "=================================================================\n",
            "Total params: 49,338\n",
            "Trainable params: 49,338\n",
            "Non-trainable params: 0\n",
            "_________________________________________________________________\n"
          ]
        }
      ]
    },
    {
      "cell_type": "code",
      "source": [
        "model_ffnn.compile(optimizer='adam',\n",
        "              loss=tf.keras.losses.SparseCategoricalCrossentropy(from_logits=True),\n",
        "              metrics=['accuracy'])\n",
        "\n",
        "history = model_ffnn.fit(train_images, train_labels, epochs=15,\n",
        "                    validation_data=(test_images, test_labels))"
      ],
      "metadata": {
        "colab": {
          "base_uri": "https://localhost:8080/"
        },
        "id": "dopCOHzcj_M4",
        "outputId": "cf93b108-5137-4f93-8fe5-d0dafc6afb10"
      },
      "execution_count": null,
      "outputs": [
        {
          "output_type": "stream",
          "name": "stdout",
          "text": [
            "Epoch 1/10\n"
          ]
        },
        {
          "output_type": "stream",
          "name": "stderr",
          "text": [
            "/usr/local/lib/python3.10/dist-packages/keras/backend.py:5612: UserWarning: \"`sparse_categorical_crossentropy` received `from_logits=True`, but the `output` argument was produced by a Softmax activation and thus does not represent logits. Was this intended?\n",
            "  output, from_logits = _get_logits(\n"
          ]
        },
        {
          "output_type": "stream",
          "name": "stdout",
          "text": [
            "1563/1563 [==============================] - 8s 4ms/step - loss: 2.0841 - accuracy: 0.2052 - val_loss: 1.9839 - val_accuracy: 0.2481\n",
            "Epoch 2/10\n",
            "1563/1563 [==============================] - 5s 3ms/step - loss: 1.9752 - accuracy: 0.2468 - val_loss: 1.9602 - val_accuracy: 0.2503\n",
            "Epoch 3/10\n",
            "1563/1563 [==============================] - 6s 4ms/step - loss: 1.9548 - accuracy: 0.2509 - val_loss: 1.9302 - val_accuracy: 0.2576\n",
            "Epoch 4/10\n",
            "1563/1563 [==============================] - 5s 3ms/step - loss: 1.9437 - accuracy: 0.2568 - val_loss: 1.9298 - val_accuracy: 0.2654\n",
            "Epoch 5/10\n",
            "1563/1563 [==============================] - 8s 5ms/step - loss: 1.9391 - accuracy: 0.2563 - val_loss: 1.9182 - val_accuracy: 0.2705\n",
            "Epoch 6/10\n",
            "1563/1563 [==============================] - 5s 3ms/step - loss: 1.9356 - accuracy: 0.2558 - val_loss: 1.9308 - val_accuracy: 0.2630\n",
            "Epoch 7/10\n",
            "1563/1563 [==============================] - 7s 4ms/step - loss: 1.9310 - accuracy: 0.2596 - val_loss: 1.9128 - val_accuracy: 0.2728\n",
            "Epoch 8/10\n",
            "1563/1563 [==============================] - 6s 4ms/step - loss: 1.9268 - accuracy: 0.2606 - val_loss: 1.9729 - val_accuracy: 0.2458\n",
            "Epoch 9/10\n",
            "1563/1563 [==============================] - 7s 4ms/step - loss: 1.9270 - accuracy: 0.2612 - val_loss: 1.9153 - val_accuracy: 0.2644\n",
            "Epoch 10/10\n",
            "1563/1563 [==============================] - 6s 4ms/step - loss: 1.9244 - accuracy: 0.2602 - val_loss: 1.9255 - val_accuracy: 0.2612\n"
          ]
        }
      ]
    },
    {
      "cell_type": "code",
      "source": [
        "history.history"
      ],
      "metadata": {
        "colab": {
          "base_uri": "https://localhost:8080/"
        },
        "id": "6zyWlnzhYLMD",
        "outputId": "9a694cc6-ab31-4c24-ba5a-9674030bd65e"
      },
      "execution_count": null,
      "outputs": [
        {
          "output_type": "execute_result",
          "data": {
            "text/plain": [
              "{'loss': [2.084080696105957,\n",
              "  1.9751946926116943,\n",
              "  1.9548451900482178,\n",
              "  1.9437386989593506,\n",
              "  1.9390501976013184,\n",
              "  1.935590147972107,\n",
              "  1.9310311079025269,\n",
              "  1.9268070459365845,\n",
              "  1.9269583225250244,\n",
              "  1.9243918657302856],\n",
              " 'accuracy': [0.20518000423908234,\n",
              "  0.2468400001525879,\n",
              "  0.25091999769210815,\n",
              "  0.2567799985408783,\n",
              "  0.25628000497817993,\n",
              "  0.2557600140571594,\n",
              "  0.2596200108528137,\n",
              "  0.26058000326156616,\n",
              "  0.26124000549316406,\n",
              "  0.2602199912071228],\n",
              " 'val_loss': [1.9839304685592651,\n",
              "  1.960161566734314,\n",
              "  1.930164098739624,\n",
              "  1.9298099279403687,\n",
              "  1.9182382822036743,\n",
              "  1.9307756423950195,\n",
              "  1.912759780883789,\n",
              "  1.9729187488555908,\n",
              "  1.915251612663269,\n",
              "  1.9255480766296387],\n",
              " 'val_accuracy': [0.24809999763965607,\n",
              "  0.25029999017715454,\n",
              "  0.25760000944137573,\n",
              "  0.2653999924659729,\n",
              "  0.2705000042915344,\n",
              "  0.2630000114440918,\n",
              "  0.2727999985218048,\n",
              "  0.24580000340938568,\n",
              "  0.26440000534057617,\n",
              "  0.2612000107765198]}"
            ]
          },
          "metadata": {},
          "execution_count": 11
        }
      ]
    },
    {
      "cell_type": "code",
      "source": [
        "plt.plot(history.history['accuracy'], label='Accuracy - Training')\n",
        "plt.plot(history.history['val_accuracy'], label = 'Accuracy - validation set')\n",
        "plt.xlabel('Epoch')\n",
        "plt.ylabel('Accuracy')\n",
        "plt.legend(loc='lower right')\n",
        "plt.tight_layout();\n",
        "test_loss, test_acc = model_ffnn.evaluate(test_images,  test_labels, verbose=2)"
      ],
      "metadata": {
        "colab": {
          "base_uri": "https://localhost:8080/",
          "height": 445
        },
        "id": "pa_XHrqaj_P0",
        "outputId": "89a5eb05-98d6-43cc-8cfc-389c13a2141f"
      },
      "execution_count": null,
      "outputs": [
        {
          "output_type": "stream",
          "name": "stdout",
          "text": [
            "313/313 - 0s - loss: 1.9255 - accuracy: 0.2612 - 485ms/epoch - 2ms/step\n"
          ]
        },
        {
          "output_type": "display_data",
          "data": {
            "text/plain": [
              "<Figure size 1400x700 with 1 Axes>"
            ],
            "image/png": "[encoded data removed]"
          },
          "metadata": {}
        }
      ]
    },
    {
      "cell_type": "markdown",
      "metadata": {
        "id": "_Kr6kYipGenw"
      },
      "source": [
        "### <font color=darkred> Convolutional Neural Networks </font>"
      ]
    },
    {
      "cell_type": "markdown",
      "source": [
        "In practice, increasing the size of hidden layers is not effective and **adding more layers** is an appealing alternative. This can be interpreted as a way to learn several latent states corresponding to **different features** contained in the input data.  For example, in object detection tasks, it is easier to express shapes from edges and objects from shapes, than to express objects from pixels.\n",
        "\n",
        "When several inputs might contain the same kind of information, **sharing their associated weights/parameters** is a way to **learn statistically invariant properties**.\n",
        "Using this concept on images leads to convolutional neural networks (CNNs), and on time series this leads to recurrent neural networks (RNNs).  When using CNNs, weights are set to a small kernel that is used to perform a convolution across images.\n",
        "\n",
        "**We first get rid of the ``Flatten`` step which vectorized the input and use multidimentsional convolutions to exploit the structure of the input data**."
      ],
      "metadata": {
        "id": "ZJjCPvblq6hb"
      }
    },
    {
      "cell_type": "markdown",
      "source": [
        "#### **Convolutions**"
      ],
      "metadata": {
        "id": "v4YJzrFKNcUF"
      }
    },
    {
      "cell_type": "markdown",
      "source": [
        "In the FFNN case, the step ``model_ffnn.add(Flatten(input_shape=(32, 32, 3)))`` destroys the spatial organization of the input but is mandatory before the fully connected step: `model_ffnn.add(Dense(16, activation='relu'))``. The spatial organization of the input may be preserved before using Flatten by convolution steps such as ``model_cnn.add(Conv2D(32, kernel_size=(3, 3), activation='relu', input_shape=input_shape))``. This layer has 32 outputs, each of which depending on a 3*3 weight matrix."
      ],
      "metadata": {
        "id": "ewccZnrlNfar"
      }
    },
    {
      "cell_type": "markdown",
      "source": [
        "##### **Elementary algebra**"
      ],
      "metadata": {
        "id": "AhRjn4eiNkHD"
      }
    },
    {
      "cell_type": "markdown",
      "source": [
        "A *Filter (or kernel)* is a two-dimensional matrix of size $K\\times K$.\n"
      ],
      "metadata": {
        "id": "lv7oLcM4u2aC"
      }
    },
    {
      "cell_type": "markdown",
      "source": [
        "Let $I$ be the input matrix and $O$ be the output matrix. Mathematically, the convolution operation is\n",
        "$$\n",
        "O(i,j) = I\\odot\\Omega(i,j)=  \\sum_{m=1}^K\\sum_{\\ell=1}^K\\Omega(m,\\ell)I(i-1+m,j-1+\\ell)\\,,\n",
        "$$\n",
        "where $\\Omega$ is the matrix of weights/parameters of the kernel."
      ],
      "metadata": {
        "id": "b0Mg0L7kv1-R"
      }
    },
    {
      "cell_type": "markdown",
      "source": [
        "The convolution is computed by **sliding the filter over the image, starting from the top\n",
        "left corne0r**. Then, the first value of the output matrix is obtained by summing the product of the\n",
        "corresponding pixel value and the filter value. Similarly, the final output is computed by moving the filter from left to right and from top to bottom."
      ],
      "metadata": {
        "id": "2_5yQDuDvkLz"
      }
    },
    {
      "cell_type": "markdown",
      "source": [
        "Consider the edge detection kernel\n",
        "$$\n",
        "\\Omega = \\begin{pmatrix}\n",
        "0 & -1 & 0 \\\\\n",
        "-1 & 4 & -1 \\\\\n",
        "0 & -1 & 0\n",
        "\\end{pmatrix}\n",
        "$$\n",
        "Apply this kernel to the input matrix\n",
        "$$\n",
        "I = \\begin{pmatrix}\n",
        "0 & 0 & 0 & 0\\\\\n",
        "0 & 1 & 1 & 0 \\\\\n",
        "0 & 1 & 1 & 0 \\\\\n",
        "0 & 0 & 0 & 0\n",
        "\\end{pmatrix}\n",
        "$$\n",
        "Compute the convolution between $I$ and $\\Omega$."
      ],
      "metadata": {
        "id": "j-Aak7oPcP3c"
      }
    },
    {
      "cell_type": "markdown",
      "source": [
        "**A compléter**\n",
        "\n",
        "Applying $\\Omega$ from left to right and top to bottom yields\n",
        "\\begin{align*}\n",
        "I\\odot \\Omega(1,1) &= 0\\times 0 -1\\times 0 + 0\\times 0 -1\\times 0 + 4\\times 1 - 1\\times 1 + 0\\times 0 - 1\\times 1 + 0\\times 1 = 2\\,,\\\\\n",
        "I\\odot \\Omega(1,2) &= 0\\times 0 -1\\times 0 + 0\\times 0 -1\\times 1 + 4\\times 1 - 1\\times 0 + 0\\times 1 - 1\\times 1 + 0\\times 0 = 2\\,,\\\\\n",
        "I\\odot \\Omega(2,1) &= 0\\times 0 -1\\times 1 + 0\\times 1 -1\\times 0 + 4\\times 1 - 1\\times 1 + 0\\times 0 - 1\\times 0 + 0\\times 1 = 2\\,,\\\\\n",
        "I\\odot \\Omega(2,2) &= 0\\times 1 -1\\times 1 + 0\\times 0 -1\\times 1 + 4\\times 1 - 1\\times 0 + 0\\times 0 - 1\\times 0 + 0\\times 1 = 2\\,,\n",
        "\\end{align*}\n",
        "so that\n",
        "$$\n",
        "I\\odot \\Omega = \\begin{pmatrix}\n",
        "2 & 2\\\\\n",
        "2 & 2\n",
        "\\end{pmatrix}\n",
        "$$"
      ],
      "metadata": {
        "id": "fVkurI8ufKuX"
      }
    },
    {
      "cell_type": "markdown",
      "source": [
        "**Padding & stride**\n",
        "\n",
        "The outer pixel values are only involved once in one of the operations, whereas the inner pixel values are involved multiple times.\n",
        "\n",
        "Compared to the original image, the dimension of the output feature map has been reduced. In the above example, the original image has size 4 × 4, while the output has size only 2 × 2.\n",
        "\n",
        "**Padding**  can be used by adding 0 values around the input images before applying the convolution. If a padding of size $p$ is used on an input image of size $n\\times d$, the resulting matrix has size $(n+2p)\\times(d+2p)$.\n",
        "\n",
        "The **stride** is the distance between each\n",
        "movement of the kernel, it indicates how many pixels the kernel is shifted over at each step. In general, the stride value for the convolutional layer is 1."
      ],
      "metadata": {
        "id": "H4uBECtrg3Z1"
      }
    },
    {
      "cell_type": "markdown",
      "source": [
        "In summary, performing the convolution between the image and the kernel consists in moving the kernel across the image, and to produce an output for each patch. The way you move across the image is defined by two parameters:\n",
        "\n",
        "- ``Stride``: the stride is the number of pixels you are shifting each time you move your kernel during the convolution.\n",
        "- ``Padding``: defines what happens when the kernel reaches a border of the image when doing the convolution.\n",
        "\"Valid\" padding means that you stop at the edge, while \"Same\" padding allows to go off the edge and pad with zeros so that the width and the height of the output and input tensors are the same."
      ],
      "metadata": {
        "id": "3621Z46YrRrk"
      }
    },
    {
      "cell_type": "markdown",
      "source": [
        "A very nice interactive illustration of convolutions, padding and stride: https://poloclub.github.io/cnn-explainer/"
      ],
      "metadata": {
        "id": "aaEUNaDOcej3"
      }
    },
    {
      "cell_type": "markdown",
      "source": [
        "##### **Max Pooling and Average pooling**"
      ],
      "metadata": {
        "id": "xK52uGxGIiML"
      }
    },
    {
      "cell_type": "markdown",
      "source": [
        "A common way to share information (i.e. share parameters) in a neighborhood of the image is to use pooling. Max Pooling computes the maximum value of the part of the image covered by the kernel. Average Pooling computes the average of the values of the image covered by the Kernel."
      ],
      "metadata": {
        "id": "wajj_zUXIvuE"
      }
    },
    {
      "cell_type": "code",
      "source": [
        "def max_pool(X,q):\n",
        "    n, p = X.shape\n",
        "    A = X.reshape(n//q,q,p//q,q)\n",
        "    B = A.transpose((0, 2, 1, 3))\n",
        "    X_transformed = B.max(axis=(2,3))\n",
        "    return X_transformed"
      ],
      "metadata": {
        "id": "3s_dT0D8JKlK"
      },
      "execution_count": 6,
      "outputs": []
    },
    {
      "cell_type": "code",
      "source": [
        " X = np.array([[1, 2, 3, 4], [5, 6, 7, 8], [9, 10, 11, 12],[13, 14, 15, 16]])\n",
        " q = 2\n",
        " print(X)"
      ],
      "metadata": {
        "colab": {
          "base_uri": "https://localhost:8080/"
        },
        "id": "pD2NmkqFKS0a",
        "outputId": "9b7ab806-ec02-4025-84a5-baf4bfd527d8"
      },
      "execution_count": 7,
      "outputs": [
        {
          "output_type": "stream",
          "name": "stdout",
          "text": [
            "[[ 1  2  3  4]\n",
            " [ 5  6  7  8]\n",
            " [ 9 10 11 12]\n",
            " [13 14 15 16]]\n"
          ]
        }
      ]
    },
    {
      "cell_type": "code",
      "source": [
        "max_pool_X = max_pool(X,2)\n",
        "max_pool_X"
      ],
      "metadata": {
        "colab": {
          "base_uri": "https://localhost:8080/"
        },
        "id": "EAZ4SrpdKr1s",
        "outputId": "696260c9-113e-48e8-954d-4a3e82645c9a"
      },
      "execution_count": 8,
      "outputs": [
        {
          "output_type": "execute_result",
          "data": {
            "text/plain": [
              "array([[ 6,  8],\n",
              "       [14, 16]])"
            ]
          },
          "metadata": {},
          "execution_count": 8
        }
      ]
    },
    {
      "cell_type": "code",
      "source": [
        "def average_pool(X,q):\n",
        "    n, p = X.shape\n",
        "    A = X.reshape(n//q,q,p//q,q)\n",
        "    B = A.transpose((0, 2, 1, 3))\n",
        "    X_transformed = B.mean(axis=(2,3))\n",
        "    return X_transformed\n"
      ],
      "metadata": {
        "id": "Vd9Fx3MRJKvE"
      },
      "execution_count": 9,
      "outputs": []
    },
    {
      "cell_type": "code",
      "source": [
        "average_pool_X = average_pool(X,2)\n",
        "average_pool_X"
      ],
      "metadata": {
        "colab": {
          "base_uri": "https://localhost:8080/"
        },
        "id": "LQYxp8-vKTaV",
        "outputId": "55a79a1a-b640-4206-d2c2-2d0ab0d5b77b"
      },
      "execution_count": 10,
      "outputs": [
        {
          "output_type": "execute_result",
          "data": {
            "text/plain": [
              "array([[ 3.5,  5.5],\n",
              "       [11.5, 13.5]])"
            ]
          },
          "metadata": {},
          "execution_count": 10
        }
      ]
    },
    {
      "cell_type": "markdown",
      "source": [
        "#### **A few specific kernels**"
      ],
      "metadata": {
        "id": "32mCaANBpjWz"
      }
    },
    {
      "cell_type": "markdown",
      "source": [],
      "metadata": {
        "id": "E39_CxySpjwr"
      }
    },
    {
      "cell_type": "code",
      "source": [
        "from skimage.io import imread, imshow\n",
        "from skimage.color import rgb2gray\n",
        "from skimage.transform import rescale\n",
        "from scipy.signal import convolve2d"
      ],
      "metadata": {
        "id": "NZqFPMpHOm8o"
      },
      "execution_count": null,
      "outputs": []
    },
    {
      "cell_type": "code",
      "source": [
        "X = train_images[0]"
      ],
      "metadata": {
        "id": "BkxSiX3Zpj6N"
      },
      "execution_count": null,
      "outputs": []
    },
    {
      "cell_type": "markdown",
      "source": [
        "**Edge detection**"
      ],
      "metadata": {
        "id": "HZkiB79KRL6P"
      }
    },
    {
      "cell_type": "code",
      "source": [
        "edge_kernel = np.array([[-1, -1, -1],\n",
        "                        [-1, 8, -1],\n",
        "                        [-1, -1, -1]])"
      ],
      "metadata": {
        "id": "1DWTpjycRC7t"
      },
      "execution_count": null,
      "outputs": []
    },
    {
      "cell_type": "code",
      "source": [
        "conv_im = convolve2d(X[:,:,0], edge_kernel[::-1, ::-1]).clip(0,1)\n",
        "plt.imshow(conv_im, cmap='gray');"
      ],
      "metadata": {
        "colab": {
          "base_uri": "https://localhost:8080/",
          "height": 625
        },
        "id": "YgJoPR-7RDAt",
        "outputId": "d01e6790-3728-4722-8bbd-33f6a7b5d066"
      },
      "execution_count": null,
      "outputs": [
        {
          "output_type": "display_data",
          "data": {
            "text/plain": [
              "<Figure size 1400x700 with 1 Axes>"
            ],
            "image/png": "[encoded data removed]"
          },
          "metadata": {}
        }
      ]
    },
    {
      "cell_type": "markdown",
      "source": [
        "**Blurring kernels**"
      ],
      "metadata": {
        "id": "D8p-SjjuTs_9"
      }
    },
    {
      "cell_type": "code",
      "source": [
        "blur_kernel = np.array([[1/9, 1/9, 1/9],\n",
        "                                [1/9, 1/9, 1/9],\n",
        "                                [1/9, 1/9, 1/9]])"
      ],
      "metadata": {
        "id": "B_BmfQVnRDD0"
      },
      "execution_count": null,
      "outputs": []
    },
    {
      "cell_type": "code",
      "source": [
        "conv_im = convolve2d(X[:,:,0], blur_kernel[::-1, ::-1]).clip(0,1)\n",
        "plt.imshow(conv_im, cmap='gray');"
      ],
      "metadata": {
        "colab": {
          "base_uri": "https://localhost:8080/",
          "height": 625
        },
        "id": "W-_8hNn_TOg5",
        "outputId": "d6d6766f-234b-441b-f5cc-1f7bd86130c9"
      },
      "execution_count": null,
      "outputs": [
        {
          "output_type": "display_data",
          "data": {
            "text/plain": [
              "<Figure size 1400x700 with 1 Axes>"
            ],
            "image/png": "[encoded data removed]"
          },
          "metadata": {}
        }
      ]
    },
    {
      "cell_type": "code",
      "source": [
        "gauss_kernel = np.array([[1/16, 1/8, 1/16],\n",
        "                         [1/8, 1/4, 1/8],\n",
        "                         [1/16, 1/8, 1/16]])"
      ],
      "metadata": {
        "id": "xCME1xQXTOoV"
      },
      "execution_count": null,
      "outputs": []
    },
    {
      "cell_type": "code",
      "source": [
        "conv_im = convolve2d(X[:,:,0], gauss_kernel[::-1, ::-1]).clip(0,1)\n",
        "plt.imshow(conv_im, cmap='gray');"
      ],
      "metadata": {
        "colab": {
          "base_uri": "https://localhost:8080/",
          "height": 625
        },
        "id": "eGFPdnQTTOul",
        "outputId": "3d93c835-c997-403e-b7b3-8f1d4874a0fd"
      },
      "execution_count": null,
      "outputs": [
        {
          "output_type": "display_data",
          "data": {
            "text/plain": [
              "<Figure size 1400x700 with 1 Axes>"
            ],
            "image/png": "[encoded data removed]"
          },
          "metadata": {}
        }
      ]
    },
    {
      "cell_type": "markdown",
      "source": [
        "#### **Convolution layers**"
      ],
      "metadata": {
        "id": "wIPoYQ96NkcU"
      }
    },
    {
      "cell_type": "markdown",
      "source": [
        "Each output neuron of the next layer is computed as follows (image taken from https://adventuresinmachinelearning.com/convolutional-neural-networks-tutorial-tensorflow/) before computing an elementwise RELU function:\n",
        "\n",
        "![](https://drive.google.com/uc?export=view&id=18Y0RuvolJcivNRuC0gKpzLubQhy889Tu)\n",
        "\n",
        "The convolution maps patches of the input image, combined with the convolution kernel, for example\n",
        "$$\n",
        "\\text{output} = \\text{ReLU}(\\text{patch} \\times W + b)\\,.\n",
        "$$\n",
        "\n",
        "A classical approach is to use a stride of 1 and to combine theoutputs being in some neighborhood. Such an operation combining elements of a tensor is called ``pooling``: ``model_cnn.add(MaxPooling2D(pool_size=(2, 2)))``. Neighborhoods are define by the pooling window dimension (width x height) and the strides you use when moving this window across the image.  Again, a sliding window is applied along the input to produce the output, the most common function applied on each window being the ma function: it aggregates several outputs in a neighborhood $N$ using a max operation:\n",
        "$$\n",
        "\\text{output}'_i = \\max_{j \\in N}\\text{output}_j, \\quad i \\in N.\n",
        "$$\n",
        "The formulas to compute the size of the ouput tensor are the same as for convolution padding and striding: (image taken from https://adventuresinmachinelearning.com/convolutional-neural-networks-tutorial-tensorflow/):\n",
        "\n",
        "![](https://drive.google.com/uc?export=view&id=1Skpk6gyNmLMuySvaSk9KoJ_Vl_I7oT6X)\n"
      ],
      "metadata": {
        "id": "EKdTZAmUNr2a"
      }
    },
    {
      "cell_type": "code",
      "source": [
        "model = models.Sequential()\n",
        "####\n",
        "# A compléter\n",
        "# Ajouter une couche Conv2D de dimension 32 avec un noyau de taille 3x3.\n",
        "####\n",
        "model.add(layers.Conv2D(32, (3, 3), activation='relu', input_shape=(32, 32, 3)))\n",
        "model.add(layers.MaxPooling2D((2, 2)))\n",
        "model.add(layers.Conv2D(64, (3, 3), activation='relu'))\n",
        "model.add(layers.MaxPooling2D((2, 2)))\n",
        "model.add(layers.Conv2D(64, (3, 3), activation='relu'))\n",
        "\n",
        "model.add(layers.Flatten())\n",
        "model.add(layers.Dense(64, activation='relu'))\n",
        "model.add(layers.Dense(10))\n",
        "\n",
        "model.summary()"
      ],
      "metadata": {
        "id": "Q-dXUC7-Nxdd",
        "colab": {
          "base_uri": "https://localhost:8080/"
        },
        "outputId": "ec7b3d39-ee0b-4937-81e5-5c11546aea6a"
      },
      "execution_count": null,
      "outputs": [
        {
          "output_type": "stream",
          "name": "stdout",
          "text": [
            "Model: \"sequential_9\"\n",
            "_________________________________________________________________\n",
            " Layer (type)                Output Shape              Param #   \n",
            "=================================================================\n",
            " conv2d_6 (Conv2D)           (None, 30, 30, 32)        896       \n",
            "                                                                 \n",
            " max_pooling2d_4 (MaxPooling  (None, 15, 15, 32)       0         \n",
            " 2D)                                                             \n",
            "                                                                 \n",
            " conv2d_7 (Conv2D)           (None, 13, 13, 64)        18496     \n",
            "                                                                 \n",
            " max_pooling2d_5 (MaxPooling  (None, 6, 6, 64)         0         \n",
            " 2D)                                                             \n",
            "                                                                 \n",
            " conv2d_8 (Conv2D)           (None, 4, 4, 64)          36928     \n",
            "                                                                 \n",
            " flatten_8 (Flatten)         (None, 1024)              0         \n",
            "                                                                 \n",
            " dense_14 (Dense)            (None, 64)                65600     \n",
            "                                                                 \n",
            " dense_15 (Dense)            (None, 10)                650       \n",
            "                                                                 \n",
            "=================================================================\n",
            "Total params: 122,570\n",
            "Trainable params: 122,570\n",
            "Non-trainable params: 0\n",
            "_________________________________________________________________\n"
          ]
        }
      ]
    },
    {
      "cell_type": "code",
      "source": [
        "model.compile(optimizer='adam',\n",
        "              loss=tf.keras.losses.SparseCategoricalCrossentropy(from_logits=True),\n",
        "              metrics=['accuracy'])\n",
        "\n",
        "history = model.fit(train_images, train_labels, epochs=10,\n",
        "                    validation_data=(test_images, test_labels))"
      ],
      "metadata": {
        "colab": {
          "base_uri": "https://localhost:8080/"
        },
        "id": "YtuIhc-Rsx1I",
        "outputId": "a98bd7bc-75e1-4981-e663-2840dbcb8b75"
      },
      "execution_count": null,
      "outputs": [
        {
          "output_type": "stream",
          "name": "stdout",
          "text": [
            "Epoch 1/10\n",
            "1563/1563 [==============================] - 94s 59ms/step - loss: 1.5054 - accuracy: 0.4513 - val_loss: 1.2319 - val_accuracy: 0.5573\n",
            "Epoch 2/10\n",
            "1563/1563 [==============================] - 87s 56ms/step - loss: 1.1510 - accuracy: 0.5931 - val_loss: 1.0937 - val_accuracy: 0.6146\n",
            "Epoch 3/10\n",
            "1563/1563 [==============================] - 90s 57ms/step - loss: 1.0114 - accuracy: 0.6447 - val_loss: 0.9783 - val_accuracy: 0.6533\n",
            "Epoch 4/10\n",
            "1563/1563 [==============================] - 92s 59ms/step - loss: 0.9054 - accuracy: 0.6841 - val_loss: 0.9541 - val_accuracy: 0.6664\n",
            "Epoch 5/10\n",
            "1563/1563 [==============================] - 94s 60ms/step - loss: 0.8310 - accuracy: 0.7108 - val_loss: 0.9200 - val_accuracy: 0.6795\n",
            "Epoch 6/10\n",
            "1563/1563 [==============================] - 92s 59ms/step - loss: 0.7665 - accuracy: 0.7324 - val_loss: 0.8870 - val_accuracy: 0.6918\n",
            "Epoch 7/10\n",
            "1563/1563 [==============================] - 86s 55ms/step - loss: 0.7162 - accuracy: 0.7500 - val_loss: 0.8813 - val_accuracy: 0.7004\n",
            "Epoch 8/10\n",
            "1563/1563 [==============================] - 85s 55ms/step - loss: 0.6735 - accuracy: 0.7636 - val_loss: 0.8365 - val_accuracy: 0.7145\n",
            "Epoch 9/10\n",
            "1563/1563 [==============================] - 85s 55ms/step - loss: 0.6313 - accuracy: 0.7790 - val_loss: 0.8618 - val_accuracy: 0.7072\n",
            "Epoch 10/10\n",
            "1563/1563 [==============================] - 84s 54ms/step - loss: 0.5919 - accuracy: 0.7915 - val_loss: 0.8723 - val_accuracy: 0.7119\n"
          ]
        }
      ]
    },
    {
      "cell_type": "code",
      "source": [
        "plt.plot(history.history['accuracy'], label='accuracy')\n",
        "plt.plot(history.history['val_accuracy'], label = 'val_accuracy')\n",
        "plt.xlabel('Epoch')\n",
        "plt.ylabel('Accuracy')\n",
        "plt.legend(loc='lower right')\n",
        "\n",
        "test_loss, test_acc = model.evaluate(test_images,  test_labels, verbose=2)"
      ],
      "metadata": {
        "id": "uw47ygOdsx4j"
      },
      "execution_count": null,
      "outputs": []
    },
    {
      "cell_type": "markdown",
      "source": [
        "### <font color=darkred> Theory of Convolutional Neural Networks: downsampling and feature extraction </font>"
      ],
      "metadata": {
        "id": "AEsIiJwFQ8bS"
      }
    },
    {
      "cell_type": "markdown",
      "source": [],
      "metadata": {
        "id": "cauDhNI3Q8jx"
      }
    },
    {
      "cell_type": "code",
      "source": [],
      "metadata": {
        "id": "NFN5BNpaQ8uv"
      },
      "execution_count": null,
      "outputs": []
    },
    {
      "cell_type": "markdown",
      "source": [
        "### <font color=darkred> Classical Convolutional Neural Networks </font>\n",
        "\n",
        ">Classical CNN architectures schematics can be found here: http://alexlenail.me/NN-SVG/index.html\n",
        "\n"
      ],
      "metadata": {
        "id": "il_FLtyxQ84n"
      }
    },
    {
      "cell_type": "markdown",
      "source": [
        "##### **AlexNet**"
      ],
      "metadata": {
        "id": "raOpQhkpeDBE"
      }
    },
    {
      "cell_type": "markdown",
      "source": [
        "AlexNet was introduced in 2012 and uses a 8-layer convolutional neural network. It contains five convolution layers, two hidden fully-connected layers and one fully-connected output layer.\n",
        "\n",
        " A brief summary of AlexNet is illustrated below, see https://guandi1995.github.io/Classical-CNN-architecture/."
      ],
      "metadata": {
        "id": "96WGxkxKeDLR"
      }
    },
    {
      "cell_type": "markdown",
      "source": [
        "##### **VGG 16**"
      ],
      "metadata": {
        "id": "AXy8bBLYQ9B0"
      }
    },
    {
      "cell_type": "markdown",
      "source": [
        "VGG-16 was introduced in 2014 is a 16-layer network using  multiple 3x3 kernels.  Max pooling layers all use a 2x2 kernel with a stride of 2.\n",
        "\n",
        "A brief summary of VGG-16 is illustrated below, see https://guandi1995.github.io/Classical-CNN-architecture/."
      ],
      "metadata": {
        "id": "_xgCUGR8SunY"
      }
    },
    {
      "cell_type": "markdown",
      "source": [
        "### <font color=darkred> Interpreting and visualizing deep CNN *architectures* </font>"
      ],
      "metadata": {
        "id": "4MZSDvQfjfiW"
      }
    },
    {
      "cell_type": "code",
      "source": [
        "# Load and summarize a pre-trained VGG16 model\n",
        "from keras.applications.vgg16 import VGG16\n",
        "model = VGG16()\n",
        "model.summary()"
      ],
      "metadata": {
        "colab": {
          "base_uri": "https://localhost:8080/"
        },
        "id": "Q12FbEKyjfsS",
        "outputId": "e107846d-ee84-48db-8bca-bc73436abff2"
      },
      "execution_count": 16,
      "outputs": [
        {
          "output_type": "stream",
          "name": "stdout",
          "text": [
            "Model: \"vgg16\"\n",
            "_________________________________________________________________\n",
            " Layer (type)                Output Shape              Param #   \n",
            "=================================================================\n",
            " input_2 (InputLayer)        [(None, 224, 224, 3)]     0         \n",
            "                                                                 \n",
            " block1_conv1 (Conv2D)       (None, 224, 224, 64)      1792      \n",
            "                                                                 \n",
            " block1_conv2 (Conv2D)       (None, 224, 224, 64)      36928     \n",
            "                                                                 \n",
            " block1_pool (MaxPooling2D)  (None, 112, 112, 64)      0         \n",
            "                                                                 \n",
            " block2_conv1 (Conv2D)       (None, 112, 112, 128)     73856     \n",
            "                                                                 \n",
            " block2_conv2 (Conv2D)       (None, 112, 112, 128)     147584    \n",
            "                                                                 \n",
            " block2_pool (MaxPooling2D)  (None, 56, 56, 128)       0         \n",
            "                                                                 \n",
            " block3_conv1 (Conv2D)       (None, 56, 56, 256)       295168    \n",
            "                                                                 \n",
            " block3_conv2 (Conv2D)       (None, 56, 56, 256)       590080    \n",
            "                                                                 \n",
            " block3_conv3 (Conv2D)       (None, 56, 56, 256)       590080    \n",
            "                                                                 \n",
            " block3_pool (MaxPooling2D)  (None, 28, 28, 256)       0         \n",
            "                                                                 \n",
            " block4_conv1 (Conv2D)       (None, 28, 28, 512)       1180160   \n",
            "                                                                 \n",
            " block4_conv2 (Conv2D)       (None, 28, 28, 512)       2359808   \n",
            "                                                                 \n",
            " block4_conv3 (Conv2D)       (None, 28, 28, 512)       2359808   \n",
            "                                                                 \n",
            " block4_pool (MaxPooling2D)  (None, 14, 14, 512)       0         \n",
            "                                                                 \n",
            " block5_conv1 (Conv2D)       (None, 14, 14, 512)       2359808   \n",
            "                                                                 \n",
            " block5_conv2 (Conv2D)       (None, 14, 14, 512)       2359808   \n",
            "                                                                 \n",
            " block5_conv3 (Conv2D)       (None, 14, 14, 512)       2359808   \n",
            "                                                                 \n",
            " block5_pool (MaxPooling2D)  (None, 7, 7, 512)         0         \n",
            "                                                                 \n",
            " flatten (Flatten)           (None, 25088)             0         \n",
            "                                                                 \n",
            " fc1 (Dense)                 (None, 4096)              102764544 \n",
            "                                                                 \n",
            " fc2 (Dense)                 (None, 4096)              16781312  \n",
            "                                                                 \n",
            " predictions (Dense)         (None, 1000)              4097000   \n",
            "                                                                 \n",
            "=================================================================\n",
            "Total params: 138,357,544\n",
            "Trainable params: 138,357,544\n",
            "Non-trainable params: 0\n",
            "_________________________________________________________________\n"
          ]
        }
      ]
    },
    {
      "cell_type": "markdown",
      "source": [
        "Visualizing VGG16 here: https://machinelearningmastery.com/how-to-visualize-filters-and-feature-maps-in-convolutional-neural-networks/"
      ],
      "metadata": {
        "id": "LZVregQhkbI9"
      }
    },
    {
      "cell_type": "markdown",
      "source": [
        "Collection of visualizations of every significant layer and neuron of classical vision models: https://microscope.openai.com/models"
      ],
      "metadata": {
        "id": "0SqI1sTtlmK3"
      }
    },
    {
      "cell_type": "markdown",
      "source": [
        "### <font color=darkred> Application to time series </font>"
      ],
      "metadata": {
        "id": "_aKLY7SjVxfP"
      }
    },
    {
      "cell_type": "code",
      "source": [
        "import tensorflow as tf\n",
        "import pandas as pd\n",
        "import datetime\n",
        "from sklearn.model_selection import GridSearchCV, train_test_split\n",
        "from tensorflow.keras.models import Sequential\n",
        "from tensorflow.keras.layers import Dense, Normalization"
      ],
      "metadata": {
        "id": "5H7s0UjmXA98"
      },
      "execution_count": 11,
      "outputs": []
    },
    {
      "cell_type": "code",
      "source": [
        "# Download dataset\n",
        "!wget https://gitlab.com/max.cohen/ateliers-algos/-/raw/main/heating_lilles.csv\n",
        "df = pd.read_csv('heating_lilles.csv')\n",
        "df.index = pd.DatetimeIndex(df.datetime) + pd.DateOffset(years=1)\n",
        "df.sample(5)"
      ],
      "metadata": {
        "colab": {
          "base_uri": "https://localhost:8080/",
          "height": 718
        },
        "id": "Sj2jqaopXBuv",
        "outputId": "1cb903da-4523-4f77-b5df-94a920fa11d8"
      },
      "execution_count": 12,
      "outputs": [
        {
          "output_type": "stream",
          "name": "stdout",
          "text": [
            "--2023-06-20 06:24:00--  https://gitlab.com/max.cohen/ateliers-algos/-/raw/main/heating_lilles.csv\n",
            "Resolving gitlab.com (gitlab.com)... 172.65.251.78, 2606:4700:90:0:f22e:fbec:5bed:a9b9\n",
            "Connecting to gitlab.com (gitlab.com)|172.65.251.78|:443... connected.\n",
            "HTTP request sent, awaiting response... 200 OK\n",
            "Length: 1406331 (1.3M) [text/plain]\n",
            "Saving to: ‘heating_lilles.csv’\n",
            "\n",
            "heating_lilles.csv  100%[===================>]   1.34M  3.28MB/s    in 0.4s    \n",
            "\n",
            "2023-06-20 06:24:01 (3.28 MB/s) - ‘heating_lilles.csv’ saved [1406331/1406331]\n",
            "\n"
          ]
        },
        {
          "output_type": "execute_result",
          "data": {
            "text/plain": [
              "                                datetime  outdoor_temperature_deg_celsius  \\\n",
              "datetime                                                                    \n",
              "2021-12-13 13:00:00  2020-12-13 13:00:00                             6.36   \n",
              "2021-05-27 08:00:00  2020-05-27 08:00:00                            15.20   \n",
              "2021-06-23 10:00:00  2020-06-23 10:00:00                            24.45   \n",
              "2021-01-04 20:00:00  2020-01-04 20:00:00                             2.46   \n",
              "2021-09-23 08:00:00  2020-09-23 08:00:00                            15.02   \n",
              "\n",
              "                     relative_humidity_per_cent  wind_speed_m_per_s  \\\n",
              "datetime                                                              \n",
              "2021-12-13 13:00:00                        83.0                6.69   \n",
              "2021-05-27 08:00:00                        61.0                1.31   \n",
              "2021-06-23 10:00:00                        57.0                2.34   \n",
              "2021-01-04 20:00:00                        84.0                3.03   \n",
              "2021-09-23 08:00:00                        86.0                3.45   \n",
              "\n",
              "                     diffuse_horizontal_radiation_Wh_per_m2  \\\n",
              "datetime                                                      \n",
              "2021-12-13 13:00:00                                   50.75   \n",
              "2021-05-27 08:00:00                                  207.85   \n",
              "2021-06-23 10:00:00                                  211.05   \n",
              "2021-01-04 20:00:00                                    0.00   \n",
              "2021-09-23 08:00:00                                  109.65   \n",
              "\n",
              "                     direct_normal_radiation_Wh_per_m2  \\\n",
              "datetime                                                 \n",
              "2021-12-13 13:00:00                             157.02   \n",
              "2021-05-27 08:00:00                             381.41   \n",
              "2021-06-23 10:00:00                             678.19   \n",
              "2021-01-04 20:00:00                               0.00   \n",
              "2021-09-23 08:00:00                             354.88   \n",
              "\n",
              "                     ZONE+00_+00_+00:Zone Operative Temperature [C](Hourly)  \\\n",
              "datetime                                                                      \n",
              "2021-12-13 13:00:00                                          19.004386        \n",
              "2021-05-27 08:00:00                                          19.797426        \n",
              "2021-06-23 10:00:00                                          23.778322        \n",
              "2021-01-04 20:00:00                                          17.631423        \n",
              "2021-09-23 08:00:00                                          19.999385        \n",
              "\n",
              "                        heating_J  cooling_J  heating_kWh  cooling_kWh  \\\n",
              "datetime                                                                 \n",
              "2021-12-13 13:00:00  1.037446e+08        0.0    28.817953          0.0   \n",
              "2021-05-27 08:00:00  0.000000e+00        0.0     0.000000          0.0   \n",
              "2021-06-23 10:00:00  0.000000e+00        0.0     0.000000          0.0   \n",
              "2021-01-04 20:00:00  0.000000e+00        0.0     0.000000          0.0   \n",
              "2021-09-23 08:00:00  0.000000e+00        0.0     0.000000          0.0   \n",
              "\n",
              "                     internal_gains_kWh  infiltration_energy_kWh  \\\n",
              "datetime                                                           \n",
              "2021-12-13 13:00:00                 0.0                -3.165999   \n",
              "2021-05-27 08:00:00                 0.0                -1.433690   \n",
              "2021-06-23 10:00:00                 0.0                 0.654846   \n",
              "2021-01-04 20:00:00                 0.0                -3.420206   \n",
              "2021-09-23 08:00:00                 0.0                -0.896749   \n",
              "\n",
              "                     ventilation_energy_kWh  inside_conduction_energy_kWh  \\\n",
              "datetime                                                                    \n",
              "2021-12-13 13:00:00              -10.180537                    -26.300390   \n",
              "2021-05-27 08:00:00                0.000000                     -5.295871   \n",
              "2021-06-23 10:00:00                0.000000                     -5.405345   \n",
              "2021-01-04 20:00:00                0.000000                    -19.914776   \n",
              "2021-09-23 08:00:00                0.000000                     -1.602422   \n",
              "\n",
              "                     windows_energy_constant_temperature_kWh  \n",
              "datetime                                                      \n",
              "2021-12-13 13:00:00                                10.828973  \n",
              "2021-05-27 08:00:00                                 6.729561  \n",
              "2021-06-23 10:00:00                                 4.750499  \n",
              "2021-01-04 20:00:00                                23.334983  \n",
              "2021-09-23 08:00:00                                 2.499170  "
            ],
            "text/html": [
              "\n",
              "  <div id=\"df-f5faacad-1c8a-4a2d-b62b-3b705adb4d8e\">\n",
              "    <div class=\"colab-df-container\">\n",
              "      <div>\n",
              "<style scoped>\n",
              "    .dataframe tbody tr th:only-of-type {\n",
              "        vertical-align: middle;\n",
              "    }\n",
              "\n",
              "    .dataframe tbody tr th {\n",
              "        vertical-align: top;\n",
              "    }\n",
              "\n",
              "    .dataframe thead th {\n",
              "        text-align: right;\n",
              "    }\n",
              "</style>\n",
              "<table border=\"1\" class=\"dataframe\">\n",
              "  <thead>\n",
              "    <tr style=\"text-align: right;\">\n",
              "      <th></th>\n",
              "      <th>datetime</th>\n",
              "      <th>outdoor_temperature_deg_celsius</th>\n",
              "      <th>relative_humidity_per_cent</th>\n",
              "      <th>wind_speed_m_per_s</th>\n",
              "      <th>diffuse_horizontal_radiation_Wh_per_m2</th>\n",
              "      <th>direct_normal_radiation_Wh_per_m2</th>\n",
              "      <th>ZONE+00_+00_+00:Zone Operative Temperature [C](Hourly)</th>\n",
              "      <th>heating_J</th>\n",
              "      <th>cooling_J</th>\n",
              "      <th>heating_kWh</th>\n",
              "      <th>cooling_kWh</th>\n",
              "      <th>internal_gains_kWh</th>\n",
              "      <th>infiltration_energy_kWh</th>\n",
              "      <th>ventilation_energy_kWh</th>\n",
              "      <th>inside_conduction_energy_kWh</th>\n",
              "      <th>windows_energy_constant_temperature_kWh</th>\n",
              "    </tr>\n",
              "    <tr>\n",
              "      <th>datetime</th>\n",
              "      <th></th>\n",
              "      <th></th>\n",
              "      <th></th>\n",
              "      <th></th>\n",
              "      <th></th>\n",
              "      <th></th>\n",
              "      <th></th>\n",
              "      <th></th>\n",
              "      <th></th>\n",
              "      <th></th>\n",
              "      <th></th>\n",
              "      <th></th>\n",
              "      <th></th>\n",
              "      <th></th>\n",
              "      <th></th>\n",
              "      <th></th>\n",
              "    </tr>\n",
              "  </thead>\n",
              "  <tbody>\n",
              "    <tr>\n",
              "      <th>2021-12-13 13:00:00</th>\n",
              "      <td>2020-12-13 13:00:00</td>\n",
              "      <td>6.36</td>\n",
              "      <td>83.0</td>\n",
              "      <td>6.69</td>\n",
              "      <td>50.75</td>\n",
              "      <td>157.02</td>\n",
              "      <td>19.004386</td>\n",
              "      <td>1.037446e+08</td>\n",
              "      <td>0.0</td>\n",
              "      <td>28.817953</td>\n",
              "      <td>0.0</td>\n",
              "      <td>0.0</td>\n",
              "      <td>-3.165999</td>\n",
              "      <td>-10.180537</td>\n",
              "      <td>-26.300390</td>\n",
              "      <td>10.828973</td>\n",
              "    </tr>\n",
              "    <tr>\n",
              "      <th>2021-05-27 08:00:00</th>\n",
              "      <td>2020-05-27 08:00:00</td>\n",
              "      <td>15.20</td>\n",
              "      <td>61.0</td>\n",
              "      <td>1.31</td>\n",
              "      <td>207.85</td>\n",
              "      <td>381.41</td>\n",
              "      <td>19.797426</td>\n",
              "      <td>0.000000e+00</td>\n",
              "      <td>0.0</td>\n",
              "      <td>0.000000</td>\n",
              "      <td>0.0</td>\n",
              "      <td>0.0</td>\n",
              "      <td>-1.433690</td>\n",
              "      <td>0.000000</td>\n",
              "      <td>-5.295871</td>\n",
              "      <td>6.729561</td>\n",
              "    </tr>\n",
              "    <tr>\n",
              "      <th>2021-06-23 10:00:00</th>\n",
              "      <td>2020-06-23 10:00:00</td>\n",
              "      <td>24.45</td>\n",
              "      <td>57.0</td>\n",
              "      <td>2.34</td>\n",
              "      <td>211.05</td>\n",
              "      <td>678.19</td>\n",
              "      <td>23.778322</td>\n",
              "      <td>0.000000e+00</td>\n",
              "      <td>0.0</td>\n",
              "      <td>0.000000</td>\n",
              "      <td>0.0</td>\n",
              "      <td>0.0</td>\n",
              "      <td>0.654846</td>\n",
              "      <td>0.000000</td>\n",
              "      <td>-5.405345</td>\n",
              "      <td>4.750499</td>\n",
              "    </tr>\n",
              "    <tr>\n",
              "      <th>2021-01-04 20:00:00</th>\n",
              "      <td>2020-01-04 20:00:00</td>\n",
              "      <td>2.46</td>\n",
              "      <td>84.0</td>\n",
              "      <td>3.03</td>\n",
              "      <td>0.00</td>\n",
              "      <td>0.00</td>\n",
              "      <td>17.631423</td>\n",
              "      <td>0.000000e+00</td>\n",
              "      <td>0.0</td>\n",
              "      <td>0.000000</td>\n",
              "      <td>0.0</td>\n",
              "      <td>0.0</td>\n",
              "      <td>-3.420206</td>\n",
              "      <td>0.000000</td>\n",
              "      <td>-19.914776</td>\n",
              "      <td>23.334983</td>\n",
              "    </tr>\n",
              "    <tr>\n",
              "      <th>2021-09-23 08:00:00</th>\n",
              "      <td>2020-09-23 08:00:00</td>\n",
              "      <td>15.02</td>\n",
              "      <td>86.0</td>\n",
              "      <td>3.45</td>\n",
              "      <td>109.65</td>\n",
              "      <td>354.88</td>\n",
              "      <td>19.999385</td>\n",
              "      <td>0.000000e+00</td>\n",
              "      <td>0.0</td>\n",
              "      <td>0.000000</td>\n",
              "      <td>0.0</td>\n",
              "      <td>0.0</td>\n",
              "      <td>-0.896749</td>\n",
              "      <td>0.000000</td>\n",
              "      <td>-1.602422</td>\n",
              "      <td>2.499170</td>\n",
              "    </tr>\n",
              "  </tbody>\n",
              "</table>\n",
              "</div>\n",
              "      <button class=\"colab-df-convert\" onclick=\"convertToInteractive('df-f5faacad-1c8a-4a2d-b62b-3b705adb4d8e')\"\n",
              "              title=\"Convert this dataframe to an interactive table.\"\n",
              "              style=\"display:none;\">\n",
              "        \n",
              "  <svg xmlns=\"http://www.w3.org/2000/svg\" height=\"24px\"viewBox=\"0 0 24 24\"\n",
              "       width=\"24px\">\n",
              "    <path d=\"M0 0h24v24H0V0z\" fill=\"none\"/>\n",
              "    <path d=\"M18.56 5.44l.94 2.06.94-2.06 2.06-.94-2.06-.94-.94-2.06-.94 2.06-2.06.94zm-11 1L8.5 8.5l.94-2.06 2.06-.94-2.06-.94L8.5 2.5l-.94 2.06-2.06.94zm10 10l.94 2.06.94-2.06 2.06-.94-2.06-.94-.94-2.06-.94 2.06-2.06.94z\"/><path d=\"M17.41 7.96l-1.37-1.37c-.4-.4-.92-.59-1.43-.59-.52 0-1.04.2-1.43.59L10.3 9.45l-7.72 7.72c-.78.78-.78 2.05 0 2.83L4 21.41c.39.39.9.59 1.41.59.51 0 1.02-.2 1.41-.59l7.78-7.78 2.81-2.81c.8-.78.8-2.07 0-2.86zM5.41 20L4 18.59l7.72-7.72 1.47 1.35L5.41 20z\"/>\n",
              "  </svg>\n",
              "      </button>\n",
              "      \n",
              "  <style>\n",
              "    .colab-df-container {\n",
              "      display:flex;\n",
              "      flex-wrap:wrap;\n",
              "      gap: 12px;\n",
              "    }\n",
              "\n",
              "    .colab-df-convert {\n",
              "      background-color: #E8F0FE;\n",
              "      border: none;\n",
              "      border-radius: 50%;\n",
              "      cursor: pointer;\n",
              "      display: none;\n",
              "      fill: #1967D2;\n",
              "      height: 32px;\n",
              "      padding: 0 0 0 0;\n",
              "      width: 32px;\n",
              "    }\n",
              "\n",
              "    .colab-df-convert:hover {\n",
              "      background-color: #E2EBFA;\n",
              "      box-shadow: 0px 1px 2px rgba(60, 64, 67, 0.3), 0px 1px 3px 1px rgba(60, 64, 67, 0.15);\n",
              "      fill: #174EA6;\n",
              "    }\n",
              "\n",
              "    [theme=dark] .colab-df-convert {\n",
              "      background-color: #3B4455;\n",
              "      fill: #D2E3FC;\n",
              "    }\n",
              "\n",
              "    [theme=dark] .colab-df-convert:hover {\n",
              "      background-color: #434B5C;\n",
              "      box-shadow: 0px 1px 3px 1px rgba(0, 0, 0, 0.15);\n",
              "      filter: drop-shadow(0px 1px 2px rgba(0, 0, 0, 0.3));\n",
              "      fill: #FFFFFF;\n",
              "    }\n",
              "  </style>\n",
              "\n",
              "      <script>\n",
              "        const buttonEl =\n",
              "          document.querySelector('#df-f5faacad-1c8a-4a2d-b62b-3b705adb4d8e button.colab-df-convert');\n",
              "        buttonEl.style.display =\n",
              "          google.colab.kernel.accessAllowed ? 'block' : 'none';\n",
              "\n",
              "        async function convertToInteractive(key) {\n",
              "          const element = document.querySelector('#df-f5faacad-1c8a-4a2d-b62b-3b705adb4d8e');\n",
              "          const dataTable =\n",
              "            await google.colab.kernel.invokeFunction('convertToInteractive',\n",
              "                                                     [key], {});\n",
              "          if (!dataTable) return;\n",
              "\n",
              "          const docLinkHtml = 'Like what you see? Visit the ' +\n",
              "            '<a target=\"_blank\" href=https://colab.research.google.com/notebooks/data_table.ipynb>data table notebook</a>'\n",
              "            + ' to learn more about interactive tables.';\n",
              "          element.innerHTML = '';\n",
              "          dataTable['output_type'] = 'display_data';\n",
              "          await google.colab.output.renderOutput(dataTable, element);\n",
              "          const docLink = document.createElement('div');\n",
              "          docLink.innerHTML = docLinkHtml;\n",
              "          element.appendChild(docLink);\n",
              "        }\n",
              "      </script>\n",
              "    </div>\n",
              "  </div>\n",
              "  "
            ]
          },
          "metadata": {},
          "execution_count": 12
        }
      ]
    },
    {
      "cell_type": "code",
      "source": [
        "# Select cooling period\n",
        "selection = df[(df.index < datetime.datetime(2019, 4, 18)) | (df.index >= datetime.datetime(2019, 10, 1))].copy()\n",
        "# Group the data by day\n",
        "selection[\"date\"] = selection.index.date\n",
        "selection = selection.groupby(\"date\").agg({\"outdoor_temperature_deg_celsius\": list, \"heating_kWh\": list})\n",
        "# Split the data between a training and an evaluation set.\n",
        "X = np.stack(selection.outdoor_temperature_deg_celsius.values)\n",
        "y = np.stack(selection.heating_kWh.values)"
      ],
      "metadata": {
        "id": "67JaIErpXBxi"
      },
      "execution_count": 13,
      "outputs": []
    },
    {
      "cell_type": "code",
      "source": [
        "X_train, X_test, y_train, y_test = train_test_split(X, y, test_size=0.2, random_state=42)\n",
        "X_train.shape, X_test.shape, y_train.shape, y_test.shape"
      ],
      "metadata": {
        "colab": {
          "base_uri": "https://localhost:8080/"
        },
        "id": "ZSzY2WgIXhMc",
        "outputId": "dad3b4cf-130b-4939-e7b5-984ea3cd60cf"
      },
      "execution_count": 14,
      "outputs": [
        {
          "output_type": "execute_result",
          "data": {
            "text/plain": [
              "((291, 24), (73, 24), (291, 24), (73, 24))"
            ]
          },
          "metadata": {},
          "execution_count": 14
        }
      ]
    },
    {
      "cell_type": "markdown",
      "source": [
        "**Dense Network**"
      ],
      "metadata": {
        "id": "GU6lwxsjX26k"
      }
    },
    {
      "cell_type": "code",
      "source": [
        "####\n",
        "# A compléter\n",
        "# Implémenter un réseau dense\n",
        "####\n",
        "model.compile(loss='mean_squared_error', optimizer=tf.keras.optimizers.Adam(learning_rate=1e-2))"
      ],
      "metadata": {
        "id": "6jBFGgOEXplo"
      },
      "execution_count": null,
      "outputs": []
    },
    {
      "cell_type": "markdown",
      "source": [
        "**Convolutional network**"
      ],
      "metadata": {
        "id": "a5ucdMLuX5G1"
      }
    },
    {
      "cell_type": "code",
      "source": [
        "####\n",
        "# A compléter\n",
        "# Proposer et apprendre un réseau convolutif sur les échantillons d'entraînement en maximisant l'erreur L2\n",
        "####"
      ],
      "metadata": {
        "id": "VL-jluX7V472"
      },
      "execution_count": null,
      "outputs": []
    }
  ],
  "metadata": {
    "celltoolbar": "Diaporama",
    "colab": {
      "provenance": [],
      "toc_visible": true
    },
    "kernelspec": {
      "display_name": "Python 3 (ipykernel)",
      "language": "python",
      "name": "python3"
    },
    "language_info": {
      "codemirror_mode": {
        "name": "ipython",
        "version": 3
      },
      "file_extension": ".py",
      "mimetype": "text/x-python",
      "name": "python",
      "nbconvert_exporter": "python",
      "pygments_lexer": "ipython3",
      "version": "3.9.13"
    }
  },
  "nbformat": 4,
  "nbformat_minor": 0
}