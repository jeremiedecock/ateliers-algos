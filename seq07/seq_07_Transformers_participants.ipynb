{
 "cells": [
  {
   "cell_type": "markdown",
   "metadata": {
    "id": "CF7Q8jEeEPM1"
   },
   "source": [
    "## <font color=darkblue> Introduction to Transformer Networks and attention-based models</font>\n"
   ]
  },
  {
   "cell_type": "markdown",
   "metadata": {
    "id": "gv1tTxcDjLW6"
   },
   "source": [
    "## <font color=darkred> Bibliography & additional ressources </font>"
   ]
  },
  {
   "cell_type": "markdown",
   "metadata": {
    "id": "SLsK5IHEjPWb"
   },
   "source": [
    "- [1]\"Attention is all you need\", Vaswani, A. et al., NeurIPS 2017, https://proceedings.neurips.cc/paper_files/paper/2017/file/3f5ee243547dee91fbd053c1c4a845aa-Paper.pdf\n",
    "``Seminal paper on attention mechanism``.\n",
    "- [2] \"Layer normalization \", Lei Bai, J. and al., 2016, https://ui.adsabs.harvard.edu/abs/2016arXiv160706450L/abstract\n",
    "- [3] http://jalammar.github.io/illustrated-transformer/,\n",
    "``blog with high level explanations and very nice illustrations (used here)``.\n",
    "- [4] \"BERT: Pre-training of Deep Bidirectional Transformers for Language Understanding\", Devlin, J. and al., 2018, https://arxiv.org/abs/1810.04805"
   ]
  },
  {
   "cell_type": "markdown",
   "metadata": {
    "id": "nmtgv6WzsrAm"
   },
   "source": [
    "## <font color=darkred> Part *I* : Introduction </font>"
   ]
  },
  {
   "cell_type": "markdown",
   "metadata": {
    "id": "V-zU-b6z1pSv"
   },
   "source": [
    "- Recurrent models generate a sequence of hidden\n",
    "states $h_t$, as a function of the previous hidden state $h_{t−1}$ and the input at time $t$.\n",
    "- The sequential computation precludes parallelization within training examples.\n",
    "- **Transformer** networks rely entirely on an **attention mechanism** to draw global dependencies between input and output **without using any sequential computation**.\n"
   ]
  },
  {
   "cell_type": "markdown",
   "metadata": {
    "id": "k8cYSs75Ch9K"
   },
   "source": [
    "### Building blocks"
   ]
  },
  {
   "cell_type": "markdown",
   "metadata": {
    "id": "8zgEtm_EKxlB"
   },
   "source": [
    "**Self-Attention**\n",
    "\n",
    "Given an input sequence $X\\in\\mathbb{R}^{n\\times d_x}$ ($n$ is the number of input features and $d_x$ is their dimension), produce 3 parametrized projections called Query $Q\\in\\mathbb{R}^{n\\times d_k}$, Key $K\\in\\mathbb{R}^{n\\times d_k}$, and Value $V\\in\\mathbb{R}^{n\\times d_v}$.\n",
    "\n",
    "They are obtained by a linear transformation of the input:\n",
    "\n",
    "\\begin{align*}\n",
    "Q &= XW^{Q}\\,,\\\\\n",
    "K &= XW^{K}\\,,\\\\\n",
    "V &= XW^{V}\\,,\n",
    "\\end{align*}\n",
    "\n",
    "where $W^{Q}\\in\\mathbb{R}^{d_x\\times d_k}$, $W^{K}\\in\\mathbb{R}^{d_x\\times d_k}$ and $W^{K}\\in\\mathbb{R}^{d_x\\times d_v}$ are learnt weight matrices.\n",
    "\n",
    "Each input vector $X_i$ (line of $X$) is associated with $Q_i$, $K_i$, $V_i$ (lines of $Q$, $K$, $V$).\n",
    "\n",
    "In practice, the choice, $d_k = d_v$ is standard.\n"
   ]
  },
  {
   "cell_type": "markdown",
   "metadata": {
    "id": "keaybsf-S37u"
   },
   "source": [
    "![](http://jalammar.github.io/images/t/transformer_self_attention_vectors.png)"
   ]
  },
  {
   "cell_type": "markdown",
   "metadata": {
    "id": "3NFXjYQmx4ca"
   },
   "source": [
    "Consider an input matrix consisting of $n=3$ vectors of dimension $d_x=5$."
   ]
  },
  {
   "cell_type": "code",
   "execution_count": 4,
   "metadata": {
    "colab": {
     "base_uri": "https://localhost:8080/"
    },
    "id": "mDtTBCN1s0_u",
    "outputId": "9cd92feb-d970-4ab7-829e-63225830175a"
   },
   "outputs": [
    {
     "data": {
      "text/plain": [
       "torch.Size([1, 3, 5])"
      ]
     },
     "execution_count": 4,
     "metadata": {},
     "output_type": "execute_result"
    }
   ],
   "source": [
    "import torch\n",
    "dx = 5\n",
    "X = torch.normal(0, 1, size=(1, 3, dx))\n",
    "# size = (Batch_size, sequence_length, input_dimension)\n",
    "X.size()"
   ]
  },
  {
   "cell_type": "markdown",
   "metadata": {
    "id": "UgA3aHyT-0X6"
   },
   "source": [
    "We build keys, queries and values with dimension $d_k=d_v=4$."
   ]
  },
  {
   "cell_type": "code",
   "execution_count": 5,
   "metadata": {
    "colab": {
     "base_uri": "https://localhost:8080/"
    },
    "id": "9I3WRJbgs9jf",
    "outputId": "32cce1ef-e29a-49cc-a1c0-82b839d024fe"
   },
   "outputs": [
    {
     "data": {
      "text/plain": [
       "(torch.Size([1, 3, 4]), torch.Size([1, 3, 4]), torch.Size([1, 3, 4]))"
      ]
     },
     "execution_count": 5,
     "metadata": {},
     "output_type": "execute_result"
    }
   ],
   "source": [
    "from torch import nn\n",
    "\n",
    "dim = 4\n",
    "\n",
    "query_layer = nn.Linear(dx, dim)\n",
    "key_layer = nn.Linear(dx, dim)\n",
    "value_layer = nn.Linear(dx, dim)\n",
    "\n",
    "query = query_layer(X)\n",
    "key = key_layer(X)\n",
    "value = value_layer(X)\n",
    "\n",
    "query.size(), key.size(), value.size()"
   ]
  },
  {
   "cell_type": "code",
   "execution_count": null,
   "metadata": {},
   "outputs": [],
   "source": [
    "#### To complete\n",
    "#### Compute keys, queies and values for another input vector X with different dimensions.\n"
   ]
  },
  {
   "cell_type": "markdown",
   "metadata": {
    "id": "GBiM2Qc1tA0p"
   },
   "source": [
    "The **self-attention** is then obtained by computing **dot products between each query and all keys**.\n",
    "\n",
    "For the input vector $X_i$, we first compute $Q_i^\\top K_j / \\sqrt d$ for all $1\\leq j \\leq n$ and then the weights:\n",
    "\n",
    "\n",
    "$$\n",
    "\\omega_i = (\\omega_i(1),\\ldots,\\omega_i(n)) = \\mathrm{softmax}(Q_i^\\top K_1/\\sqrt{d},\\ldots,Q_i^\\top K_n/\\sqrt{d})\\,.\n",
    "$$\n",
    "\n",
    "\n",
    "The vector $\\omega$ contains the self-attention scores associated with $X_i$.\n",
    "\n",
    " **It is a vector with entries between 0 and 1 which sum to 1**.\n",
    "\n",
    "The self-attention layer outputs for each $X_i$ the sum of values $V_j$ weighted by the attention scores:\n",
    "$$\n",
    "z_i =  \\sum_{j=1}^n \\omega_i(j) V_j\\,.\n",
    "$$\n",
    "\n",
    "**Each input vector $X_i$ is then associated with its self-attention vector $z_i$**."
   ]
  },
  {
   "cell_type": "markdown",
   "metadata": {
    "id": "mgEOG6_ZTLOD"
   },
   "source": [
    "In the illustration below, **$d_k =64$** (the illustration does not display all components of the vectors).\n",
    "![](http://jalammar.github.io/images/t/self-attention_softmax.png)"
   ]
  },
  {
   "cell_type": "code",
   "execution_count": null,
   "metadata": {
    "id": "mGzCyVybUQDp"
   },
   "outputs": [],
   "source": [
    "from google.colab import drive\n",
    "drive.mount('/content/drive')"
   ]
  },
  {
   "cell_type": "code",
   "execution_count": 6,
   "metadata": {
    "colab": {
     "base_uri": "https://localhost:8080/"
    },
    "id": "3DZtyxIqtNP8",
    "outputId": "deaa0e05-8de3-4c8b-a535-d8313c3e871e"
   },
   "outputs": [
    {
     "data": {
      "text/plain": [
       "tensor([[[0.3528, 0.3424, 0.3048],\n",
       "         [0.3216, 0.3542, 0.3242],\n",
       "         [0.3282, 0.3390, 0.3328]]], grad_fn=<SoftmaxBackward0>)"
      ]
     },
     "execution_count": 6,
     "metadata": {},
     "output_type": "execute_result"
    }
   ],
   "source": [
    "import math\n",
    "\n",
    "attention_scores = torch.matmul(query, key.transpose(-1, -2))\n",
    "attention_scores = attention_scores / math.sqrt(dim)\n",
    "\n",
    "attention_probs = nn.Softmax(dim=-1)(attention_scores)\n",
    "attention_probs"
   ]
  },
  {
   "cell_type": "markdown",
   "metadata": {
    "id": "IjiXVFIjtN3Z"
   },
   "source": [
    "The attention probabilities is a tensor of shape `(batch_size, n, n)` where `n` is the length of the input (here 3).\n",
    "\n",
    "For each element, with what strength is it \"attending\" to the others.\n",
    "\n",
    "Finally we multiply the Value vectors of each element with these probabilites to get the final self-attention vectors."
   ]
  },
  {
   "cell_type": "code",
   "execution_count": 7,
   "metadata": {
    "colab": {
     "base_uri": "https://localhost:8080/"
    },
    "id": "wVuvRqJitS0G",
    "outputId": "311b75ca-8233-4035-cc43-eb8276e58282"
   },
   "outputs": [
    {
     "data": {
      "text/plain": [
       "tensor([[[-0.0583, -0.3704, -0.6103,  0.1242],\n",
       "         [-0.0950, -0.3846, -0.6178,  0.0821],\n",
       "         [-0.0978, -0.3891, -0.6198,  0.0772]]], grad_fn=<UnsafeViewBackward0>)"
      ]
     },
     "execution_count": 7,
     "metadata": {},
     "output_type": "execute_result"
    }
   ],
   "source": [
    "torch.matmul(attention_probs, value)"
   ]
  },
  {
   "cell_type": "markdown",
   "metadata": {
    "id": "rsG5YFgHU8Gm"
   },
   "source": [
    "![](http://jalammar.github.io/images/t/self-attention-output.png)"
   ]
  },
  {
   "cell_type": "code",
   "execution_count": null,
   "metadata": {},
   "outputs": [],
   "source": [
    "#### To complete\n",
    "#### Compute the self-attention vectors for your input vector X.\n"
   ]
  },
  {
   "cell_type": "markdown",
   "metadata": {
    "id": "Mj6UeqGrRxdg"
   },
   "source": [
    "Usually the **self-attention vectors are used as inputs of another neural network** (for instance a feed forward neural network) in order for instance to predict the output"
   ]
  },
  {
   "cell_type": "markdown",
   "metadata": {
    "id": "eIdzgLQLRx7g"
   },
   "source": [
    "![](http://jalammar.github.io/images/t/encoder_with_tensors.png)"
   ]
  },
  {
   "cell_type": "markdown",
   "metadata": {
    "id": "eM0-Ah-atqzw"
   },
   "source": [
    "The following code (inspired by **BERT**) is a simple pytorch implementation of a single layer transformer, with a single head. A few implementation details have been omitted for clarity. In this transformer, for the sake of clarity , we suppose that all the dimensions $d_x$, $d_k$, $d_v$ are equal (```self.dim``` in the code)."
   ]
  },
  {
   "cell_type": "code",
   "execution_count": 8,
   "metadata": {
    "id": "Hus2xkHXtrDi"
   },
   "outputs": [],
   "source": [
    "class SimpleTransformer(nn.Module):\n",
    "    def __init__(self, hidden_dim = 32):\n",
    "        super().__init__()\n",
    "        self.dim = hidden_dim\n",
    "        self.query_layer = nn.Linear(self.dim, self.dim)\n",
    "        self.key_layer = nn.Linear(self.dim, self.dim)\n",
    "        self.value_layer = nn.Linear(self.dim, self.dim)\n",
    "        self.output_layer = nn.Linear(self.dim, self.dim)\n",
    "        self.dropout = nn.Dropout(0.2)\n",
    "        self.LayerNorm = nn.LayerNorm(self.dim, eps=1e-4)\n",
    "\n",
    "    def self_attention(self, X):\n",
    "        query = self.query_layer(X)\n",
    "        key = self.key_layer(X)\n",
    "        value = self.value_layer(X)\n",
    "\n",
    "        # Take the dot product between \"query\" and \"key\" to get the raw attention scores.\n",
    "        #attention_scores = \n",
    "        #attention_scores = \n",
    "        #attention_probs = \n",
    "\n",
    "        return torch.matmul(attention_probs, value)\n",
    "\n",
    "\n",
    "    def forward(self, X):\n",
    "        Z = self.self_attention(X)\n",
    "        Z = self.output_layer(Z)\n",
    "        Z = self.dropout(Z)\n",
    "        Z = self.LayerNorm(Z + X) \n",
    "        return Z"
   ]
  },
  {
   "cell_type": "markdown",
   "metadata": {
    "id": "t1BON3svtyQu"
   },
   "source": [
    "- The trainable parameters are in the 4 layers: **key**, **value**, **query** and **output layer**.\n",
    "- There is a **skip connection**: we add the input to the output. This is similar to residual learning in the [Resnet paper](https://arxiv.org/abs/1512.03385).\n",
    "- A **normalization scheme** is applied at the end of each layer:\n",
    "$$\n",
    "y = \\frac{X−\\mathbb{E}[X]}{ \\mathbb{V}[X]+\\varepsilon}\\gamma+\\beta\\,,\n",
    "$$\n",
    "where $\\gamma$ and $\\beta$ are new trainable parameters. It enables to stabilize the activation level for optimization purposes (better flow of gradients during SGD). Read the original [paper](https://arxiv.org/abs/1607.06450) for more details.\n"
   ]
  },
  {
   "cell_type": "code",
   "execution_count": 10,
   "metadata": {
    "colab": {
     "base_uri": "https://localhost:8080/"
    },
    "id": "COM105Ujt8jv",
    "outputId": "45d9d288-9a07-4147-c37e-c9d5cad87cd2"
   },
   "outputs": [
    {
     "data": {
      "text/plain": [
       "tensor([[[-0.8012,  0.2220, -0.7888, -0.4887,  1.8567],\n",
       "         [-0.0019,  0.6270, -1.4636, -0.6078,  1.4462],\n",
       "         [ 0.3965, -0.6439,  1.7731, -0.5184, -1.0073]]],\n",
       "       grad_fn=<NativeLayerNormBackward0>)"
      ]
     },
     "execution_count": 10,
     "metadata": {},
     "output_type": "execute_result"
    }
   ],
   "source": [
    "T = SimpleTransformer(hidden_dim=5)\n",
    "T(X)"
   ]
  },
  {
   "cell_type": "markdown",
   "metadata": {
    "id": "9gCSjklugjAK"
   },
   "source": [
    "### Multi-head attention"
   ]
  },
  {
   "cell_type": "markdown",
   "metadata": {
    "id": "xUOo5NDRHHAC"
   },
   "source": [
    "The self-attention layer is usually combined with **multi-headed** attention.\n",
    "\n",
    "- Each **head** $h$ has its weights $W^Q_h$, $W^V_h$, $W^K_h$ which allows to build different self-attention vectors.\n",
    "\n",
    "- Each heads leads to different projections (embeddings) of the input data, that can be used to learn several features of the data.\n",
    "\n",
    "- It allows the model to represent the data in different subspaces, and to better capture the complex relationships that can exist in the input data (for instance the relationships between the words in a given sentence)."
   ]
  },
  {
   "cell_type": "markdown",
   "metadata": {
    "id": "1UhZK-4suGEN"
   },
   "source": [
    "In standard transformers, there are multiple layers as such, and each layer has $H$ *attention heads*, which corresponds to $H$ heads $Q^h,K^h,V^h$, $1\\leq h \\leq H$ transformation matrices, and the outputs are concatenated before the last feed forward (output) layer."
   ]
  },
  {
   "cell_type": "markdown",
   "metadata": {
    "id": "o4-h4AoQDciv"
   },
   "source": [
    "Let us break down the different parts of the network to better understand its different components and the dimensions of the arrays. Define the following notations.\n",
    "- $B$ is the batch size of our sample\n",
    "- $S$ is the size of the input (and output) sequence  \n",
    "- $H$ is the number of heads (```8``` in our example)\n",
    "- $D$ is the dimension of the query-key-value space ($D = d_{k} = d_{v}$ with the previous notations). For the sake of clarity, we also suppose that $D$ is also the dimension of the input space ($D = d_{x}$)"
   ]
  },
  {
   "cell_type": "markdown",
   "metadata": {
    "id": "ORj--8miGBF2"
   },
   "source": [
    "We can now initiate our ```MultiHeadAttention``` class. It is a Pytorch neural network, so the class has to inherit from the ```nn.Module``` class. The ```__init__``` method of this module instantiates the parameters that have to be learnt in the network."
   ]
  },
  {
   "cell_type": "code",
   "execution_count": null,
   "metadata": {
    "id": "_fpYJOsIDb5u"
   },
   "outputs": [],
   "source": [
    "class MultiHeadAttention(nn.Module):\n",
    "    '''Multi-head self-attention module'''\n",
    "    def __init__(self, D, H):\n",
    "        super(MultiHeadAttention, self).__init__()\n",
    "        self.H = H # number of heads\n",
    "        self.D = D # dimension\n",
    "\n",
    "        self.wq = nn.Linear(D, D*H)\n",
    "        self.wk = nn.Linear(D, D*H)\n",
    "        self.wv = nn.Linear(D, D*H)\n",
    "\n",
    "        self.dense = nn.Linear(D*H, D)"
   ]
  },
  {
   "cell_type": "markdown",
   "metadata": {
    "id": "mfgkKDt6HbY9"
   },
   "source": [
    "**Matrices ```self.wq```, ```self.wk``` and ```self.wv```**\n",
    "\n",
    "Contrarily to the self-attention with one-head, these matrices will correspond to a linear transformation from the query-key-value space of dimension $D$ into $H$ copies of itself. Hence an output dimension of $D \\times H$. When we look at the connections from the input space to the first $D$ connections of the output, that is where we get the above mentioned $W^Q_1$, $W^K_1$, $W^V_1$ matrices. If we look at the connections from the input space to the following ```D``` connections, we will get $W^Q_2$, $W^K_2$, $W^V_2$. And so on."
   ]
  },
  {
   "cell_type": "markdown",
   "metadata": {
    "id": "eHEaxcLKOl3j"
   },
   "source": [
    "The last network ```self.dense``` corresponds to the output network. Its input lives in a space of dimension $D \\times H$ : this is because the input of the ```self.dense``` neural network will be the concatenation of the $H$ predictions in the $H$ different copies of the value space respectively made by the $H$ different heads.\n"
   ]
  },
  {
   "cell_type": "markdown",
   "metadata": {
    "id": "V3O9ZPg1QcrD"
   },
   "source": [
    "We now need to delve into how precisely we build the network with these parameters.\n",
    "\n",
    "We will basically feed the input $x$ (embedding of a word for instance) into ```self.wq```, ```self.wk``` and ```self.wv``` and process the outputs of these networks in a way that follows a multi-head attention logic before feeding them back into ```self.dense```"
   ]
  },
  {
   "cell_type": "markdown",
   "metadata": {
    "id": "10LrWK7sk6Hb"
   },
   "source": [
    "To better capture the structure of the network, we can follow the steps displayed in this figure."
   ]
  },
  {
   "cell_type": "markdown",
   "metadata": {
    "id": "0VUM1sMTh1mr"
   },
   "source": [
    "![](http://jalammar.github.io/images/t/transformer_multi-headed_self-attention-recap.png)"
   ]
  },
  {
   "cell_type": "markdown",
   "metadata": {
    "id": "ygM-qmqblHjl"
   },
   "source": [
    "#### Step 1 (image): We start from the input sentence"
   ]
  },
  {
   "cell_type": "markdown",
   "metadata": {
    "id": "xivlRMn3lOAa"
   },
   "source": [
    "#### Step 2 (image): We build an embedding for each word"
   ]
  },
  {
   "cell_type": "markdown",
   "metadata": {
    "id": "eRy_Sny_iD3I"
   },
   "source": [
    "#### Step 3 (image above): splitting the heads"
   ]
  },
  {
   "cell_type": "markdown",
   "metadata": {
    "id": "UP5qgAwqTZ2A"
   },
   "source": [
    "First,  we need to calculate the attention heads. To do this, we feed the input to ```self.wq```, ```self.wk``` and ```self.wv```, from which we will extract the ```D``` attention heads. These $D$ attention heads will have their own query, key and values matrices $Q_i$, $K_i$ and $V_i$. This step can be summed up in the following image."
   ]
  },
  {
   "cell_type": "markdown",
   "metadata": {
    "id": "mvMbsDSz0Pml"
   },
   "source": [
    "![texte du lien](http://jalammar.github.io/images/t/transformer_attention_heads_qkv.png)"
   ]
  },
  {
   "cell_type": "markdown",
   "metadata": {
    "id": "YBqgpan20tad"
   },
   "source": [
    "To perforfm this step, we use a function ```split_head``` that simply reshapes the output by adding a last new dimension. the $i$th component of that last dimension will be a matrix of size $(B,S,H)$ which will correspond to the matrices $Q_i$ for the $i$-th head (or $K_i$ or $V_i$ depending on the network on which we perform the operation). We will denote $Q$, $K$ and $V$ the four-dimensional matrices of size $(B,S,H,D)$  output by the ```split_head```function.\n",
    "\n",
    "In the above image, this operation corresponds to step $3$"
   ]
  },
  {
   "cell_type": "code",
   "execution_count": null,
   "metadata": {
    "id": "N7qufGv0b3PY"
   },
   "outputs": [],
   "source": [
    "####This is a method of the MultiHeadAttention(nn.Module) class above\n",
    "def split_heads(self, x):\n",
    "  B, S, D_H = x.shape\n",
    "  x = x.reshape(B, S, self.H, self.D)    # (B, S, H, D)\n",
    "  x = x.permute((0, 2, 1, 3))  # (B, H, S, D)\n",
    "  return x"
   ]
  },
  {
   "cell_type": "markdown",
   "metadata": {
    "id": "C4GygWL9b_YA"
   },
   "source": [
    "Let us start writing the ```forward``` method of our model (required if your class inherits from ```nn.Module```). It takes an input $x$ and yields the output and attention weights of the network. Let us describe the first steps of the calculation:"
   ]
  },
  {
   "cell_type": "code",
   "execution_count": null,
   "metadata": {
    "id": "4BjE7JQJNMxw"
   },
   "outputs": [],
   "source": [
    "####This is a method of the MultiHeadAttention(nn.Module) class above\n",
    "\n",
    "def forward(self, x, mask):\n",
    "    ###Step 3 (image): calculating q, k and v by splitting the heads\n",
    "    q = self.wq(x)  # (B, S, D*H)\n",
    "    k = self.wk(x)  # (B, S, D*H)\n",
    "    v = self.wv(x)  # (B, S, D*H)\n",
    "\n",
    "    q = self.split_heads(q)  # (B, H, S, D)\n",
    "    k = self.split_heads(k)  # (B, H, S, D)\n",
    "    v = self.split_heads(v)  # (B, H, S, D)\n",
    "\n",
    "    ############################################\n",
    "    ####The rest of the function is coming!!!###\n",
    "    ############################################"
   ]
  },
  {
   "cell_type": "markdown",
   "metadata": {
    "id": "HL8-nysqiSc8"
   },
   "source": [
    "#### Step 4 (image above): calculating the attention weights and the scaled output."
   ]
  },
  {
   "cell_type": "markdown",
   "metadata": {
    "id": "hQOXw8wUZmso"
   },
   "source": [
    "Now that we have calculated the matrices $Q$, $K$ and $V$, we can calculate the attention scores with $Q$ and $K$, and then scale the matrix $V$ with these attention weights. That is what the following ```calculate_scaled_attention``` function does. By adding a fourth dimension to these 3 matrices, we can perform this calculation for the $H$ heads all at once in a few lines."
   ]
  },
  {
   "cell_type": "code",
   "execution_count": null,
   "metadata": {
    "id": "4KbcBR73YVkY"
   },
   "outputs": [],
   "source": [
    "####This is a method of the MultiHeadAttention(nn.Module) class above\n",
    "\n",
    "def calculate_scaled_attention(self, q, k, v):\n",
    "    attention_scores = torch.matmul(q, k.transpose(-1, -2)) #(B,H,S,S)\n",
    "    attention_scores = attention_scores / math.sqrt(self.D)\n",
    "\n",
    "    # add the mask to the scaled tensor.\n",
    "    if mask is not None:\n",
    "        attention_scores += (mask * -1e9)\n",
    "\n",
    "    attention_weights = nn.Softmax(dim=-1)(attention_scores)\n",
    "    scaled_attention = torch.matmul(attention_weights, v)  # (B, H, S, D)\n",
    "    return scaled_attention"
   ]
  },
  {
   "cell_type": "markdown",
   "metadata": {
    "id": "D-H4_liQc-KH"
   },
   "source": [
    "Now we can add one line in our forward function that calculates the scaled attention from $Q$, $K$ and $V$"
   ]
  },
  {
   "cell_type": "code",
   "execution_count": null,
   "metadata": {
    "id": "BZDKApnYcwLt"
   },
   "outputs": [],
   "source": [
    "####This is a method of the MultiHeadAttention(nn.Module) class above\n",
    "\n",
    "def forward(self, x, mask):\n",
    "    q = self.wq(x)  # (B, S, D*H)\n",
    "    k = self.wk(x)  # (B, S, D*H)\n",
    "    v = self.wv(x)  # (B, S, D*H)\n",
    "\n",
    "    q = self.split_heads(q)  # (B, H, S, D)\n",
    "    k = self.split_heads(k)  # (B, H, S, D)\n",
    "    v = self.split_heads(v)  # (B, H, S, D)\n",
    "\n",
    "    ###Step 4 (image): Computing the scaled attention from q, k and v\n",
    "    scaled_attention = self.calculate_scaled_attention(q, k, v) # (B, H, S, D)\n",
    "\n",
    "    ############################################\n",
    "    ####The rest of the function is coming!!!###\n",
    "    ############################################"
   ]
  },
  {
   "cell_type": "markdown",
   "metadata": {
    "id": "D4NrijvRimVN"
   },
   "source": [
    "#### Step 5 (image above): Concatenating the outputs of the attention layer and feeding the result to the output layer."
   ]
  },
  {
   "cell_type": "markdown",
   "metadata": {
    "id": "Q3Gl_77LZmOx"
   },
   "source": [
    "Now that we have calculated the attention weights and scaled the matrix $V$ with these attention weights, we have an actual output of dimension $(B, H, S, D)$. But now we need to reduce the dimension of this output by one and rearrange its components to feed our ```self.dense``` layer, with an input of size $(B, S, D\\times H)$. As we are building a self-attention model, the dimension of this Dense layer must the same as the input: $D$. The following image sums up this concatenating process."
   ]
  },
  {
   "cell_type": "markdown",
   "metadata": {
    "id": "bJh8DBtSzEm6"
   },
   "source": [
    "![](http://jalammar.github.io/images/t/transformer_attention_heads_weight_matrix_o.png)"
   ]
  },
  {
   "cell_type": "code",
   "execution_count": null,
   "metadata": {
    "id": "gDVj-6jdNPB1"
   },
   "outputs": [],
   "source": [
    "####This is a method of the MultiHeadAttention(nn.Module) class above\n",
    "\n",
    "def concat_heads(self, x):\n",
    "    '''(B, H, S, D) => (B, S, D*H)'''\n",
    "    B, H, S, D = x.shape\n",
    "    x = x.permute((0, 2, 1, 3)).contiguous()  # (B, S, H, D)\n",
    "    x = x.reshape((B, S, H*D))   # (B, S, D*H)\n",
    "    return x"
   ]
  },
  {
   "cell_type": "markdown",
   "metadata": {
    "id": "LI-E6DgeYa3N"
   },
   "source": [
    "Now we can finish writing (at last!) the ```forward``` function."
   ]
  },
  {
   "cell_type": "code",
   "execution_count": null,
   "metadata": {
    "id": "unQGPzz5Haq_"
   },
   "outputs": [],
   "source": [
    "####This is a method of the MultiHeadAttention(nn.Module) class above\n",
    "\n",
    "def forward(self, x, mask):\n",
    "    q = self.wq(x)  # (B, S, D*H)\n",
    "    k = self.wk(x)  # (B, S, D*H)\n",
    "    v = self.wv(x)  # (B, S, D*H)\n",
    "\n",
    "    q = self.split_heads(q)  # (B, H, S, D)\n",
    "    k = self.split_heads(k)  # (B, H, S, D)\n",
    "    v = self.split_heads(v)  # (B, H, S, D)\n",
    "\n",
    "    scaled_attention = self.calculate_scaled_attention(q, k, v)\n",
    "\n",
    "    ####Step 5 (image): concatenating the outputs and feeding the dense networks\n",
    "    concat_attention = self.concat_heads(scaled_attention) # (B, S, D*H)\n",
    "    output = self.dense(concat_attention)  # (B, S, D)\n",
    "\n",
    "    return output, attention_weights"
   ]
  },
  {
   "cell_type": "markdown",
   "metadata": {
    "id": "4CDV98iZi3Az"
   },
   "source": [
    "#### Summary"
   ]
  },
  {
   "cell_type": "markdown",
   "metadata": {
    "id": "OZSmAycVgwtZ"
   },
   "source": [
    "Altogether, here is the whole class ```MultiHeadAttention```"
   ]
  },
  {
   "cell_type": "code",
   "execution_count": null,
   "metadata": {
    "id": "bzRg04ILHO-v"
   },
   "outputs": [],
   "source": [
    "import torch.nn as nn\n",
    "import math\n",
    "\n",
    "class MultiHeadAttention(nn.Module):\n",
    "    '''Multi-head self-attention module'''\n",
    "    def __init__(self, D, H):\n",
    "        super(MultiHeadAttention, self).__init__()\n",
    "        self.H = H # number of heads\n",
    "        self.D = D # dimension\n",
    "\n",
    "        self.wq = nn.Linear(D, D*H)\n",
    "        self.wk = nn.Linear(D, D*H)\n",
    "        self.wv = nn.Linear(D, D*H)\n",
    "\n",
    "        self.dense = nn.Linear(D*H, D)\n",
    "\n",
    "    def split_heads(self, x):\n",
    "        '''(B, S, D*H) => (B, H, S, D)'''\n",
    "        B, S, D_H = x.shape\n",
    "        x = x.reshape(B, S, self.H, self.D)    # (B, S, H, D)\n",
    "        x = x.permute((0, 2, 1, 3))  # (B, H, S, D)\n",
    "        return x\n",
    "\n",
    "    def concat_heads(self, x):\n",
    "        '''(B, H, S, D) => (B, S, D*H)'''\n",
    "        B, H, S, D = x.shape\n",
    "        x = x.permute((0, 2, 1, 3)).contiguous()  # (B, S, H, D)\n",
    "        x = x.reshape((B, S, H*D))   # (B, S, D*H)\n",
    "        return x\n",
    "\n",
    "    def calculate_scaled_attention(self, q, k, v):\n",
    "        attention_scores = torch.matmul(q, k.transpose(-1, -2)) #(B,H,S,S)\n",
    "        attention_scores = attention_scores / math.sqrt(self.D)\n",
    "\n",
    "        # add the mask to the scaled tensor.\n",
    "        if mask is not None:\n",
    "            attention_scores += (mask * -1e9)\n",
    "\n",
    "        attention_weights = nn.Softmax(dim=-1)(attention_scores)\n",
    "        scaled_attention = torch.matmul(attention_weights, v)  # (B, H, S, D)\n",
    "        return scaled_attention\n",
    "\n",
    "\n",
    "    def forward(self, x, mask):\n",
    "        q = self.wq(x)  # (B, S, D*H)\n",
    "        k = self.wk(x)  # (B, S, D*H)\n",
    "        v = self.wv(x)  # (B, S, D*H)\n",
    "\n",
    "        q = self.split_heads(q)  # (B, H, S, D)\n",
    "        k = self.split_heads(k)  # (B, H, S, D)\n",
    "        v = self.split_heads(v)  # (B, H, S, D)\n",
    "\n",
    "        scaled_attention = self.calculate_scaled_attention(q, k, v)\n",
    "\n",
    "\n",
    "        concat_attention = self.concat_heads(scaled_attention) # (B, S, D*H)\n",
    "        output = self.dense(concat_attention)  # (B, S, D)\n",
    "\n",
    "        return output, attention_weights"
   ]
  },
  {
   "cell_type": "markdown",
   "metadata": {
    "id": "8L2_F66rhDEo"
   },
   "source": [
    "You can see below an illustration of a full Transformer architecture (**the encoder-decoder formalism will be detailed in the next session**).\n",
    "The important practical step to remember is that outputs of one layer are concatenated before being used as an input for the following layer.\n",
    "\n",
    "\n",
    "![](https://www.researchgate.net/publication/344197785/figure/fig2/AS:934416989843456@1599793779015/Transformer-model-architecture-described-in-Attention-Is-All-You-Need-6.ppm)"
   ]
  },
  {
   "cell_type": "markdown",
   "metadata": {
    "id": "oCrZx7jngJ2w"
   },
   "source": [
    "### Links between LSTM and attention models"
   ]
  },
  {
   "cell_type": "markdown",
   "metadata": {
    "id": "Rf_fAjUpgJ5L"
   },
   "source": [
    "Following https://arxiv.org/pdf/1805.03716.pdf, we can consider a simplifier LSTM network. The prediction of a new data is performed by updating $(c_t,h_t)_{t\\geq 0}$, using $\\sigma$ as a generic activation function:\n",
    "\\begin{align*}\n",
    "\\tilde c_t &= \\sigma (W_1 h_{t-1} + W_2 X_{t})\\,,\\\\\n",
    "i_t &= \\sigma (W_3 h_{t-1} + W_4 X_{t})\\,,\\\\\n",
    "f_t &= \\sigma (W_5 h_{t-1} + W_6 X_{t})\\,,\\\\\n",
    "c_t &= i_t \\tilde c_t + f_t c_{t-1}\\,,\\\\\n",
    "o_t &= \\sigma (W_7 h_{t-1} + W_8 X_{t})\\,,\\\\\n",
    "h_t &= o_t\\sigma(c_t)\\,,\\\\\n",
    "\\end{align*}"
   ]
  },
  {
   "cell_type": "markdown",
   "metadata": {
    "id": "gx-R9pOKtXvd"
   },
   "source": [
    "In this setting we can derive a recursive formulation of $c_t$:\n",
    "$$\n",
    "c_t = \\sum_{j=0}^t i_j \\left(\\prod_{k=j+1}^t f_k\\right)\\tilde c_j\\,.\n",
    "$$\n",
    "The expression is obtained by induction. If this is true at time $t$, write at $t+1$,\n",
    "\\begin{align*}\n",
    "c_{t+1} = i_{t+1} \\tilde c_{t+1} + f_{t+1} c_{t} &= i_{t+1} \\tilde c_{t+1} + f_{t+1} \\sum_{j=0}^t i_j \\left(\\prod_{k=j+1}^t f_k\\right)\\tilde c_j\\,,\\\\\n",
    "&= \\sum_{j=0}^{t+1} i_j \\left(\\prod_{k=j+1}^{t+1} f_k\\right)\\tilde c_j\\,.\n",
    "\\end{align*}\n"
   ]
  },
  {
   "cell_type": "markdown",
   "metadata": {
    "id": "QEg8CJUItXyP"
   },
   "source": [
    "We note that $c_{t+1}$ can be written\n",
    "$$\n",
    "c_{t+1} = \\sum_{j=0}^{t+1}\\omega_j^{t+1}\\tilde c_j\\,.\n",
    "$$"
   ]
  },
  {
   "cell_type": "markdown",
   "metadata": {
    "id": "7mwmtQrttX8A"
   },
   "source": [
    "In an **oversimplified model** model where\n",
    "\\begin{align*}\n",
    "\\tilde c_t &= \\sigma (W_2 X_{t})\\,,\\\\\n",
    "i_t &= \\sigma (W_4 X_{t})\\,,\\\\\n",
    "f_t &= \\sigma (W_6 X_{t})\\,,\n",
    "\\end{align*}\n",
    "we obtain\n",
    "$$\n",
    "c_t = \\sum_{j=0}^t \\sigma (W_2 X_{j})\\left(\\prod_{k=j+1}^t \\sigma (W_6 X_{k})\\right)\\sigma (W_2 X_{j})\\,.\n",
    "$$\n",
    "It is therefore an **element-wise weighted sum of featurized inputs**."
   ]
  },
  {
   "cell_type": "markdown",
   "metadata": {
    "id": "8zE8KBstvyt5"
   },
   "source": [
    "Contrary to attention models (and to Transformers) the weights are constrained and the fact that $\\|f_k\\|\\leq 1$ leads to **exponentially decaying weights**."
   ]
  },
  {
   "cell_type": "markdown",
   "metadata": {
    "id": "ZunUKdzKOy7R"
   },
   "source": [
    "### Discussion and additional remarks"
   ]
  },
  {
   "cell_type": "markdown",
   "metadata": {
    "id": "KIXHR32YOz4k"
   },
   "source": [
    "**Positional encoding and masking**\n",
    "\n",
    "The nice feature of self-attention with respect to recurrent models is that **every input vector can have a large attention score no matter its position** in the past with respect to the current input (for time series, sequences of words, etc.).\n",
    "\n",
    "**Positional encoding** assigns a representation to each input vector to **determine its location**. We usually **avoid to use only an index number** which can be numerically unstable for very long sequences."
   ]
  },
  {
   "cell_type": "markdown",
   "metadata": {
    "id": "s9QxA2D-O-sr"
   },
   "source": [
    "The most widespread solution to add an positional information is to **create an embedding to map the position index to a vector**."
   ]
  },
  {
   "cell_type": "markdown",
   "metadata": {
    "id": "9uxbhCZRPDKt"
   },
   "source": [
    "![](https://machinelearningmastery.com/wp-content/uploads/2022/01/PE1-1536x818.png)"
   ]
  },
  {
   "cell_type": "markdown",
   "metadata": {
    "id": "83cUu2nePJra"
   },
   "source": [
    "In the original paper, the positional encoding of the $i$-th input vector is:\n",
    "$$\n",
    "P_i = \\left(\\cos(\\omega_1i),\\sin(\\omega_1i),\\ldots,\\sin(\\omega_{d/2}i),\\cos(\\omega_{d/2}i)\\right)^\\top\\,,\n",
    "$$\n",
    "where\n",
    "$$\n",
    "\\omega_j = c^{-2j/d}\\,,\n",
    "$$\n",
    "with $c>1$."
   ]
  },
  {
   "cell_type": "markdown",
   "metadata": {
    "id": "9QNKU6PMPOii"
   },
   "source": [
    "The traditional use of the positional encoding is to work in an extended state space where **we concatenate the positional encoding with each keys, queries, values**."
   ]
  },
  {
   "cell_type": "markdown",
   "metadata": {
    "id": "ToxdQgrnugrw"
   },
   "source": [
    "### Pretrained Transformers"
   ]
  },
  {
   "cell_type": "markdown",
   "metadata": {
    "id": "MjHNxORkuijY"
   },
   "source": [
    "Most of the time for natural language processing applications, we use a well-designed existing architecture instead of coding one. Besides the neural network architecture, we also use the pre-trained weights as they transfer well to downstream tasks. Here, the popular [Transformers library](https://huggingface.co/models) from HuggingFace is used."
   ]
  },
  {
   "cell_type": "code",
   "execution_count": null,
   "metadata": {
    "colab": {
     "base_uri": "https://localhost:8080/"
    },
    "id": "1E_61YUWuxcS",
    "outputId": "ed892b97-f8fe-484f-b5bd-e9dabb585269"
   },
   "outputs": [
    {
     "name": "stdout",
     "output_type": "stream",
     "text": [
      "Collecting transformers\n",
      "  Downloading transformers-4.33.2-py3-none-any.whl (7.6 MB)\n",
      "\u001b[2K     \u001b[90m━━━━━━━━━━━━━━━━━━━━━━━━━━━━━━━━━━━━━━━━\u001b[0m \u001b[32m7.6/7.6 MB\u001b[0m \u001b[31m21.7 MB/s\u001b[0m eta \u001b[36m0:00:00\u001b[0m\n",
      "\u001b[?25hRequirement already satisfied: filelock in /usr/local/lib/python3.10/dist-packages (from transformers) (3.12.2)\n",
      "Collecting huggingface-hub<1.0,>=0.15.1 (from transformers)\n",
      "  Downloading huggingface_hub-0.17.3-py3-none-any.whl (295 kB)\n",
      "\u001b[2K     \u001b[90m━━━━━━━━━━━━━━━━━━━━━━━━━━━━━━━━━━━━━━\u001b[0m \u001b[32m295.0/295.0 kB\u001b[0m \u001b[31m30.6 MB/s\u001b[0m eta \u001b[36m0:00:00\u001b[0m\n",
      "\u001b[?25hRequirement already satisfied: numpy>=1.17 in /usr/local/lib/python3.10/dist-packages (from transformers) (1.23.5)\n",
      "Requirement already satisfied: packaging>=20.0 in /usr/local/lib/python3.10/dist-packages (from transformers) (23.1)\n",
      "Requirement already satisfied: pyyaml>=5.1 in /usr/local/lib/python3.10/dist-packages (from transformers) (6.0.1)\n",
      "Requirement already satisfied: regex!=2019.12.17 in /usr/local/lib/python3.10/dist-packages (from transformers) (2023.6.3)\n",
      "Requirement already satisfied: requests in /usr/local/lib/python3.10/dist-packages (from transformers) (2.31.0)\n",
      "Collecting tokenizers!=0.11.3,<0.14,>=0.11.1 (from transformers)\n",
      "  Downloading tokenizers-0.13.3-cp310-cp310-manylinux_2_17_x86_64.manylinux2014_x86_64.whl (7.8 MB)\n",
      "\u001b[2K     \u001b[90m━━━━━━━━━━━━━━━━━━━━━━━━━━━━━━━━━━━━━━━━\u001b[0m \u001b[32m7.8/7.8 MB\u001b[0m \u001b[31m59.4 MB/s\u001b[0m eta \u001b[36m0:00:00\u001b[0m\n",
      "\u001b[?25hCollecting safetensors>=0.3.1 (from transformers)\n",
      "  Downloading safetensors-0.3.3-cp310-cp310-manylinux_2_17_x86_64.manylinux2014_x86_64.whl (1.3 MB)\n",
      "\u001b[2K     \u001b[90m━━━━━━━━━━━━━━━━━━━━━━━━━━━━━━━━━━━━━━━━\u001b[0m \u001b[32m1.3/1.3 MB\u001b[0m \u001b[31m52.9 MB/s\u001b[0m eta \u001b[36m0:00:00\u001b[0m\n",
      "\u001b[?25hRequirement already satisfied: tqdm>=4.27 in /usr/local/lib/python3.10/dist-packages (from transformers) (4.66.1)\n",
      "Requirement already satisfied: fsspec in /usr/local/lib/python3.10/dist-packages (from huggingface-hub<1.0,>=0.15.1->transformers) (2023.6.0)\n",
      "Requirement already satisfied: typing-extensions>=3.7.4.3 in /usr/local/lib/python3.10/dist-packages (from huggingface-hub<1.0,>=0.15.1->transformers) (4.5.0)\n",
      "Requirement already satisfied: charset-normalizer<4,>=2 in /usr/local/lib/python3.10/dist-packages (from requests->transformers) (3.2.0)\n",
      "Requirement already satisfied: idna<4,>=2.5 in /usr/local/lib/python3.10/dist-packages (from requests->transformers) (3.4)\n",
      "Requirement already satisfied: urllib3<3,>=1.21.1 in /usr/local/lib/python3.10/dist-packages (from requests->transformers) (2.0.4)\n",
      "Requirement already satisfied: certifi>=2017.4.17 in /usr/local/lib/python3.10/dist-packages (from requests->transformers) (2023.7.22)\n",
      "Installing collected packages: tokenizers, safetensors, huggingface-hub, transformers\n",
      "Successfully installed huggingface-hub-0.17.3 safetensors-0.3.3 tokenizers-0.13.3 transformers-4.33.2\n",
      "Collecting bertviz\n",
      "  Downloading bertviz-1.4.0-py3-none-any.whl (157 kB)\n",
      "\u001b[2K     \u001b[90m━━━━━━━━━━━━━━━━━━━━━━━━━━━━━━━━━━━━━━━\u001b[0m \u001b[32m157.6/157.6 kB\u001b[0m \u001b[31m4.2 MB/s\u001b[0m eta \u001b[36m0:00:00\u001b[0m\n",
      "\u001b[?25hRequirement already satisfied: transformers>=2.0 in /usr/local/lib/python3.10/dist-packages (from bertviz) (4.33.2)\n",
      "Requirement already satisfied: torch>=1.0 in /usr/local/lib/python3.10/dist-packages (from bertviz) (2.0.1+cu118)\n",
      "Requirement already satisfied: tqdm in /usr/local/lib/python3.10/dist-packages (from bertviz) (4.66.1)\n",
      "Collecting boto3 (from bertviz)\n",
      "  Downloading boto3-1.28.54-py3-none-any.whl (135 kB)\n",
      "\u001b[2K     \u001b[90m━━━━━━━━━━━━━━━━━━━━━━━━━━━━━━━━━━━━━━━\u001b[0m \u001b[32m135.8/135.8 kB\u001b[0m \u001b[31m5.0 MB/s\u001b[0m eta \u001b[36m0:00:00\u001b[0m\n",
      "\u001b[?25hRequirement already satisfied: requests in /usr/local/lib/python3.10/dist-packages (from bertviz) (2.31.0)\n",
      "Requirement already satisfied: regex in /usr/local/lib/python3.10/dist-packages (from bertviz) (2023.6.3)\n",
      "Collecting sentencepiece (from bertviz)\n",
      "  Downloading sentencepiece-0.1.99-cp310-cp310-manylinux_2_17_x86_64.manylinux2014_x86_64.whl (1.3 MB)\n",
      "\u001b[2K     \u001b[90m━━━━━━━━━━━━━━━━━━━━━━━━━━━━━━━━━━━━━━━━\u001b[0m \u001b[32m1.3/1.3 MB\u001b[0m \u001b[31m15.3 MB/s\u001b[0m eta \u001b[36m0:00:00\u001b[0m\n",
      "\u001b[?25hRequirement already satisfied: filelock in /usr/local/lib/python3.10/dist-packages (from torch>=1.0->bertviz) (3.12.2)\n",
      "Requirement already satisfied: typing-extensions in /usr/local/lib/python3.10/dist-packages (from torch>=1.0->bertviz) (4.5.0)\n",
      "Requirement already satisfied: sympy in /usr/local/lib/python3.10/dist-packages (from torch>=1.0->bertviz) (1.12)\n",
      "Requirement already satisfied: networkx in /usr/local/lib/python3.10/dist-packages (from torch>=1.0->bertviz) (3.1)\n",
      "Requirement already satisfied: jinja2 in /usr/local/lib/python3.10/dist-packages (from torch>=1.0->bertviz) (3.1.2)\n",
      "Requirement already satisfied: triton==2.0.0 in /usr/local/lib/python3.10/dist-packages (from torch>=1.0->bertviz) (2.0.0)\n",
      "Requirement already satisfied: cmake in /usr/local/lib/python3.10/dist-packages (from triton==2.0.0->torch>=1.0->bertviz) (3.27.4.1)\n",
      "Requirement already satisfied: lit in /usr/local/lib/python3.10/dist-packages (from triton==2.0.0->torch>=1.0->bertviz) (16.0.6)\n",
      "Requirement already satisfied: huggingface-hub<1.0,>=0.15.1 in /usr/local/lib/python3.10/dist-packages (from transformers>=2.0->bertviz) (0.17.3)\n",
      "Requirement already satisfied: numpy>=1.17 in /usr/local/lib/python3.10/dist-packages (from transformers>=2.0->bertviz) (1.23.5)\n",
      "Requirement already satisfied: packaging>=20.0 in /usr/local/lib/python3.10/dist-packages (from transformers>=2.0->bertviz) (23.1)\n",
      "Requirement already satisfied: pyyaml>=5.1 in /usr/local/lib/python3.10/dist-packages (from transformers>=2.0->bertviz) (6.0.1)\n",
      "Requirement already satisfied: tokenizers!=0.11.3,<0.14,>=0.11.1 in /usr/local/lib/python3.10/dist-packages (from transformers>=2.0->bertviz) (0.13.3)\n",
      "Requirement already satisfied: safetensors>=0.3.1 in /usr/local/lib/python3.10/dist-packages (from transformers>=2.0->bertviz) (0.3.3)\n",
      "Collecting botocore<1.32.0,>=1.31.54 (from boto3->bertviz)\n",
      "  Downloading botocore-1.31.54-py3-none-any.whl (11.2 MB)\n",
      "\u001b[2K     \u001b[90m━━━━━━━━━━━━━━━━━━━━━━━━━━━━━━━━━━━━━━━━\u001b[0m \u001b[32m11.2/11.2 MB\u001b[0m \u001b[31m39.1 MB/s\u001b[0m eta \u001b[36m0:00:00\u001b[0m\n",
      "\u001b[?25hCollecting jmespath<2.0.0,>=0.7.1 (from boto3->bertviz)\n",
      "  Downloading jmespath-1.0.1-py3-none-any.whl (20 kB)\n",
      "Collecting s3transfer<0.7.0,>=0.6.0 (from boto3->bertviz)\n",
      "  Downloading s3transfer-0.6.2-py3-none-any.whl (79 kB)\n",
      "\u001b[2K     \u001b[90m━━━━━━━━━━━━━━━━━━━━━━━━━━━━━━━━━━━━━━━━\u001b[0m \u001b[32m79.8/79.8 kB\u001b[0m \u001b[31m8.9 MB/s\u001b[0m eta \u001b[36m0:00:00\u001b[0m\n",
      "\u001b[?25hRequirement already satisfied: charset-normalizer<4,>=2 in /usr/local/lib/python3.10/dist-packages (from requests->bertviz) (3.2.0)\n",
      "Requirement already satisfied: idna<4,>=2.5 in /usr/local/lib/python3.10/dist-packages (from requests->bertviz) (3.4)\n",
      "Requirement already satisfied: urllib3<3,>=1.21.1 in /usr/local/lib/python3.10/dist-packages (from requests->bertviz) (2.0.4)\n",
      "Requirement already satisfied: certifi>=2017.4.17 in /usr/local/lib/python3.10/dist-packages (from requests->bertviz) (2023.7.22)\n",
      "Requirement already satisfied: python-dateutil<3.0.0,>=2.1 in /usr/local/lib/python3.10/dist-packages (from botocore<1.32.0,>=1.31.54->boto3->bertviz) (2.8.2)\n",
      "Collecting urllib3<3,>=1.21.1 (from requests->bertviz)\n",
      "  Downloading urllib3-1.26.16-py2.py3-none-any.whl (143 kB)\n",
      "\u001b[2K     \u001b[90m━━━━━━━━━━━━━━━━━━━━━━━━━━━━━━━━━━━━━━\u001b[0m \u001b[32m143.1/143.1 kB\u001b[0m \u001b[31m15.2 MB/s\u001b[0m eta \u001b[36m0:00:00\u001b[0m\n",
      "\u001b[?25hRequirement already satisfied: fsspec in /usr/local/lib/python3.10/dist-packages (from huggingface-hub<1.0,>=0.15.1->transformers>=2.0->bertviz) (2023.6.0)\n",
      "Requirement already satisfied: MarkupSafe>=2.0 in /usr/local/lib/python3.10/dist-packages (from jinja2->torch>=1.0->bertviz) (2.1.3)\n",
      "Requirement already satisfied: mpmath>=0.19 in /usr/local/lib/python3.10/dist-packages (from sympy->torch>=1.0->bertviz) (1.3.0)\n",
      "Requirement already satisfied: six>=1.5 in /usr/local/lib/python3.10/dist-packages (from python-dateutil<3.0.0,>=2.1->botocore<1.32.0,>=1.31.54->boto3->bertviz) (1.16.0)\n",
      "Installing collected packages: sentencepiece, urllib3, jmespath, botocore, s3transfer, boto3, bertviz\n",
      "  Attempting uninstall: urllib3\n",
      "    Found existing installation: urllib3 2.0.4\n",
      "    Uninstalling urllib3-2.0.4:\n",
      "      Successfully uninstalled urllib3-2.0.4\n",
      "Successfully installed bertviz-1.4.0 boto3-1.28.54 botocore-1.31.54 jmespath-1.0.1 s3transfer-0.6.2 sentencepiece-0.1.99 urllib3-1.26.16\n"
     ]
    }
   ],
   "source": [
    "!pip install transformers\n",
    "!pip install bertviz"
   ]
  },
  {
   "cell_type": "code",
   "execution_count": null,
   "metadata": {
    "id": "HWQaXW_uuxiE"
   },
   "outputs": [],
   "source": [
    "from transformers import GPT2Tokenizer, GPT2LMHeadModel"
   ]
  },
  {
   "cell_type": "code",
   "execution_count": null,
   "metadata": {
    "colab": {
     "base_uri": "https://localhost:8080/",
     "height": 177,
     "referenced_widgets": [
      "5a456c9144cd43eabbb3704fc1131e1b",
      "f7c87fe3b0824ee493bc77746d8f72eb",
      "82052913bd58456789ed04b9340f45c3",
      "b4c1845da12a4f07ad98c6b7108755a3",
      "525ca0a396114a318bec52303cff1c16",
      "faa2a8d3aae4476890992c31927c1ef1",
      "7f9fb7e678bd42b0a95cab49234c232a",
      "e1bdf57700c04c679d3bb22e11d106d3",
      "8d03e5215d0f4c05b615dbc3fe390c75",
      "ad1ab0430a1347fca94a18e3e20281cb",
      "af5cede299cf4364a574c28c33d85000",
      "84d118476eae4a86a7437794589a5b97",
      "4320d25779c9468ea6a1c12eeabe699d",
      "79732734f0974fa28f797b2c57913dea",
      "0920f6be29ea427bb80fb117aa92d7a2",
      "348b4f586d6845a2aa7f4bfb4c6cd382",
      "967f9f31a81b446e959f655d0293c8a7",
      "7d468eedc98144ffa6ca028c7e5b66b2",
      "0367db1b8ea341bb8ed93ba4d68de82b",
      "bcd7f51a96764705af8b079a40ba9668",
      "aa4871e40bd24037b56a5a44c205ab0c",
      "028d33274a4e45d79d625871dec795b7",
      "5c99265b5de34b94a2c1a9b994c2a771",
      "cd55bff2cbe74b76a4a0c792b124f9bc",
      "198a05d2867e4b65a064585ee5ab43ce",
      "14d85ad5095b49969b1bae1b7ffbb96f",
      "74f6ceb9e798440fa4093f99b875faf8",
      "df98c930caa74c7291594212cda7719d",
      "dea67fe220b04f349d23ae92d5c07bd2",
      "4f3ae39ba22a4a6498c56d5830a66cdc",
      "d11638f996c3463db78ed45cc36ed95b",
      "811fd72cf4894d28a234b37f0c662093",
      "60bb97d0dcd44c6385f8844035546775",
      "238ee10e92e84c08ab99fcbcdc570527",
      "0c1c703696a74f24a8fd7eada25269e0",
      "15c3a557292440a0b430c515c5556302",
      "10c7a7621425491780e5d00956499c3b",
      "ae7f7fc5e1374b14a6ca32bb802e3f08",
      "c1a131ec2330443e910285c2050ff5aa",
      "5ddb571efe10481284ba2c8c34827305",
      "645bd75786d64aa3974cdf68f9da92d6",
      "c8d69009aca34703b474e506d21b6f1f",
      "db21541eb86b4a789ce748fe74fd9918",
      "fbb7737a35eb4e2aba9310b15ba443cf",
      "7ba9bfbcebb04d63a4ea4ae47e2d591c",
      "eff934d82d2a429ba96c57cac9942a85",
      "1c0959c6f7f94e8083e3a9afd62f5768",
      "26dc299174c547b1846f826217db9645",
      "67a0dc4e522249d7ac420271de8759fb",
      "9cb0895ba0d54317857528771e170ef2",
      "0cdd0b999c6a447698286dcb41c61bac",
      "c5f3c16ae2df43ab954bc9e8f77e66ef",
      "ece96e271ff54e85862cc47263ef5838",
      "2ed898c557ab4773aef78741cfb89db7",
      "a1649de7928941d2ae3ed12a2afe6a82"
     ]
    },
    "id": "IlMxrrZPuxno",
    "outputId": "ad973fa2-9b33-425c-bddf-978497d39bd5"
   },
   "outputs": [
    {
     "data": {
      "application/vnd.jupyter.widget-view+json": {
       "model_id": "5a456c9144cd43eabbb3704fc1131e1b",
       "version_major": 2,
       "version_minor": 0
      },
      "text/plain": [
       "Downloading (…)lve/main/config.json:   0%|          | 0.00/665 [00:00<?, ?B/s]"
      ]
     },
     "metadata": {},
     "output_type": "display_data"
    },
    {
     "data": {
      "application/vnd.jupyter.widget-view+json": {
       "model_id": "84d118476eae4a86a7437794589a5b97",
       "version_major": 2,
       "version_minor": 0
      },
      "text/plain": [
       "Downloading model.safetensors:   0%|          | 0.00/548M [00:00<?, ?B/s]"
      ]
     },
     "metadata": {},
     "output_type": "display_data"
    },
    {
     "data": {
      "application/vnd.jupyter.widget-view+json": {
       "model_id": "5c99265b5de34b94a2c1a9b994c2a771",
       "version_major": 2,
       "version_minor": 0
      },
      "text/plain": [
       "Downloading (…)neration_config.json:   0%|          | 0.00/124 [00:00<?, ?B/s]"
      ]
     },
     "metadata": {},
     "output_type": "display_data"
    },
    {
     "data": {
      "application/vnd.jupyter.widget-view+json": {
       "model_id": "238ee10e92e84c08ab99fcbcdc570527",
       "version_major": 2,
       "version_minor": 0
      },
      "text/plain": [
       "Downloading (…)olve/main/vocab.json:   0%|          | 0.00/1.04M [00:00<?, ?B/s]"
      ]
     },
     "metadata": {},
     "output_type": "display_data"
    },
    {
     "data": {
      "application/vnd.jupyter.widget-view+json": {
       "model_id": "7ba9bfbcebb04d63a4ea4ae47e2d591c",
       "version_major": 2,
       "version_minor": 0
      },
      "text/plain": [
       "Downloading (…)olve/main/merges.txt:   0%|          | 0.00/456k [00:00<?, ?B/s]"
      ]
     },
     "metadata": {},
     "output_type": "display_data"
    }
   ],
   "source": [
    "# A GPT2 Language model is loaded\n",
    "model = GPT2LMHeadModel.from_pretrained('gpt2', output_attentions=True)\n",
    "# The corresponding tokenizer (splitting a text string into tokens in the GPT-2 vocabulary)\n",
    "tokenizer = GPT2Tokenizer.from_pretrained('gpt2')"
   ]
  },
  {
   "cell_type": "code",
   "execution_count": null,
   "metadata": {
    "colab": {
     "base_uri": "https://localhost:8080/"
    },
    "id": "hx04EENBu16x",
    "outputId": "e2ff0aed-35ca-4fca-8e5d-331cf7d7351a"
   },
   "outputs": [
    {
     "name": "stdout",
     "output_type": "stream",
     "text": [
      "number of trainable parameters in GPT-2 language model: 124,439,808\n"
     ]
    }
   ],
   "source": [
    "nb_params = sum([p.numel() for p in model.parameters() if p.requires_grad])\n",
    "print(f\"number of trainable parameters in GPT-2 language model: {nb_params:,}\")"
   ]
  },
  {
   "cell_type": "code",
   "execution_count": null,
   "metadata": {
    "colab": {
     "base_uri": "https://localhost:8080/"
    },
    "id": "SyJqoPqru38o",
    "outputId": "75161476-a282-49ef-9eac-cc194c109622"
   },
   "outputs": [
    {
     "data": {
      "text/plain": [
       "GPT2LMHeadModel(\n",
       "  (transformer): GPT2Model(\n",
       "    (wte): Embedding(50257, 768)\n",
       "    (wpe): Embedding(1024, 768)\n",
       "    (drop): Dropout(p=0.1, inplace=False)\n",
       "    (h): ModuleList(\n",
       "      (0-11): 12 x GPT2Block(\n",
       "        (ln_1): LayerNorm((768,), eps=1e-05, elementwise_affine=True)\n",
       "        (attn): GPT2Attention(\n",
       "          (c_attn): Conv1D()\n",
       "          (c_proj): Conv1D()\n",
       "          (attn_dropout): Dropout(p=0.1, inplace=False)\n",
       "          (resid_dropout): Dropout(p=0.1, inplace=False)\n",
       "        )\n",
       "        (ln_2): LayerNorm((768,), eps=1e-05, elementwise_affine=True)\n",
       "        (mlp): GPT2MLP(\n",
       "          (c_fc): Conv1D()\n",
       "          (c_proj): Conv1D()\n",
       "          (act): NewGELUActivation()\n",
       "          (dropout): Dropout(p=0.1, inplace=False)\n",
       "        )\n",
       "      )\n",
       "    )\n",
       "    (ln_f): LayerNorm((768,), eps=1e-05, elementwise_affine=True)\n",
       "  )\n",
       "  (lm_head): Linear(in_features=768, out_features=50257, bias=False)\n",
       ")"
      ]
     },
     "execution_count": 11,
     "metadata": {},
     "output_type": "execute_result"
    }
   ],
   "source": [
    "model"
   ]
  },
  {
   "cell_type": "code",
   "execution_count": null,
   "metadata": {
    "colab": {
     "base_uri": "https://localhost:8080/"
    },
    "id": "6Nzghivou4s0",
    "outputId": "00faec23-e95b-4c57-d008-84f190b35175"
   },
   "outputs": [
    {
     "data": {
      "text/plain": [
       "tensor([[25954, 11666,  4430,  4899,  4433,   257,  4735, 18069]])"
      ]
     },
     "execution_count": 12,
     "metadata": {},
     "output_type": "execute_result"
    }
   ],
   "source": [
    "text = \"Building artificial intelligence tools requires a solid mathematical\"\n",
    "inputs = tokenizer.encode_plus(text, return_tensors='pt', add_special_tokens=True)\n",
    "input_ids = inputs['input_ids']\n",
    "input_ids"
   ]
  },
  {
   "cell_type": "code",
   "execution_count": null,
   "metadata": {
    "id": "PPojxgZju4wt"
   },
   "outputs": [],
   "source": [
    "outputs = model(input_ids)"
   ]
  },
  {
   "cell_type": "code",
   "execution_count": null,
   "metadata": {
    "id": "Oj45T8VLu9WU"
   },
   "outputs": [],
   "source": [
    "inputs = tokenizer.encode(text, return_tensors='pt', add_special_tokens=True)\n",
    "outputs = model(inputs, return_dict=True)"
   ]
  },
  {
   "cell_type": "code",
   "execution_count": null,
   "metadata": {
    "id": "ZEFYV41gu9Y_"
   },
   "outputs": [],
   "source": [
    "logits = outputs.logits[0,-1].detach().cpu()\n",
    "probas = torch.nn.functional.softmax(logits, dim=-1)\n",
    "token_ids = logits.argsort()[-5:]"
   ]
  },
  {
   "cell_type": "code",
   "execution_count": null,
   "metadata": {
    "colab": {
     "base_uri": "https://localhost:8080/"
    },
    "id": "ZOM8EdQUvBg1",
    "outputId": "cb9602d0-1f96-4321-a6a1-df05a52c2128"
   },
   "outputs": [
    {
     "name": "stdout",
     "output_type": "stream",
     "text": [
      "Building artificial intelligence tools requires a solid mathematical\n"
     ]
    },
    {
     "data": {
      "text/plain": [
       "[' foundation: (0.62)',\n",
       " ' understanding: (0.16)',\n",
       " ' model: (0.05)',\n",
       " ' framework: (0.04)',\n",
       " ' approach: (0.01)']"
      ]
     },
     "execution_count": 16,
     "metadata": {},
     "output_type": "execute_result"
    }
   ],
   "source": [
    "print(text)\n",
    "[tokenizer.decode(id)+f\": ({probas[id]:.2f})\" for id in token_ids][::-1]"
   ]
  },
  {
   "cell_type": "markdown",
   "metadata": {
    "id": "8njtI0WmvDnX"
   },
   "source": [
    "Visualisation of attention weights in different attention heads, for different layers. Note that there are 12 layers,12 heads, and 8 tokens, so there are a lot of different attentions to visualize here !"
   ]
  },
  {
   "cell_type": "code",
   "execution_count": null,
   "metadata": {
    "id": "QjintVAovBjl"
   },
   "outputs": [],
   "source": [
    "attention = model(input_ids)[-1]\n",
    "input_id_list = input_ids[0].tolist() # Batch index 0\n",
    "tokens = tokenizer.convert_ids_to_tokens(input_id_list)"
   ]
  },
  {
   "cell_type": "code",
   "execution_count": null,
   "metadata": {
    "colab": {
     "base_uri": "https://localhost:8080/",
     "height": 248
    },
    "id": "W55Kmj28vIjA",
    "outputId": "8f8abb42-5916-40d3-a860-3980b9b72a15"
   },
   "outputs": [
    {
     "data": {
      "text/html": [
       "<script src=\"/static/components/requirejs/require.js\"></script>"
      ],
      "text/plain": [
       "<IPython.core.display.HTML object>"
      ]
     },
     "metadata": {},
     "output_type": "display_data"
    },
    {
     "data": {
      "text/html": [
       "<script src=\"https://cdnjs.cloudflare.com/ajax/libs/require.js/2.3.6/require.min.js\"></script>"
      ],
      "text/plain": [
       "<IPython.core.display.HTML object>"
      ]
     },
     "metadata": {},
     "output_type": "display_data"
    },
    {
     "data": {
      "text/html": [
       "      \n",
       "        <div id=\"bertviz-3793fffe645c482fbfe7d2f20ac7a83a\" style=\"font-family:'Helvetica Neue', Helvetica, Arial, sans-serif;\">\n",
       "            <span style=\"user-select:none\">\n",
       "                Layer: <select id=\"layer\"></select>\n",
       "                \n",
       "            </span>\n",
       "            <div id='vis'></div>\n",
       "        </div>\n",
       "    "
      ],
      "text/plain": [
       "<IPython.core.display.HTML object>"
      ]
     },
     "metadata": {},
     "output_type": "display_data"
    },
    {
     "data": {
      "application/javascript": [
       "/**\n",
       " * @fileoverview Transformer Visualization D3 javascript code.\n",
       " *\n",
       " *\n",
       " *  Based on: https://github.com/tensorflow/tensor2tensor/blob/master/tensor2tensor/visualization/attention.js\n",
       " *\n",
       " * Change log:\n",
       " *\n",
       " * 12/19/18  Jesse Vig   Assorted cleanup. Changed orientation of attention matrices.\n",
       " * 12/29/20  Jesse Vig   Significant refactor.\n",
       " * 12/31/20  Jesse Vig   Support multiple visualizations in single notebook.\n",
       " * 02/06/21  Jesse Vig   Move require config from separate jupyter notebook step\n",
       " * 05/03/21  Jesse Vig   Adjust height of visualization dynamically\n",
       " * 07/25/21  Jesse Vig   Support layer filtering\n",
       " * 03/23/22  Daniel SC   Update requirement URLs for d3 and jQuery (source of bug not allowing end result to be displayed on browsers)\n",
       " **/\n",
       "\n",
       "require.config({\n",
       "  paths: {\n",
       "      d3: 'https://cdnjs.cloudflare.com/ajax/libs/d3/5.7.0/d3.min',\n",
       "    jquery: 'https://cdnjs.cloudflare.com/ajax/libs/jquery/2.0.0/jquery.min',\n",
       "  }\n",
       "});\n",
       "\n",
       "requirejs(['jquery', 'd3'], function ($, d3) {\n",
       "\n",
       "    const params = {\"attention\": [{\"name\": null, \"attn\": [[[[1.0, 0.0, 0.0, 0.0, 0.0, 0.0, 0.0, 0.0], [0.8877162933349609, 0.11228378862142563, 0.0, 0.0, 0.0, 0.0, 0.0, 0.0], [0.6605398654937744, 0.22695423662662506, 0.11250586807727814, 0.0, 0.0, 0.0, 0.0, 0.0], [0.34165456891059875, 0.3649158477783203, 0.19496774673461914, 0.09846190363168716, 0.0, 0.0, 0.0, 0.0], [0.3715820610523224, 0.37111014127731323, 0.06808439642190933, 0.10882465541362762, 0.08039882034063339, 0.0, 0.0, 0.0], [0.41229239106178284, 0.17571300268173218, 0.09397292137145996, 0.13547667860984802, 0.14413107931613922, 0.038413990288972855, 0.0, 0.0], [0.21224765479564667, 0.4147885739803314, 0.10321108996868134, 0.08483769744634628, 0.03322071582078934, 0.07086392492055893, 0.0808304026722908, 0.0], [0.14121325314044952, 0.16069777309894562, 0.3927091956138611, 0.06110474839806557, 0.06823898106813431, 0.0609108991920948, 0.06828994303941727, 0.04683510959148407]], [[1.0, 0.0, 0.0, 0.0, 0.0, 0.0, 0.0, 0.0], [0.00023511519248131663, 0.9997648596763611, 0.0, 0.0, 0.0, 0.0, 0.0, 0.0], [0.00011151335638714954, 0.021153204143047333, 0.9787352681159973, 0.0, 0.0, 0.0, 0.0, 0.0], [0.0010434901341795921, 0.002533558988943696, 0.0024259155616164207, 0.9939970970153809, 0.0, 0.0, 0.0, 0.0], [0.00016836951544974, 0.002579107880592346, 0.00048358115600422025, 0.004979818593710661, 0.9917891025543213, 0.0, 0.0, 0.0], [0.0009687815327197313, 0.003162452718243003, 0.0004478182236198336, 0.0005896162474527955, 0.00012420007260516286, 0.9947071671485901, 0.0, 0.0], [9.939748997567222e-05, 0.0026851696893572807, 6.818563269916922e-05, 0.00031371432123705745, 8.446092397207394e-05, 0.00010094505705637857, 0.9966480135917664, 0.0], [0.0002953937218990177, 0.01380225084722042, 0.0007973885512910783, 0.0009277985082007945, 0.0003464386682026088, 8.73326207511127e-05, 0.0018034751992672682, 0.981939971446991]], [[1.0, 0.0, 0.0, 0.0, 0.0, 0.0, 0.0, 0.0], [0.6675454378128052, 0.3324545919895172, 0.0, 0.0, 0.0, 0.0, 0.0, 0.0], [0.5461328625679016, 0.14892257750034332, 0.30494460463523865, 0.0, 0.0, 0.0, 0.0, 0.0], [0.33273571729660034, 0.18712691962718964, 0.3657222390174866, 0.11441517621278763, 0.0, 0.0, 0.0, 0.0], [0.4977875351905823, 0.08851924538612366, 0.15617167949676514, 0.16918456554412842, 0.08833707123994827, 0.0, 0.0, 0.0], [0.3922475278377533, 0.1285170018672943, 0.10289580374956131, 0.13130247592926025, 0.15860679745674133, 0.08643043041229248, 0.0, 0.0], [0.23068617284297943, 0.07192572206258774, 0.46299099922180176, 0.10119746625423431, 0.06053845211863518, 0.05424100533127785, 0.018420161679387093, 0.0], [0.14095953106880188, 0.14889922738075256, 0.170403391122818, 0.10942758619785309, 0.10304539650678635, 0.08477465808391571, 0.056049901992082596, 0.1864403635263443]], [[1.0, 0.0, 0.0, 0.0, 0.0, 0.0, 0.0, 0.0], [0.10254068672657013, 0.8974593281745911, 0.0, 0.0, 0.0, 0.0, 0.0, 0.0], [0.02575778216123581, 0.7983735203742981, 0.1758686602115631, 0.0, 0.0, 0.0, 0.0, 0.0], [0.0673113465309143, 0.05484570935368538, 0.056230224668979645, 0.8216126561164856, 0.0, 0.0, 0.0, 0.0], [0.036863621324300766, 0.005510200280696154, 0.008070463314652443, 0.009413773193955421, 0.940142035484314, 0.0, 0.0, 0.0], [0.04463419318199158, 0.045347630977630615, 0.027166258543729782, 0.027487337589263916, 0.17602039873600006, 0.6793441772460938, 0.0, 0.0], [0.005362689960747957, 0.00069872394669801, 0.00034533211146481335, 0.0013098351191729307, 0.0002724355726968497, 0.0010984527179971337, 0.9909125566482544, 0.0], [0.0008162085432559252, 0.0007990628946572542, 0.00011602963786572218, 6.298262451309711e-05, 0.00017440368537791073, 4.650997288990766e-05, 0.0012908311327919364, 0.9966939687728882]], [[1.0, 0.0, 0.0, 0.0, 0.0, 0.0, 0.0, 0.0], [0.5346719622612, 0.46532803773880005, 0.0, 0.0, 0.0, 0.0, 0.0, 0.0], [0.161887988448143, 0.1701478362083435, 0.6679641008377075, 0.0, 0.0, 0.0, 0.0, 0.0], [0.1487835794687271, 0.08753573894500732, 0.09944285452365875, 0.6642378568649292, 0.0, 0.0, 0.0, 0.0], [0.08852177113294601, 0.050932351499795914, 0.09257622063159943, 0.03718847781419754, 0.7307811975479126, 0.0, 0.0, 0.0], [0.14654091000556946, 0.08864608407020569, 0.09706383943557739, 0.13344770669937134, 0.3949030637741089, 0.13939842581748962, 0.0, 0.0], [0.05753959342837334, 0.014980911277234554, 0.01658482290804386, 0.010021086782217026, 0.007843445986509323, 0.009992070496082306, 0.8830380439758301, 0.0], [0.02969931624829769, 0.030023492872714996, 0.011386066675186157, 0.009000586345791817, 0.008653728291392326, 0.005591061431914568, 0.042354196310043335, 0.8632915019989014]], [[1.0, 0.0, 0.0, 0.0, 0.0, 0.0, 0.0, 0.0], [0.10497061908245087, 0.8950293660163879, 0.0, 0.0, 0.0, 0.0, 0.0, 0.0], [0.024625517427921295, 0.0007440848276019096, 0.9746304154396057, 0.0, 0.0, 0.0, 0.0, 0.0], [0.15965873003005981, 0.00044823516509495676, 0.00035362259950488806, 0.8395394086837769, 0.0, 0.0, 0.0, 0.0], [0.0327615961432457, 0.0009251699666492641, 3.779172038775869e-05, 0.0008469111053273082, 0.9654284715652466, 0.0, 0.0, 0.0], [0.05504052713513374, 0.04830870032310486, 0.022852810099720955, 0.0056836665607988834, 0.0096250269562006, 0.8584892749786377, 0.0, 0.0], [0.03188939392566681, 0.00022322079166769981, 9.252266318071634e-05, 0.00012502053868956864, 4.744147190649528e-06, 4.2702558857854456e-06, 0.9676607847213745, 0.0], [0.0063123395666480064, 0.001010871841572225, 2.8962265787413344e-05, 9.102159310714342e-06, 9.985408723878209e-06, 3.0394977557079983e-07, 1.7227555872523226e-05, 0.9926112294197083]], [[1.0, 0.0, 0.0, 0.0, 0.0, 0.0, 0.0, 0.0], [0.810388445854187, 0.1896115243434906, 0.0, 0.0, 0.0, 0.0, 0.0, 0.0], [0.4752337634563446, 0.36733388900756836, 0.15743237733840942, 0.0, 0.0, 0.0, 0.0, 0.0], [0.3432074189186096, 0.3426226079463959, 0.14390245079994202, 0.1702674925327301, 0.0, 0.0, 0.0, 0.0], [0.3227108120918274, 0.19965240359306335, 0.14555683732032776, 0.1929292380809784, 0.1391506940126419, 0.0, 0.0, 0.0], [0.3407200574874878, 0.24092601239681244, 0.13115154206752777, 0.1350788027048111, 0.14465856552124023, 0.00746501749381423, 0.0, 0.0], [0.2522771954536438, 0.25392723083496094, 0.16214972734451294, 0.12338300794363022, 0.0865025594830513, 0.03016454167664051, 0.09159577637910843, 0.0], [0.18138498067855835, 0.2459450215101242, 0.10908448696136475, 0.09946535527706146, 0.05753259360790253, 0.05271885544061661, 0.07406407594680786, 0.17980468273162842]], [[1.0, 0.0, 0.0, 0.0, 0.0, 0.0, 0.0, 0.0], [0.9732917547225952, 0.026708189398050308, 0.0, 0.0, 0.0, 0.0, 0.0, 0.0], [0.08783754706382751, 0.8779870867729187, 0.03417545184493065, 0.0, 0.0, 0.0, 0.0, 0.0], [0.21012908220291138, 0.2400185912847519, 0.41302406787872314, 0.13682827353477478, 0.0, 0.0, 0.0, 0.0], [0.16088458895683289, 0.09076938033103943, 0.1553432047367096, 0.24340951442718506, 0.3495934009552002, 0.0, 0.0, 0.0], [0.12106093764305115, 0.05767722427845001, 0.15802662074565887, 0.08886345475912094, 0.2665196657180786, 0.3078520596027374, 0.0, 0.0], [0.13155607879161835, 0.029874922707676888, 0.038801565766334534, 0.02994166500866413, 0.17282049357891083, 0.31281140446662903, 0.28419390320777893, 0.0], [0.08054695278406143, 0.05062743276357651, 0.02231927216053009, 0.03490680828690529, 0.10916931182146072, 0.21822278201580048, 0.2823490500450134, 0.20185844600200653]], [[1.0, 0.0, 0.0, 0.0, 0.0, 0.0, 0.0, 0.0], [0.7137146592140198, 0.2862853705883026, 0.0, 0.0, 0.0, 0.0, 0.0, 0.0], [0.5629851818084717, 0.3854306936264038, 0.05158412083983421, 0.0, 0.0, 0.0, 0.0, 0.0], [0.5282485485076904, 0.17421483993530273, 0.05700550973415375, 0.24053113162517548, 0.0, 0.0, 0.0, 0.0], [0.3599095344543457, 0.134527787566185, 0.15871842205524445, 0.18717309832572937, 0.15967115759849548, 0.0, 0.0, 0.0], [0.03167687729001045, 0.031398843973875046, 0.028513414785265923, 0.02505376748740673, 0.045249056071043015, 0.8381080031394958, 0.0, 0.0], [0.2876918315887451, 0.18711958825588226, 0.09512555599212646, 0.0956808403134346, 0.05185186490416527, 0.20133031904697418, 0.08120003342628479, 0.0], [0.31832975149154663, 0.11861231178045273, 0.10831630229949951, 0.15238551795482635, 0.08836173266172409, 0.1234925389289856, 0.05161910876631737, 0.038882654160261154]], [[1.0, 0.0, 0.0, 0.0, 0.0, 0.0, 0.0, 0.0], [0.9278619885444641, 0.07213802635669708, 0.0, 0.0, 0.0, 0.0, 0.0, 0.0], [0.7367485165596008, 0.2227807641029358, 0.04047071933746338, 0.0, 0.0, 0.0, 0.0, 0.0], [0.41466495394706726, 0.2328026443719864, 0.25243520736694336, 0.10009720176458359, 0.0, 0.0, 0.0, 0.0], [0.35575851798057556, 0.13914504647254944, 0.1830081045627594, 0.14830486476421356, 0.17378351092338562, 0.0, 0.0, 0.0], [0.3038939833641052, 0.11946744471788406, 0.1319771558046341, 0.10998664051294327, 0.12503185868263245, 0.20964296162128448, 0.0, 0.0], [0.2901850938796997, 0.12928317487239838, 0.16508331894874573, 0.1258988380432129, 0.09993637353181839, 0.1374029666185379, 0.05221022665500641, 0.0], [0.24859383702278137, 0.11615082621574402, 0.12051749229431152, 0.12253371626138687, 0.11684102565050125, 0.13937638700008392, 0.10347200930118561, 0.03251466527581215]], [[1.0, 0.0, 0.0, 0.0, 0.0, 0.0, 0.0, 0.0], [0.653205931186676, 0.346794068813324, 0.0, 0.0, 0.0, 0.0, 0.0, 0.0], [0.4970112144947052, 0.1619866043329239, 0.3410021960735321, 0.0, 0.0, 0.0, 0.0, 0.0], [0.4546121656894684, 0.12244149297475815, 0.11010128259658813, 0.3128451108932495, 0.0, 0.0, 0.0, 0.0], [0.31945013999938965, 0.16201390326023102, 0.1064368188381195, 0.0933171883225441, 0.3187819719314575, 0.0, 0.0, 0.0], [0.3443697690963745, 0.11514166742563248, 0.07654865831136703, 0.07121353596448898, 0.06987772136926651, 0.3228485882282257, 0.0, 0.0], [0.2110781967639923, 0.12137772142887115, 0.10198339074850082, 0.06511159986257553, 0.05662232264876366, 0.1218051090836525, 0.32202163338661194, 0.0], [0.20831334590911865, 0.13499349355697632, 0.09167148172855377, 0.07084403932094574, 0.06127985566854477, 0.08554442226886749, 0.05572455748915672, 0.29162874817848206]], [[1.0, 0.0, 0.0, 0.0, 0.0, 0.0, 0.0, 0.0], [0.8214458227157593, 0.1785542368888855, 0.0, 0.0, 0.0, 0.0, 0.0, 0.0], [0.6305447220802307, 0.18400859832763672, 0.18544670939445496, 0.0, 0.0, 0.0, 0.0, 0.0], [0.4856235682964325, 0.16029666364192963, 0.14508138597011566, 0.2089983969926834, 0.0, 0.0, 0.0, 0.0], [0.4734981060028076, 0.07900895923376083, 0.09538737684488297, 0.11235807836055756, 0.23974750936031342, 0.0, 0.0, 0.0], [0.3762272000312805, 0.07750453799962997, 0.10984484851360321, 0.1208232045173645, 0.1977720409631729, 0.1178281232714653, 0.0, 0.0], [0.37214404344558716, 0.11480376124382019, 0.08435747772455215, 0.0930853858590126, 0.14088252186775208, 0.0852869525551796, 0.10943994671106339, 0.0], [0.2683112919330597, 0.09968297183513641, 0.0790824443101883, 0.09762948006391525, 0.10357340425252914, 0.0826028361916542, 0.12551239132881165, 0.14360515773296356]]], [[[1.0, 0.0, 0.0, 0.0, 0.0, 0.0, 0.0, 0.0], [0.9777916073799133, 0.022208360955119133, 0.0, 0.0, 0.0, 0.0, 0.0, 0.0], [0.5022138357162476, 0.44155728816986084, 0.05622885376214981, 0.0, 0.0, 0.0, 0.0, 0.0], [0.5270350575447083, 0.21911613643169403, 0.09439076483249664, 0.15945808589458466, 0.0, 0.0, 0.0, 0.0], [0.38777169585227966, 0.08926797658205032, 0.08371444791555405, 0.17033454775810242, 0.2689112722873688, 0.0, 0.0, 0.0], [0.25783810019493103, 0.039431132376194, 0.023428354412317276, 0.08234795928001404, 0.5001349449157715, 0.09681954979896545, 0.0, 0.0], [0.0634680837392807, 0.03706694021821022, 0.012373929843306541, 0.03971095010638237, 0.18525058031082153, 0.5371341705322266, 0.12499534338712692, 0.0], [0.10754666477441788, 0.08077145367860794, 0.0266114454716444, 0.06268099695444107, 0.10338694602251053, 0.18877531588077545, 0.2651406228542328, 0.16508661210536957]], [[1.0, 0.0, 0.0, 0.0, 0.0, 0.0, 0.0, 0.0], [0.9615183472633362, 0.038481708616018295, 0.0, 0.0, 0.0, 0.0, 0.0, 0.0], [0.8299286961555481, 0.09956753253936768, 0.070503830909729, 0.0, 0.0, 0.0, 0.0, 0.0], [0.6929276585578918, 0.09351550787687302, 0.07722599059343338, 0.13633082807064056, 0.0, 0.0, 0.0, 0.0], [0.5238410234451294, 0.06229356303811073, 0.05197349563241005, 0.11158868670463562, 0.25030317902565, 0.0, 0.0, 0.0], [0.3051052987575531, 0.04398728907108307, 0.03898831084370613, 0.08576153963804245, 0.38585659861564636, 0.1403009444475174, 0.0, 0.0], [0.1794145703315735, 0.039491601288318634, 0.029251445084810257, 0.08922480791807175, 0.3784182071685791, 0.2103501707315445, 0.07384925335645676, 0.0], [0.13376717269420624, 0.02929043211042881, 0.023021748289465904, 0.06825213134288788, 0.28547871112823486, 0.2071891576051712, 0.12540142238140106, 0.12759925425052643]], [[1.0, 0.0, 0.0, 0.0, 0.0, 0.0, 0.0, 0.0], [0.978303849697113, 0.021696150302886963, 0.0, 0.0, 0.0, 0.0, 0.0, 0.0], [0.8138989806175232, 0.04517021030187607, 0.14093075692653656, 0.0, 0.0, 0.0, 0.0, 0.0], [0.556267499923706, 0.046083442866802216, 0.12332663685083389, 0.2743224501609802, 0.0, 0.0, 0.0, 0.0], [0.40052536129951477, 0.03823593258857727, 0.09683777391910553, 0.19922521710395813, 0.26517561078071594, 0.0, 0.0, 0.0], [0.2979048788547516, 0.02997206151485443, 0.07383311539888382, 0.15418173372745514, 0.19001096487045288, 0.2540973126888275, 0.0, 0.0], [0.23136760294437408, 0.03107045404613018, 0.07265277951955795, 0.14557762444019318, 0.1777927279472351, 0.21408715844154358, 0.12745170295238495, 0.0], [0.18580466508865356, 0.0283905528485775, 0.0669577568769455, 0.13166655600070953, 0.1541541963815689, 0.179426372051239, 0.10553059726953506, 0.14806927740573883]], [[1.0, 0.0, 0.0, 0.0, 0.0, 0.0, 0.0, 0.0], [0.6137046813964844, 0.38629528880119324, 0.0, 0.0, 0.0, 0.0, 0.0, 0.0], [0.6174689531326294, 0.17305633425712585, 0.20947469770908356, 0.0, 0.0, 0.0, 0.0, 0.0], [0.6035811901092529, 0.10910318791866302, 0.13508011400699615, 0.1522355079650879, 0.0, 0.0, 0.0, 0.0], [0.5278575420379639, 0.08989381790161133, 0.10750492662191391, 0.12398230284452438, 0.15076136589050293, 0.0, 0.0, 0.0], [0.48966971039772034, 0.07237053662538528, 0.09142429381608963, 0.10984346270561218, 0.12833084166049957, 0.10836108773946762, 0.0, 0.0], [0.5165801644325256, 0.05132618919014931, 0.07113637030124664, 0.09162407368421555, 0.10538965463638306, 0.08133866637945175, 0.08260482549667358, 0.0], [0.5089173316955566, 0.04467655345797539, 0.0618617944419384, 0.07565176486968994, 0.0890193060040474, 0.06847937405109406, 0.07291033118963242, 0.07848342508077621]], [[1.0, 0.0, 0.0, 0.0, 0.0, 0.0, 0.0, 0.0], [0.9201932549476624, 0.07980669289827347, 0.0, 0.0, 0.0, 0.0, 0.0, 0.0], [0.8082438111305237, 0.09637323021888733, 0.09538300335407257, 0.0, 0.0, 0.0, 0.0, 0.0], [0.6887509822845459, 0.09724871069192886, 0.08967410773038864, 0.12432628870010376, 0.0, 0.0, 0.0, 0.0], [0.617611289024353, 0.08106333762407303, 0.07376596331596375, 0.10274526476860046, 0.12481401115655899, 0.0, 0.0, 0.0], [0.539758026599884, 0.07689066231250763, 0.07331046462059021, 0.10272259265184402, 0.11809764057397842, 0.08922061324119568, 0.0, 0.0], [0.48870235681533813, 0.07773143798112869, 0.06949295848608017, 0.08882778882980347, 0.1009986400604248, 0.06984647363424301, 0.10440036654472351, 0.0], [0.4380120038986206, 0.07188013195991516, 0.06607446074485779, 0.08708453923463821, 0.09301391243934631, 0.06485533714294434, 0.08935122191905975, 0.08972842246294022]], [[1.0, 0.0, 0.0, 0.0, 0.0, 0.0, 0.0, 0.0], [0.9051177501678467, 0.09488227963447571, 0.0, 0.0, 0.0, 0.0, 0.0, 0.0], [0.5865523815155029, 0.1858038455247879, 0.22764375805854797, 0.0, 0.0, 0.0, 0.0, 0.0], [0.5239564180374146, 0.19760572910308838, 0.13499872386455536, 0.1434391736984253, 0.0, 0.0, 0.0, 0.0], [0.48457860946655273, 0.05203855037689209, 0.06138886138796806, 0.07160751521587372, 0.33038651943206787, 0.0, 0.0, 0.0], [0.5490049719810486, 0.06764250993728638, 0.045779332518577576, 0.030020395293831825, 0.1325591802597046, 0.17499352991580963, 0.0, 0.0], [0.3392634093761444, 0.23125720024108887, 0.04917256534099579, 0.06487461924552917, 0.08601191639900208, 0.19232960045337677, 0.03709070757031441, 0.0], [0.2011568695306778, 0.11002297699451447, 0.20534245669841766, 0.11128503829240799, 0.07272933423519135, 0.1290890872478485, 0.0384858176112175, 0.13188840448856354]], [[1.0, 0.0, 0.0, 0.0, 0.0, 0.0, 0.0, 0.0], [0.9525487422943115, 0.04745128005743027, 0.0, 0.0, 0.0, 0.0, 0.0, 0.0], [0.2188906967639923, 0.6782575249671936, 0.10285171866416931, 0.0, 0.0, 0.0, 0.0, 0.0], [0.5117983222007751, 0.26885300874710083, 0.09842119365930557, 0.12092753499746323, 0.0, 0.0, 0.0, 0.0], [0.6596609354019165, 0.059980008751153946, 0.01890033483505249, 0.18967387080192566, 0.0717848539352417, 0.0, 0.0, 0.0], [0.611221969127655, 0.09011022746562958, 0.04257100075483322, 0.05675198510289192, 0.06481743603944778, 0.13452735543251038, 0.0, 0.0], [0.403862863779068, 0.06986112892627716, 0.10807011276483536, 0.10117041319608688, 0.10725734382867813, 0.12247973680496216, 0.0872984379529953, 0.0], [0.268429160118103, 0.04145798459649086, 0.22134223580360413, 0.10929812490940094, 0.05962333828210831, 0.14923535287380219, 0.05927685275673866, 0.09133701026439667]], [[1.0, 0.0, 0.0, 0.0, 0.0, 0.0, 0.0, 0.0], [0.9318017959594727, 0.06819826364517212, 0.0, 0.0, 0.0, 0.0, 0.0, 0.0], [0.7222363352775574, 0.21403153240680695, 0.06373214721679688, 0.0, 0.0, 0.0, 0.0, 0.0], [0.5450158715248108, 0.18012817203998566, 0.2093549221754074, 0.06550102680921555, 0.0, 0.0, 0.0, 0.0], [0.44776180386543274, 0.17036178708076477, 0.19039727747440338, 0.09985916316509247, 0.09161997586488724, 0.0, 0.0, 0.0], [0.43929681181907654, 0.10433398187160492, 0.11938202381134033, 0.10688319802284241, 0.09123405069112778, 0.13886986672878265, 0.0, 0.0], [0.24780453741550446, 0.07913748919963837, 0.23308688402175903, 0.21272152662277222, 0.0993342325091362, 0.08972823619842529, 0.038187041878700256, 0.0], [0.3326588571071625, 0.15973101556301117, 0.13138756155967712, 0.09799730777740479, 0.06707849353551865, 0.07311277091503143, 0.07801765203475952, 0.06001628190279007]], [[1.0, 0.0, 0.0, 0.0, 0.0, 0.0, 0.0, 0.0], [0.9299662709236145, 0.07003378123044968, 0.0, 0.0, 0.0, 0.0, 0.0, 0.0], [0.8283240795135498, 0.08215484768152237, 0.08952102065086365, 0.0, 0.0, 0.0, 0.0, 0.0], [0.7482273578643799, 0.07710099965333939, 0.09098358452320099, 0.08368809521198273, 0.0, 0.0, 0.0, 0.0], [0.5834676623344421, 0.08097302168607712, 0.09585335105657578, 0.10293178260326385, 0.13677413761615753, 0.0, 0.0, 0.0], [0.5082857012748718, 0.06735473871231079, 0.06432205438613892, 0.07577528804540634, 0.11837521195411682, 0.16588695347309113, 0.0, 0.0], [0.46097707748413086, 0.04660516604781151, 0.058535605669021606, 0.06315282732248306, 0.13214699923992157, 0.19318191707134247, 0.045400470495224, 0.0], [0.42750120162963867, 0.04562375694513321, 0.06486747413873672, 0.0683615654706955, 0.11599356681108475, 0.1500958800315857, 0.04551735892891884, 0.08203922212123871]], [[1.0, 0.0, 0.0, 0.0, 0.0, 0.0, 0.0, 0.0], [0.9604140520095825, 0.039585962891578674, 0.0, 0.0, 0.0, 0.0, 0.0, 0.0], [0.8871681690216064, 0.06725702434778214, 0.045574843883514404, 0.0, 0.0, 0.0, 0.0, 0.0], [0.7284318804740906, 0.10630325227975845, 0.11306927353143692, 0.05219549685716629, 0.0, 0.0, 0.0, 0.0], [0.6556099057197571, 0.07688909769058228, 0.07093093544244766, 0.05331054702401161, 0.14325952529907227, 0.0, 0.0, 0.0], [0.5480930805206299, 0.045931313186883926, 0.03972935304045677, 0.04281391203403473, 0.12376922369003296, 0.19966307282447815, 0.0, 0.0], [0.4620629549026489, 0.04296645149588585, 0.04133741930127144, 0.03868119418621063, 0.1264093965291977, 0.2589500844478607, 0.029592465609312057, 0.0], [0.43752604722976685, 0.03481994941830635, 0.06984070688486099, 0.04196510091423988, 0.12380911409854889, 0.2218591272830963, 0.029756832867860794, 0.04042309150099754]], [[1.0, 0.0, 0.0, 0.0, 0.0, 0.0, 0.0, 0.0], [0.0003799714322667569, 0.9996199607849121, 0.0, 0.0, 0.0, 0.0, 0.0, 0.0], [0.0008819846552796662, 0.5113523006439209, 0.48776569962501526, 0.0, 0.0, 0.0, 0.0, 0.0], [0.0012807848397642374, 0.3036811649799347, 0.30920812487602234, 0.3858298659324646, 0.0, 0.0, 0.0, 0.0], [0.0010165973799303174, 0.20666450262069702, 0.21979115903377533, 0.2677042484283447, 0.30482351779937744, 0.0, 0.0, 0.0], [0.0013135041808709502, 0.15860484540462494, 0.17891228199005127, 0.22869352996349335, 0.25843289494514465, 0.17404289543628693, 0.0, 0.0], [0.0013519310159608722, 0.1246454119682312, 0.14808104932308197, 0.18887487053871155, 0.21870571374893188, 0.13743390142917633, 0.1809072196483612, 0.0], [0.001586881815455854, 0.10133096575737, 0.12089122831821442, 0.158141627907753, 0.18591654300689697, 0.11851013451814651, 0.14665120840072632, 0.16697144508361816]], [[1.0, 0.0, 0.0, 0.0, 0.0, 0.0, 0.0, 0.0], [0.34927117824554443, 0.6507288217544556, 0.0, 0.0, 0.0, 0.0, 0.0, 0.0], [0.26352307200431824, 0.025956526398658752, 0.7105204463005066, 0.0, 0.0, 0.0, 0.0, 0.0], [0.18038135766983032, 0.024199584499001503, 0.019502516835927963, 0.775916576385498, 0.0, 0.0, 0.0, 0.0], [0.06035248935222626, 0.003139080945402384, 0.0020061044488102198, 0.0085364431142807, 0.9259658455848694, 0.0, 0.0, 0.0], [0.1273701786994934, 0.0038023320958018303, 0.001665937015786767, 0.0008121277787722647, 0.002365497872233391, 0.8639838695526123, 0.0, 0.0], [0.06547428667545319, 0.02499517798423767, 0.005583873484283686, 0.0035743825137615204, 0.0015377722447738051, 0.008023671805858612, 0.8908108472824097, 0.0], [0.10558461397886276, 0.028776265680789948, 0.025722667574882507, 0.007305014878511429, 0.005261785350739956, 0.006423094309866428, 0.01161716878414154, 0.8093093633651733]]], [[[1.0, 0.0, 0.0, 0.0, 0.0, 0.0, 0.0, 0.0], [0.9493951797485352, 0.05060487240552902, 0.0, 0.0, 0.0, 0.0, 0.0, 0.0], [0.5795300602912903, 0.37241053581237793, 0.04805934801697731, 0.0, 0.0, 0.0, 0.0, 0.0], [0.5480388402938843, 0.37767696380615234, 0.051107246428728104, 0.023176927119493484, 0.0, 0.0, 0.0, 0.0], [0.6391854882240295, 0.16100560128688812, 0.03731150180101395, 0.04975111410021782, 0.11274627596139908, 0.0, 0.0, 0.0], [0.40958380699157715, 0.0921165943145752, 0.041060641407966614, 0.0947902500629425, 0.2724880576133728, 0.08996064960956573, 0.0, 0.0], [0.2776400148868561, 0.1205064058303833, 0.01718817465007305, 0.02979992888867855, 0.4124658405780792, 0.07224919646978378, 0.0701504647731781, 0.0], [0.3724592626094818, 0.16172948479652405, 0.02172170951962471, 0.020375778898596764, 0.04869989678263664, 0.11281152069568634, 0.20400108397006989, 0.058201201260089874]], [[1.0, 0.0, 0.0, 0.0, 0.0, 0.0, 0.0, 0.0], [0.9821670055389404, 0.01783299818634987, 0.0, 0.0, 0.0, 0.0, 0.0, 0.0], [0.8598196506500244, 0.030208928510546684, 0.10997134447097778, 0.0, 0.0, 0.0, 0.0, 0.0], [0.8474600911140442, 0.03634313866496086, 0.08318392187356949, 0.03301294520497322, 0.0, 0.0, 0.0, 0.0], [0.8111303448677063, 0.03129560872912407, 0.04582879692316055, 0.0422092005610466, 0.06953603029251099, 0.0, 0.0, 0.0], [0.8466567993164062, 0.012036919593811035, 0.0225478895008564, 0.018596088513731956, 0.060247913002967834, 0.0399143323302269, 0.0, 0.0], [0.7496874332427979, 0.021948497742414474, 0.03863176703453064, 0.026425223797559738, 0.087932288646698, 0.04046279937028885, 0.034911978989839554, 0.0], [0.6879591941833496, 0.021211935207247734, 0.07324572652578354, 0.04548342898488045, 0.06919225305318832, 0.04623071104288101, 0.038117215037345886, 0.018559599295258522]], [[1.0, 0.0, 0.0, 0.0, 0.0, 0.0, 0.0, 0.0], [0.974157452583313, 0.025842566043138504, 0.0, 0.0, 0.0, 0.0, 0.0, 0.0], [0.4045935869216919, 0.5506170392036438, 0.04478934779763222, 0.0, 0.0, 0.0, 0.0, 0.0], [0.3128434121608734, 0.2080831676721573, 0.31422993540763855, 0.16484352946281433, 0.0, 0.0, 0.0, 0.0], [0.38900265097618103, 0.023078678175807, 0.07194864749908447, 0.11050073057413101, 0.4054693281650543, 0.0, 0.0, 0.0], [0.034196559339761734, 0.006502028554677963, 0.006820386741310358, 0.03818794712424278, 0.8517093658447266, 0.06258365511894226, 0.0, 0.0], [0.07808393239974976, 0.007010160479694605, 0.0056728823110461235, 0.014126740396022797, 0.13716912269592285, 0.6119058132171631, 0.1460314393043518, 0.0], [0.13925854861736298, 0.006110153626650572, 0.005775065626949072, 0.007794974837452173, 0.09606462717056274, 0.16242653131484985, 0.33045703172683716, 0.25211310386657715]], [[1.0, 0.0, 0.0, 0.0, 0.0, 0.0, 0.0, 0.0], [0.9479337334632874, 0.052066195756196976, 0.0, 0.0, 0.0, 0.0, 0.0, 0.0], [0.7073336243629456, 0.27026864886283875, 0.022397806867957115, 0.0, 0.0, 0.0, 0.0, 0.0], [0.6623498797416687, 0.27086615562438965, 0.03241599351167679, 0.03436800092458725, 0.0, 0.0, 0.0, 0.0], [0.680522084236145, 0.11533432453870773, 0.026048878207802773, 0.02851698361337185, 0.1495777666568756, 0.0, 0.0, 0.0], [0.3558684289455414, 0.140102818608284, 0.029326096177101135, 0.05706057325005531, 0.2310054898262024, 0.18663659691810608, 0.0, 0.0], [0.06947555392980576, 0.05031750351190567, 0.026016542688012123, 0.04703522101044655, 0.280169814825058, 0.3770281970500946, 0.14995722472667694, 0.0], [0.0826990157365799, 0.018074670806527138, 0.005971054080873728, 0.012017789296805859, 0.07933665066957474, 0.403578519821167, 0.3169475793838501, 0.08137469738721848]], [[1.0, 0.0, 0.0, 0.0, 0.0, 0.0, 0.0, 0.0], [0.9794784188270569, 0.020521577447652817, 0.0, 0.0, 0.0, 0.0, 0.0, 0.0], [0.29643678665161133, 0.6663304567337036, 0.03723278269171715, 0.0, 0.0, 0.0, 0.0, 0.0], [0.6169214844703674, 0.18699587881565094, 0.1563594937324524, 0.03972310200333595, 0.0, 0.0, 0.0, 0.0], [0.8335759043693542, 0.05676478520035744, 0.02655250020325184, 0.022591372951865196, 0.060515474528074265, 0.0, 0.0, 0.0], [0.3691857159137726, 0.02273677848279476, 0.0057057724334299564, 0.023556623607873917, 0.4764620065689087, 0.10235307365655899, 0.0, 0.0], [0.43462997674942017, 0.015154221095144749, 0.0029308705125004053, 0.013506004586815834, 0.05354096367955208, 0.40854036808013916, 0.07169760763645172, 0.0], [0.4946816861629486, 0.015592028386890888, 0.004046970512717962, 0.01160924881696701, 0.043371908366680145, 0.3135383129119873, 0.03573725372552872, 0.08142261952161789]], [[1.0, 0.0, 0.0, 0.0, 0.0, 0.0, 0.0, 0.0], [0.9723871350288391, 0.027612892910838127, 0.0, 0.0, 0.0, 0.0, 0.0, 0.0], [0.8456469774246216, 0.08435869216918945, 0.06999443471431732, 0.0, 0.0, 0.0, 0.0, 0.0], [0.4808674156665802, 0.11831827461719513, 0.18449997901916504, 0.21631436049938202, 0.0, 0.0, 0.0, 0.0], [0.46924740076065063, 0.03804711997509003, 0.05255642533302307, 0.17400510609149933, 0.2661439776420593, 0.0, 0.0, 0.0], [0.12401190400123596, 0.022724255919456482, 0.06058235466480255, 0.1689516007900238, 0.545771598815918, 0.07795831561088562, 0.0, 0.0], [0.09651178121566772, 0.010975779965519905, 0.020461933687329292, 0.07656409591436386, 0.4113612473011017, 0.34795141220092773, 0.036173731088638306, 0.0], [0.1396995335817337, 0.005277146585285664, 0.01283416710793972, 0.11796577274799347, 0.37642815709114075, 0.20311278104782104, 0.110565185546875, 0.034117311239242554]], [[1.0, 0.0, 0.0, 0.0, 0.0, 0.0, 0.0, 0.0], [0.9834052324295044, 0.01659470982849598, 0.0, 0.0, 0.0, 0.0, 0.0, 0.0], [0.964722752571106, 0.0188397616147995, 0.016437457874417305, 0.0, 0.0, 0.0, 0.0, 0.0], [0.9288869500160217, 0.013700278475880623, 0.014566482044756413, 0.042846325784921646, 0.0, 0.0, 0.0, 0.0], [0.8243167400360107, 0.014511536806821823, 0.01369785238057375, 0.02666669525206089, 0.12080717086791992, 0.0, 0.0, 0.0], [0.6837918758392334, 0.011643638834357262, 0.012380760163068771, 0.021666089072823524, 0.12998972833156586, 0.14052803814411163, 0.0, 0.0], [0.6643407344818115, 0.008872210048139095, 0.007957465946674347, 0.016268569976091385, 0.15776897966861725, 0.11640932410955429, 0.028382599353790283, 0.0], [0.6729773879051208, 0.006258160341531038, 0.007845045998692513, 0.015350296162068844, 0.12667907774448395, 0.12221450358629227, 0.023560762405395508, 0.02511480264365673]], [[1.0, 0.0, 0.0, 0.0, 0.0, 0.0, 0.0, 0.0], [0.778876006603241, 0.2211240530014038, 0.0, 0.0, 0.0, 0.0, 0.0, 0.0], [0.538877010345459, 0.10230400413274765, 0.3588190972805023, 0.0, 0.0, 0.0, 0.0, 0.0], [0.3237321972846985, 0.06631292402744293, 0.2045927345752716, 0.405362069606781, 0.0, 0.0, 0.0, 0.0], [0.2533005177974701, 0.0491650365293026, 0.11825769394636154, 0.2388259321451187, 0.34045079350471497, 0.0, 0.0, 0.0], [0.21423117816448212, 0.028291797265410423, 0.08794485032558441, 0.16418443620204926, 0.2788759469985962, 0.22647178173065186, 0.0, 0.0], [0.21153052151203156, 0.032225318253040314, 0.09109679609537125, 0.14346027374267578, 0.22072753310203552, 0.14944346249103546, 0.15151609480381012, 0.0], [0.20031210780143738, 0.022025976330041885, 0.068606436252594, 0.12133800238370895, 0.17162947356700897, 0.10572357475757599, 0.114182248711586, 0.19618210196495056]], [[1.0, 0.0, 0.0, 0.0, 0.0, 0.0, 0.0, 0.0], [0.9814609885215759, 0.018539005890488625, 0.0, 0.0, 0.0, 0.0, 0.0, 0.0], [0.8296644687652588, 0.15422368049621582, 0.016111915931105614, 0.0, 0.0, 0.0, 0.0, 0.0], [0.7013332843780518, 0.17597989737987518, 0.015100430697202682, 0.10758645832538605, 0.0, 0.0, 0.0, 0.0], [0.6396194100379944, 0.04756388068199158, 0.012865991331636906, 0.0352216511964798, 0.2647290825843811, 0.0, 0.0, 0.0], [0.15553058683872223, 0.009936639107763767, 0.004513243678957224, 0.02731696516275406, 0.7666264772415161, 0.03607605770230293, 0.0, 0.0], [0.12909169495105743, 0.017504464834928513, 0.005025881342589855, 0.06260530650615692, 0.5681312680244446, 0.09741882979869843, 0.12022257596254349, 0.0], [0.1849728524684906, 0.00774007011204958, 0.006247799843549728, 0.05680561438202858, 0.39378196001052856, 0.13969282805919647, 0.13579155504703522, 0.07496730238199234]], [[1.0, 0.0, 0.0, 0.0, 0.0, 0.0, 0.0, 0.0], [0.958083987236023, 0.04191603511571884, 0.0, 0.0, 0.0, 0.0, 0.0, 0.0], [0.5903176665306091, 0.2945907711982727, 0.1150914877653122, 0.0, 0.0, 0.0, 0.0, 0.0], [0.20826560258865356, 0.1564272791147232, 0.4440065026283264, 0.191300630569458, 0.0, 0.0, 0.0, 0.0], [0.23157918453216553, 0.14127255976200104, 0.25815626978874207, 0.3242635130882263, 0.04472849890589714, 0.0, 0.0, 0.0], [0.22933895885944366, 0.075843945145607, 0.09372933208942413, 0.2205428183078766, 0.3430434763431549, 0.0375014953315258, 0.0, 0.0], [0.21441568434238434, 0.04158833250403404, 0.06783943623304367, 0.11813932657241821, 0.31984585523605347, 0.07104391604661942, 0.16712738573551178, 0.0], [0.1696872115135193, 0.018170909956097603, 0.048421505838632584, 0.09002111852169037, 0.06522297859191895, 0.0558682456612587, 0.2552207112312317, 0.29738739132881165]], [[1.0, 0.0, 0.0, 0.0, 0.0, 0.0, 0.0, 0.0], [0.8925663232803345, 0.10743360966444016, 0.0, 0.0, 0.0, 0.0, 0.0, 0.0], [0.6733503937721252, 0.10231335461139679, 0.22433628141880035, 0.0, 0.0, 0.0, 0.0, 0.0], [0.5146489143371582, 0.08045443147420883, 0.15069691836833954, 0.254199743270874, 0.0, 0.0, 0.0, 0.0], [0.42065489292144775, 0.08091292530298233, 0.10284315794706345, 0.1734548956155777, 0.2221340835094452, 0.0, 0.0, 0.0], [0.3777468502521515, 0.07037018239498138, 0.09811103343963623, 0.1428418606519699, 0.2013302892446518, 0.10959982126951218, 0.0, 0.0], [0.3355706036090851, 0.059077486395835876, 0.09248395264148712, 0.1215713620185852, 0.16814744472503662, 0.08158736675977707, 0.14156179130077362, 0.0], [0.2401982843875885, 0.054108258336782455, 0.08959002792835236, 0.12131267040967941, 0.1423678696155548, 0.07385871559381485, 0.11295328289270401, 0.16561082005500793]], [[1.0, 0.0, 0.0, 0.0, 0.0, 0.0, 0.0, 0.0], [0.9623783826828003, 0.0376216322183609, 0.0, 0.0, 0.0, 0.0, 0.0, 0.0], [0.8555294871330261, 0.03751387074589729, 0.1069566085934639, 0.0, 0.0, 0.0, 0.0, 0.0], [0.770521879196167, 0.039576802402734756, 0.0741332471370697, 0.1157679632306099, 0.0, 0.0, 0.0, 0.0], [0.7643911242485046, 0.03193548321723938, 0.04623519256711006, 0.07114911824464798, 0.08628906309604645, 0.0, 0.0, 0.0], [0.721284806728363, 0.027217088267207146, 0.03677181527018547, 0.05774504318833351, 0.08811672776937485, 0.06886441260576248, 0.0, 0.0], [0.6757847666740417, 0.023931210860610008, 0.04218043386936188, 0.05290147662162781, 0.07778572291135788, 0.055827796459198, 0.07158856093883514, 0.0], [0.6697074770927429, 0.016984816640615463, 0.03088226541876793, 0.04484754800796509, 0.07091231644153595, 0.04216231778264046, 0.049410704523324966, 0.07509251683950424]]], [[[1.0, 0.0, 0.0, 0.0, 0.0, 0.0, 0.0, 0.0], [0.9869987368583679, 0.01300126314163208, 0.0, 0.0, 0.0, 0.0, 0.0, 0.0], [0.9774462580680847, 0.00057978555560112, 0.02197389118373394, 0.0, 0.0, 0.0, 0.0, 0.0], [0.9580525755882263, 0.0007310776272788644, 0.0014406403061002493, 0.03977571427822113, 0.0, 0.0, 0.0, 0.0], [0.973722517490387, 0.0010409089736640453, 0.0005493250791914761, 0.0009743522386997938, 0.02371297776699066, 0.0, 0.0, 0.0], [0.9507784247398376, 0.0284527949988842, 0.0017375751631334424, 0.0005101524293422699, 0.0006340919062495232, 0.017886869609355927, 0.0, 0.0], [0.9626039266586304, 0.001579664065502584, 0.003583078971132636, 0.00020362412033136934, 9.70733817666769e-05, 0.0030121703166514635, 0.028920434415340424, 0.0], [0.8875827789306641, 0.0009572701528668404, 0.013840832747519016, 0.0017575143137946725, 0.0002510646590963006, 0.002780220238491893, 0.00038146780570968986, 0.09244882315397263]], [[1.0, 0.0, 0.0, 0.0, 0.0, 0.0, 0.0, 0.0], [0.9581955075263977, 0.041804518550634384, 0.0, 0.0, 0.0, 0.0, 0.0, 0.0], [0.8954336643218994, 0.03626871109008789, 0.06829763948917389, 0.0, 0.0, 0.0, 0.0, 0.0], [0.9350665211677551, 0.008027788251638412, 0.02228843793272972, 0.03461725637316704, 0.0, 0.0, 0.0, 0.0], [0.8714366555213928, 0.0041164830327034, 0.010865219868719578, 0.02112048678100109, 0.09246104955673218, 0.0, 0.0, 0.0], [0.6238877773284912, 0.004350332543253899, 0.008105268701910973, 0.013518011197447777, 0.16188856959342957, 0.18825003504753113, 0.0, 0.0], [0.6131478548049927, 0.008007089607417583, 0.011754299513995647, 0.014940517023205757, 0.15269987285137177, 0.18950331211090088, 0.009947010315954685, 0.0], [0.4962039589881897, 0.0070845638401806355, 0.010720182210206985, 0.022079624235630035, 0.145582914352417, 0.25872746109962463, 0.03441893309354782, 0.02518230490386486]], [[1.0, 0.0, 0.0, 0.0, 0.0, 0.0, 0.0, 0.0], [0.6754506230354309, 0.3245493769645691, 0.0, 0.0, 0.0, 0.0, 0.0, 0.0], [0.12463337182998657, 0.8387805223464966, 0.036586079746484756, 0.0, 0.0, 0.0, 0.0, 0.0], [0.3200065493583679, 0.6180519461631775, 0.0307001993060112, 0.03124128468334675, 0.0, 0.0, 0.0, 0.0], [0.3166675269603729, 0.3105024993419647, 0.05361619591712952, 0.04407503455877304, 0.2751387059688568, 0.0, 0.0, 0.0], [0.09844719618558884, 0.02801341377198696, 0.002735159359872341, 0.013592437840998173, 0.7236508131027222, 0.13356107473373413, 0.0, 0.0], [0.5050287246704102, 0.008841385133564472, 0.0007093938183970749, 0.0032555863726884127, 0.0568990595638752, 0.3266393542289734, 0.0986265018582344, 0.0], [0.18946769833564758, 0.015443569049239159, 0.001476071309298277, 0.0025340018328279257, 0.06693378835916519, 0.41241559386253357, 0.14281406998634338, 0.16891522705554962]], [[1.0, 0.0, 0.0, 0.0, 0.0, 0.0, 0.0, 0.0], [0.9490630626678467, 0.0509369820356369, 0.0, 0.0, 0.0, 0.0, 0.0, 0.0], [0.13214099407196045, 0.8435582518577576, 0.024300819262862206, 0.0, 0.0, 0.0, 0.0, 0.0], [0.6863883137702942, 0.1699046790599823, 0.10134022682905197, 0.04236675798892975, 0.0, 0.0, 0.0, 0.0], [0.9513683915138245, 0.014629031531512737, 0.0029864702373743057, 0.014350075274705887, 0.016666043549776077, 0.0, 0.0, 0.0], [0.5815557241439819, 0.0034406716004014015, 0.0003436134720686823, 0.004171574488282204, 0.3710654079914093, 0.03942306712269783, 0.0, 0.0], [0.945592999458313, 0.0008076218655332923, 3.481054227449931e-05, 0.00015054606774356216, 0.013077100738883018, 0.033737823367118835, 0.0065991561859846115, 0.0], [0.889366865158081, 0.006643407046794891, 0.00012314424384385347, 0.0003153106081299484, 0.01132104080170393, 0.026119515299797058, 0.04960888624191284, 0.016501903533935547]], [[1.0, 0.0, 0.0, 0.0, 0.0, 0.0, 0.0, 0.0], [0.9988874793052673, 0.0011125660967081785, 0.0, 0.0, 0.0, 0.0, 0.0, 0.0], [0.9749953150749207, 0.012594882398843765, 0.012409867718815804, 0.0, 0.0, 0.0, 0.0, 0.0], [0.9664871692657471, 0.00863725133240223, 0.014595329761505127, 0.010280286893248558, 0.0, 0.0, 0.0, 0.0], [0.963380753993988, 0.003146712202578783, 0.006509170401841402, 0.009667095728218555, 0.01729634217917919, 0.0, 0.0, 0.0], [0.9419634342193604, 0.005846541374921799, 0.009554070420563221, 0.012223356403410435, 0.01728498563170433, 0.013127592392265797, 0.0, 0.0], [0.9327921271324158, 0.015379786491394043, 0.019117167219519615, 0.012909146025776863, 0.0076925745233893394, 0.00866135023534298, 0.00344789307564497, 0.0], [0.873416543006897, 0.03452575206756592, 0.0378611758351326, 0.024337301030755043, 0.010030864737927914, 0.01149594597518444, 0.007692496757954359, 0.0006398579571396112]], [[1.0, 0.0, 0.0, 0.0, 0.0, 0.0, 0.0, 0.0], [0.9526636004447937, 0.0473364032804966, 0.0, 0.0, 0.0, 0.0, 0.0, 0.0], [0.8959789872169495, 0.06711260229349136, 0.03690841421484947, 0.0, 0.0, 0.0, 0.0, 0.0], [0.8236401677131653, 0.06488249450922012, 0.05145855247974396, 0.060018762946128845, 0.0, 0.0, 0.0, 0.0], [0.7489891648292542, 0.07274417579174042, 0.018707862123847008, 0.08830268681049347, 0.0712561309337616, 0.0, 0.0, 0.0], [0.6921578049659729, 0.042780742049217224, 0.015078299678862095, 0.05101875215768814, 0.11673473566770554, 0.08222969621419907, 0.0, 0.0], [0.7322236895561218, 0.04420557990670204, 0.050429970026016235, 0.06101417541503906, 0.03940020129084587, 0.05165029689669609, 0.021076112985610962, 0.0], [0.6677499413490295, 0.06468679755926132, 0.04716012254357338, 0.0413912832736969, 0.045755594968795776, 0.04288480803370476, 0.049458734691143036, 0.040912698954343796]], [[1.0, 0.0, 0.0, 0.0, 0.0, 0.0, 0.0, 0.0], [0.8487139344215393, 0.1512860208749771, 0.0, 0.0, 0.0, 0.0, 0.0, 0.0], [0.2749420404434204, 0.65993732213974, 0.065120629966259, 0.0, 0.0, 0.0, 0.0, 0.0], [0.17237742245197296, 0.6133774518966675, 0.18333695828914642, 0.03090815059840679, 0.0, 0.0, 0.0, 0.0], [0.31249821186065674, 0.3333829939365387, 0.16291852295398712, 0.09893263876438141, 0.09226769953966141, 0.0, 0.0, 0.0], [0.2698252201080322, 0.1491464525461197, 0.04936325550079346, 0.06091893091797829, 0.24323637783527374, 0.2275097519159317, 0.0, 0.0], [0.3585994243621826, 0.040291257202625275, 0.003944844007492065, 0.005623804405331612, 0.06937088072299957, 0.24983200430870056, 0.27233779430389404, 0.0], [0.21174480020999908, 0.037496089935302734, 0.0065634166821837425, 0.008602960035204887, 0.030995048582553864, 0.10148623585700989, 0.32808345556259155, 0.27502793073654175]], [[1.0, 0.0, 0.0, 0.0, 0.0, 0.0, 0.0, 0.0], [0.952570915222168, 0.047429103404283524, 0.0, 0.0, 0.0, 0.0, 0.0, 0.0], [0.5462259650230408, 0.4007693827152252, 0.05300470441579819, 0.0, 0.0, 0.0, 0.0, 0.0], [0.14516475796699524, 0.10086800903081894, 0.6449346542358398, 0.10903265327215195, 0.0, 0.0, 0.0, 0.0], [0.13822951912879944, 0.02381870523095131, 0.07384167611598969, 0.7308951020240784, 0.03321501612663269, 0.0, 0.0, 0.0], [0.4800107181072235, 0.009614039212465286, 0.011103853583335876, 0.054383911192417145, 0.3508044481277466, 0.09408304840326309, 0.0, 0.0], [0.6374443173408508, 0.004272808320820332, 0.0014376712497323751, 0.0021675170864909887, 0.20408588647842407, 0.09725947678089142, 0.05333233252167702, 0.0], [0.28415951132774353, 0.004213804844766855, 0.001973518868908286, 0.0027205797377973795, 0.024664001539349556, 0.07122724503278732, 0.5109055042266846, 0.1001359075307846]], [[1.0, 0.0, 0.0, 0.0, 0.0, 0.0, 0.0, 0.0], [0.9591651558876038, 0.040834855288267136, 0.0, 0.0, 0.0, 0.0, 0.0, 0.0], [0.715660035610199, 0.24417419731616974, 0.04016575217247009, 0.0, 0.0, 0.0, 0.0, 0.0], [0.7010197043418884, 0.04360847920179367, 0.0820985659956932, 0.17327316105365753, 0.0, 0.0, 0.0, 0.0], [0.5481021404266357, 0.03519793972373009, 0.013165515847504139, 0.04547980800271034, 0.35805457830429077, 0.0, 0.0, 0.0], [0.16189348697662354, 0.0018937248969450593, 0.001430325792171061, 0.009798087179660797, 0.8038255572319031, 0.021158801391720772, 0.0, 0.0], [0.5393813252449036, 0.018494872376322746, 0.006813978310674429, 0.009981621988117695, 0.29099777340888977, 0.09183713793754578, 0.0424932986497879, 0.0], [0.19926051795482635, 0.016301313415169716, 0.0038770632818341255, 0.03553551435470581, 0.42989444732666016, 0.10053312033414841, 0.19579502940177917, 0.018802927806973457]], [[1.0, 0.0, 0.0, 0.0, 0.0, 0.0, 0.0, 0.0], [0.949397623538971, 0.05060233548283577, 0.0, 0.0, 0.0, 0.0, 0.0, 0.0], [0.9237104654312134, 0.05921951308846474, 0.01707001030445099, 0.0, 0.0, 0.0, 0.0, 0.0], [0.9745408892631531, 0.00872091855853796, 0.006775225978344679, 0.009963002987205982, 0.0, 0.0, 0.0, 0.0], [0.9034215807914734, 0.0056310477666556835, 0.006195405498147011, 0.008447591215372086, 0.07630443572998047, 0.0, 0.0, 0.0], [0.25011003017425537, 0.003135952865704894, 0.0007066577090881765, 0.004445316269993782, 0.6569375991821289, 0.08466450870037079, 0.0, 0.0], [0.6227132678031921, 0.007048826664686203, 0.001168124726973474, 0.013037675060331821, 0.1728411614894867, 0.14746853709220886, 0.03572234511375427, 0.0], [0.5748588442802429, 0.00919710099697113, 0.010048569180071354, 0.06893675774335861, 0.11710876226425171, 0.10765904933214188, 0.07066196203231812, 0.041528891772031784]], [[1.0, 0.0, 0.0, 0.0, 0.0, 0.0, 0.0, 0.0], [0.9773653745651245, 0.02263454720377922, 0.0, 0.0, 0.0, 0.0, 0.0, 0.0], [0.7990499138832092, 0.04030848294496536, 0.16064156591892242, 0.0, 0.0, 0.0, 0.0, 0.0], [0.7130631804466248, 0.01871592178940773, 0.09538473188877106, 0.1728360950946808, 0.0, 0.0, 0.0, 0.0], [0.7357268929481506, 0.016294807195663452, 0.02949986420571804, 0.059314459562301636, 0.15916399657726288, 0.0, 0.0, 0.0], [0.7005497217178345, 0.026636585593223572, 0.016336452215909958, 0.044057540595531464, 0.07237017899751663, 0.14004945755004883, 0.0, 0.0], [0.7365692257881165, 0.03899887949228287, 0.011263571679592133, 0.022280210629105568, 0.03361727297306061, 0.02654656209051609, 0.130724236369133, 0.0], [0.5797228217124939, 0.017644423991441727, 0.01485477201640606, 0.028644070029258728, 0.03839140385389328, 0.04016733542084694, 0.10795871168375015, 0.17261649668216705]], [[1.0, 0.0, 0.0, 0.0, 0.0, 0.0, 0.0, 0.0], [0.9634089469909668, 0.03659098222851753, 0.0, 0.0, 0.0, 0.0, 0.0, 0.0], [0.6937121748924255, 0.2600237727165222, 0.04626404121518135, 0.0, 0.0, 0.0, 0.0, 0.0], [0.7288478016853333, 0.1621401607990265, 0.04632226750254631, 0.06268983334302902, 0.0, 0.0, 0.0, 0.0], [0.7515251636505127, 0.01923249289393425, 0.01408308930695057, 0.0372803695499897, 0.17787893116474152, 0.0, 0.0, 0.0], [0.48408079147338867, 0.003541058162227273, 0.0023471610620617867, 0.010545341297984123, 0.46620747447013855, 0.03327818959951401, 0.0, 0.0], [0.4241372346878052, 0.006384638138115406, 0.003090066369622946, 0.006552009843289852, 0.23577919602394104, 0.039012614637613297, 0.28504419326782227, 0.0], [0.13396728038787842, 0.0028968544211238623, 0.00039238028693944216, 0.0010043641086667776, 0.02406187169253826, 0.011515619233250618, 0.8082258701324463, 0.01793566904962063]]], [[[1.0, 0.0, 0.0, 0.0, 0.0, 0.0, 0.0, 0.0], [0.9474329948425293, 0.05256696790456772, 0.0, 0.0, 0.0, 0.0, 0.0, 0.0], [0.7887997031211853, 0.15243807435035706, 0.05876225233078003, 0.0, 0.0, 0.0, 0.0, 0.0], [0.9041457176208496, 0.011289314366877079, 0.04321804642677307, 0.041346970945596695, 0.0, 0.0, 0.0, 0.0], [0.9772205948829651, 0.001817324897274375, 0.001207080204039812, 0.0015271524898707867, 0.01822788268327713, 0.0, 0.0, 0.0], [0.16632550954818726, 0.0016478340839967132, 0.0002586394839454442, 0.0022351525258272886, 0.7657701969146729, 0.06376270204782486, 0.0, 0.0], [0.17877361178398132, 0.0015545004280284047, 0.0008666995563544333, 0.008667189627885818, 0.6154105067253113, 0.19011734426021576, 0.004610112402588129, 0.0], [0.490294486284256, 0.007814116775989532, 0.00233414932154119, 0.01557153183966875, 0.28787145018577576, 0.17257480323314667, 0.00999329425394535, 0.013546223752200603]], [[1.0, 0.0, 0.0, 0.0, 0.0, 0.0, 0.0, 0.0], [0.9858659505844116, 0.014134070836007595, 0.0, 0.0, 0.0, 0.0, 0.0, 0.0], [0.9465248584747314, 0.03665905445814133, 0.01681610941886902, 0.0, 0.0, 0.0, 0.0, 0.0], [0.9157699942588806, 0.008712542243301868, 0.007398082409054041, 0.0681193545460701, 0.0, 0.0, 0.0, 0.0], [0.9184211492538452, 0.00299211498349905, 0.001986791379749775, 0.017841067165136337, 0.05875885859131813, 0.0, 0.0, 0.0], [0.42359378933906555, 0.003041790798306465, 0.0032943845726549625, 0.0331144779920578, 0.487781286239624, 0.04917425289750099, 0.0, 0.0], [0.19242364168167114, 0.0018159247701987624, 0.000981947872787714, 0.006916827522218227, 0.6062338352203369, 0.15477976202964783, 0.036848027259111404, 0.0], [0.4761207103729248, 0.008935377933084965, 0.0026771065313369036, 0.010962930507957935, 0.1897614300251007, 0.13463997840881348, 0.14315535128116608, 0.03374708443880081]], [[1.0, 0.0, 0.0, 0.0, 0.0, 0.0, 0.0, 0.0], [0.9951187372207642, 0.004881225526332855, 0.0, 0.0, 0.0, 0.0, 0.0, 0.0], [0.9562351107597351, 0.02065442129969597, 0.023110415786504745, 0.0, 0.0, 0.0, 0.0, 0.0], [0.9599050283432007, 0.006058645434677601, 0.00480139022693038, 0.02923499420285225, 0.0, 0.0, 0.0, 0.0], [0.9495778679847717, 0.002517133951187134, 0.003953488543629646, 0.011738968081772327, 0.03221260756254196, 0.0, 0.0, 0.0], [0.918135941028595, 0.0017598576378077269, 0.0030235948506742716, 0.009341686964035034, 0.03923928365111351, 0.028499718755483627, 0.0, 0.0], [0.8908799290657043, 0.0019355348777025938, 0.0062184869311749935, 0.009003820829093456, 0.04894017055630684, 0.020827902480959892, 0.022194283083081245, 0.0], [0.7438336610794067, 0.0076693217270076275, 0.008796296082437038, 0.02971765585243702, 0.09200051426887512, 0.048637647181749344, 0.05034970864653587, 0.018995117396116257]], [[1.0, 0.0, 0.0, 0.0, 0.0, 0.0, 0.0, 0.0], [0.8658996224403381, 0.13410033285617828, 0.0, 0.0, 0.0, 0.0, 0.0, 0.0], [0.5168581604957581, 0.3869290053844452, 0.09621280431747437, 0.0, 0.0, 0.0, 0.0, 0.0], [0.24789579212665558, 0.3416578769683838, 0.21988707780838013, 0.1905592530965805, 0.0, 0.0, 0.0, 0.0], [0.3984152674674988, 0.1718662828207016, 0.15085375308990479, 0.2341930866241455, 0.044671665877103806, 0.0, 0.0, 0.0], [0.6966818571090698, 0.029358601197600365, 0.03634653612971306, 0.08092120289802551, 0.11594267189502716, 0.04074915125966072, 0.0, 0.0], [0.8051192164421082, 0.0070388950407505035, 0.021352749317884445, 0.02138318493962288, 0.08838804811239243, 0.04132910817861557, 0.015388757921755314, 0.0], [0.8297283053398132, 0.013510450720787048, 0.012141463346779346, 0.007806928362697363, 0.01154243852943182, 0.02169484831392765, 0.0257174763828516, 0.07785806059837341]], [[1.0, 0.0, 0.0, 0.0, 0.0, 0.0, 0.0, 0.0], [0.9054538607597351, 0.0945461317896843, 0.0, 0.0, 0.0, 0.0, 0.0, 0.0], [0.4691828191280365, 0.3133893311023712, 0.2174277901649475, 0.0, 0.0, 0.0, 0.0, 0.0], [0.6190440654754639, 0.16106374561786652, 0.11972805112600327, 0.10016413778066635, 0.0, 0.0, 0.0, 0.0], [0.7704893350601196, 0.049452003091573715, 0.046856801956892014, 0.025001030415296555, 0.10820081830024719, 0.0, 0.0, 0.0], [0.7874324321746826, 0.027519365772604942, 0.03917175531387329, 0.03416456654667854, 0.0682990700006485, 0.04341284558176994, 0.0, 0.0], [0.8555504679679871, 0.02415168471634388, 0.018148580566048622, 0.015733662992715836, 0.010875724256038666, 0.0679331123828888, 0.007606708910316229, 0.0], [0.6487647891044617, 0.04671294242143631, 0.06284503638744354, 0.04060009494423866, 0.01588580384850502, 0.049961548298597336, 0.027080504223704338, 0.10814931988716125]], [[1.0, 0.0, 0.0, 0.0, 0.0, 0.0, 0.0, 0.0], [0.9699024558067322, 0.030097533017396927, 0.0, 0.0, 0.0, 0.0, 0.0, 0.0], [0.866702139377594, 0.05377102643251419, 0.07952684164047241, 0.0, 0.0, 0.0, 0.0, 0.0], [0.7342373132705688, 0.08074900507926941, 0.09714743494987488, 0.08786621689796448, 0.0, 0.0, 0.0, 0.0], [0.7138438820838928, 0.07049457728862762, 0.08150069415569305, 0.08551334589719772, 0.0486474484205246, 0.0, 0.0, 0.0], [0.8460883498191833, 0.00334313977509737, 0.004303786903619766, 0.00857494492083788, 0.06288646906614304, 0.07480330765247345, 0.0, 0.0], [0.644787609577179, 0.00045372676686383784, 0.00045479682739824057, 0.0014286927180364728, 0.08665464073419571, 0.09535668790340424, 0.17086389660835266, 0.0], [0.19448025524616241, 0.007778832223266363, 0.0016657996457070112, 0.002600334817543626, 0.10778194665908813, 0.17506694793701172, 0.4698469638824463, 0.04077896848320961]], [[1.0, 0.0, 0.0, 0.0, 0.0, 0.0, 0.0, 0.0], [0.961581289768219, 0.0384187251329422, 0.0, 0.0, 0.0, 0.0, 0.0, 0.0], [0.7300726771354675, 0.21622975170612335, 0.05369759723544121, 0.0, 0.0, 0.0, 0.0, 0.0], [0.7239878177642822, 0.11141803115606308, 0.10188891738653183, 0.06270521134138107, 0.0, 0.0, 0.0, 0.0], [0.43013909459114075, 0.12207983434200287, 0.1420307159423828, 0.24320825934410095, 0.06254208087921143, 0.0, 0.0, 0.0], [0.5760921239852905, 0.07083927094936371, 0.057975515723228455, 0.1265544891357422, 0.11055436730384827, 0.05798422917723656, 0.0, 0.0], [0.5725743174552917, 0.058994606137275696, 0.047102879732847214, 0.07363700121641159, 0.17271597683429718, 0.054356206208467484, 0.02061900496482849, 0.0], [0.6302250623703003, 0.06329644471406937, 0.02977071702480316, 0.03377583250403404, 0.11493167281150818, 0.048042599111795425, 0.055592797696590424, 0.024364875629544258]], [[1.0, 0.0, 0.0, 0.0, 0.0, 0.0, 0.0, 0.0], [0.9766547679901123, 0.0233452245593071, 0.0, 0.0, 0.0, 0.0, 0.0, 0.0], [0.7218988537788391, 0.03767000138759613, 0.24043112993240356, 0.0, 0.0, 0.0, 0.0, 0.0], [0.2914307713508606, 0.009816519916057587, 0.18390098214149475, 0.5148516893386841, 0.0, 0.0, 0.0, 0.0], [0.3319755792617798, 0.0049353428184986115, 0.03140751272439957, 0.16191917657852173, 0.46976232528686523, 0.0, 0.0, 0.0], [0.1920592188835144, 0.008733650669455528, 0.0035208947956562042, 0.008413992822170258, 0.2744902968406677, 0.5127818584442139, 0.0, 0.0], [0.1875799000263214, 0.008766605518758297, 0.003011096501722932, 0.004519485868513584, 0.046175140887498856, 0.13828249275684357, 0.6116652488708496, 0.0], [0.2037721574306488, 0.04596051946282387, 0.03603212907910347, 0.009969302453100681, 0.013326448388397694, 0.011217738501727581, 0.17262087762355804, 0.5071008205413818]], [[1.0, 0.0, 0.0, 0.0, 0.0, 0.0, 0.0, 0.0], [0.9906526803970337, 0.009347314946353436, 0.0, 0.0, 0.0, 0.0, 0.0, 0.0], [0.944754958152771, 0.014321738854050636, 0.040923234075307846, 0.0, 0.0, 0.0, 0.0, 0.0], [0.8550933003425598, 0.02511403150856495, 0.04355360567569733, 0.07623907923698425, 0.0, 0.0, 0.0, 0.0], [0.8565527200698853, 0.009412636049091816, 0.010719828307628632, 0.03656643256545067, 0.08674842119216919, 0.0, 0.0, 0.0], [0.7491847276687622, 0.011973204091191292, 0.015998458489775658, 0.05181463062763214, 0.11585865914821625, 0.05517033860087395, 0.0, 0.0], [0.7649877071380615, 0.012449268251657486, 0.012599830515682697, 0.030279243364930153, 0.1107369139790535, 0.04848215728998184, 0.020464841276407242, 0.0], [0.8514891266822815, 0.006737040355801582, 0.019507547840476036, 0.03462965041399002, 0.03153233230113983, 0.010823368094861507, 0.025260290130972862, 0.02002059295773506]], [[1.0, 0.0, 0.0, 0.0, 0.0, 0.0, 0.0, 0.0], [0.9599456787109375, 0.0400543250143528, 0.0, 0.0, 0.0, 0.0, 0.0, 0.0], [0.8848966360092163, 0.09182113409042358, 0.02328226901590824, 0.0, 0.0, 0.0, 0.0, 0.0], [0.8905259966850281, 0.0553133599460125, 0.013050053268671036, 0.04111065715551376, 0.0, 0.0, 0.0, 0.0], [0.895918607711792, 0.03144484758377075, 0.007736739702522755, 0.03438766673207283, 0.030512064695358276, 0.0, 0.0, 0.0], [0.721868097782135, 0.020104212686419487, 0.0071297138929367065, 0.05132554471492767, 0.12545903027057648, 0.07411347329616547, 0.0, 0.0], [0.5487423539161682, 0.0058992039412260056, 0.0015659997006878257, 0.013483595103025436, 0.16304656863212585, 0.20669932663440704, 0.06056299805641174, 0.0], [0.45680510997772217, 0.015114743262529373, 0.006025360897183418, 0.03230597823858261, 0.1702888011932373, 0.13837243616580963, 0.16015468537807465, 0.020932843908667564]], [[1.0, 0.0, 0.0, 0.0, 0.0, 0.0, 0.0, 0.0], [0.9931597709655762, 0.006840200163424015, 0.0, 0.0, 0.0, 0.0, 0.0, 0.0], [0.8669648766517639, 0.015278027392923832, 0.11775712668895721, 0.0, 0.0, 0.0, 0.0, 0.0], [0.954412043094635, 0.013460868038237095, 0.011147347278892994, 0.020979834720492363, 0.0, 0.0, 0.0, 0.0], [0.9615832567214966, 0.002376795280724764, 0.007344026584178209, 0.012610550969839096, 0.016085399314761162, 0.0, 0.0, 0.0], [0.9377926588058472, 0.0011010576272383332, 0.004705384839326143, 0.006444545928388834, 0.0139323640614748, 0.036023978143930435, 0.0, 0.0], [0.9355395436286926, 0.0005218223668634892, 0.0030968314968049526, 0.0063444641418755054, 0.025543246418237686, 0.026339804753661156, 0.0026143051218241453, 0.0], [0.8945358991622925, 0.0014231398236006498, 0.02782738395035267, 0.012594001367688179, 0.005497390870004892, 0.02182050421833992, 0.01019162219017744, 0.02611016295850277]], [[1.0, 0.0, 0.0, 0.0, 0.0, 0.0, 0.0, 0.0], [1.0, 4.314347989975431e-08, 0.0, 0.0, 0.0, 0.0, 0.0, 0.0], [1.2142764717282262e-05, 0.9999761581420898, 1.1740639820345677e-05, 0.0, 0.0, 0.0, 0.0, 0.0], [2.568266950220277e-07, 1.3829284398525488e-05, 0.9990377426147461, 0.0009482221212238073, 0.0, 0.0, 0.0, 0.0], [6.284026454750347e-08, 2.2834492074963464e-09, 0.0002533239603508264, 0.9996953010559082, 5.132017031428404e-05, 0.0, 0.0, 0.0], [6.364603954978065e-09, 8.367812227903868e-15, 9.148030369245802e-14, 1.3184142666489151e-10, 0.9998273253440857, 0.00017264956841245294, 0.0, 0.0], [3.1095712671458386e-08, 5.448461929698613e-15, 7.487289007430897e-18, 7.877318004537027e-19, 7.954111813646136e-10, 0.9999979734420776, 2.00328554456064e-06, 0.0], [9.69182067933616e-08, 3.0582757659658455e-08, 2.1142883450953054e-12, 9.204829857589834e-16, 4.059325098282329e-11, 2.3480975386291902e-08, 0.9997162222862244, 0.00028353140805847943]]], [[[1.0, 0.0, 0.0, 0.0, 0.0, 0.0, 0.0, 0.0], [0.9379101395606995, 0.06208992004394531, 0.0, 0.0, 0.0, 0.0, 0.0, 0.0], [0.9807643294334412, 0.006692512892186642, 0.012543137185275555, 0.0, 0.0, 0.0, 0.0, 0.0], [0.9469777345657349, 0.013601475395262241, 0.005511792842298746, 0.03390903398394585, 0.0, 0.0, 0.0, 0.0], [0.9415244460105896, 0.003527875756844878, 0.002178691793233156, 0.0014571193605661392, 0.0513119138777256, 0.0, 0.0, 0.0], [0.9479816555976868, 0.0011736246524378657, 0.0016254393849521875, 0.0019537676125764847, 0.02037953957915306, 0.02688603475689888, 0.0, 0.0], [0.9350663423538208, 0.0007736170664429665, 0.0022845419589430094, 0.0028138880152255297, 0.013413750566542149, 0.0023180365096777678, 0.04332983121275902, 0.0], [0.8716185688972473, 0.0008557145483791828, 0.005150574259459972, 0.03240227326750755, 0.03608535975217819, 0.002598850056529045, 0.008466348983347416, 0.0428222119808197]], [[1.0, 0.0, 0.0, 0.0, 0.0, 0.0, 0.0, 0.0], [0.9969015121459961, 0.0030984992627054453, 0.0, 0.0, 0.0, 0.0, 0.0, 0.0], [0.9971103072166443, 3.953994018957019e-05, 0.002850132994353771, 0.0, 0.0, 0.0, 0.0, 0.0], [0.9990944862365723, 9.13850362849189e-06, 2.8577426292031305e-07, 0.0008961907587945461, 0.0, 0.0, 0.0, 0.0], [0.9967702627182007, 9.936225069395732e-06, 5.154951168151456e-07, 3.1986137400963344e-06, 0.003216091776266694, 0.0, 0.0, 0.0], [0.9987038373947144, 9.555415090289898e-07, 1.898341338346654e-06, 4.405144409247441e-07, 8.44194528326625e-06, 0.0012843552976846695, 0.0, 0.0], [0.9991963505744934, 1.7615597244002856e-05, 2.441784272377845e-05, 1.6537269402761012e-06, 2.22316066356143e-06, 2.2833110335795936e-07, 0.0007574716000817716, 0.0], [0.9958655834197998, 2.338580543437274e-06, 2.0009341824334115e-05, 0.00016883696662262082, 3.972565991716692e-06, 8.820454588942539e-09, 7.904863537078199e-07, 0.003938553389161825]], [[1.0, 0.0, 0.0, 0.0, 0.0, 0.0, 0.0, 0.0], [0.662287712097168, 0.33771225810050964, 0.0, 0.0, 0.0, 0.0, 0.0, 0.0], [0.11519921571016312, 0.877683162689209, 0.0071175433695316315, 0.0, 0.0, 0.0, 0.0, 0.0], [0.07311660051345825, 0.8944640159606934, 0.021914197131991386, 0.010505282320082188, 0.0, 0.0, 0.0, 0.0], [0.202977254986763, 0.7273209691047668, 0.037762757390737534, 0.022325821220874786, 0.009613211266696453, 0.0, 0.0, 0.0], [0.6960878372192383, 0.07212158292531967, 0.018227363005280495, 0.029083583503961563, 0.17317743599414825, 0.01130230538547039, 0.0, 0.0], [0.7393046617507935, 0.051257871091365814, 0.007905377075076103, 0.017134688794612885, 0.06544768065214157, 0.1024743840098381, 0.016475370153784752, 0.0], [0.6862494945526123, 0.06183766946196556, 0.0017325159860774875, 0.0030693900771439075, 0.037622012197971344, 0.10589592903852463, 0.08523579686880112, 0.018357226625084877]], [[1.0, 0.0, 0.0, 0.0, 0.0, 0.0, 0.0, 0.0], [0.9337835311889648, 0.06621647626161575, 0.0, 0.0, 0.0, 0.0, 0.0, 0.0], [0.7050601243972778, 0.24373556673526764, 0.05120433121919632, 0.0, 0.0, 0.0, 0.0, 0.0], [0.6064075827598572, 0.24060267210006714, 0.06849782168865204, 0.08449188619852066, 0.0, 0.0, 0.0, 0.0], [0.7158446907997131, 0.08338594436645508, 0.04255593940615654, 0.040996842086315155, 0.1172165647149086, 0.0, 0.0, 0.0], [0.4828028082847595, 0.04607444256544113, 0.019275899976491928, 0.036650288850069046, 0.30370351672172546, 0.1114930659532547, 0.0, 0.0], [0.41554492712020874, 0.028167059645056725, 0.007800574880093336, 0.018176741898059845, 0.3137195408344269, 0.15587782859802246, 0.060713306069374084, 0.0], [0.3325338363647461, 0.06303826719522476, 0.01496918685734272, 0.036365896463394165, 0.3142375648021698, 0.10016125440597534, 0.10811034590005875, 0.03058365173637867]], [[1.0, 0.0, 0.0, 0.0, 0.0, 0.0, 0.0, 0.0], [0.948798656463623, 0.051201384514570236, 0.0, 0.0, 0.0, 0.0, 0.0, 0.0], [0.877448320388794, 0.03680235147476196, 0.08574934303760529, 0.0, 0.0, 0.0, 0.0, 0.0], [0.8518169522285461, 0.012459742836654186, 0.06019877269864082, 0.0755244567990303, 0.0, 0.0, 0.0, 0.0], [0.7975598573684692, 0.019986461848020554, 0.018091538920998573, 0.05834187939763069, 0.10602018982172012, 0.0, 0.0, 0.0], [0.43506190180778503, 0.019264275208115578, 0.021091151982545853, 0.029398515820503235, 0.4548291563987732, 0.0403548926115036, 0.0, 0.0], [0.735091507434845, 0.004382502753287554, 0.019284309819340706, 0.018565429374575615, 0.1508321464061737, 0.056068237870931625, 0.015775859355926514, 0.0], [0.6812273263931274, 0.005970839411020279, 0.014299935661256313, 0.029504956677556038, 0.08220256119966507, 0.09708640724420547, 0.07038606703281403, 0.019321978092193604]], [[1.0, 0.0, 0.0, 0.0, 0.0, 0.0, 0.0, 0.0], [0.9802605509757996, 0.019739434123039246, 0.0, 0.0, 0.0, 0.0, 0.0, 0.0], [0.9582907557487488, 0.0012286644196137786, 0.040480613708496094, 0.0, 0.0, 0.0, 0.0, 0.0], [0.9788448214530945, 0.010650155134499073, 0.00014653797552455217, 0.010358517989516258, 0.0, 0.0, 0.0, 0.0], [0.9576075673103333, 0.0013368609361350536, 0.00014200380246620625, 0.0011286359513178468, 0.03978487849235535, 0.0, 0.0, 0.0], [0.9747369885444641, 0.0015843118308112025, 0.0019934852607548237, 0.0018969353986904025, 0.010015121661126614, 0.009773176163434982, 0.0, 0.0], [0.9924371838569641, 0.0028521304484456778, 0.0007215566001832485, 0.00040009463555179536, 0.0010577589273452759, 3.4207940188935027e-05, 0.0024969466030597687, 0.0], [0.9691870808601379, 0.0012116426369175315, 0.00039452139753848314, 0.009722178801894188, 0.005228708032518625, 0.00013708820915780962, 0.0006716297939419746, 0.013447079807519913]], [[1.0, 0.0, 0.0, 0.0, 0.0, 0.0, 0.0, 0.0], [0.8774582743644714, 0.12254171818494797, 0.0, 0.0, 0.0, 0.0, 0.0, 0.0], [0.7963646054267883, 0.1648504137992859, 0.03878497704863548, 0.0, 0.0, 0.0, 0.0, 0.0], [0.6949341297149658, 0.027806749567389488, 0.2091866433620453, 0.06807246059179306, 0.0, 0.0, 0.0, 0.0], [0.7882152795791626, 0.0052468059584498405, 0.002460194518789649, 0.11791883409023285, 0.0861588642001152, 0.0, 0.0, 0.0], [0.9024319052696228, 0.0028867009095847607, 0.0002498916583135724, 0.004740534815937281, 0.07549089193344116, 0.014200055040419102, 0.0, 0.0], [0.869974672794342, 0.0020536473020911217, 0.00020544190192595124, 0.0013454905711114407, 0.04455962032079697, 0.06525891274213791, 0.016602205112576485, 0.0], [0.8074829578399658, 0.010446795262396336, 0.00036675494629889727, 7.980076770763844e-05, 0.0005668789963237941, 0.0009075709385797381, 0.16299745440483093, 0.017151713371276855]], [[1.0, 0.0, 0.0, 0.0, 0.0, 0.0, 0.0, 0.0], [0.9302813410758972, 0.06971871852874756, 0.0, 0.0, 0.0, 0.0, 0.0, 0.0], [0.9373920559883118, 0.03049110621213913, 0.032116856426000595, 0.0, 0.0, 0.0, 0.0, 0.0], [0.9253353476524353, 0.020691227167844772, 0.022403869777917862, 0.03156952187418938, 0.0, 0.0, 0.0, 0.0], [0.9505754709243774, 0.0023013614118099213, 0.0015210475539788604, 0.01965855248272419, 0.025943536311388016, 0.0, 0.0, 0.0], [0.5529482960700989, 0.003943904303014278, 0.005522599909454584, 0.015210337936878204, 0.3986291289329529, 0.02374574914574623, 0.0, 0.0], [0.784866988658905, 0.003867598483338952, 0.004150493070483208, 0.004553417209535837, 0.083494633436203, 0.035471655428409576, 0.08359523862600327, 0.0], [0.7679741978645325, 0.007593357469886541, 0.0029655643738806248, 0.011085590347647667, 0.01812143437564373, 0.022452667355537415, 0.13014137744903564, 0.03966585174202919]], [[1.0, 0.0, 0.0, 0.0, 0.0, 0.0, 0.0, 0.0], [0.9600982666015625, 0.03990175947546959, 0.0, 0.0, 0.0, 0.0, 0.0, 0.0], [0.9196995496749878, 0.03407903388142586, 0.046221379190683365, 0.0, 0.0, 0.0, 0.0, 0.0], [0.8412346243858337, 0.10614509880542755, 0.00877056922763586, 0.04384976997971535, 0.0, 0.0, 0.0, 0.0], [0.8939534425735474, 0.05355143919587135, 0.00306860008276999, 0.005771053954958916, 0.04365545138716698, 0.0, 0.0, 0.0], [0.890241801738739, 0.023762186989188194, 0.01996581070125103, 0.01326342485845089, 0.02651434950530529, 0.02625233493745327, 0.0, 0.0], [0.8810588717460632, 0.025031978264451027, 0.04066281393170357, 0.018968384712934494, 0.00973178818821907, 0.00197142967954278, 0.02257469855248928, 0.0], [0.843848466873169, 0.006996996235102415, 0.012758401222527027, 0.06052926555275917, 0.023050829768180847, 0.001031625084578991, 0.0032936560455709696, 0.04849077761173248]], [[1.0, 0.0, 0.0, 0.0, 0.0, 0.0, 0.0, 0.0], [0.9921919703483582, 0.007808005437254906, 0.0, 0.0, 0.0, 0.0, 0.0, 0.0], [0.9658583402633667, 0.02294500730931759, 0.011196712963283062, 0.0, 0.0, 0.0, 0.0, 0.0], [0.9136496186256409, 0.04016344994306564, 0.03339975327253342, 0.01278721820563078, 0.0, 0.0, 0.0, 0.0], [0.8609163761138916, 0.02617715857923031, 0.06702994555234909, 0.02570299804210663, 0.02017355151474476, 0.0, 0.0, 0.0], [0.7999114394187927, 0.04320389777421951, 0.06383414566516876, 0.04469829797744751, 0.034001704305410385, 0.014350494369864464, 0.0, 0.0], [0.8113329410552979, 0.05219245329499245, 0.05021589249372482, 0.04637642577290535, 0.027796754613518715, 0.011487334966659546, 0.0005982447182759643, 0.0], [0.8101434707641602, 0.04239770770072937, 0.07548471540212631, 0.025270946323871613, 0.021718235686421394, 0.007993004284799099, 0.010767781175673008, 0.006224165204912424]], [[1.0, 0.0, 0.0, 0.0, 0.0, 0.0, 0.0, 0.0], [0.9562419652938843, 0.04375796020030975, 0.0, 0.0, 0.0, 0.0, 0.0, 0.0], [0.43313175439834595, 0.15005886554718018, 0.41680943965911865, 0.0, 0.0, 0.0, 0.0, 0.0], [0.4222314953804016, 0.12625697255134583, 0.29322487115859985, 0.15828676521778107, 0.0, 0.0, 0.0, 0.0], [0.4271722435951233, 0.08054015785455704, 0.3214503526687622, 0.11221357434988022, 0.058623675256967545, 0.0, 0.0, 0.0], [0.6166456341743469, 0.08774662017822266, 0.11601570248603821, 0.0690002515912056, 0.10157240927219391, 0.009019333869218826, 0.0, 0.0], [0.7217174172401428, 0.01424019318073988, 0.04460013657808304, 0.05563618242740631, 0.0444694347679615, 0.019709089770913124, 0.09962746500968933, 0.0], [0.5522225499153137, 0.007887311279773712, 0.09701351821422577, 0.07602880895137787, 0.09863808751106262, 0.015601015649735928, 0.031416598707437515, 0.12119211256504059]], [[1.0, 0.0, 0.0, 0.0, 0.0, 0.0, 0.0, 0.0], [0.9810171723365784, 0.01898288168013096, 0.0, 0.0, 0.0, 0.0, 0.0, 0.0], [0.712240993976593, 0.1162591502070427, 0.17149986326694489, 0.0, 0.0, 0.0, 0.0, 0.0], [0.7292490005493164, 0.07558135688304901, 0.07905559241771698, 0.1161140576004982, 0.0, 0.0, 0.0, 0.0], [0.5906899571418762, 0.04011330381035805, 0.1615626960992813, 0.10001251846551895, 0.10762148350477219, 0.0, 0.0, 0.0], [0.7037695050239563, 0.025309499353170395, 0.02693788893520832, 0.03926931321620941, 0.07798503339290619, 0.12672874331474304, 0.0, 0.0], [0.837074875831604, 0.02527867630124092, 0.02203468605875969, 0.018222687765955925, 0.04137269780039787, 0.025562217459082603, 0.030454082414507866, 0.0], [0.7761023044586182, 0.03337347134947777, 0.048827264457941055, 0.034459155052900314, 0.03903334215283394, 0.022802583873271942, 0.016518577933311462, 0.02888333611190319]]], [[[1.0, 0.0, 0.0, 0.0, 0.0, 0.0, 0.0, 0.0], [0.88230961561203, 0.11769036948680878, 0.0, 0.0, 0.0, 0.0, 0.0, 0.0], [0.5639542937278748, 0.3149527311325073, 0.12109294533729553, 0.0, 0.0, 0.0, 0.0, 0.0], [0.45915231108665466, 0.35578566789627075, 0.1325087696313858, 0.05255325883626938, 0.0, 0.0, 0.0, 0.0], [0.5258651971817017, 0.1386311799287796, 0.10271906852722168, 0.0689137652516365, 0.16387073695659637, 0.0, 0.0, 0.0], [0.3285738229751587, 0.02703271433711052, 0.050540316849946976, 0.062445905059576035, 0.5042670965194702, 0.027140069752931595, 0.0, 0.0], [0.37997034192085266, 0.00843847170472145, 0.015393481589853764, 0.017719237133860588, 0.37667885422706604, 0.158901184797287, 0.04289843887090683, 0.0], [0.2130880355834961, 0.019438300281763077, 0.013540257699787617, 0.017752325162291527, 0.2769295871257782, 0.19656993448734283, 0.2363826036453247, 0.026298988610506058]], [[1.0, 0.0, 0.0, 0.0, 0.0, 0.0, 0.0, 0.0], [0.951185405254364, 0.048814620822668076, 0.0, 0.0, 0.0, 0.0, 0.0, 0.0], [0.8804369568824768, 0.11069444566965103, 0.008868633769452572, 0.0, 0.0, 0.0, 0.0, 0.0], [0.9358043074607849, 0.03776072338223457, 0.00301964208483696, 0.023415319621562958, 0.0, 0.0, 0.0, 0.0], [0.9432222843170166, 0.031808268278837204, 0.005377599503844976, 0.007844395935535431, 0.01174743752926588, 0.0, 0.0, 0.0], [0.9582124948501587, 0.009294033981859684, 0.003462887601926923, 0.005627810023725033, 0.011304039508104324, 0.012098745442926884, 0.0, 0.0], [0.9222651124000549, 0.004228824749588966, 0.003448129864409566, 0.004200706258416176, 0.0032951240427792072, 0.0066339182667434216, 0.05592817813158035, 0.0], [0.9268375039100647, 0.01256006769835949, 0.003538239048793912, 0.01539149321615696, 0.010432516224682331, 0.003116370178759098, 0.02145290933549404, 0.006670840084552765]], [[1.0, 0.0, 0.0, 0.0, 0.0, 0.0, 0.0, 0.0], [0.975897490978241, 0.02410254254937172, 0.0, 0.0, 0.0, 0.0, 0.0, 0.0], [0.8683258891105652, 0.056430596858263016, 0.07524359226226807, 0.0, 0.0, 0.0, 0.0, 0.0], [0.8267784118652344, 0.04984387010335922, 0.09048477560281754, 0.032892901450395584, 0.0, 0.0, 0.0, 0.0], [0.89494788646698, 0.020786862820386887, 0.033884067088365555, 0.017070017755031586, 0.0333111397922039, 0.0, 0.0, 0.0], [0.8832935690879822, 0.013839520514011383, 0.031663406640291214, 0.01361333392560482, 0.02922453172504902, 0.028365710750222206, 0.0, 0.0], [0.7902836203575134, 0.025959303602576256, 0.046334583312273026, 0.023661170154809952, 0.060213372111320496, 0.04732326418161392, 0.006224606651812792, 0.0], [0.771578311920166, 0.02755548618733883, 0.05597253143787384, 0.02921784669160843, 0.05627134442329407, 0.033621132373809814, 0.008427530527114868, 0.017355801537632942]], [[1.0, 0.0, 0.0, 0.0, 0.0, 0.0, 0.0, 0.0], [0.9818270802497864, 0.01817290671169758, 0.0, 0.0, 0.0, 0.0, 0.0, 0.0], [0.898008406162262, 0.058745454996824265, 0.04324614629149437, 0.0, 0.0, 0.0, 0.0, 0.0], [0.7510627508163452, 0.09346440434455872, 0.09112949669361115, 0.06434333324432373, 0.0, 0.0, 0.0, 0.0], [0.6621455550193787, 0.1306753307580948, 0.10322889685630798, 0.05618492513895035, 0.04776524752378464, 0.0, 0.0, 0.0], [0.7014455795288086, 0.09288962930440903, 0.07323480397462845, 0.07437773793935776, 0.04772011190652847, 0.010332177393138409, 0.0, 0.0], [0.8767892122268677, 0.013513049110770226, 0.017736360430717468, 0.0293353870511055, 0.03861255943775177, 0.00570816220715642, 0.018305394798517227, 0.0], [0.8956766128540039, 0.017083123326301575, 0.018906615674495697, 0.03195670619606972, 0.018283165991306305, 0.002918015932664275, 0.008543846197426319, 0.006631911266595125]], [[1.0, 0.0, 0.0, 0.0, 0.0, 0.0, 0.0, 0.0], [0.8809604644775391, 0.11903945356607437, 0.0, 0.0, 0.0, 0.0, 0.0, 0.0], [0.9570115208625793, 0.00782586820423603, 0.035162560641765594, 0.0, 0.0, 0.0, 0.0, 0.0], [0.8929184675216675, 0.01482278760522604, 0.04378127306699753, 0.04847750440239906, 0.0, 0.0, 0.0, 0.0], [0.8703118562698364, 0.009724171832203865, 0.036338772624731064, 0.03242436796426773, 0.05120079591870308, 0.0, 0.0, 0.0], [0.7825485467910767, 0.010678155347704887, 0.03584364056587219, 0.02872752770781517, 0.09784673899412155, 0.04435533657670021, 0.0, 0.0], [0.7782802581787109, 0.00991118885576725, 0.02056361362338066, 0.01920926384627819, 0.09071700274944305, 0.05441485345363617, 0.026903841644525528, 0.0], [0.8095822334289551, 0.010334105230867863, 0.025779586285352707, 0.05028388649225235, 0.017179589718580246, 0.025806516408920288, 0.03523222729563713, 0.025801802054047585]], [[1.0, 0.0, 0.0, 0.0, 0.0, 0.0, 0.0, 0.0], [0.9566628336906433, 0.043337125331163406, 0.0, 0.0, 0.0, 0.0, 0.0, 0.0], [0.8569546937942505, 0.028862910345196724, 0.11418235301971436, 0.0, 0.0, 0.0, 0.0, 0.0], [0.7873348593711853, 0.022927822545170784, 0.08212403208017349, 0.10761331766843796, 0.0, 0.0, 0.0, 0.0], [0.7252660393714905, 0.03248026221990585, 0.07037471234798431, 0.1103159487247467, 0.06156318262219429, 0.0, 0.0, 0.0], [0.7775753736495972, 0.022220373153686523, 0.023716337978839874, 0.04867776483297348, 0.08588138967752457, 0.041928794234991074, 0.0, 0.0], [0.8050214052200317, 0.020463822409510612, 0.014636451378464699, 0.02579440549015999, 0.05442994087934494, 0.03153477981686592, 0.0481191910803318, 0.0], [0.8272231817245483, 0.013612874783575535, 0.02004767395555973, 0.019337868317961693, 0.03426487743854523, 0.019510392099618912, 0.03195782005786896, 0.03404538333415985]], [[1.0, 0.0, 0.0, 0.0, 0.0, 0.0, 0.0, 0.0], [0.911257266998291, 0.0887427106499672, 0.0, 0.0, 0.0, 0.0, 0.0, 0.0], [0.909675121307373, 0.031009389087557793, 0.05931553617119789, 0.0, 0.0, 0.0, 0.0, 0.0], [0.8669664859771729, 0.029872115701436996, 0.03155271336436272, 0.07160868495702744, 0.0, 0.0, 0.0, 0.0], [0.8744640946388245, 0.015950875356793404, 0.013696175068616867, 0.015356941148638725, 0.08053196221590042, 0.0, 0.0, 0.0], [0.8260450959205627, 0.015065803192555904, 0.010898715816438198, 0.009567853063344955, 0.044629376381635666, 0.09379314631223679, 0.0, 0.0], [0.8870028853416443, 0.019404076039791107, 0.00762831000611186, 0.007208225782960653, 0.014868270605802536, 0.03467036411166191, 0.029217874631285667, 0.0], [0.8615424633026123, 0.015444725751876831, 0.024867486208677292, 0.024921070784330368, 0.010818587616086006, 0.006775178946554661, 0.005810505244880915, 0.04982004314661026]], [[1.0, 0.0, 0.0, 0.0, 0.0, 0.0, 0.0, 0.0], [0.9589998722076416, 0.04100009799003601, 0.0, 0.0, 0.0, 0.0, 0.0, 0.0], [0.6780167818069458, 0.09138285368680954, 0.23060041666030884, 0.0, 0.0, 0.0, 0.0, 0.0], [0.5243009328842163, 0.13168877363204956, 0.2474697381258011, 0.09654060751199722, 0.0, 0.0, 0.0, 0.0], [0.2841101288795471, 0.18418771028518677, 0.22475852072238922, 0.27100998163223267, 0.03593367710709572, 0.0, 0.0, 0.0], [0.31551092863082886, 0.13624009490013123, 0.18731379508972168, 0.21821309626102448, 0.11646739393472672, 0.02625470608472824, 0.0, 0.0], [0.5614476203918457, 0.04124612733721733, 0.10445050895214081, 0.153638556599617, 0.06301902234554291, 0.0272201094776392, 0.04897810518741608, 0.0], [0.6614586710929871, 0.026905104517936707, 0.06658945232629776, 0.06406522542238235, 0.07496602088212967, 0.011719106696546078, 0.025055360049009323, 0.06924103945493698]], [[1.0, 0.0, 0.0, 0.0, 0.0, 0.0, 0.0, 0.0], [0.9745624661445618, 0.02543754316866398, 0.0, 0.0, 0.0, 0.0, 0.0, 0.0], [0.3271212577819824, 0.6169574856758118, 0.05592123419046402, 0.0, 0.0, 0.0, 0.0, 0.0], [0.33494946360588074, 0.35541480779647827, 0.24390071630477905, 0.06573498249053955, 0.0, 0.0, 0.0, 0.0], [0.7185746431350708, 0.037524957209825516, 0.057303763926029205, 0.13725806772708893, 0.04933856427669525, 0.0, 0.0, 0.0], [0.6324678659439087, 0.006657210644334555, 0.01793641224503517, 0.045623861253261566, 0.28644123673439026, 0.010873439721763134, 0.0, 0.0], [0.7402876615524292, 0.006337987724691629, 0.0033946095500141382, 0.0067308079451322556, 0.11312086880207062, 0.11471261829137802, 0.01541546918451786, 0.0], [0.8161255717277527, 0.012071139179170132, 0.0015914486721158028, 0.000913763593416661, 0.019144222140312195, 0.03023339994251728, 0.0706876590847969, 0.049232810735702515]], [[1.0, 0.0, 0.0, 0.0, 0.0, 0.0, 0.0, 0.0], [0.9933010339736938, 0.006698937155306339, 0.0, 0.0, 0.0, 0.0, 0.0, 0.0], [0.993297278881073, 0.0007982798269949853, 0.005904362071305513, 0.0, 0.0, 0.0, 0.0, 0.0], [0.9973159432411194, 0.0004003853537142277, 2.0210827642586082e-05, 0.002263490343466401, 0.0, 0.0, 0.0, 0.0], [0.9942043423652649, 0.0001537051284685731, 2.1179785107960925e-05, 3.081381510128267e-05, 0.005589925218373537, 0.0, 0.0, 0.0], [0.9991115927696228, 1.899034032248892e-05, 4.643624197342433e-05, 1.3461904927680735e-05, 0.00020149412739556283, 0.0006079967133700848, 0.0, 0.0], [0.998544454574585, 0.000445421232143417, 0.00014198837743606418, 5.154337486601435e-06, 5.758818952017464e-05, 8.915788384911139e-06, 0.000796451058704406, 0.0], [0.9980795383453369, 0.00011657363211270422, 0.00023666741617489606, 0.00040351616917178035, 9.339721873402596e-05, 2.3464206151402323e-06, 3.290688619017601e-05, 0.0010350303491577506]], [[1.0, 0.0, 0.0, 0.0, 0.0, 0.0, 0.0, 0.0], [0.9890379905700684, 0.010962022468447685, 0.0, 0.0, 0.0, 0.0, 0.0, 0.0], [0.9698665142059326, 0.01645735464990139, 0.01367609016597271, 0.0, 0.0, 0.0, 0.0, 0.0], [0.8999632596969604, 0.024621248245239258, 0.019977713003754616, 0.055437829345464706, 0.0, 0.0, 0.0, 0.0], [0.9819526076316833, 0.0025944048538804054, 0.0029460599180310965, 0.005658949259668589, 0.006847890559583902, 0.0, 0.0, 0.0], [0.9824525117874146, 0.0023509925231337547, 0.002522139810025692, 0.004537330009043217, 0.005606757011264563, 0.0025302127469331026, 0.0, 0.0], [0.9617470502853394, 0.0018121186876669526, 0.0029317238368093967, 0.005593996495008469, 0.006126916967332363, 0.003866011742502451, 0.01792210526764393, 0.0], [0.9478639364242554, 0.0019034133292734623, 0.002444593934342265, 0.004918587859719992, 0.00784280989319086, 0.003108481876552105, 0.009812173433601856, 0.022105954587459564]], [[1.0, 0.0, 0.0, 0.0, 0.0, 0.0, 0.0, 0.0], [0.8939953446388245, 0.10600464791059494, 0.0, 0.0, 0.0, 0.0, 0.0, 0.0], [0.8672775030136108, 0.08060696721076965, 0.05211562290787697, 0.0, 0.0, 0.0, 0.0, 0.0], [0.8352523446083069, 0.042505860328674316, 0.03856831416487694, 0.08367356657981873, 0.0, 0.0, 0.0, 0.0], [0.922022819519043, 0.011809242889285088, 0.0077949813567101955, 0.02409515529870987, 0.03427782654762268, 0.0, 0.0, 0.0], [0.5988554954528809, 0.010354490019381046, 0.0042966557666659355, 0.013484532944858074, 0.34073376655578613, 0.032275065779685974, 0.0, 0.0], [0.3333626389503479, 0.007739093620330095, 0.0020456123165786266, 0.009007216431200504, 0.44756194949150085, 0.09193696826696396, 0.10834652185440063, 0.0], [0.472467839717865, 0.01523680705577135, 0.0038502903189510107, 0.010979922488331795, 0.2065543532371521, 0.09783823788166046, 0.17119300365447998, 0.021879518404603004]]], [[[1.0, 0.0, 0.0, 0.0, 0.0, 0.0, 0.0, 0.0], [0.8792707920074463, 0.12072921544313431, 0.0, 0.0, 0.0, 0.0, 0.0, 0.0], [0.6221990585327148, 0.2815748155117035, 0.09622613340616226, 0.0, 0.0, 0.0, 0.0, 0.0], [0.6126315593719482, 0.13148055970668793, 0.16446766257286072, 0.09142020344734192, 0.0, 0.0, 0.0, 0.0], [0.7698158621788025, 0.007498965598642826, 0.02101069875061512, 0.09020662307739258, 0.11146779358386993, 0.0, 0.0, 0.0], [0.7024475336074829, 0.002880509477108717, 0.0056957341730594635, 0.021871915087103844, 0.24194057285785675, 0.025163764134049416, 0.0, 0.0], [0.4797491729259491, 0.001600327086634934, 0.001570782857015729, 0.00489036412909627, 0.152727410197258, 0.32449236512184143, 0.03496962785720825, 0.0], [0.14971649646759033, 0.0048654028214514256, 0.00023945531575009227, 0.0006147369858808815, 0.025383593514561653, 0.06028838828206062, 0.7455555200576782, 0.01333644986152649]], [[1.0, 0.0, 0.0, 0.0, 0.0, 0.0, 0.0, 0.0], [0.969735324382782, 0.030264688655734062, 0.0, 0.0, 0.0, 0.0, 0.0, 0.0], [0.9171706438064575, 0.004400867503136396, 0.07842849940061569, 0.0, 0.0, 0.0, 0.0, 0.0], [0.9248407483100891, 0.015071621164679527, 0.019926337525248528, 0.04016131907701492, 0.0, 0.0, 0.0, 0.0], [0.9395154118537903, 0.003507794113829732, 0.019225338473916054, 0.01488084439188242, 0.022870603948831558, 0.0, 0.0, 0.0], [0.9006384611129761, 0.004624188877642155, 0.02302938885986805, 0.03257221728563309, 0.011013819836080074, 0.028121983632445335, 0.0, 0.0], [0.8583866953849792, 0.0015812473138794303, 0.004416821990162134, 0.008586673997342587, 0.0010959510691463947, 0.002946597058326006, 0.12298604100942612, 0.0], [0.9657958149909973, 0.0005819763173349202, 0.0009386715246364474, 0.0015611691633239388, 0.0015617476310580969, 0.002173307817429304, 0.005000512581318617, 0.02238674834370613]], [[1.0, 0.0, 0.0, 0.0, 0.0, 0.0, 0.0, 0.0], [0.979451596736908, 0.020548373460769653, 0.0, 0.0, 0.0, 0.0, 0.0, 0.0], [0.9946718811988831, 0.0013065726961940527, 0.004021618980914354, 0.0, 0.0, 0.0, 0.0, 0.0], [0.9840564727783203, 0.0006906567723490298, 0.00032782365451566875, 0.01492499653249979, 0.0, 0.0, 0.0, 0.0], [0.9948176741600037, 0.0002063083666143939, 0.00010861106420634314, 0.00030373645131476223, 0.00456366827711463, 0.0, 0.0, 0.0], [0.9973546266555786, 2.1929792637820356e-05, 2.674967072380241e-05, 9.119401511270553e-05, 0.0006727050058543682, 0.001832754584029317, 0.0, 0.0], [0.986914336681366, 0.0001687220938038081, 0.00010082420340040699, 4.628018359653652e-05, 0.00019051137496717274, 0.00011075886141043156, 0.012468544766306877, 0.0], [0.9941694736480713, 5.713527571060695e-05, 0.00014851456217002124, 0.0004799705639015883, 0.00030537531711161137, 5.848163709742948e-06, 0.00013299206329975277, 0.004700731951743364]], [[1.0, 0.0, 0.0, 0.0, 0.0, 0.0, 0.0, 0.0], [0.9043187499046326, 0.09568127244710922, 0.0, 0.0, 0.0, 0.0, 0.0, 0.0], [0.8725855350494385, 0.0448027104139328, 0.08261176198720932, 0.0, 0.0, 0.0, 0.0, 0.0], [0.8364025950431824, 0.05131518468260765, 0.06534890830516815, 0.04693328216671944, 0.0, 0.0, 0.0, 0.0], [0.7417502999305725, 0.022027036175131798, 0.05209989845752716, 0.07642952352762222, 0.10769316554069519, 0.0, 0.0, 0.0], [0.6317556500434875, 0.02231570892035961, 0.061021775007247925, 0.08127198368310928, 0.1759856641292572, 0.027649275958538055, 0.0, 0.0], [0.7830374240875244, 0.0117056118324399, 0.03394779935479164, 0.046634890139102936, 0.08755357563495636, 0.024303928017616272, 0.012816778384149075, 0.0], [0.8604190945625305, 0.007581532467156649, 0.009611708112061024, 0.01765214465558529, 0.05184243619441986, 0.013191789388656616, 0.010072248987853527, 0.0296289324760437]], [[1.0, 0.0, 0.0, 0.0, 0.0, 0.0, 0.0, 0.0], [0.9858981370925903, 0.014101854525506496, 0.0, 0.0, 0.0, 0.0, 0.0, 0.0], [0.6354981660842896, 0.317445307970047, 0.04705655202269554, 0.0, 0.0, 0.0, 0.0, 0.0], [0.5642574429512024, 0.32977133989334106, 0.05301734432578087, 0.05295383930206299, 0.0, 0.0, 0.0, 0.0], [0.9340519905090332, 0.012546480633318424, 0.015620690770447254, 0.020833974704146385, 0.016946788877248764, 0.0, 0.0, 0.0], [0.9383043646812439, 0.0031528687104582787, 0.0086459806188941, 0.013142421841621399, 0.03350681811571121, 0.0032475099433213472, 0.0, 0.0], [0.9434305429458618, 0.0034570915158838034, 0.0024176486767828465, 0.004710002802312374, 0.031123947352170944, 0.009391109459102154, 0.005469514522701502, 0.0], [0.8627013564109802, 0.012073710560798645, 0.002871723147109151, 0.004211131948977709, 0.04537583515048027, 0.036853671073913574, 0.028639858588576317, 0.007272603455930948]], [[1.0, 0.0, 0.0, 0.0, 0.0, 0.0, 0.0, 0.0], [0.9561887979507446, 0.04381125792860985, 0.0, 0.0, 0.0, 0.0, 0.0, 0.0], [0.9735220670700073, 0.008573377504944801, 0.017904549837112427, 0.0, 0.0, 0.0, 0.0, 0.0], [0.9043960571289062, 0.028904909268021584, 0.031484849750995636, 0.03521417826414108, 0.0, 0.0, 0.0, 0.0], [0.8269072771072388, 0.012188103049993515, 0.009275001473724842, 0.015563271939754486, 0.13606634736061096, 0.0, 0.0, 0.0], [0.6909795999526978, 0.009904340840876102, 0.006956969853490591, 0.009725452400743961, 0.2275647521018982, 0.05486882105469704, 0.0, 0.0], [0.8351199626922607, 0.0032399555202573538, 0.003032890846952796, 0.005924166180193424, 0.05631868913769722, 0.050180673599243164, 0.04618368670344353, 0.0], [0.5165550112724304, 0.004320904146879911, 0.00293459789827466, 0.005379626993089914, 0.0581192672252655, 0.16019073128700256, 0.23728622496128082, 0.015213626436889172]], [[1.0, 0.0, 0.0, 0.0, 0.0, 0.0, 0.0, 0.0], [0.9569610953330994, 0.04303894564509392, 0.0, 0.0, 0.0, 0.0, 0.0, 0.0], [0.8744041323661804, 0.03392800688743591, 0.09166788309812546, 0.0, 0.0, 0.0, 0.0, 0.0], [0.8536815643310547, 0.027060627937316895, 0.06790511310100555, 0.05135267972946167, 0.0, 0.0, 0.0, 0.0], [0.8119724988937378, 0.014846960082650185, 0.047973789274692535, 0.08864054083824158, 0.03656622767448425, 0.0, 0.0, 0.0], [0.7631576657295227, 0.015135977417230606, 0.049643632024526596, 0.10952028632164001, 0.034224703907966614, 0.028317682445049286, 0.0, 0.0], [0.838253378868103, 0.016380593180656433, 0.04545697569847107, 0.060710739344358444, 0.014641902409493923, 0.015054796822369099, 0.009501639753580093, 0.0], [0.8724623918533325, 0.00638853944838047, 0.02893730252981186, 0.049040231853723526, 0.006890814285725355, 0.007765063084661961, 0.01112225092947483, 0.017393501475453377]], [[1.0, 0.0, 0.0, 0.0, 0.0, 0.0, 0.0, 0.0], [0.9709782004356384, 0.02902175858616829, 0.0, 0.0, 0.0, 0.0, 0.0, 0.0], [0.9593220949172974, 0.018770607188344002, 0.021907242015004158, 0.0, 0.0, 0.0, 0.0, 0.0], [0.927436888217926, 0.01987350732088089, 0.020269140601158142, 0.032420553267002106, 0.0, 0.0, 0.0, 0.0], [0.9763176441192627, 0.0020889206789433956, 0.0025347743649035692, 0.006230108439922333, 0.012828570790588856, 0.0, 0.0, 0.0], [0.9726224541664124, 0.0018572863191366196, 0.0017975772498175502, 0.004953389521688223, 0.004685092251747847, 0.01408407837152481, 0.0, 0.0], [0.9718049764633179, 0.0009171952842734754, 0.0010889694094657898, 0.0023552593775093555, 0.0010471577988937497, 0.002082351129502058, 0.02070401795208454, 0.0], [0.9659451842308044, 0.0009057929273694754, 0.0006415993557311594, 0.0018910591024905443, 0.0010350855300202966, 0.0011761740315705538, 0.0038826537784188986, 0.02452247031033039]], [[1.0, 0.0, 0.0, 0.0, 0.0, 0.0, 0.0, 0.0], [0.9663732647895813, 0.03362672030925751, 0.0, 0.0, 0.0, 0.0, 0.0, 0.0], [0.8531225919723511, 0.09818196296691895, 0.048695433884859085, 0.0, 0.0, 0.0, 0.0, 0.0], [0.7687259316444397, 0.1344340592622757, 0.050495680421590805, 0.046344269067049026, 0.0, 0.0, 0.0, 0.0], [0.7705355882644653, 0.041123777627944946, 0.023492293432354927, 0.011818100698292255, 0.15303026139736176, 0.0, 0.0, 0.0], [0.653980016708374, 0.03314104303717613, 0.04164104908704758, 0.02877121791243553, 0.20537687838077545, 0.03708985447883606, 0.0, 0.0], [0.7637072801589966, 0.006496301852166653, 0.025321243330836296, 0.022425128147006035, 0.09155967086553574, 0.06521410495042801, 0.025276362895965576, 0.0], [0.49741384387016296, 0.02320411242544651, 0.03768884018063545, 0.027579279616475105, 0.10695945471525192, 0.05636086314916611, 0.14032158255577087, 0.11047204583883286]], [[1.0, 0.0, 0.0, 0.0, 0.0, 0.0, 0.0, 0.0], [0.967856764793396, 0.032143253833055496, 0.0, 0.0, 0.0, 0.0, 0.0, 0.0], [0.9165078997612, 0.055711157619953156, 0.027780963107943535, 0.0, 0.0, 0.0, 0.0, 0.0], [0.8963634967803955, 0.03464189171791077, 0.03713425248861313, 0.031860433518886566, 0.0, 0.0, 0.0, 0.0], [0.7853396534919739, 0.023485155776143074, 0.02122442051768303, 0.06432139873504639, 0.10562937706708908, 0.0, 0.0, 0.0], [0.6763750910758972, 0.03745652362704277, 0.023377059027552605, 0.053542859852313995, 0.16804537177085876, 0.04120311141014099, 0.0, 0.0], [0.7022046446800232, 0.013169570825994015, 0.02012844942510128, 0.025703631341457367, 0.14748120307922363, 0.06591470539569855, 0.02539777383208275, 0.0], [0.7616588473320007, 0.007507823873311281, 0.004605624359101057, 0.02161167748272419, 0.11381421983242035, 0.06161760538816452, 0.013805952854454517, 0.01537820789963007]], [[1.0, 0.0, 0.0, 0.0, 0.0, 0.0, 0.0, 0.0], [0.9709473252296448, 0.029052652418613434, 0.0, 0.0, 0.0, 0.0, 0.0, 0.0], [0.9939530491828918, 0.0018861867720261216, 0.004160684999078512, 0.0, 0.0, 0.0, 0.0, 0.0], [0.986672043800354, 0.0017427051207050681, 0.0005400461377575994, 0.011045197024941444, 0.0, 0.0, 0.0, 0.0], [0.9877412915229797, 0.0016544762765988708, 0.0012278888607397676, 0.0008967326139099896, 0.008479614742100239, 0.0, 0.0, 0.0], [0.9860885739326477, 0.001546876272186637, 0.0023078324738889933, 0.002326578600332141, 0.0026725789066404104, 0.005057444795966148, 0.0, 0.0], [0.9861494302749634, 0.0017577380640432239, 0.001322620315477252, 0.00014878642105031759, 0.0003716551000252366, 6.725717685185373e-05, 0.010182587429881096, 0.0], [0.9902862906455994, 0.00027530125225894153, 0.0013961665099486709, 0.0017930894391611218, 0.0010268574114888906, 1.9929731934098527e-05, 0.00031874951673671603, 0.004883707035332918]], [[1.0, 0.0, 0.0, 0.0, 0.0, 0.0, 0.0, 0.0], [0.9827927947044373, 0.017207244411110878, 0.0, 0.0, 0.0, 0.0, 0.0, 0.0], [0.9859943389892578, 0.008633959107100964, 0.005371640436351299, 0.0, 0.0, 0.0, 0.0, 0.0], [0.9799092411994934, 0.009361100383102894, 0.0028691610787063837, 0.007860485464334488, 0.0, 0.0, 0.0, 0.0], [0.9694450497627258, 0.01157438475638628, 0.001716917846351862, 0.003472532145678997, 0.013791198842227459, 0.0, 0.0, 0.0], [0.9840765595436096, 0.0024011072237044573, 0.000574070552829653, 0.00115208572242409, 0.007287501823157072, 0.00450870580971241, 0.0, 0.0], [0.9838899374008179, 0.0029599936679005623, 0.0022702442947775126, 0.0009289771551266313, 0.0019094196613878012, 0.0010589646408334374, 0.0069824219681322575, 0.0], [0.92661452293396, 0.0028316648676991463, 0.0024987508077174425, 0.0037640701048076153, 0.003223617095500231, 0.0020994767546653748, 0.003637742018327117, 0.05533020198345184]]], [[[1.0, 0.0, 0.0, 0.0, 0.0, 0.0, 0.0, 0.0], [0.951449453830719, 0.0485505685210228, 0.0, 0.0, 0.0, 0.0, 0.0, 0.0], [0.9658615589141846, 0.010058409534394741, 0.02408009022474289, 0.0, 0.0, 0.0, 0.0, 0.0], [0.9356444478034973, 0.008437186479568481, 0.02193453721702099, 0.033983852714300156, 0.0, 0.0, 0.0, 0.0], [0.8290913701057434, 0.006376205012202263, 0.013386509381234646, 0.03182952478528023, 0.1193164736032486, 0.0, 0.0, 0.0], [0.7986079454421997, 0.007539681624621153, 0.014148651622235775, 0.025707634165883064, 0.09108812361955643, 0.06290794909000397, 0.0, 0.0], [0.678389847278595, 0.02661948651075363, 0.035276610404253006, 0.060421884059906006, 0.08990280330181122, 0.07841742038726807, 0.030971957370638847, 0.0], [0.8510647416114807, 0.005510283168405294, 0.010787129402160645, 0.012628245167434216, 0.05411198362708092, 0.04119255393743515, 0.009183276444673538, 0.015521930530667305]], [[1.0, 0.0, 0.0, 0.0, 0.0, 0.0, 0.0, 0.0], [0.9712166786193848, 0.02878340147435665, 0.0, 0.0, 0.0, 0.0, 0.0, 0.0], [0.9875268340110779, 0.0052717868238687515, 0.007201253902167082, 0.0, 0.0, 0.0, 0.0, 0.0], [0.9809510707855225, 0.005698311608284712, 0.0027415615040808916, 0.010609153658151627, 0.0, 0.0, 0.0, 0.0], [0.9809651970863342, 0.0033261284697800875, 0.0019496312597766519, 0.001832805573940277, 0.011926311068236828, 0.0, 0.0, 0.0], [0.995495080947876, 0.0004732920788228512, 0.0004776646674145013, 0.0007649062317796052, 0.0011832024902105331, 0.0016058830078691244, 0.0, 0.0], [0.9875292778015137, 0.0013313113013282418, 0.0016899934271350503, 0.001083645154722035, 0.002334131160750985, 0.000799911271315068, 0.0052317045629024506, 0.0], [0.9808001518249512, 0.0005009445594623685, 0.0017413413152098656, 0.0029805898666381836, 0.0030050156638026237, 0.0006451113149523735, 0.000739436480216682, 0.009587443433701992]], [[1.0, 0.0, 0.0, 0.0, 0.0, 0.0, 0.0, 0.0], [0.9858216643333435, 0.014178343117237091, 0.0, 0.0, 0.0, 0.0, 0.0, 0.0], [0.9192677736282349, 0.02330642193555832, 0.057425860315561295, 0.0, 0.0, 0.0, 0.0, 0.0], [0.8197084665298462, 0.035190071910619736, 0.07514648139476776, 0.06995496898889542, 0.0, 0.0, 0.0, 0.0], [0.7379394769668579, 0.02593245543539524, 0.07463094592094421, 0.1136019304394722, 0.047895222902297974, 0.0, 0.0, 0.0], [0.685272216796875, 0.021387698128819466, 0.09903153032064438, 0.1121058464050293, 0.05126088857650757, 0.030941758304834366, 0.0, 0.0], [0.65684574842453, 0.015238592401146889, 0.0954543799161911, 0.09312772005796432, 0.03447316586971283, 0.051536425948143005, 0.053324028849601746, 0.0], [0.7701270580291748, 0.014220043085515499, 0.04100698232650757, 0.0508563406765461, 0.03685995936393738, 0.02124408446252346, 0.04227657616138458, 0.023408951237797737]], [[1.0, 0.0, 0.0, 0.0, 0.0, 0.0, 0.0, 0.0], [0.975985586643219, 0.024014359340071678, 0.0, 0.0, 0.0, 0.0, 0.0, 0.0], [0.9521355032920837, 0.010076479986310005, 0.03778804466128349, 0.0, 0.0, 0.0, 0.0, 0.0], [0.954176664352417, 0.011968923732638359, 0.020790589973330498, 0.01306380145251751, 0.0, 0.0, 0.0, 0.0], [0.938666820526123, 0.010401039384305477, 0.012205177918076515, 0.020218877121806145, 0.01850808598101139, 0.0, 0.0, 0.0], [0.9006164073944092, 0.018530091270804405, 0.014232429675757885, 0.019627073779702187, 0.023790568113327026, 0.023203421384096146, 0.0, 0.0], [0.9421818852424622, 0.004611070267856121, 0.009628403931856155, 0.008900352753698826, 0.008894293569028378, 0.01172626856714487, 0.014057720080018044, 0.0], [0.9441225528717041, 0.0012765651335939765, 0.005128661636263132, 0.003172821132466197, 0.011362320743501186, 0.010332603007555008, 0.0056957886554300785, 0.018908727914094925]], [[1.0, 0.0, 0.0, 0.0, 0.0, 0.0, 0.0, 0.0], [0.9044649004936218, 0.09553512930870056, 0.0, 0.0, 0.0, 0.0, 0.0, 0.0], [0.8435063362121582, 0.06397941708564758, 0.09251421689987183, 0.0, 0.0, 0.0, 0.0, 0.0], [0.7493969202041626, 0.04236855357885361, 0.10242089629173279, 0.1058136448264122, 0.0, 0.0, 0.0, 0.0], [0.936775803565979, 0.00403213407844305, 0.003279687138274312, 0.008262276649475098, 0.047650087624788284, 0.0, 0.0, 0.0], [0.8398222923278809, 0.007232543081045151, 0.007026905193924904, 0.011641927063465118, 0.11913487315177917, 0.015141379088163376, 0.0, 0.0], [0.6738957762718201, 0.0033773123286664486, 0.0037472995463758707, 0.004432335030287504, 0.0851195752620697, 0.14952756464481354, 0.07990012317895889, 0.0], [0.39084628224372864, 0.02092699147760868, 0.00239081890322268, 0.005111725069582462, 0.0431487001478672, 0.062353890389204025, 0.3968493640422821, 0.07837230712175369]], [[1.0, 0.0, 0.0, 0.0, 0.0, 0.0, 0.0, 0.0], [0.93937748670578, 0.06062256544828415, 0.0, 0.0, 0.0, 0.0, 0.0, 0.0], [0.8151305317878723, 0.10590600222349167, 0.07896335422992706, 0.0, 0.0, 0.0, 0.0, 0.0], [0.7006478905677795, 0.1109970360994339, 0.08529030531644821, 0.10306475311517715, 0.0, 0.0, 0.0, 0.0], [0.5807071328163147, 0.025286588817834854, 0.08335479348897934, 0.11828793585300446, 0.19236357510089874, 0.0, 0.0, 0.0], [0.35518941283226013, 0.02630288153886795, 0.06276316940784454, 0.06307632476091385, 0.4529270827770233, 0.03974118083715439, 0.0, 0.0], [0.32086557149887085, 0.011715448461472988, 0.041245222091674805, 0.07210636138916016, 0.31725776195526123, 0.1828574240207672, 0.05395223945379257, 0.0], [0.4011250436306, 0.01400334294885397, 0.02027999609708786, 0.031903695315122604, 0.21041139960289001, 0.13799048960208893, 0.1135210245847702, 0.07076498121023178]], [[1.0, 0.0, 0.0, 0.0, 0.0, 0.0, 0.0, 0.0], [0.9910324215888977, 0.008967609144747257, 0.0, 0.0, 0.0, 0.0, 0.0, 0.0], [0.9735907912254333, 0.002889057621359825, 0.023520128801465034, 0.0, 0.0, 0.0, 0.0, 0.0], [0.9417220950126648, 0.00537826307117939, 0.013999599032104015, 0.0388999879360199, 0.0, 0.0, 0.0, 0.0], [0.8861562609672546, 0.006982819177210331, 0.045466575771570206, 0.047627005726099014, 0.013767228461802006, 0.0, 0.0, 0.0], [0.9596819877624512, 0.001681181718595326, 0.0061345151625573635, 0.0171890277415514, 0.006394658237695694, 0.008918583393096924, 0.0, 0.0], [0.9471617341041565, 0.002395245246589184, 0.009279051795601845, 0.013231925666332245, 0.005007267463952303, 0.007051022723317146, 0.015873843804001808, 0.0], [0.9580639004707336, 0.0001936645567184314, 0.0017023744294419885, 0.009266040287911892, 0.004875712562352419, 0.004297199193388224, 0.0015061157755553722, 0.020094936713576317]], [[1.0, 0.0, 0.0, 0.0, 0.0, 0.0, 0.0, 0.0], [0.7030377388000488, 0.29696235060691833, 0.0, 0.0, 0.0, 0.0, 0.0, 0.0], [0.5280811190605164, 0.3391064703464508, 0.13281241059303284, 0.0, 0.0, 0.0, 0.0, 0.0], [0.5491084456443787, 0.13266931474208832, 0.1684279888868332, 0.14979428052902222, 0.0, 0.0, 0.0, 0.0], [0.751487672328949, 0.0012564117787405849, 0.005117455031722784, 0.013230962678790092, 0.2289075404405594, 0.0, 0.0, 0.0], [0.34711191058158875, 0.004330409690737724, 0.00616071093827486, 0.012210773304104805, 0.5786059498786926, 0.05158017575740814, 0.0, 0.0], [0.3316650390625, 0.0020678117871284485, 0.00397638650611043, 0.0062788380309939384, 0.34233757853507996, 0.2364598959684372, 0.07721448689699173, 0.0], [0.1408127099275589, 0.0034582039806991816, 0.0004921498475596309, 0.0008494019275531173, 0.17962001264095306, 0.1612924337387085, 0.4911425709724426, 0.022332562133669853]], [[1.0, 0.0, 0.0, 0.0, 0.0, 0.0, 0.0, 0.0], [0.7935627102851868, 0.20643728971481323, 0.0, 0.0, 0.0, 0.0, 0.0, 0.0], [0.8793578743934631, 0.023507606238126755, 0.09713450819253922, 0.0, 0.0, 0.0, 0.0, 0.0], [0.8590282797813416, 0.03438371419906616, 0.05009611323475838, 0.0564919039607048, 0.0, 0.0, 0.0, 0.0], [0.6103184223175049, 0.05823757126927376, 0.08898581564426422, 0.1563243418931961, 0.0861339196562767, 0.0, 0.0, 0.0], [0.525111973285675, 0.07262928038835526, 0.09481268376111984, 0.14990083873271942, 0.12256906181573868, 0.03497620299458504, 0.0, 0.0], [0.524936318397522, 0.05701183155179024, 0.10914282500743866, 0.1502019613981247, 0.07617057859897614, 0.044221650809049606, 0.03831484541296959, 0.0], [0.5268656015396118, 0.004686358850449324, 0.010911373421549797, 0.0224679596722126, 0.07664761692285538, 0.03350022807717323, 0.03322828188538551, 0.2916925549507141]], [[1.0, 0.0, 0.0, 0.0, 0.0, 0.0, 0.0, 0.0], [0.9674617052078247, 0.03253823518753052, 0.0, 0.0, 0.0, 0.0, 0.0, 0.0], [0.8075478672981262, 0.047011084854602814, 0.1454409956932068, 0.0, 0.0, 0.0, 0.0, 0.0], [0.6745768785476685, 0.057916536927223206, 0.1514519602060318, 0.11605455726385117, 0.0, 0.0, 0.0, 0.0], [0.3943260908126831, 0.08104345947504044, 0.21625038981437683, 0.2634754776954651, 0.04490455985069275, 0.0, 0.0, 0.0], [0.4794429540634155, 0.06144009530544281, 0.15672118961811066, 0.24303318560123444, 0.03666478395462036, 0.022697746753692627, 0.0, 0.0], [0.662792980670929, 0.05213583633303642, 0.11382247507572174, 0.1331874281167984, 0.013508795760571957, 0.013069943524897099, 0.011482645757496357, 0.0], [0.7085103392601013, 0.020157817751169205, 0.06290307641029358, 0.08386314660310745, 0.009990667924284935, 0.01808260753750801, 0.016397682949900627, 0.08009465783834457]], [[1.0, 0.0, 0.0, 0.0, 0.0, 0.0, 0.0, 0.0], [0.9110164046287537, 0.08898357301950455, 0.0, 0.0, 0.0, 0.0, 0.0, 0.0], [0.8926831483840942, 0.0277556162327528, 0.07956113666296005, 0.0, 0.0, 0.0, 0.0, 0.0], [0.8677011728286743, 0.028491836041212082, 0.05258573964238167, 0.05122127756476402, 0.0, 0.0, 0.0, 0.0], [0.7698479890823364, 0.033289749175310135, 0.04746515676379204, 0.06817261874675751, 0.08122441917657852, 0.0, 0.0, 0.0], [0.6963474750518799, 0.04269702732563019, 0.04663695767521858, 0.0757979303598404, 0.07290256023406982, 0.06561804562807083, 0.0, 0.0], [0.6871410012245178, 0.017700763419270515, 0.05543796718120575, 0.06729330867528915, 0.052738387137651443, 0.05699654296040535, 0.06269203126430511, 0.0], [0.7688592672348022, 0.00717894034460187, 0.01831272430717945, 0.0353475958108902, 0.03984765708446503, 0.035274334251880646, 0.029483070597052574, 0.06569647789001465]], [[1.0, 0.0, 0.0, 0.0, 0.0, 0.0, 0.0, 0.0], [0.9813536405563354, 0.018646348267793655, 0.0, 0.0, 0.0, 0.0, 0.0, 0.0], [0.9570956230163574, 0.01279626227915287, 0.030108094215393066, 0.0, 0.0, 0.0, 0.0, 0.0], [0.9513317942619324, 0.009805375710129738, 0.02275724522769451, 0.01610551029443741, 0.0, 0.0, 0.0, 0.0], [0.8893520832061768, 0.020017588511109352, 0.031909551471471786, 0.02940402738749981, 0.029316769912838936, 0.0, 0.0, 0.0], [0.886516273021698, 0.017359884455800056, 0.028086399659514427, 0.03598964586853981, 0.018704421818256378, 0.013343374244868755, 0.0, 0.0], [0.9186536073684692, 0.009973659180104733, 0.011934151872992516, 0.0165829099714756, 0.012413845397531986, 0.01643703319132328, 0.014004828408360481, 0.0], [0.9136124849319458, 0.003545226063579321, 0.00714718084782362, 0.011791612952947617, 0.018722232431173325, 0.012360727414488792, 0.010670678690075874, 0.0221498254686594]]], [[[1.0, 0.0, 0.0, 0.0, 0.0, 0.0, 0.0, 0.0], [0.9435385465621948, 0.05646141991019249, 0.0, 0.0, 0.0, 0.0, 0.0, 0.0], [0.9027257561683655, 0.018646173179149628, 0.07862812280654907, 0.0, 0.0, 0.0, 0.0, 0.0], [0.9333773851394653, 0.009436972439289093, 0.027229707688093185, 0.02995600737631321, 0.0, 0.0, 0.0, 0.0], [0.8169316053390503, 0.009507295675575733, 0.08339003473520279, 0.058180466294288635, 0.031990692019462585, 0.0, 0.0, 0.0], [0.8087671995162964, 0.007102742325514555, 0.051180656999349594, 0.04214007407426834, 0.07320588827133179, 0.0176034327596426, 0.0, 0.0], [0.7765289545059204, 0.0060193841345608234, 0.06221739575266838, 0.04448912665247917, 0.07196145504713058, 0.021928921341896057, 0.016854722052812576, 0.0], [0.7767960429191589, 0.0067061008885502815, 0.02221708931028843, 0.03776121884584427, 0.032342713326215744, 0.014036029577255249, 0.015614391304552555, 0.09452644735574722]], [[1.0, 0.0, 0.0, 0.0, 0.0, 0.0, 0.0, 0.0], [0.9888717532157898, 0.011128256097435951, 0.0, 0.0, 0.0, 0.0, 0.0, 0.0], [0.9885013103485107, 0.003913162276148796, 0.007585490588098764, 0.0, 0.0, 0.0, 0.0, 0.0], [0.9849525094032288, 0.004996048752218485, 0.003976214211434126, 0.006075243931263685, 0.0, 0.0, 0.0, 0.0], [0.968299925327301, 0.005128007382154465, 0.001791292568668723, 0.006568076089024544, 0.018212726339697838, 0.0, 0.0, 0.0], [0.9482281804084778, 0.0006137996097095311, 0.00041940013761632144, 0.003040183801203966, 0.01035117544233799, 0.037347231060266495, 0.0, 0.0], [0.9803755879402161, 0.0011591423535719514, 0.001867840881459415, 0.003535469528287649, 0.0011973469518125057, 0.0012383662397041917, 0.010626288130879402, 0.0], [0.9698187112808228, 0.0007861762423999608, 0.0013244576985016465, 0.006814640015363693, 0.001984059577807784, 0.0013945044483989477, 0.0033414880745112896, 0.014535991474986076]], [[1.0, 0.0, 0.0, 0.0, 0.0, 0.0, 0.0, 0.0], [0.9546023011207581, 0.045397721230983734, 0.0, 0.0, 0.0, 0.0, 0.0, 0.0], [0.9485079646110535, 0.008415885269641876, 0.04307623580098152, 0.0, 0.0, 0.0, 0.0, 0.0], [0.9592610001564026, 0.00798018742352724, 0.017515700310468674, 0.015243198722600937, 0.0, 0.0, 0.0, 0.0], [0.7416039109230042, 0.017296064645051956, 0.06768685579299927, 0.11539734154939651, 0.05801582336425781, 0.0, 0.0, 0.0], [0.7625539302825928, 0.008643962442874908, 0.04608917608857155, 0.05952663719654083, 0.062024910002946854, 0.06116137653589249, 0.0, 0.0], [0.8135555386543274, 0.007118513807654381, 0.05299518629908562, 0.06494805961847305, 0.019136665388941765, 0.018239488825201988, 0.024006549268960953, 0.0], [0.8082900047302246, 0.002097941702231765, 0.016843309625983238, 0.02219334803521633, 0.03723231703042984, 0.018331114202737808, 0.024664586409926414, 0.0703473761677742]], [[1.0, 0.0, 0.0, 0.0, 0.0, 0.0, 0.0, 0.0], [0.8302692770957947, 0.1697307527065277, 0.0, 0.0, 0.0, 0.0, 0.0, 0.0], [0.7336011528968811, 0.14844751358032227, 0.11795131862163544, 0.0, 0.0, 0.0, 0.0, 0.0], [0.749567449092865, 0.024084776639938354, 0.1418469250202179, 0.08450090885162354, 0.0, 0.0, 0.0, 0.0], [0.6938269138336182, 0.004867913667112589, 0.05119108781218529, 0.1183597594499588, 0.13175435364246368, 0.0, 0.0, 0.0], [0.40410494804382324, 0.006051728967577219, 0.024305569007992744, 0.043079085648059845, 0.4910559058189392, 0.03140277788043022, 0.0, 0.0], [0.3680669069290161, 0.002210809849202633, 0.010149630717933178, 0.019444309175014496, 0.29646554589271545, 0.26541686058044434, 0.03824589401483536, 0.0], [0.40159764885902405, 0.010820536874234676, 0.006620360538363457, 0.004931027535349131, 0.06294349581003189, 0.06255686283111572, 0.35544660687446594, 0.09508349746465683]], [[1.0, 0.0, 0.0, 0.0, 0.0, 0.0, 0.0, 0.0], [0.9972623586654663, 0.0027376164216548204, 0.0, 0.0, 0.0, 0.0, 0.0, 0.0], [0.977132260799408, 0.0028423070907592773, 0.020025448873639107, 0.0, 0.0, 0.0, 0.0, 0.0], [0.9645379781723022, 0.005626395344734192, 0.022184662520885468, 0.007650991901755333, 0.0, 0.0, 0.0, 0.0], [0.9531646966934204, 0.0022949741687625647, 0.01924489066004753, 0.015601493418216705, 0.009694059379398823, 0.0, 0.0, 0.0], [0.9666702747344971, 0.0025226178113371134, 0.009091831743717194, 0.012779032811522484, 0.005502720829099417, 0.0034335735253989697, 0.0, 0.0], [0.9762043356895447, 0.00043928352533839643, 0.012740381062030792, 0.006726655177772045, 0.0013752481900155544, 0.0007634684443473816, 0.001750570023432374, 0.0], [0.9707805514335632, 0.00023666613560635597, 0.0041096811182796955, 0.003419478191062808, 0.002875077072530985, 0.0015531168319284916, 0.0012933657271787524, 0.015732059255242348]], [[1.0, 0.0, 0.0, 0.0, 0.0, 0.0, 0.0, 0.0], [0.858851432800293, 0.14114858210086823, 0.0, 0.0, 0.0, 0.0, 0.0, 0.0], [0.9236416816711426, 0.013843497261404991, 0.06251481175422668, 0.0, 0.0, 0.0, 0.0, 0.0], [0.9438913464546204, 0.010062294080853462, 0.026787400245666504, 0.01925886981189251, 0.0, 0.0, 0.0, 0.0], [0.8860254287719727, 0.015226637944579124, 0.021696509793400764, 0.0227858517318964, 0.054265592247247696, 0.0, 0.0, 0.0], [0.8778051733970642, 0.010303957387804985, 0.009957512840628624, 0.009362561628222466, 0.054661065340042114, 0.03790973871946335, 0.0, 0.0], [0.8891486525535583, 0.007085450459271669, 0.014125948771834373, 0.010054434649646282, 0.033209193497896194, 0.020705683156847954, 0.02567063644528389, 0.0], [0.8998197913169861, 0.004415045492351055, 0.004417793825268745, 0.005586732178926468, 0.027533655986189842, 0.015246469527482986, 0.013117026537656784, 0.029863417148590088]], [[1.0, 0.0, 0.0, 0.0, 0.0, 0.0, 0.0, 0.0], [0.9919121265411377, 0.00808783620595932, 0.0, 0.0, 0.0, 0.0, 0.0, 0.0], [0.9889293313026428, 0.005226423963904381, 0.005844225641340017, 0.0, 0.0, 0.0, 0.0, 0.0], [0.9871363639831543, 0.0049098581075668335, 0.0018255501054227352, 0.006128286477178335, 0.0, 0.0, 0.0, 0.0], [0.953066885471344, 0.02029988542199135, 0.009151596575975418, 0.015282736159861088, 0.002198757603764534, 0.0, 0.0, 0.0], [0.9753722548484802, 0.006279466673731804, 0.0033232064452022314, 0.01111841481178999, 0.002398462500423193, 0.0015081316232681274, 0.0, 0.0], [0.9722164273262024, 0.004203633405268192, 0.004345622379332781, 0.0036119946744292974, 0.0008458744850941002, 0.0003090144891757518, 0.014467564411461353, 0.0], [0.9668177962303162, 0.000841780100017786, 0.003951694816350937, 0.007885918952524662, 0.0022311205975711346, 0.00019855034770444036, 0.0010805130004882812, 0.016992714256048203]], [[1.0, 0.0, 0.0, 0.0, 0.0, 0.0, 0.0, 0.0], [0.9764449000358582, 0.023555105552077293, 0.0, 0.0, 0.0, 0.0, 0.0, 0.0], [0.945409893989563, 0.020349761471152306, 0.03424032777547836, 0.0, 0.0, 0.0, 0.0, 0.0], [0.9552974104881287, 0.012166515924036503, 0.020975660532712936, 0.011560454033315182, 0.0, 0.0, 0.0, 0.0], [0.7378346920013428, 0.04092520475387573, 0.07879573106765747, 0.08168832212686539, 0.060756053775548935, 0.0, 0.0, 0.0], [0.8699150085449219, 0.02025274559855461, 0.02298390306532383, 0.04565104842185974, 0.02735098823904991, 0.013846318237483501, 0.0, 0.0], [0.7688676714897156, 0.024739958345890045, 0.0730070099234581, 0.06595323234796524, 0.03743010386824608, 0.019757315516471863, 0.010244667530059814, 0.0], [0.8267437219619751, 0.0054705399088561535, 0.017759541049599648, 0.04348130151629448, 0.04829355701804161, 0.020121145993471146, 0.004259706940501928, 0.03387041017413139]], [[1.0, 0.0, 0.0, 0.0, 0.0, 0.0, 0.0, 0.0], [0.9777876138687134, 0.022212352603673935, 0.0, 0.0, 0.0, 0.0, 0.0, 0.0], [0.9845836162567139, 0.004473267588764429, 0.010943078435957432, 0.0, 0.0, 0.0, 0.0, 0.0], [0.977055549621582, 0.005387693643569946, 0.009277114644646645, 0.008279629051685333, 0.0, 0.0, 0.0, 0.0], [0.8371555209159851, 0.015612415969371796, 0.05017831549048424, 0.043723709881305695, 0.05333004146814346, 0.0, 0.0, 0.0], [0.8438835740089417, 0.019415851682424545, 0.032201431691646576, 0.036895524710416794, 0.04606247320771217, 0.021541081368923187, 0.0, 0.0], [0.8401215672492981, 0.016359718516469002, 0.036538563668727875, 0.03726418316364288, 0.04239388555288315, 0.019588302820920944, 0.0077338069677352905, 0.0], [0.8963731527328491, 0.006494280882179737, 0.010327528230845928, 0.01133043970912695, 0.016249634325504303, 0.015019887126982212, 0.006275765597820282, 0.03792930766940117]], [[1.0, 0.0, 0.0, 0.0, 0.0, 0.0, 0.0, 0.0], [0.9900571703910828, 0.009942819364368916, 0.0, 0.0, 0.0, 0.0, 0.0, 0.0], [0.9619874954223633, 0.0176609605550766, 0.020351586863398552, 0.0, 0.0, 0.0, 0.0, 0.0], [0.9902645349502563, 0.0030913245864212513, 0.0012633127626031637, 0.005380779039114714, 0.0, 0.0, 0.0, 0.0], [0.937524139881134, 0.015439169481396675, 0.016185713931918144, 0.025112293660640717, 0.0057386071421206, 0.0, 0.0, 0.0], [0.9697208404541016, 0.003521785605698824, 0.004625793546438217, 0.01503694336861372, 0.004543967079371214, 0.002550573321059346, 0.0, 0.0], [0.9762362837791443, 0.0021901936270296574, 0.003347368910908699, 0.004292795900255442, 0.0016399255255237222, 0.0007894752197898924, 0.011503899469971657, 0.0], [0.966009795665741, 0.0005227610236033797, 0.003437947016209364, 0.01037462055683136, 0.00201014569029212, 0.00016075099119916558, 0.0017429771833121777, 0.01574094034731388]], [[1.0, 0.0, 0.0, 0.0, 0.0, 0.0, 0.0, 0.0], [0.9856634140014648, 0.014336551539599895, 0.0, 0.0, 0.0, 0.0, 0.0, 0.0], [0.8299614787101746, 0.0941532552242279, 0.0758853331208229, 0.0, 0.0, 0.0, 0.0, 0.0], [0.7031471729278564, 0.10163942724466324, 0.1189221665263176, 0.07629115134477615, 0.0, 0.0, 0.0, 0.0], [0.8334305882453918, 0.005439326632767916, 0.011097199283540249, 0.012335855513811111, 0.1376969814300537, 0.0, 0.0, 0.0], [0.5444712042808533, 0.013607785105705261, 0.009823753498494625, 0.011763662099838257, 0.34824198484420776, 0.07209163159132004, 0.0, 0.0], [0.8295558094978333, 0.00424719974398613, 0.0018243301892653108, 0.004784583579748869, 0.03668609634041786, 0.06021604686975479, 0.06268583983182907, 0.0], [0.5689511895179749, 0.014828851446509361, 0.0007679456030018628, 0.0018869196064770222, 0.0397183783352375, 0.0512726753950119, 0.2989448606967926, 0.02362920716404915]], [[1.0, 0.0, 0.0, 0.0, 0.0, 0.0, 0.0, 0.0], [0.9967743754386902, 0.003225656459107995, 0.0, 0.0, 0.0, 0.0, 0.0, 0.0], [0.9952599406242371, 0.002539372304454446, 0.0022007005754858255, 0.0, 0.0, 0.0, 0.0, 0.0], [0.9948623776435852, 0.0017235632985830307, 0.001198250101879239, 0.002215777989476919, 0.0, 0.0, 0.0, 0.0], [0.9788505434989929, 0.007955213077366352, 0.004161261022090912, 0.003022865392267704, 0.006010077893733978, 0.0, 0.0, 0.0], [0.9757687449455261, 0.004127474036067724, 0.00835186056792736, 0.006116485223174095, 0.001979503780603409, 0.0036559009458869696, 0.0, 0.0], [0.9575083255767822, 0.0032539977692067623, 0.018713349476456642, 0.006783064920455217, 0.0020658038556575775, 0.0050905742682516575, 0.006584888324141502, 0.0], [0.962988018989563, 0.002146838465705514, 0.007957492023706436, 0.006596807390451431, 0.003111578058451414, 0.0039664520882070065, 0.003243735060095787, 0.00998904462903738]]], [[[1.0, 0.0, 0.0, 0.0, 0.0, 0.0, 0.0, 0.0], [0.9567565321922302, 0.043243467807769775, 0.0, 0.0, 0.0, 0.0, 0.0, 0.0], [0.8872593641281128, 0.025760624557733536, 0.08698005974292755, 0.0, 0.0, 0.0, 0.0, 0.0], [0.9450151920318604, 0.010042499750852585, 0.02935498021543026, 0.015587316825985909, 0.0, 0.0, 0.0, 0.0], [0.6486431360244751, 0.053894348442554474, 0.17076152563095093, 0.10503174364566803, 0.021669168025255203, 0.0, 0.0, 0.0], [0.7998860478401184, 0.032422445714473724, 0.06114271655678749, 0.08115163445472717, 0.019990604370832443, 0.005406495649367571, 0.0, 0.0], [0.7694825530052185, 0.03069218434393406, 0.10588854551315308, 0.05417630821466446, 0.010317101143300533, 0.00485607935115695, 0.024587295949459076, 0.0], [0.8539735674858093, 0.00853708479553461, 0.03470947593450546, 0.04164338856935501, 0.012602808885276318, 0.004421382676810026, 0.007330102846026421, 0.036782119423151016]], [[1.0, 0.0, 0.0, 0.0, 0.0, 0.0, 0.0, 0.0], [0.980556070804596, 0.01944393292069435, 0.0, 0.0, 0.0, 0.0, 0.0, 0.0], [0.9665948748588562, 0.010614195838570595, 0.02279103547334671, 0.0, 0.0, 0.0, 0.0, 0.0], [0.9629364013671875, 0.010350813157856464, 0.011570795439183712, 0.015141986310482025, 0.0, 0.0, 0.0, 0.0], [0.9040108919143677, 0.03125307336449623, 0.027292706072330475, 0.021855397149920464, 0.01558784581720829, 0.0, 0.0, 0.0], [0.918462872505188, 0.006376678589731455, 0.007543531712144613, 0.01262395828962326, 0.01769096963107586, 0.03730204701423645, 0.0, 0.0], [0.943065345287323, 0.012832972221076488, 0.01496713887900114, 0.005431543104350567, 0.0043345289304852486, 0.001401520217768848, 0.017966972663998604, 0.0], [0.9379202723503113, 0.0016648720484226942, 0.01431560330092907, 0.012867024168372154, 0.006147239822894335, 0.0009938519215211272, 0.007921067997813225, 0.018170079216361046]], [[1.0, 0.0, 0.0, 0.0, 0.0, 0.0, 0.0, 0.0], [0.9883677363395691, 0.011632242240011692, 0.0, 0.0, 0.0, 0.0, 0.0, 0.0], [0.9665014147758484, 0.005992090795189142, 0.027506526559591293, 0.0, 0.0, 0.0, 0.0, 0.0], [0.9559738039970398, 0.00834241509437561, 0.018573231995105743, 0.0171105545014143, 0.0, 0.0, 0.0, 0.0], [0.838269829750061, 0.014429708942770958, 0.04658238962292671, 0.046509649604558945, 0.05420849099755287, 0.0, 0.0, 0.0], [0.9235464930534363, 0.00584560539573431, 0.013120735064148903, 0.025390734896063805, 0.020875290036201477, 0.011221143417060375, 0.0, 0.0], [0.8749715089797974, 0.009799734689295292, 0.04207438603043556, 0.022811012342572212, 0.009732086211442947, 0.007051724940538406, 0.03355960175395012, 0.0], [0.8833149671554565, 0.0021897912956774235, 0.010781723074615002, 0.01538280863314867, 0.01309220027178526, 0.004669819492846727, 0.007512620650231838, 0.06305605173110962]], [[1.0, 0.0, 0.0, 0.0, 0.0, 0.0, 0.0, 0.0], [0.9859684705734253, 0.014031543396413326, 0.0, 0.0, 0.0, 0.0, 0.0, 0.0], [0.9544152021408081, 0.016654497012495995, 0.0289303045719862, 0.0, 0.0, 0.0, 0.0, 0.0], [0.95363450050354, 0.010564109310507774, 0.021435000002384186, 0.01436637993901968, 0.0, 0.0, 0.0, 0.0], [0.9099381566047668, 0.012374472804367542, 0.02799498848617077, 0.011058257892727852, 0.03863415867090225, 0.0, 0.0, 0.0], [0.9055838584899902, 0.008008228614926338, 0.01676771230995655, 0.012269227765500546, 0.02229168266057968, 0.03507928550243378, 0.0, 0.0], [0.9014139771461487, 0.007512696087360382, 0.027516864240169525, 0.01309732161462307, 0.012325039133429527, 0.017384381964802742, 0.020749783143401146, 0.0], [0.8810113072395325, 0.007451671175658703, 0.02555481716990471, 0.017138272523880005, 0.018141139298677444, 0.009468598291277885, 0.0061634499579668045, 0.035070717334747314]], [[1.0, 0.0, 0.0, 0.0, 0.0, 0.0, 0.0, 0.0], [0.9752967357635498, 0.024703238159418106, 0.0, 0.0, 0.0, 0.0, 0.0, 0.0], [0.9560981392860413, 0.018894579261541367, 0.02500727027654648, 0.0, 0.0, 0.0, 0.0, 0.0], [0.9483197331428528, 0.012159287929534912, 0.015359095297753811, 0.02416187711060047, 0.0, 0.0, 0.0, 0.0], [0.700753390789032, 0.030517861247062683, 0.05327945947647095, 0.1347089409828186, 0.0807403177022934, 0.0, 0.0, 0.0], [0.7213711142539978, 0.014903063885867596, 0.03197609260678291, 0.054746124893426895, 0.09968964010477066, 0.07731397449970245, 0.0, 0.0], [0.8003870248794556, 0.018115296959877014, 0.04486905783414841, 0.03222162276506424, 0.020490871742367744, 0.04991091787815094, 0.03400523215532303, 0.0], [0.7617974281311035, 0.006175327114760876, 0.015018139965832233, 0.025929832831025124, 0.022589061409235, 0.07300063967704773, 0.03403695300221443, 0.06145259737968445]], [[1.0, 0.0, 0.0, 0.0, 0.0, 0.0, 0.0, 0.0], [0.9953473210334778, 0.004652715753763914, 0.0, 0.0, 0.0, 0.0, 0.0, 0.0], [0.8805364966392517, 0.06558559089899063, 0.05387789383530617, 0.0, 0.0, 0.0, 0.0, 0.0], [0.7440310716629028, 0.07732342928647995, 0.0803239569067955, 0.09832148253917694, 0.0, 0.0, 0.0, 0.0], [0.8612642884254456, 0.01218290627002716, 0.012419994920492172, 0.012764855287969112, 0.1013680025935173, 0.0, 0.0, 0.0], [0.8833633065223694, 0.007362100761383772, 0.007213301490992308, 0.014127086848020554, 0.08163309842348099, 0.0063009983859956264, 0.0, 0.0], [0.9849105477333069, 0.0013464447110891342, 0.0008959898259490728, 0.001347708865068853, 0.006603981833904982, 0.0028088181279599667, 0.0020865185651928186, 0.0], [0.9859517812728882, 0.0005510197370313108, 0.00047750744852237403, 0.0008204703335650265, 0.004476923029869795, 0.0029948242008686066, 0.002363774925470352, 0.0023637658450752497]], [[1.0, 0.0, 0.0, 0.0, 0.0, 0.0, 0.0, 0.0], [0.9867700338363647, 0.013229972682893276, 0.0, 0.0, 0.0, 0.0, 0.0, 0.0], [0.9389233589172363, 0.007085590623319149, 0.05399104952812195, 0.0, 0.0, 0.0, 0.0, 0.0], [0.9641446471214294, 0.006010344251990318, 0.015866681933403015, 0.013978341594338417, 0.0, 0.0, 0.0, 0.0], [0.8115807175636292, 0.015021124854683876, 0.08003640174865723, 0.0698118507862091, 0.023549892008304596, 0.0, 0.0, 0.0], [0.8680784702301025, 0.006972665432840586, 0.02939002402126789, 0.046049974858760834, 0.031171975657343864, 0.018336864188313484, 0.0, 0.0], [0.8072901964187622, 0.003867129096761346, 0.03015044704079628, 0.021100744605064392, 0.01417474914342165, 0.026082251220941544, 0.09733451157808304, 0.0], [0.8574259877204895, 0.0010402610059827566, 0.013391092419624329, 0.02084384672343731, 0.009454866871237755, 0.011157195083796978, 0.02638443373143673, 0.060302432626485825]], [[1.0, 0.0, 0.0, 0.0, 0.0, 0.0, 0.0, 0.0], [0.9595409035682678, 0.04045911878347397, 0.0, 0.0, 0.0, 0.0, 0.0, 0.0], [0.9007777571678162, 0.01964363269507885, 0.07957865297794342, 0.0, 0.0, 0.0, 0.0, 0.0], [0.9491091370582581, 0.005813606549054384, 0.012629907578229904, 0.03244735673069954, 0.0, 0.0, 0.0, 0.0], [0.588621973991394, 0.06269772350788116, 0.2105902135372162, 0.07981948554515839, 0.05827070400118828, 0.0, 0.0, 0.0], [0.7616365551948547, 0.026989100500941277, 0.0558556392788887, 0.036040712147951126, 0.0779687836766243, 0.04150921851396561, 0.0, 0.0], [0.6925936341285706, 0.011985338293015957, 0.10171599686145782, 0.0324016697704792, 0.057729363441467285, 0.03752738982439041, 0.06604664772748947, 0.0], [0.8265882134437561, 0.004910013638436794, 0.020191187039017677, 0.01954903081059456, 0.03314535692334175, 0.009659400209784508, 0.007611416280269623, 0.07834537327289581]], [[1.0, 0.0, 0.0, 0.0, 0.0, 0.0, 0.0, 0.0], [0.9728171229362488, 0.027182824909687042, 0.0, 0.0, 0.0, 0.0, 0.0, 0.0], [0.9864315390586853, 0.00567890889942646, 0.007889574393630028, 0.0, 0.0, 0.0, 0.0, 0.0], [0.982699990272522, 0.003069438273087144, 0.0049989428371191025, 0.009231703355908394, 0.0, 0.0, 0.0, 0.0], [0.9494931697845459, 0.007280557882040739, 0.004250994883477688, 0.009930415078997612, 0.029044868424534798, 0.0, 0.0, 0.0], [0.9571384191513062, 0.002354332245886326, 0.004957935772836208, 0.020227404311299324, 0.013336794450879097, 0.001985104288905859, 0.0, 0.0], [0.9750741720199585, 0.00410101655870676, 0.0046641831286251545, 0.005904802121222019, 0.004730242770165205, 0.0010400661267340183, 0.004485646262764931, 0.0], [0.9693312048912048, 0.0021641596686095, 0.002985927974805236, 0.009277223609387875, 0.004981710575520992, 0.0009601990459486842, 0.0015080083394423127, 0.008791434578597546]], [[1.0, 0.0, 0.0, 0.0, 0.0, 0.0, 0.0, 0.0], [0.8501452803611755, 0.14985476434230804, 0.0, 0.0, 0.0, 0.0, 0.0, 0.0], [0.46074047684669495, 0.3280462324619293, 0.21121326088905334, 0.0, 0.0, 0.0, 0.0, 0.0], [0.42574039101600647, 0.15978142619132996, 0.27135324478149414, 0.14312498271465302, 0.0, 0.0, 0.0, 0.0], [0.8577409386634827, 0.009466190822422504, 0.025200802832841873, 0.04222242534160614, 0.06536957621574402, 0.0, 0.0, 0.0], [0.7921112775802612, 0.01015822496265173, 0.02076360397040844, 0.027787765488028526, 0.12440510839223862, 0.02477407641708851, 0.0, 0.0], [0.726943850517273, 0.004596930928528309, 0.007906176149845123, 0.01630895584821701, 0.06876882165670395, 0.1367565244436264, 0.038718633353710175, 0.0], [0.6438659429550171, 0.012284904718399048, 0.002749630017206073, 0.004188141319900751, 0.013911373913288116, 0.062810979783535, 0.20810775458812714, 0.05208127200603485]], [[1.0, 0.0, 0.0, 0.0, 0.0, 0.0, 0.0, 0.0], [0.9804217219352722, 0.01957831159234047, 0.0, 0.0, 0.0, 0.0, 0.0, 0.0], [0.9647644758224487, 0.011123109608888626, 0.024112429469823837, 0.0, 0.0, 0.0, 0.0, 0.0], [0.979903519153595, 0.010607127100229263, 0.004326351452618837, 0.005163098219782114, 0.0, 0.0, 0.0, 0.0], [0.8941099047660828, 0.03644442930817604, 0.040647953748703, 0.016968440264463425, 0.011829227209091187, 0.0, 0.0, 0.0], [0.9353995323181152, 0.013915583491325378, 0.021578364074230194, 0.016746487468481064, 0.0071474406868219376, 0.005212496966123581, 0.0, 0.0], [0.9309971332550049, 0.01002338994294405, 0.025837279856204987, 0.010210531763732433, 0.005189533345401287, 0.006838702596724033, 0.01090336125344038, 0.0], [0.9309767484664917, 0.0030396177899092436, 0.0170145183801651, 0.01006357092410326, 0.005718024913221598, 0.008932876400649548, 0.003943684045225382, 0.02031092159450054]], [[1.0, 0.0, 0.0, 0.0, 0.0, 0.0, 0.0, 0.0], [0.9179637432098389, 0.08203627169132233, 0.0, 0.0, 0.0, 0.0, 0.0, 0.0], [0.7727534174919128, 0.12198810279369354, 0.1052585020661354, 0.0, 0.0, 0.0, 0.0, 0.0], [0.9757071137428284, 0.0029794243164360523, 0.0026967728044837713, 0.018616696819663048, 0.0, 0.0, 0.0, 0.0], [0.8658203482627869, 0.0029843179509043694, 0.020252132788300514, 0.024037012830376625, 0.08690617233514786, 0.0, 0.0, 0.0], [0.7261425256729126, 0.0013334467075765133, 0.007399045862257481, 0.008418722078204155, 0.20841361582279205, 0.04829270765185356, 0.0, 0.0], [0.6090216040611267, 0.00023778121976647526, 0.0016398730222135782, 0.0030609339009970427, 0.03524031490087509, 0.15200628340244293, 0.1987931728363037, 0.0], [0.13521811366081238, 0.00013554553152062, 0.00011814972822321579, 0.0005651264800690114, 0.005681556649506092, 0.0401102714240551, 0.7983691692352295, 0.01980205811560154]]], [[[1.0, 0.0, 0.0, 0.0, 0.0, 0.0, 0.0, 0.0], [0.8174369931221008, 0.1825629621744156, 0.0, 0.0, 0.0, 0.0, 0.0, 0.0], [0.4360755383968353, 0.20817825198173523, 0.35574617981910706, 0.0, 0.0, 0.0, 0.0, 0.0], [0.20824536681175232, 0.1416071206331253, 0.24577291309833527, 0.4043745994567871, 0.0, 0.0, 0.0, 0.0], [0.24730274081230164, 0.10981954634189606, 0.2815417945384979, 0.19418060779571533, 0.16715526580810547, 0.0, 0.0, 0.0], [0.281310498714447, 0.08083415031433105, 0.18682171404361725, 0.14491018652915955, 0.17423206567764282, 0.13189134001731873, 0.0, 0.0], [0.2941822409629822, 0.07713431864976883, 0.19880937039852142, 0.1150166317820549, 0.18577688932418823, 0.07072335481643677, 0.05835721269249916, 0.0], [0.30496665835380554, 0.040362533181905746, 0.11782200634479523, 0.09559084475040436, 0.1825854480266571, 0.062095895409584045, 0.09515300393104553, 0.10142362862825394]], [[1.0, 0.0, 0.0, 0.0, 0.0, 0.0, 0.0, 0.0], [0.9697790145874023, 0.030221007764339447, 0.0, 0.0, 0.0, 0.0, 0.0, 0.0], [0.9046961665153503, 0.042139675468206406, 0.053164247423410416, 0.0, 0.0, 0.0, 0.0, 0.0], [0.9042806029319763, 0.027952639386057854, 0.029484359547495842, 0.038282446563243866, 0.0, 0.0, 0.0, 0.0], [0.8172638416290283, 0.03640381991863251, 0.04383021965622902, 0.06005726754665375, 0.04244472086429596, 0.0, 0.0, 0.0], [0.8142133355140686, 0.02069762349128723, 0.030750082805752754, 0.06791199743747711, 0.03843948245048523, 0.027987509965896606, 0.0, 0.0], [0.8001892566680908, 0.013643218204379082, 0.021740121766924858, 0.028910527005791664, 0.03682434558868408, 0.042526960372924805, 0.05616552010178566, 0.0], [0.8081125020980835, 0.005292195361107588, 0.011520967818796635, 0.020695023238658905, 0.04192188382148743, 0.06384128332138062, 0.03585057705640793, 0.012765544466674328]], [[1.0, 0.0, 0.0, 0.0, 0.0, 0.0, 0.0, 0.0], [0.9788005948066711, 0.02119942009449005, 0.0, 0.0, 0.0, 0.0, 0.0, 0.0], [0.9405468702316284, 0.024527529254555702, 0.03492550179362297, 0.0, 0.0, 0.0, 0.0, 0.0], [0.9211282134056091, 0.026706447824835777, 0.023962728679180145, 0.028202518820762634, 0.0, 0.0, 0.0, 0.0], [0.8803735971450806, 0.02889026142656803, 0.03935173898935318, 0.025769704952836037, 0.025614645332098007, 0.0, 0.0, 0.0], [0.8843779563903809, 0.023420952260494232, 0.0289765615016222, 0.025728747248649597, 0.02609759196639061, 0.011398178525269032, 0.0, 0.0], [0.7992238998413086, 0.028277434408664703, 0.08532671630382538, 0.03681964427232742, 0.02647453360259533, 0.013095918111503124, 0.01078181341290474, 0.0], [0.9144789576530457, 0.004740864038467407, 0.012439117766916752, 0.013416335918009281, 0.015489239245653152, 0.011933748610317707, 0.0078024775721132755, 0.019699322059750557]], [[1.0, 0.0, 0.0, 0.0, 0.0, 0.0, 0.0, 0.0], [0.9002647995948792, 0.09973522275686264, 0.0, 0.0, 0.0, 0.0, 0.0, 0.0], [0.7521457076072693, 0.06320042908191681, 0.18465390801429749, 0.0, 0.0, 0.0, 0.0, 0.0], [0.8248746991157532, 0.026826461777091026, 0.08989205956459045, 0.05840675160288811, 0.0, 0.0, 0.0, 0.0], [0.4773664176464081, 0.045638564974069595, 0.1260034590959549, 0.1562335342168808, 0.19475795328617096, 0.0, 0.0, 0.0], [0.42952772974967957, 0.036266766488552094, 0.13134030997753143, 0.08769728243350983, 0.25995492935180664, 0.055213022977113724, 0.0, 0.0], [0.2227412909269333, 0.00868032593280077, 0.051091503351926804, 0.058480557054281235, 0.268462210893631, 0.3436906039714813, 0.04685347527265549, 0.0], [0.7571847438812256, 0.010597480461001396, 0.0054413024336099625, 0.008138557896018028, 0.03115500696003437, 0.06215161457657814, 0.08533289283514023, 0.03999846801161766]], [[1.0, 0.0, 0.0, 0.0, 0.0, 0.0, 0.0, 0.0], [0.8900484442710876, 0.10995151847600937, 0.0, 0.0, 0.0, 0.0, 0.0, 0.0], [0.8721020221710205, 0.0480940006673336, 0.07980401068925858, 0.0, 0.0, 0.0, 0.0, 0.0], [0.8530208468437195, 0.022142577916383743, 0.0324462428689003, 0.09239035844802856, 0.0, 0.0, 0.0, 0.0], [0.7488625049591064, 0.03338180482387543, 0.057004109025001526, 0.06790602207183838, 0.09284556657075882, 0.0, 0.0, 0.0], [0.7437292337417603, 0.022320261225104332, 0.04492437094449997, 0.045319557189941406, 0.10595227032899857, 0.037754349410533905, 0.0, 0.0], [0.693274736404419, 0.0333322137594223, 0.07442042976617813, 0.06298039108514786, 0.07815539091825485, 0.02260860800743103, 0.03522821515798569, 0.0], [0.6945593953132629, 0.022630905732512474, 0.03640216588973999, 0.043379977345466614, 0.08225669711828232, 0.02958637662231922, 0.023237530142068863, 0.06794697046279907]], [[1.0, 0.0, 0.0, 0.0, 0.0, 0.0, 0.0, 0.0], [0.9744856357574463, 0.02551434375345707, 0.0, 0.0, 0.0, 0.0, 0.0, 0.0], [0.9541841745376587, 0.022412847727537155, 0.023403054103255272, 0.0, 0.0, 0.0, 0.0, 0.0], [0.9615285992622375, 0.009928860701620579, 0.0063660163432359695, 0.022176504135131836, 0.0, 0.0, 0.0, 0.0], [0.9329490661621094, 0.01888451725244522, 0.012691481970250607, 0.020519545301795006, 0.014955325052142143, 0.0, 0.0, 0.0], [0.9320349097251892, 0.007315318565815687, 0.00860182661563158, 0.026339780539274216, 0.01134895533323288, 0.014359242282807827, 0.0, 0.0], [0.9030157327651978, 0.005704008042812347, 0.006527075543999672, 0.010731249116361141, 0.004098798148334026, 0.004253502003848553, 0.0656697005033493, 0.0], [0.9191806316375732, 0.0022403267212212086, 0.002011143369600177, 0.008613476529717445, 0.0055715166963636875, 0.010307286866009235, 0.02010725997388363, 0.03196828439831734]], [[1.0, 0.0, 0.0, 0.0, 0.0, 0.0, 0.0, 0.0], [0.9690955281257629, 0.030904503539204597, 0.0, 0.0, 0.0, 0.0, 0.0, 0.0], [0.9591164588928223, 0.023777078837156296, 0.01710640825331211, 0.0, 0.0, 0.0, 0.0, 0.0], [0.9569592475891113, 0.02003447897732258, 0.009874111972749233, 0.013132195919752121, 0.0, 0.0, 0.0, 0.0], [0.9226442575454712, 0.02895321138203144, 0.02068692073225975, 0.015015685930848122, 0.012699819169938564, 0.0, 0.0, 0.0], [0.9204269051551819, 0.019930046051740646, 0.016561971977353096, 0.022684937343001366, 0.014361529611051083, 0.006034686230123043, 0.0, 0.0], [0.9150126576423645, 0.015399500727653503, 0.024009304121136665, 0.014064937829971313, 0.008338836021721363, 0.0042380038648843765, 0.018936827778816223, 0.0], [0.924034595489502, 0.006465816404670477, 0.01517106220126152, 0.011669779196381569, 0.006953373551368713, 0.00337026035413146, 0.006135142873972654, 0.02619997225701809]], [[1.0, 0.0, 0.0, 0.0, 0.0, 0.0, 0.0, 0.0], [0.9242569804191589, 0.07574299722909927, 0.0, 0.0, 0.0, 0.0, 0.0, 0.0], [0.8552876114845276, 0.07761385291814804, 0.06709855794906616, 0.0, 0.0, 0.0, 0.0, 0.0], [0.8434634208679199, 0.06382614374160767, 0.04134424403309822, 0.05136628821492195, 0.0, 0.0, 0.0, 0.0], [0.6675005555152893, 0.13717009127140045, 0.055698737502098083, 0.058184728026390076, 0.08144588023424149, 0.0, 0.0, 0.0], [0.6631648540496826, 0.10555911064147949, 0.04378864914178848, 0.09250699728727341, 0.053146842867136, 0.04183366894721985, 0.0, 0.0], [0.6480815410614014, 0.10110726207494736, 0.06436768174171448, 0.05732601881027222, 0.037857748568058014, 0.03706919774413109, 0.05419061705470085, 0.0], [0.785082995891571, 0.021021073684096336, 0.02096913382411003, 0.05647238716483116, 0.036723777651786804, 0.032499972730875015, 0.019279832020401955, 0.027950860559940338]], [[1.0, 0.0, 0.0, 0.0, 0.0, 0.0, 0.0, 0.0], [0.00012039679859299213, 0.9998795986175537, 0.0, 0.0, 0.0, 0.0, 0.0, 0.0], [8.541189890820533e-05, 0.4808177053928375, 0.519096851348877, 0.0, 0.0, 0.0, 0.0, 0.0], [2.3255111955222674e-05, 0.16570037603378296, 0.5259301066398621, 0.30834630131721497, 0.0, 0.0, 0.0, 0.0], [0.00021809182362630963, 0.1170426458120346, 0.2378094643354416, 0.16765236854553223, 0.4772774279117584, 0.0, 0.0, 0.0], [0.0001532409223727882, 0.06643302738666534, 0.1052325963973999, 0.054545268416404724, 0.6580303311347961, 0.11560549587011337, 0.0, 0.0], [7.99192494014278e-05, 0.030413571745157242, 0.04375039413571358, 0.023742731660604477, 0.2564593553543091, 0.5564661026000977, 0.08908788859844208, 0.0], [8.549410267733037e-05, 0.03303127735853195, 0.011239220388233662, 0.010247181169688702, 0.14526836574077606, 0.37017714977264404, 0.37211236357688904, 0.05783889442682266]], [[1.0, 0.0, 0.0, 0.0, 0.0, 0.0, 0.0, 0.0], [0.9810580015182495, 0.018942032009363174, 0.0, 0.0, 0.0, 0.0, 0.0, 0.0], [0.9476872086524963, 0.02038789913058281, 0.03192482516169548, 0.0, 0.0, 0.0, 0.0, 0.0], [0.963687002658844, 0.010445295833051205, 0.006236154120415449, 0.01963154599070549, 0.0, 0.0, 0.0, 0.0], [0.9359138607978821, 0.01428373996168375, 0.008350702933967113, 0.022819796577095985, 0.01863199472427368, 0.0, 0.0, 0.0], [0.9294375777244568, 0.005914916750043631, 0.0034069870598614216, 0.01654525101184845, 0.03548286855220795, 0.009212442673742771, 0.0, 0.0], [0.9486967325210571, 0.0036296609323471785, 0.005807460285723209, 0.00868684146553278, 0.012093108147382736, 0.003112983191385865, 0.017973225563764572, 0.0], [0.8889471292495728, 0.0029301506001502275, 0.0030167654622346163, 0.013399231247603893, 0.01914542354643345, 0.008613583631813526, 0.02021906152367592, 0.04372873529791832]], [[1.0, 0.0, 0.0, 0.0, 0.0, 0.0, 0.0, 0.0], [0.802443265914917, 0.1975567489862442, 0.0, 0.0, 0.0, 0.0, 0.0, 0.0], [0.5767242908477783, 0.1745603233575821, 0.24871544539928436, 0.0, 0.0, 0.0, 0.0, 0.0], [0.7691839337348938, 0.03223421052098274, 0.08152652531862259, 0.11705536395311356, 0.0, 0.0, 0.0, 0.0], [0.6199756860733032, 0.04694131016731262, 0.08262031525373459, 0.07773855328559875, 0.17272412776947021, 0.0, 0.0, 0.0], [0.48241713643074036, 0.013265535235404968, 0.04882632941007614, 0.044091567397117615, 0.3238281309604645, 0.08757125586271286, 0.0, 0.0], [0.2932415306568146, 0.00669507822021842, 0.07721229642629623, 0.06231660768389702, 0.20528562366962433, 0.25734224915504456, 0.09790660440921783, 0.0], [0.252654492855072, 0.004451144486665726, 0.00981574784964323, 0.013477245345711708, 0.04458827152848244, 0.08696556091308594, 0.5405591130256653, 0.04748840630054474]], [[1.0, 0.0, 0.0, 0.0, 0.0, 0.0, 0.0, 0.0], [0.9200639128684998, 0.07993607968091965, 0.0, 0.0, 0.0, 0.0, 0.0, 0.0], [0.8573935031890869, 0.07504842430353165, 0.06755807995796204, 0.0, 0.0, 0.0, 0.0, 0.0], [0.8790890574455261, 0.04195854440331459, 0.040646038949489594, 0.038306377828121185, 0.0, 0.0, 0.0, 0.0], [0.772611677646637, 0.05002825707197189, 0.030442574992775917, 0.04946007952094078, 0.09745745360851288, 0.0, 0.0, 0.0], [0.5290020704269409, 0.02506999857723713, 0.01603899709880352, 0.023406818509101868, 0.3497714102268219, 0.056710757315158844, 0.0, 0.0], [0.5653807520866394, 0.006672462914139032, 0.010535361245274544, 0.01844867505133152, 0.12373217195272446, 0.23699088394641876, 0.038239654153585434, 0.0], [0.3841356635093689, 0.009663485921919346, 0.0026038927026093006, 0.005287077743560076, 0.04880332201719284, 0.10315799713134766, 0.39042824506759644, 0.05592034012079239]]]], \"left_text\": [\"Building\", \" artificial\", \" intelligence\", \" tools\", \" requires\", \" a\", \" solid\", \" mathematical\"], \"right_text\": [\"Building\", \" artificial\", \" intelligence\", \" tools\", \" requires\", \" a\", \" solid\", \" mathematical\"]}], \"default_filter\": \"0\", \"root_div_id\": \"bertviz-3793fffe645c482fbfe7d2f20ac7a83a\", \"layer\": null, \"heads\": null, \"include_layers\": [0, 1, 2, 3, 4, 5, 6, 7, 8, 9, 10, 11]}; // HACK: {\"attention\": [{\"name\": null, \"attn\": [[[[1.0, 0.0, 0.0, 0.0, 0.0, 0.0, 0.0, 0.0], [0.8877162933349609, 0.11228378862142563, 0.0, 0.0, 0.0, 0.0, 0.0, 0.0], [0.6605398654937744, 0.22695423662662506, 0.11250586807727814, 0.0, 0.0, 0.0, 0.0, 0.0], [0.34165456891059875, 0.3649158477783203, 0.19496774673461914, 0.09846190363168716, 0.0, 0.0, 0.0, 0.0], [0.3715820610523224, 0.37111014127731323, 0.06808439642190933, 0.10882465541362762, 0.08039882034063339, 0.0, 0.0, 0.0], [0.41229239106178284, 0.17571300268173218, 0.09397292137145996, 0.13547667860984802, 0.14413107931613922, 0.038413990288972855, 0.0, 0.0], [0.21224765479564667, 0.4147885739803314, 0.10321108996868134, 0.08483769744634628, 0.03322071582078934, 0.07086392492055893, 0.0808304026722908, 0.0], [0.14121325314044952, 0.16069777309894562, 0.3927091956138611, 0.06110474839806557, 0.06823898106813431, 0.0609108991920948, 0.06828994303941727, 0.04683510959148407]], [[1.0, 0.0, 0.0, 0.0, 0.0, 0.0, 0.0, 0.0], [0.00023511519248131663, 0.9997648596763611, 0.0, 0.0, 0.0, 0.0, 0.0, 0.0], [0.00011151335638714954, 0.021153204143047333, 0.9787352681159973, 0.0, 0.0, 0.0, 0.0, 0.0], [0.0010434901341795921, 0.002533558988943696, 0.0024259155616164207, 0.9939970970153809, 0.0, 0.0, 0.0, 0.0], [0.00016836951544974, 0.002579107880592346, 0.00048358115600422025, 0.004979818593710661, 0.9917891025543213, 0.0, 0.0, 0.0], [0.0009687815327197313, 0.003162452718243003, 0.0004478182236198336, 0.0005896162474527955, 0.00012420007260516286, 0.9947071671485901, 0.0, 0.0], [9.939748997567222e-05, 0.0026851696893572807, 6.818563269916922e-05, 0.00031371432123705745, 8.446092397207394e-05, 0.00010094505705637857, 0.9966480135917664, 0.0], [0.0002953937218990177, 0.01380225084722042, 0.0007973885512910783, 0.0009277985082007945, 0.0003464386682026088, 8.73326207511127e-05, 0.0018034751992672682, 0.981939971446991]], [[1.0, 0.0, 0.0, 0.0, 0.0, 0.0, 0.0, 0.0], [0.6675454378128052, 0.3324545919895172, 0.0, 0.0, 0.0, 0.0, 0.0, 0.0], [0.5461328625679016, 0.14892257750034332, 0.30494460463523865, 0.0, 0.0, 0.0, 0.0, 0.0], [0.33273571729660034, 0.18712691962718964, 0.3657222390174866, 0.11441517621278763, 0.0, 0.0, 0.0, 0.0], [0.4977875351905823, 0.08851924538612366, 0.15617167949676514, 0.16918456554412842, 0.08833707123994827, 0.0, 0.0, 0.0], [0.3922475278377533, 0.1285170018672943, 0.10289580374956131, 0.13130247592926025, 0.15860679745674133, 0.08643043041229248, 0.0, 0.0], [0.23068617284297943, 0.07192572206258774, 0.46299099922180176, 0.10119746625423431, 0.06053845211863518, 0.05424100533127785, 0.018420161679387093, 0.0], [0.14095953106880188, 0.14889922738075256, 0.170403391122818, 0.10942758619785309, 0.10304539650678635, 0.08477465808391571, 0.056049901992082596, 0.1864403635263443]], [[1.0, 0.0, 0.0, 0.0, 0.0, 0.0, 0.0, 0.0], [0.10254068672657013, 0.8974593281745911, 0.0, 0.0, 0.0, 0.0, 0.0, 0.0], [0.02575778216123581, 0.7983735203742981, 0.1758686602115631, 0.0, 0.0, 0.0, 0.0, 0.0], [0.0673113465309143, 0.05484570935368538, 0.056230224668979645, 0.8216126561164856, 0.0, 0.0, 0.0, 0.0], [0.036863621324300766, 0.005510200280696154, 0.008070463314652443, 0.009413773193955421, 0.940142035484314, 0.0, 0.0, 0.0], [0.04463419318199158, 0.045347630977630615, 0.027166258543729782, 0.027487337589263916, 0.17602039873600006, 0.6793441772460938, 0.0, 0.0], [0.005362689960747957, 0.00069872394669801, 0.00034533211146481335, 0.0013098351191729307, 0.0002724355726968497, 0.0010984527179971337, 0.9909125566482544, 0.0], [0.0008162085432559252, 0.0007990628946572542, 0.00011602963786572218, 6.298262451309711e-05, 0.00017440368537791073, 4.650997288990766e-05, 0.0012908311327919364, 0.9966939687728882]], [[1.0, 0.0, 0.0, 0.0, 0.0, 0.0, 0.0, 0.0], [0.5346719622612, 0.46532803773880005, 0.0, 0.0, 0.0, 0.0, 0.0, 0.0], [0.161887988448143, 0.1701478362083435, 0.6679641008377075, 0.0, 0.0, 0.0, 0.0, 0.0], [0.1487835794687271, 0.08753573894500732, 0.09944285452365875, 0.6642378568649292, 0.0, 0.0, 0.0, 0.0], [0.08852177113294601, 0.050932351499795914, 0.09257622063159943, 0.03718847781419754, 0.7307811975479126, 0.0, 0.0, 0.0], [0.14654091000556946, 0.08864608407020569, 0.09706383943557739, 0.13344770669937134, 0.3949030637741089, 0.13939842581748962, 0.0, 0.0], [0.05753959342837334, 0.014980911277234554, 0.01658482290804386, 0.010021086782217026, 0.007843445986509323, 0.009992070496082306, 0.8830380439758301, 0.0], [0.02969931624829769, 0.030023492872714996, 0.011386066675186157, 0.009000586345791817, 0.008653728291392326, 0.005591061431914568, 0.042354196310043335, 0.8632915019989014]], [[1.0, 0.0, 0.0, 0.0, 0.0, 0.0, 0.0, 0.0], [0.10497061908245087, 0.8950293660163879, 0.0, 0.0, 0.0, 0.0, 0.0, 0.0], [0.024625517427921295, 0.0007440848276019096, 0.9746304154396057, 0.0, 0.0, 0.0, 0.0, 0.0], [0.15965873003005981, 0.00044823516509495676, 0.00035362259950488806, 0.8395394086837769, 0.0, 0.0, 0.0, 0.0], [0.0327615961432457, 0.0009251699666492641, 3.779172038775869e-05, 0.0008469111053273082, 0.9654284715652466, 0.0, 0.0, 0.0], [0.05504052713513374, 0.04830870032310486, 0.022852810099720955, 0.0056836665607988834, 0.0096250269562006, 0.8584892749786377, 0.0, 0.0], [0.03188939392566681, 0.00022322079166769981, 9.252266318071634e-05, 0.00012502053868956864, 4.744147190649528e-06, 4.2702558857854456e-06, 0.9676607847213745, 0.0], [0.0063123395666480064, 0.001010871841572225, 2.8962265787413344e-05, 9.102159310714342e-06, 9.985408723878209e-06, 3.0394977557079983e-07, 1.7227555872523226e-05, 0.9926112294197083]], [[1.0, 0.0, 0.0, 0.0, 0.0, 0.0, 0.0, 0.0], [0.810388445854187, 0.1896115243434906, 0.0, 0.0, 0.0, 0.0, 0.0, 0.0], [0.4752337634563446, 0.36733388900756836, 0.15743237733840942, 0.0, 0.0, 0.0, 0.0, 0.0], [0.3432074189186096, 0.3426226079463959, 0.14390245079994202, 0.1702674925327301, 0.0, 0.0, 0.0, 0.0], [0.3227108120918274, 0.19965240359306335, 0.14555683732032776, 0.1929292380809784, 0.1391506940126419, 0.0, 0.0, 0.0], [0.3407200574874878, 0.24092601239681244, 0.13115154206752777, 0.1350788027048111, 0.14465856552124023, 0.00746501749381423, 0.0, 0.0], [0.2522771954536438, 0.25392723083496094, 0.16214972734451294, 0.12338300794363022, 0.0865025594830513, 0.03016454167664051, 0.09159577637910843, 0.0], [0.18138498067855835, 0.2459450215101242, 0.10908448696136475, 0.09946535527706146, 0.05753259360790253, 0.05271885544061661, 0.07406407594680786, 0.17980468273162842]], [[1.0, 0.0, 0.0, 0.0, 0.0, 0.0, 0.0, 0.0], [0.9732917547225952, 0.026708189398050308, 0.0, 0.0, 0.0, 0.0, 0.0, 0.0], [0.08783754706382751, 0.8779870867729187, 0.03417545184493065, 0.0, 0.0, 0.0, 0.0, 0.0], [0.21012908220291138, 0.2400185912847519, 0.41302406787872314, 0.13682827353477478, 0.0, 0.0, 0.0, 0.0], [0.16088458895683289, 0.09076938033103943, 0.1553432047367096, 0.24340951442718506, 0.3495934009552002, 0.0, 0.0, 0.0], [0.12106093764305115, 0.05767722427845001, 0.15802662074565887, 0.08886345475912094, 0.2665196657180786, 0.3078520596027374, 0.0, 0.0], [0.13155607879161835, 0.029874922707676888, 0.038801565766334534, 0.02994166500866413, 0.17282049357891083, 0.31281140446662903, 0.28419390320777893, 0.0], [0.08054695278406143, 0.05062743276357651, 0.02231927216053009, 0.03490680828690529, 0.10916931182146072, 0.21822278201580048, 0.2823490500450134, 0.20185844600200653]], [[1.0, 0.0, 0.0, 0.0, 0.0, 0.0, 0.0, 0.0], [0.7137146592140198, 0.2862853705883026, 0.0, 0.0, 0.0, 0.0, 0.0, 0.0], [0.5629851818084717, 0.3854306936264038, 0.05158412083983421, 0.0, 0.0, 0.0, 0.0, 0.0], [0.5282485485076904, 0.17421483993530273, 0.05700550973415375, 0.24053113162517548, 0.0, 0.0, 0.0, 0.0], [0.3599095344543457, 0.134527787566185, 0.15871842205524445, 0.18717309832572937, 0.15967115759849548, 0.0, 0.0, 0.0], [0.03167687729001045, 0.031398843973875046, 0.028513414785265923, 0.02505376748740673, 0.045249056071043015, 0.8381080031394958, 0.0, 0.0], [0.2876918315887451, 0.18711958825588226, 0.09512555599212646, 0.0956808403134346, 0.05185186490416527, 0.20133031904697418, 0.08120003342628479, 0.0], [0.31832975149154663, 0.11861231178045273, 0.10831630229949951, 0.15238551795482635, 0.08836173266172409, 0.1234925389289856, 0.05161910876631737, 0.038882654160261154]], [[1.0, 0.0, 0.0, 0.0, 0.0, 0.0, 0.0, 0.0], [0.9278619885444641, 0.07213802635669708, 0.0, 0.0, 0.0, 0.0, 0.0, 0.0], [0.7367485165596008, 0.2227807641029358, 0.04047071933746338, 0.0, 0.0, 0.0, 0.0, 0.0], [0.41466495394706726, 0.2328026443719864, 0.25243520736694336, 0.10009720176458359, 0.0, 0.0, 0.0, 0.0], [0.35575851798057556, 0.13914504647254944, 0.1830081045627594, 0.14830486476421356, 0.17378351092338562, 0.0, 0.0, 0.0], [0.3038939833641052, 0.11946744471788406, 0.1319771558046341, 0.10998664051294327, 0.12503185868263245, 0.20964296162128448, 0.0, 0.0], [0.2901850938796997, 0.12928317487239838, 0.16508331894874573, 0.1258988380432129, 0.09993637353181839, 0.1374029666185379, 0.05221022665500641, 0.0], [0.24859383702278137, 0.11615082621574402, 0.12051749229431152, 0.12253371626138687, 0.11684102565050125, 0.13937638700008392, 0.10347200930118561, 0.03251466527581215]], [[1.0, 0.0, 0.0, 0.0, 0.0, 0.0, 0.0, 0.0], [0.653205931186676, 0.346794068813324, 0.0, 0.0, 0.0, 0.0, 0.0, 0.0], [0.4970112144947052, 0.1619866043329239, 0.3410021960735321, 0.0, 0.0, 0.0, 0.0, 0.0], [0.4546121656894684, 0.12244149297475815, 0.11010128259658813, 0.3128451108932495, 0.0, 0.0, 0.0, 0.0], [0.31945013999938965, 0.16201390326023102, 0.1064368188381195, 0.0933171883225441, 0.3187819719314575, 0.0, 0.0, 0.0], [0.3443697690963745, 0.11514166742563248, 0.07654865831136703, 0.07121353596448898, 0.06987772136926651, 0.3228485882282257, 0.0, 0.0], [0.2110781967639923, 0.12137772142887115, 0.10198339074850082, 0.06511159986257553, 0.05662232264876366, 0.1218051090836525, 0.32202163338661194, 0.0], [0.20831334590911865, 0.13499349355697632, 0.09167148172855377, 0.07084403932094574, 0.06127985566854477, 0.08554442226886749, 0.05572455748915672, 0.29162874817848206]], [[1.0, 0.0, 0.0, 0.0, 0.0, 0.0, 0.0, 0.0], [0.8214458227157593, 0.1785542368888855, 0.0, 0.0, 0.0, 0.0, 0.0, 0.0], [0.6305447220802307, 0.18400859832763672, 0.18544670939445496, 0.0, 0.0, 0.0, 0.0, 0.0], [0.4856235682964325, 0.16029666364192963, 0.14508138597011566, 0.2089983969926834, 0.0, 0.0, 0.0, 0.0], [0.4734981060028076, 0.07900895923376083, 0.09538737684488297, 0.11235807836055756, 0.23974750936031342, 0.0, 0.0, 0.0], [0.3762272000312805, 0.07750453799962997, 0.10984484851360321, 0.1208232045173645, 0.1977720409631729, 0.1178281232714653, 0.0, 0.0], [0.37214404344558716, 0.11480376124382019, 0.08435747772455215, 0.0930853858590126, 0.14088252186775208, 0.0852869525551796, 0.10943994671106339, 0.0], [0.2683112919330597, 0.09968297183513641, 0.0790824443101883, 0.09762948006391525, 0.10357340425252914, 0.0826028361916542, 0.12551239132881165, 0.14360515773296356]]], [[[1.0, 0.0, 0.0, 0.0, 0.0, 0.0, 0.0, 0.0], [0.9777916073799133, 0.022208360955119133, 0.0, 0.0, 0.0, 0.0, 0.0, 0.0], [0.5022138357162476, 0.44155728816986084, 0.05622885376214981, 0.0, 0.0, 0.0, 0.0, 0.0], [0.5270350575447083, 0.21911613643169403, 0.09439076483249664, 0.15945808589458466, 0.0, 0.0, 0.0, 0.0], [0.38777169585227966, 0.08926797658205032, 0.08371444791555405, 0.17033454775810242, 0.2689112722873688, 0.0, 0.0, 0.0], [0.25783810019493103, 0.039431132376194, 0.023428354412317276, 0.08234795928001404, 0.5001349449157715, 0.09681954979896545, 0.0, 0.0], [0.0634680837392807, 0.03706694021821022, 0.012373929843306541, 0.03971095010638237, 0.18525058031082153, 0.5371341705322266, 0.12499534338712692, 0.0], [0.10754666477441788, 0.08077145367860794, 0.0266114454716444, 0.06268099695444107, 0.10338694602251053, 0.18877531588077545, 0.2651406228542328, 0.16508661210536957]], [[1.0, 0.0, 0.0, 0.0, 0.0, 0.0, 0.0, 0.0], [0.9615183472633362, 0.038481708616018295, 0.0, 0.0, 0.0, 0.0, 0.0, 0.0], [0.8299286961555481, 0.09956753253936768, 0.070503830909729, 0.0, 0.0, 0.0, 0.0, 0.0], [0.6929276585578918, 0.09351550787687302, 0.07722599059343338, 0.13633082807064056, 0.0, 0.0, 0.0, 0.0], [0.5238410234451294, 0.06229356303811073, 0.05197349563241005, 0.11158868670463562, 0.25030317902565, 0.0, 0.0, 0.0], [0.3051052987575531, 0.04398728907108307, 0.03898831084370613, 0.08576153963804245, 0.38585659861564636, 0.1403009444475174, 0.0, 0.0], [0.1794145703315735, 0.039491601288318634, 0.029251445084810257, 0.08922480791807175, 0.3784182071685791, 0.2103501707315445, 0.07384925335645676, 0.0], [0.13376717269420624, 0.02929043211042881, 0.023021748289465904, 0.06825213134288788, 0.28547871112823486, 0.2071891576051712, 0.12540142238140106, 0.12759925425052643]], [[1.0, 0.0, 0.0, 0.0, 0.0, 0.0, 0.0, 0.0], [0.978303849697113, 0.021696150302886963, 0.0, 0.0, 0.0, 0.0, 0.0, 0.0], [0.8138989806175232, 0.04517021030187607, 0.14093075692653656, 0.0, 0.0, 0.0, 0.0, 0.0], [0.556267499923706, 0.046083442866802216, 0.12332663685083389, 0.2743224501609802, 0.0, 0.0, 0.0, 0.0], [0.40052536129951477, 0.03823593258857727, 0.09683777391910553, 0.19922521710395813, 0.26517561078071594, 0.0, 0.0, 0.0], [0.2979048788547516, 0.02997206151485443, 0.07383311539888382, 0.15418173372745514, 0.19001096487045288, 0.2540973126888275, 0.0, 0.0], [0.23136760294437408, 0.03107045404613018, 0.07265277951955795, 0.14557762444019318, 0.1777927279472351, 0.21408715844154358, 0.12745170295238495, 0.0], [0.18580466508865356, 0.0283905528485775, 0.0669577568769455, 0.13166655600070953, 0.1541541963815689, 0.179426372051239, 0.10553059726953506, 0.14806927740573883]], [[1.0, 0.0, 0.0, 0.0, 0.0, 0.0, 0.0, 0.0], [0.6137046813964844, 0.38629528880119324, 0.0, 0.0, 0.0, 0.0, 0.0, 0.0], [0.6174689531326294, 0.17305633425712585, 0.20947469770908356, 0.0, 0.0, 0.0, 0.0, 0.0], [0.6035811901092529, 0.10910318791866302, 0.13508011400699615, 0.1522355079650879, 0.0, 0.0, 0.0, 0.0], [0.5278575420379639, 0.08989381790161133, 0.10750492662191391, 0.12398230284452438, 0.15076136589050293, 0.0, 0.0, 0.0], [0.48966971039772034, 0.07237053662538528, 0.09142429381608963, 0.10984346270561218, 0.12833084166049957, 0.10836108773946762, 0.0, 0.0], [0.5165801644325256, 0.05132618919014931, 0.07113637030124664, 0.09162407368421555, 0.10538965463638306, 0.08133866637945175, 0.08260482549667358, 0.0], [0.5089173316955566, 0.04467655345797539, 0.0618617944419384, 0.07565176486968994, 0.0890193060040474, 0.06847937405109406, 0.07291033118963242, 0.07848342508077621]], [[1.0, 0.0, 0.0, 0.0, 0.0, 0.0, 0.0, 0.0], [0.9201932549476624, 0.07980669289827347, 0.0, 0.0, 0.0, 0.0, 0.0, 0.0], [0.8082438111305237, 0.09637323021888733, 0.09538300335407257, 0.0, 0.0, 0.0, 0.0, 0.0], [0.6887509822845459, 0.09724871069192886, 0.08967410773038864, 0.12432628870010376, 0.0, 0.0, 0.0, 0.0], [0.617611289024353, 0.08106333762407303, 0.07376596331596375, 0.10274526476860046, 0.12481401115655899, 0.0, 0.0, 0.0], [0.539758026599884, 0.07689066231250763, 0.07331046462059021, 0.10272259265184402, 0.11809764057397842, 0.08922061324119568, 0.0, 0.0], [0.48870235681533813, 0.07773143798112869, 0.06949295848608017, 0.08882778882980347, 0.1009986400604248, 0.06984647363424301, 0.10440036654472351, 0.0], [0.4380120038986206, 0.07188013195991516, 0.06607446074485779, 0.08708453923463821, 0.09301391243934631, 0.06485533714294434, 0.08935122191905975, 0.08972842246294022]], [[1.0, 0.0, 0.0, 0.0, 0.0, 0.0, 0.0, 0.0], [0.9051177501678467, 0.09488227963447571, 0.0, 0.0, 0.0, 0.0, 0.0, 0.0], [0.5865523815155029, 0.1858038455247879, 0.22764375805854797, 0.0, 0.0, 0.0, 0.0, 0.0], [0.5239564180374146, 0.19760572910308838, 0.13499872386455536, 0.1434391736984253, 0.0, 0.0, 0.0, 0.0], [0.48457860946655273, 0.05203855037689209, 0.06138886138796806, 0.07160751521587372, 0.33038651943206787, 0.0, 0.0, 0.0], [0.5490049719810486, 0.06764250993728638, 0.045779332518577576, 0.030020395293831825, 0.1325591802597046, 0.17499352991580963, 0.0, 0.0], [0.3392634093761444, 0.23125720024108887, 0.04917256534099579, 0.06487461924552917, 0.08601191639900208, 0.19232960045337677, 0.03709070757031441, 0.0], [0.2011568695306778, 0.11002297699451447, 0.20534245669841766, 0.11128503829240799, 0.07272933423519135, 0.1290890872478485, 0.0384858176112175, 0.13188840448856354]], [[1.0, 0.0, 0.0, 0.0, 0.0, 0.0, 0.0, 0.0], [0.9525487422943115, 0.04745128005743027, 0.0, 0.0, 0.0, 0.0, 0.0, 0.0], [0.2188906967639923, 0.6782575249671936, 0.10285171866416931, 0.0, 0.0, 0.0, 0.0, 0.0], [0.5117983222007751, 0.26885300874710083, 0.09842119365930557, 0.12092753499746323, 0.0, 0.0, 0.0, 0.0], [0.6596609354019165, 0.059980008751153946, 0.01890033483505249, 0.18967387080192566, 0.0717848539352417, 0.0, 0.0, 0.0], [0.611221969127655, 0.09011022746562958, 0.04257100075483322, 0.05675198510289192, 0.06481743603944778, 0.13452735543251038, 0.0, 0.0], [0.403862863779068, 0.06986112892627716, 0.10807011276483536, 0.10117041319608688, 0.10725734382867813, 0.12247973680496216, 0.0872984379529953, 0.0], [0.268429160118103, 0.04145798459649086, 0.22134223580360413, 0.10929812490940094, 0.05962333828210831, 0.14923535287380219, 0.05927685275673866, 0.09133701026439667]], [[1.0, 0.0, 0.0, 0.0, 0.0, 0.0, 0.0, 0.0], [0.9318017959594727, 0.06819826364517212, 0.0, 0.0, 0.0, 0.0, 0.0, 0.0], [0.7222363352775574, 0.21403153240680695, 0.06373214721679688, 0.0, 0.0, 0.0, 0.0, 0.0], [0.5450158715248108, 0.18012817203998566, 0.2093549221754074, 0.06550102680921555, 0.0, 0.0, 0.0, 0.0], [0.44776180386543274, 0.17036178708076477, 0.19039727747440338, 0.09985916316509247, 0.09161997586488724, 0.0, 0.0, 0.0], [0.43929681181907654, 0.10433398187160492, 0.11938202381134033, 0.10688319802284241, 0.09123405069112778, 0.13886986672878265, 0.0, 0.0], [0.24780453741550446, 0.07913748919963837, 0.23308688402175903, 0.21272152662277222, 0.0993342325091362, 0.08972823619842529, 0.038187041878700256, 0.0], [0.3326588571071625, 0.15973101556301117, 0.13138756155967712, 0.09799730777740479, 0.06707849353551865, 0.07311277091503143, 0.07801765203475952, 0.06001628190279007]], [[1.0, 0.0, 0.0, 0.0, 0.0, 0.0, 0.0, 0.0], [0.9299662709236145, 0.07003378123044968, 0.0, 0.0, 0.0, 0.0, 0.0, 0.0], [0.8283240795135498, 0.08215484768152237, 0.08952102065086365, 0.0, 0.0, 0.0, 0.0, 0.0], [0.7482273578643799, 0.07710099965333939, 0.09098358452320099, 0.08368809521198273, 0.0, 0.0, 0.0, 0.0], [0.5834676623344421, 0.08097302168607712, 0.09585335105657578, 0.10293178260326385, 0.13677413761615753, 0.0, 0.0, 0.0], [0.5082857012748718, 0.06735473871231079, 0.06432205438613892, 0.07577528804540634, 0.11837521195411682, 0.16588695347309113, 0.0, 0.0], [0.46097707748413086, 0.04660516604781151, 0.058535605669021606, 0.06315282732248306, 0.13214699923992157, 0.19318191707134247, 0.045400470495224, 0.0], [0.42750120162963867, 0.04562375694513321, 0.06486747413873672, 0.0683615654706955, 0.11599356681108475, 0.1500958800315857, 0.04551735892891884, 0.08203922212123871]], [[1.0, 0.0, 0.0, 0.0, 0.0, 0.0, 0.0, 0.0], [0.9604140520095825, 0.039585962891578674, 0.0, 0.0, 0.0, 0.0, 0.0, 0.0], [0.8871681690216064, 0.06725702434778214, 0.045574843883514404, 0.0, 0.0, 0.0, 0.0, 0.0], [0.7284318804740906, 0.10630325227975845, 0.11306927353143692, 0.05219549685716629, 0.0, 0.0, 0.0, 0.0], [0.6556099057197571, 0.07688909769058228, 0.07093093544244766, 0.05331054702401161, 0.14325952529907227, 0.0, 0.0, 0.0], [0.5480930805206299, 0.045931313186883926, 0.03972935304045677, 0.04281391203403473, 0.12376922369003296, 0.19966307282447815, 0.0, 0.0], [0.4620629549026489, 0.04296645149588585, 0.04133741930127144, 0.03868119418621063, 0.1264093965291977, 0.2589500844478607, 0.029592465609312057, 0.0], [0.43752604722976685, 0.03481994941830635, 0.06984070688486099, 0.04196510091423988, 0.12380911409854889, 0.2218591272830963, 0.029756832867860794, 0.04042309150099754]], [[1.0, 0.0, 0.0, 0.0, 0.0, 0.0, 0.0, 0.0], [0.0003799714322667569, 0.9996199607849121, 0.0, 0.0, 0.0, 0.0, 0.0, 0.0], [0.0008819846552796662, 0.5113523006439209, 0.48776569962501526, 0.0, 0.0, 0.0, 0.0, 0.0], [0.0012807848397642374, 0.3036811649799347, 0.30920812487602234, 0.3858298659324646, 0.0, 0.0, 0.0, 0.0], [0.0010165973799303174, 0.20666450262069702, 0.21979115903377533, 0.2677042484283447, 0.30482351779937744, 0.0, 0.0, 0.0], [0.0013135041808709502, 0.15860484540462494, 0.17891228199005127, 0.22869352996349335, 0.25843289494514465, 0.17404289543628693, 0.0, 0.0], [0.0013519310159608722, 0.1246454119682312, 0.14808104932308197, 0.18887487053871155, 0.21870571374893188, 0.13743390142917633, 0.1809072196483612, 0.0], [0.001586881815455854, 0.10133096575737, 0.12089122831821442, 0.158141627907753, 0.18591654300689697, 0.11851013451814651, 0.14665120840072632, 0.16697144508361816]], [[1.0, 0.0, 0.0, 0.0, 0.0, 0.0, 0.0, 0.0], [0.34927117824554443, 0.6507288217544556, 0.0, 0.0, 0.0, 0.0, 0.0, 0.0], [0.26352307200431824, 0.025956526398658752, 0.7105204463005066, 0.0, 0.0, 0.0, 0.0, 0.0], [0.18038135766983032, 0.024199584499001503, 0.019502516835927963, 0.775916576385498, 0.0, 0.0, 0.0, 0.0], [0.06035248935222626, 0.003139080945402384, 0.0020061044488102198, 0.0085364431142807, 0.9259658455848694, 0.0, 0.0, 0.0], [0.1273701786994934, 0.0038023320958018303, 0.001665937015786767, 0.0008121277787722647, 0.002365497872233391, 0.8639838695526123, 0.0, 0.0], [0.06547428667545319, 0.02499517798423767, 0.005583873484283686, 0.0035743825137615204, 0.0015377722447738051, 0.008023671805858612, 0.8908108472824097, 0.0], [0.10558461397886276, 0.028776265680789948, 0.025722667574882507, 0.007305014878511429, 0.005261785350739956, 0.006423094309866428, 0.01161716878414154, 0.8093093633651733]]], [[[1.0, 0.0, 0.0, 0.0, 0.0, 0.0, 0.0, 0.0], [0.9493951797485352, 0.05060487240552902, 0.0, 0.0, 0.0, 0.0, 0.0, 0.0], [0.5795300602912903, 0.37241053581237793, 0.04805934801697731, 0.0, 0.0, 0.0, 0.0, 0.0], [0.5480388402938843, 0.37767696380615234, 0.051107246428728104, 0.023176927119493484, 0.0, 0.0, 0.0, 0.0], [0.6391854882240295, 0.16100560128688812, 0.03731150180101395, 0.04975111410021782, 0.11274627596139908, 0.0, 0.0, 0.0], [0.40958380699157715, 0.0921165943145752, 0.041060641407966614, 0.0947902500629425, 0.2724880576133728, 0.08996064960956573, 0.0, 0.0], [0.2776400148868561, 0.1205064058303833, 0.01718817465007305, 0.02979992888867855, 0.4124658405780792, 0.07224919646978378, 0.0701504647731781, 0.0], [0.3724592626094818, 0.16172948479652405, 0.02172170951962471, 0.020375778898596764, 0.04869989678263664, 0.11281152069568634, 0.20400108397006989, 0.058201201260089874]], [[1.0, 0.0, 0.0, 0.0, 0.0, 0.0, 0.0, 0.0], [0.9821670055389404, 0.01783299818634987, 0.0, 0.0, 0.0, 0.0, 0.0, 0.0], [0.8598196506500244, 0.030208928510546684, 0.10997134447097778, 0.0, 0.0, 0.0, 0.0, 0.0], [0.8474600911140442, 0.03634313866496086, 0.08318392187356949, 0.03301294520497322, 0.0, 0.0, 0.0, 0.0], [0.8111303448677063, 0.03129560872912407, 0.04582879692316055, 0.0422092005610466, 0.06953603029251099, 0.0, 0.0, 0.0], [0.8466567993164062, 0.012036919593811035, 0.0225478895008564, 0.018596088513731956, 0.060247913002967834, 0.0399143323302269, 0.0, 0.0], [0.7496874332427979, 0.021948497742414474, 0.03863176703453064, 0.026425223797559738, 0.087932288646698, 0.04046279937028885, 0.034911978989839554, 0.0], [0.6879591941833496, 0.021211935207247734, 0.07324572652578354, 0.04548342898488045, 0.06919225305318832, 0.04623071104288101, 0.038117215037345886, 0.018559599295258522]], [[1.0, 0.0, 0.0, 0.0, 0.0, 0.0, 0.0, 0.0], [0.974157452583313, 0.025842566043138504, 0.0, 0.0, 0.0, 0.0, 0.0, 0.0], [0.4045935869216919, 0.5506170392036438, 0.04478934779763222, 0.0, 0.0, 0.0, 0.0, 0.0], [0.3128434121608734, 0.2080831676721573, 0.31422993540763855, 0.16484352946281433, 0.0, 0.0, 0.0, 0.0], [0.38900265097618103, 0.023078678175807, 0.07194864749908447, 0.11050073057413101, 0.4054693281650543, 0.0, 0.0, 0.0], [0.034196559339761734, 0.006502028554677963, 0.006820386741310358, 0.03818794712424278, 0.8517093658447266, 0.06258365511894226, 0.0, 0.0], [0.07808393239974976, 0.007010160479694605, 0.0056728823110461235, 0.014126740396022797, 0.13716912269592285, 0.6119058132171631, 0.1460314393043518, 0.0], [0.13925854861736298, 0.006110153626650572, 0.005775065626949072, 0.007794974837452173, 0.09606462717056274, 0.16242653131484985, 0.33045703172683716, 0.25211310386657715]], [[1.0, 0.0, 0.0, 0.0, 0.0, 0.0, 0.0, 0.0], [0.9479337334632874, 0.052066195756196976, 0.0, 0.0, 0.0, 0.0, 0.0, 0.0], [0.7073336243629456, 0.27026864886283875, 0.022397806867957115, 0.0, 0.0, 0.0, 0.0, 0.0], [0.6623498797416687, 0.27086615562438965, 0.03241599351167679, 0.03436800092458725, 0.0, 0.0, 0.0, 0.0], [0.680522084236145, 0.11533432453870773, 0.026048878207802773, 0.02851698361337185, 0.1495777666568756, 0.0, 0.0, 0.0], [0.3558684289455414, 0.140102818608284, 0.029326096177101135, 0.05706057325005531, 0.2310054898262024, 0.18663659691810608, 0.0, 0.0], [0.06947555392980576, 0.05031750351190567, 0.026016542688012123, 0.04703522101044655, 0.280169814825058, 0.3770281970500946, 0.14995722472667694, 0.0], [0.0826990157365799, 0.018074670806527138, 0.005971054080873728, 0.012017789296805859, 0.07933665066957474, 0.403578519821167, 0.3169475793838501, 0.08137469738721848]], [[1.0, 0.0, 0.0, 0.0, 0.0, 0.0, 0.0, 0.0], [0.9794784188270569, 0.020521577447652817, 0.0, 0.0, 0.0, 0.0, 0.0, 0.0], [0.29643678665161133, 0.6663304567337036, 0.03723278269171715, 0.0, 0.0, 0.0, 0.0, 0.0], [0.6169214844703674, 0.18699587881565094, 0.1563594937324524, 0.03972310200333595, 0.0, 0.0, 0.0, 0.0], [0.8335759043693542, 0.05676478520035744, 0.02655250020325184, 0.022591372951865196, 0.060515474528074265, 0.0, 0.0, 0.0], [0.3691857159137726, 0.02273677848279476, 0.0057057724334299564, 0.023556623607873917, 0.4764620065689087, 0.10235307365655899, 0.0, 0.0], [0.43462997674942017, 0.015154221095144749, 0.0029308705125004053, 0.013506004586815834, 0.05354096367955208, 0.40854036808013916, 0.07169760763645172, 0.0], [0.4946816861629486, 0.015592028386890888, 0.004046970512717962, 0.01160924881696701, 0.043371908366680145, 0.3135383129119873, 0.03573725372552872, 0.08142261952161789]], [[1.0, 0.0, 0.0, 0.0, 0.0, 0.0, 0.0, 0.0], [0.9723871350288391, 0.027612892910838127, 0.0, 0.0, 0.0, 0.0, 0.0, 0.0], [0.8456469774246216, 0.08435869216918945, 0.06999443471431732, 0.0, 0.0, 0.0, 0.0, 0.0], [0.4808674156665802, 0.11831827461719513, 0.18449997901916504, 0.21631436049938202, 0.0, 0.0, 0.0, 0.0], [0.46924740076065063, 0.03804711997509003, 0.05255642533302307, 0.17400510609149933, 0.2661439776420593, 0.0, 0.0, 0.0], [0.12401190400123596, 0.022724255919456482, 0.06058235466480255, 0.1689516007900238, 0.545771598815918, 0.07795831561088562, 0.0, 0.0], [0.09651178121566772, 0.010975779965519905, 0.020461933687329292, 0.07656409591436386, 0.4113612473011017, 0.34795141220092773, 0.036173731088638306, 0.0], [0.1396995335817337, 0.005277146585285664, 0.01283416710793972, 0.11796577274799347, 0.37642815709114075, 0.20311278104782104, 0.110565185546875, 0.034117311239242554]], [[1.0, 0.0, 0.0, 0.0, 0.0, 0.0, 0.0, 0.0], [0.9834052324295044, 0.01659470982849598, 0.0, 0.0, 0.0, 0.0, 0.0, 0.0], [0.964722752571106, 0.0188397616147995, 0.016437457874417305, 0.0, 0.0, 0.0, 0.0, 0.0], [0.9288869500160217, 0.013700278475880623, 0.014566482044756413, 0.042846325784921646, 0.0, 0.0, 0.0, 0.0], [0.8243167400360107, 0.014511536806821823, 0.01369785238057375, 0.02666669525206089, 0.12080717086791992, 0.0, 0.0, 0.0], [0.6837918758392334, 0.011643638834357262, 0.012380760163068771, 0.021666089072823524, 0.12998972833156586, 0.14052803814411163, 0.0, 0.0], [0.6643407344818115, 0.008872210048139095, 0.007957465946674347, 0.016268569976091385, 0.15776897966861725, 0.11640932410955429, 0.028382599353790283, 0.0], [0.6729773879051208, 0.006258160341531038, 0.007845045998692513, 0.015350296162068844, 0.12667907774448395, 0.12221450358629227, 0.023560762405395508, 0.02511480264365673]], [[1.0, 0.0, 0.0, 0.0, 0.0, 0.0, 0.0, 0.0], [0.778876006603241, 0.2211240530014038, 0.0, 0.0, 0.0, 0.0, 0.0, 0.0], [0.538877010345459, 0.10230400413274765, 0.3588190972805023, 0.0, 0.0, 0.0, 0.0, 0.0], [0.3237321972846985, 0.06631292402744293, 0.2045927345752716, 0.405362069606781, 0.0, 0.0, 0.0, 0.0], [0.2533005177974701, 0.0491650365293026, 0.11825769394636154, 0.2388259321451187, 0.34045079350471497, 0.0, 0.0, 0.0], [0.21423117816448212, 0.028291797265410423, 0.08794485032558441, 0.16418443620204926, 0.2788759469985962, 0.22647178173065186, 0.0, 0.0], [0.21153052151203156, 0.032225318253040314, 0.09109679609537125, 0.14346027374267578, 0.22072753310203552, 0.14944346249103546, 0.15151609480381012, 0.0], [0.20031210780143738, 0.022025976330041885, 0.068606436252594, 0.12133800238370895, 0.17162947356700897, 0.10572357475757599, 0.114182248711586, 0.19618210196495056]], [[1.0, 0.0, 0.0, 0.0, 0.0, 0.0, 0.0, 0.0], [0.9814609885215759, 0.018539005890488625, 0.0, 0.0, 0.0, 0.0, 0.0, 0.0], [0.8296644687652588, 0.15422368049621582, 0.016111915931105614, 0.0, 0.0, 0.0, 0.0, 0.0], [0.7013332843780518, 0.17597989737987518, 0.015100430697202682, 0.10758645832538605, 0.0, 0.0, 0.0, 0.0], [0.6396194100379944, 0.04756388068199158, 0.012865991331636906, 0.0352216511964798, 0.2647290825843811, 0.0, 0.0, 0.0], [0.15553058683872223, 0.009936639107763767, 0.004513243678957224, 0.02731696516275406, 0.7666264772415161, 0.03607605770230293, 0.0, 0.0], [0.12909169495105743, 0.017504464834928513, 0.005025881342589855, 0.06260530650615692, 0.5681312680244446, 0.09741882979869843, 0.12022257596254349, 0.0], [0.1849728524684906, 0.00774007011204958, 0.006247799843549728, 0.05680561438202858, 0.39378196001052856, 0.13969282805919647, 0.13579155504703522, 0.07496730238199234]], [[1.0, 0.0, 0.0, 0.0, 0.0, 0.0, 0.0, 0.0], [0.958083987236023, 0.04191603511571884, 0.0, 0.0, 0.0, 0.0, 0.0, 0.0], [0.5903176665306091, 0.2945907711982727, 0.1150914877653122, 0.0, 0.0, 0.0, 0.0, 0.0], [0.20826560258865356, 0.1564272791147232, 0.4440065026283264, 0.191300630569458, 0.0, 0.0, 0.0, 0.0], [0.23157918453216553, 0.14127255976200104, 0.25815626978874207, 0.3242635130882263, 0.04472849890589714, 0.0, 0.0, 0.0], [0.22933895885944366, 0.075843945145607, 0.09372933208942413, 0.2205428183078766, 0.3430434763431549, 0.0375014953315258, 0.0, 0.0], [0.21441568434238434, 0.04158833250403404, 0.06783943623304367, 0.11813932657241821, 0.31984585523605347, 0.07104391604661942, 0.16712738573551178, 0.0], [0.1696872115135193, 0.018170909956097603, 0.048421505838632584, 0.09002111852169037, 0.06522297859191895, 0.0558682456612587, 0.2552207112312317, 0.29738739132881165]], [[1.0, 0.0, 0.0, 0.0, 0.0, 0.0, 0.0, 0.0], [0.8925663232803345, 0.10743360966444016, 0.0, 0.0, 0.0, 0.0, 0.0, 0.0], [0.6733503937721252, 0.10231335461139679, 0.22433628141880035, 0.0, 0.0, 0.0, 0.0, 0.0], [0.5146489143371582, 0.08045443147420883, 0.15069691836833954, 0.254199743270874, 0.0, 0.0, 0.0, 0.0], [0.42065489292144775, 0.08091292530298233, 0.10284315794706345, 0.1734548956155777, 0.2221340835094452, 0.0, 0.0, 0.0], [0.3777468502521515, 0.07037018239498138, 0.09811103343963623, 0.1428418606519699, 0.2013302892446518, 0.10959982126951218, 0.0, 0.0], [0.3355706036090851, 0.059077486395835876, 0.09248395264148712, 0.1215713620185852, 0.16814744472503662, 0.08158736675977707, 0.14156179130077362, 0.0], [0.2401982843875885, 0.054108258336782455, 0.08959002792835236, 0.12131267040967941, 0.1423678696155548, 0.07385871559381485, 0.11295328289270401, 0.16561082005500793]], [[1.0, 0.0, 0.0, 0.0, 0.0, 0.0, 0.0, 0.0], [0.9623783826828003, 0.0376216322183609, 0.0, 0.0, 0.0, 0.0, 0.0, 0.0], [0.8555294871330261, 0.03751387074589729, 0.1069566085934639, 0.0, 0.0, 0.0, 0.0, 0.0], [0.770521879196167, 0.039576802402734756, 0.0741332471370697, 0.1157679632306099, 0.0, 0.0, 0.0, 0.0], [0.7643911242485046, 0.03193548321723938, 0.04623519256711006, 0.07114911824464798, 0.08628906309604645, 0.0, 0.0, 0.0], [0.721284806728363, 0.027217088267207146, 0.03677181527018547, 0.05774504318833351, 0.08811672776937485, 0.06886441260576248, 0.0, 0.0], [0.6757847666740417, 0.023931210860610008, 0.04218043386936188, 0.05290147662162781, 0.07778572291135788, 0.055827796459198, 0.07158856093883514, 0.0], [0.6697074770927429, 0.016984816640615463, 0.03088226541876793, 0.04484754800796509, 0.07091231644153595, 0.04216231778264046, 0.049410704523324966, 0.07509251683950424]]], [[[1.0, 0.0, 0.0, 0.0, 0.0, 0.0, 0.0, 0.0], [0.9869987368583679, 0.01300126314163208, 0.0, 0.0, 0.0, 0.0, 0.0, 0.0], [0.9774462580680847, 0.00057978555560112, 0.02197389118373394, 0.0, 0.0, 0.0, 0.0, 0.0], [0.9580525755882263, 0.0007310776272788644, 0.0014406403061002493, 0.03977571427822113, 0.0, 0.0, 0.0, 0.0], [0.973722517490387, 0.0010409089736640453, 0.0005493250791914761, 0.0009743522386997938, 0.02371297776699066, 0.0, 0.0, 0.0], [0.9507784247398376, 0.0284527949988842, 0.0017375751631334424, 0.0005101524293422699, 0.0006340919062495232, 0.017886869609355927, 0.0, 0.0], [0.9626039266586304, 0.001579664065502584, 0.003583078971132636, 0.00020362412033136934, 9.70733817666769e-05, 0.0030121703166514635, 0.028920434415340424, 0.0], [0.8875827789306641, 0.0009572701528668404, 0.013840832747519016, 0.0017575143137946725, 0.0002510646590963006, 0.002780220238491893, 0.00038146780570968986, 0.09244882315397263]], [[1.0, 0.0, 0.0, 0.0, 0.0, 0.0, 0.0, 0.0], [0.9581955075263977, 0.041804518550634384, 0.0, 0.0, 0.0, 0.0, 0.0, 0.0], [0.8954336643218994, 0.03626871109008789, 0.06829763948917389, 0.0, 0.0, 0.0, 0.0, 0.0], [0.9350665211677551, 0.008027788251638412, 0.02228843793272972, 0.03461725637316704, 0.0, 0.0, 0.0, 0.0], [0.8714366555213928, 0.0041164830327034, 0.010865219868719578, 0.02112048678100109, 0.09246104955673218, 0.0, 0.0, 0.0], [0.6238877773284912, 0.004350332543253899, 0.008105268701910973, 0.013518011197447777, 0.16188856959342957, 0.18825003504753113, 0.0, 0.0], [0.6131478548049927, 0.008007089607417583, 0.011754299513995647, 0.014940517023205757, 0.15269987285137177, 0.18950331211090088, 0.009947010315954685, 0.0], [0.4962039589881897, 0.0070845638401806355, 0.010720182210206985, 0.022079624235630035, 0.145582914352417, 0.25872746109962463, 0.03441893309354782, 0.02518230490386486]], [[1.0, 0.0, 0.0, 0.0, 0.0, 0.0, 0.0, 0.0], [0.6754506230354309, 0.3245493769645691, 0.0, 0.0, 0.0, 0.0, 0.0, 0.0], [0.12463337182998657, 0.8387805223464966, 0.036586079746484756, 0.0, 0.0, 0.0, 0.0, 0.0], [0.3200065493583679, 0.6180519461631775, 0.0307001993060112, 0.03124128468334675, 0.0, 0.0, 0.0, 0.0], [0.3166675269603729, 0.3105024993419647, 0.05361619591712952, 0.04407503455877304, 0.2751387059688568, 0.0, 0.0, 0.0], [0.09844719618558884, 0.02801341377198696, 0.002735159359872341, 0.013592437840998173, 0.7236508131027222, 0.13356107473373413, 0.0, 0.0], [0.5050287246704102, 0.008841385133564472, 0.0007093938183970749, 0.0032555863726884127, 0.0568990595638752, 0.3266393542289734, 0.0986265018582344, 0.0], [0.18946769833564758, 0.015443569049239159, 0.001476071309298277, 0.0025340018328279257, 0.06693378835916519, 0.41241559386253357, 0.14281406998634338, 0.16891522705554962]], [[1.0, 0.0, 0.0, 0.0, 0.0, 0.0, 0.0, 0.0], [0.9490630626678467, 0.0509369820356369, 0.0, 0.0, 0.0, 0.0, 0.0, 0.0], [0.13214099407196045, 0.8435582518577576, 0.024300819262862206, 0.0, 0.0, 0.0, 0.0, 0.0], [0.6863883137702942, 0.1699046790599823, 0.10134022682905197, 0.04236675798892975, 0.0, 0.0, 0.0, 0.0], [0.9513683915138245, 0.014629031531512737, 0.0029864702373743057, 0.014350075274705887, 0.016666043549776077, 0.0, 0.0, 0.0], [0.5815557241439819, 0.0034406716004014015, 0.0003436134720686823, 0.004171574488282204, 0.3710654079914093, 0.03942306712269783, 0.0, 0.0], [0.945592999458313, 0.0008076218655332923, 3.481054227449931e-05, 0.00015054606774356216, 0.013077100738883018, 0.033737823367118835, 0.0065991561859846115, 0.0], [0.889366865158081, 0.006643407046794891, 0.00012314424384385347, 0.0003153106081299484, 0.01132104080170393, 0.026119515299797058, 0.04960888624191284, 0.016501903533935547]], [[1.0, 0.0, 0.0, 0.0, 0.0, 0.0, 0.0, 0.0], [0.9988874793052673, 0.0011125660967081785, 0.0, 0.0, 0.0, 0.0, 0.0, 0.0], [0.9749953150749207, 0.012594882398843765, 0.012409867718815804, 0.0, 0.0, 0.0, 0.0, 0.0], [0.9664871692657471, 0.00863725133240223, 0.014595329761505127, 0.010280286893248558, 0.0, 0.0, 0.0, 0.0], [0.963380753993988, 0.003146712202578783, 0.006509170401841402, 0.009667095728218555, 0.01729634217917919, 0.0, 0.0, 0.0], [0.9419634342193604, 0.005846541374921799, 0.009554070420563221, 0.012223356403410435, 0.01728498563170433, 0.013127592392265797, 0.0, 0.0], [0.9327921271324158, 0.015379786491394043, 0.019117167219519615, 0.012909146025776863, 0.0076925745233893394, 0.00866135023534298, 0.00344789307564497, 0.0], [0.873416543006897, 0.03452575206756592, 0.0378611758351326, 0.024337301030755043, 0.010030864737927914, 0.01149594597518444, 0.007692496757954359, 0.0006398579571396112]], [[1.0, 0.0, 0.0, 0.0, 0.0, 0.0, 0.0, 0.0], [0.9526636004447937, 0.0473364032804966, 0.0, 0.0, 0.0, 0.0, 0.0, 0.0], [0.8959789872169495, 0.06711260229349136, 0.03690841421484947, 0.0, 0.0, 0.0, 0.0, 0.0], [0.8236401677131653, 0.06488249450922012, 0.05145855247974396, 0.060018762946128845, 0.0, 0.0, 0.0, 0.0], [0.7489891648292542, 0.07274417579174042, 0.018707862123847008, 0.08830268681049347, 0.0712561309337616, 0.0, 0.0, 0.0], [0.6921578049659729, 0.042780742049217224, 0.015078299678862095, 0.05101875215768814, 0.11673473566770554, 0.08222969621419907, 0.0, 0.0], [0.7322236895561218, 0.04420557990670204, 0.050429970026016235, 0.06101417541503906, 0.03940020129084587, 0.05165029689669609, 0.021076112985610962, 0.0], [0.6677499413490295, 0.06468679755926132, 0.04716012254357338, 0.0413912832736969, 0.045755594968795776, 0.04288480803370476, 0.049458734691143036, 0.040912698954343796]], [[1.0, 0.0, 0.0, 0.0, 0.0, 0.0, 0.0, 0.0], [0.8487139344215393, 0.1512860208749771, 0.0, 0.0, 0.0, 0.0, 0.0, 0.0], [0.2749420404434204, 0.65993732213974, 0.065120629966259, 0.0, 0.0, 0.0, 0.0, 0.0], [0.17237742245197296, 0.6133774518966675, 0.18333695828914642, 0.03090815059840679, 0.0, 0.0, 0.0, 0.0], [0.31249821186065674, 0.3333829939365387, 0.16291852295398712, 0.09893263876438141, 0.09226769953966141, 0.0, 0.0, 0.0], [0.2698252201080322, 0.1491464525461197, 0.04936325550079346, 0.06091893091797829, 0.24323637783527374, 0.2275097519159317, 0.0, 0.0], [0.3585994243621826, 0.040291257202625275, 0.003944844007492065, 0.005623804405331612, 0.06937088072299957, 0.24983200430870056, 0.27233779430389404, 0.0], [0.21174480020999908, 0.037496089935302734, 0.0065634166821837425, 0.008602960035204887, 0.030995048582553864, 0.10148623585700989, 0.32808345556259155, 0.27502793073654175]], [[1.0, 0.0, 0.0, 0.0, 0.0, 0.0, 0.0, 0.0], [0.952570915222168, 0.047429103404283524, 0.0, 0.0, 0.0, 0.0, 0.0, 0.0], [0.5462259650230408, 0.4007693827152252, 0.05300470441579819, 0.0, 0.0, 0.0, 0.0, 0.0], [0.14516475796699524, 0.10086800903081894, 0.6449346542358398, 0.10903265327215195, 0.0, 0.0, 0.0, 0.0], [0.13822951912879944, 0.02381870523095131, 0.07384167611598969, 0.7308951020240784, 0.03321501612663269, 0.0, 0.0, 0.0], [0.4800107181072235, 0.009614039212465286, 0.011103853583335876, 0.054383911192417145, 0.3508044481277466, 0.09408304840326309, 0.0, 0.0], [0.6374443173408508, 0.004272808320820332, 0.0014376712497323751, 0.0021675170864909887, 0.20408588647842407, 0.09725947678089142, 0.05333233252167702, 0.0], [0.28415951132774353, 0.004213804844766855, 0.001973518868908286, 0.0027205797377973795, 0.024664001539349556, 0.07122724503278732, 0.5109055042266846, 0.1001359075307846]], [[1.0, 0.0, 0.0, 0.0, 0.0, 0.0, 0.0, 0.0], [0.9591651558876038, 0.040834855288267136, 0.0, 0.0, 0.0, 0.0, 0.0, 0.0], [0.715660035610199, 0.24417419731616974, 0.04016575217247009, 0.0, 0.0, 0.0, 0.0, 0.0], [0.7010197043418884, 0.04360847920179367, 0.0820985659956932, 0.17327316105365753, 0.0, 0.0, 0.0, 0.0], [0.5481021404266357, 0.03519793972373009, 0.013165515847504139, 0.04547980800271034, 0.35805457830429077, 0.0, 0.0, 0.0], [0.16189348697662354, 0.0018937248969450593, 0.001430325792171061, 0.009798087179660797, 0.8038255572319031, 0.021158801391720772, 0.0, 0.0], [0.5393813252449036, 0.018494872376322746, 0.006813978310674429, 0.009981621988117695, 0.29099777340888977, 0.09183713793754578, 0.0424932986497879, 0.0], [0.19926051795482635, 0.016301313415169716, 0.0038770632818341255, 0.03553551435470581, 0.42989444732666016, 0.10053312033414841, 0.19579502940177917, 0.018802927806973457]], [[1.0, 0.0, 0.0, 0.0, 0.0, 0.0, 0.0, 0.0], [0.949397623538971, 0.05060233548283577, 0.0, 0.0, 0.0, 0.0, 0.0, 0.0], [0.9237104654312134, 0.05921951308846474, 0.01707001030445099, 0.0, 0.0, 0.0, 0.0, 0.0], [0.9745408892631531, 0.00872091855853796, 0.006775225978344679, 0.009963002987205982, 0.0, 0.0, 0.0, 0.0], [0.9034215807914734, 0.0056310477666556835, 0.006195405498147011, 0.008447591215372086, 0.07630443572998047, 0.0, 0.0, 0.0], [0.25011003017425537, 0.003135952865704894, 0.0007066577090881765, 0.004445316269993782, 0.6569375991821289, 0.08466450870037079, 0.0, 0.0], [0.6227132678031921, 0.007048826664686203, 0.001168124726973474, 0.013037675060331821, 0.1728411614894867, 0.14746853709220886, 0.03572234511375427, 0.0], [0.5748588442802429, 0.00919710099697113, 0.010048569180071354, 0.06893675774335861, 0.11710876226425171, 0.10765904933214188, 0.07066196203231812, 0.041528891772031784]], [[1.0, 0.0, 0.0, 0.0, 0.0, 0.0, 0.0, 0.0], [0.9773653745651245, 0.02263454720377922, 0.0, 0.0, 0.0, 0.0, 0.0, 0.0], [0.7990499138832092, 0.04030848294496536, 0.16064156591892242, 0.0, 0.0, 0.0, 0.0, 0.0], [0.7130631804466248, 0.01871592178940773, 0.09538473188877106, 0.1728360950946808, 0.0, 0.0, 0.0, 0.0], [0.7357268929481506, 0.016294807195663452, 0.02949986420571804, 0.059314459562301636, 0.15916399657726288, 0.0, 0.0, 0.0], [0.7005497217178345, 0.026636585593223572, 0.016336452215909958, 0.044057540595531464, 0.07237017899751663, 0.14004945755004883, 0.0, 0.0], [0.7365692257881165, 0.03899887949228287, 0.011263571679592133, 0.022280210629105568, 0.03361727297306061, 0.02654656209051609, 0.130724236369133, 0.0], [0.5797228217124939, 0.017644423991441727, 0.01485477201640606, 0.028644070029258728, 0.03839140385389328, 0.04016733542084694, 0.10795871168375015, 0.17261649668216705]], [[1.0, 0.0, 0.0, 0.0, 0.0, 0.0, 0.0, 0.0], [0.9634089469909668, 0.03659098222851753, 0.0, 0.0, 0.0, 0.0, 0.0, 0.0], [0.6937121748924255, 0.2600237727165222, 0.04626404121518135, 0.0, 0.0, 0.0, 0.0, 0.0], [0.7288478016853333, 0.1621401607990265, 0.04632226750254631, 0.06268983334302902, 0.0, 0.0, 0.0, 0.0], [0.7515251636505127, 0.01923249289393425, 0.01408308930695057, 0.0372803695499897, 0.17787893116474152, 0.0, 0.0, 0.0], [0.48408079147338867, 0.003541058162227273, 0.0023471610620617867, 0.010545341297984123, 0.46620747447013855, 0.03327818959951401, 0.0, 0.0], [0.4241372346878052, 0.006384638138115406, 0.003090066369622946, 0.006552009843289852, 0.23577919602394104, 0.039012614637613297, 0.28504419326782227, 0.0], [0.13396728038787842, 0.0028968544211238623, 0.00039238028693944216, 0.0010043641086667776, 0.02406187169253826, 0.011515619233250618, 0.8082258701324463, 0.01793566904962063]]], [[[1.0, 0.0, 0.0, 0.0, 0.0, 0.0, 0.0, 0.0], [0.9474329948425293, 0.05256696790456772, 0.0, 0.0, 0.0, 0.0, 0.0, 0.0], [0.7887997031211853, 0.15243807435035706, 0.05876225233078003, 0.0, 0.0, 0.0, 0.0, 0.0], [0.9041457176208496, 0.011289314366877079, 0.04321804642677307, 0.041346970945596695, 0.0, 0.0, 0.0, 0.0], [0.9772205948829651, 0.001817324897274375, 0.001207080204039812, 0.0015271524898707867, 0.01822788268327713, 0.0, 0.0, 0.0], [0.16632550954818726, 0.0016478340839967132, 0.0002586394839454442, 0.0022351525258272886, 0.7657701969146729, 0.06376270204782486, 0.0, 0.0], [0.17877361178398132, 0.0015545004280284047, 0.0008666995563544333, 0.008667189627885818, 0.6154105067253113, 0.19011734426021576, 0.004610112402588129, 0.0], [0.490294486284256, 0.007814116775989532, 0.00233414932154119, 0.01557153183966875, 0.28787145018577576, 0.17257480323314667, 0.00999329425394535, 0.013546223752200603]], [[1.0, 0.0, 0.0, 0.0, 0.0, 0.0, 0.0, 0.0], [0.9858659505844116, 0.014134070836007595, 0.0, 0.0, 0.0, 0.0, 0.0, 0.0], [0.9465248584747314, 0.03665905445814133, 0.01681610941886902, 0.0, 0.0, 0.0, 0.0, 0.0], [0.9157699942588806, 0.008712542243301868, 0.007398082409054041, 0.0681193545460701, 0.0, 0.0, 0.0, 0.0], [0.9184211492538452, 0.00299211498349905, 0.001986791379749775, 0.017841067165136337, 0.05875885859131813, 0.0, 0.0, 0.0], [0.42359378933906555, 0.003041790798306465, 0.0032943845726549625, 0.0331144779920578, 0.487781286239624, 0.04917425289750099, 0.0, 0.0], [0.19242364168167114, 0.0018159247701987624, 0.000981947872787714, 0.006916827522218227, 0.6062338352203369, 0.15477976202964783, 0.036848027259111404, 0.0], [0.4761207103729248, 0.008935377933084965, 0.0026771065313369036, 0.010962930507957935, 0.1897614300251007, 0.13463997840881348, 0.14315535128116608, 0.03374708443880081]], [[1.0, 0.0, 0.0, 0.0, 0.0, 0.0, 0.0, 0.0], [0.9951187372207642, 0.004881225526332855, 0.0, 0.0, 0.0, 0.0, 0.0, 0.0], [0.9562351107597351, 0.02065442129969597, 0.023110415786504745, 0.0, 0.0, 0.0, 0.0, 0.0], [0.9599050283432007, 0.006058645434677601, 0.00480139022693038, 0.02923499420285225, 0.0, 0.0, 0.0, 0.0], [0.9495778679847717, 0.002517133951187134, 0.003953488543629646, 0.011738968081772327, 0.03221260756254196, 0.0, 0.0, 0.0], [0.918135941028595, 0.0017598576378077269, 0.0030235948506742716, 0.009341686964035034, 0.03923928365111351, 0.028499718755483627, 0.0, 0.0], [0.8908799290657043, 0.0019355348777025938, 0.0062184869311749935, 0.009003820829093456, 0.04894017055630684, 0.020827902480959892, 0.022194283083081245, 0.0], [0.7438336610794067, 0.0076693217270076275, 0.008796296082437038, 0.02971765585243702, 0.09200051426887512, 0.048637647181749344, 0.05034970864653587, 0.018995117396116257]], [[1.0, 0.0, 0.0, 0.0, 0.0, 0.0, 0.0, 0.0], [0.8658996224403381, 0.13410033285617828, 0.0, 0.0, 0.0, 0.0, 0.0, 0.0], [0.5168581604957581, 0.3869290053844452, 0.09621280431747437, 0.0, 0.0, 0.0, 0.0, 0.0], [0.24789579212665558, 0.3416578769683838, 0.21988707780838013, 0.1905592530965805, 0.0, 0.0, 0.0, 0.0], [0.3984152674674988, 0.1718662828207016, 0.15085375308990479, 0.2341930866241455, 0.044671665877103806, 0.0, 0.0, 0.0], [0.6966818571090698, 0.029358601197600365, 0.03634653612971306, 0.08092120289802551, 0.11594267189502716, 0.04074915125966072, 0.0, 0.0], [0.8051192164421082, 0.0070388950407505035, 0.021352749317884445, 0.02138318493962288, 0.08838804811239243, 0.04132910817861557, 0.015388757921755314, 0.0], [0.8297283053398132, 0.013510450720787048, 0.012141463346779346, 0.007806928362697363, 0.01154243852943182, 0.02169484831392765, 0.0257174763828516, 0.07785806059837341]], [[1.0, 0.0, 0.0, 0.0, 0.0, 0.0, 0.0, 0.0], [0.9054538607597351, 0.0945461317896843, 0.0, 0.0, 0.0, 0.0, 0.0, 0.0], [0.4691828191280365, 0.3133893311023712, 0.2174277901649475, 0.0, 0.0, 0.0, 0.0, 0.0], [0.6190440654754639, 0.16106374561786652, 0.11972805112600327, 0.10016413778066635, 0.0, 0.0, 0.0, 0.0], [0.7704893350601196, 0.049452003091573715, 0.046856801956892014, 0.025001030415296555, 0.10820081830024719, 0.0, 0.0, 0.0], [0.7874324321746826, 0.027519365772604942, 0.03917175531387329, 0.03416456654667854, 0.0682990700006485, 0.04341284558176994, 0.0, 0.0], [0.8555504679679871, 0.02415168471634388, 0.018148580566048622, 0.015733662992715836, 0.010875724256038666, 0.0679331123828888, 0.007606708910316229, 0.0], [0.6487647891044617, 0.04671294242143631, 0.06284503638744354, 0.04060009494423866, 0.01588580384850502, 0.049961548298597336, 0.027080504223704338, 0.10814931988716125]], [[1.0, 0.0, 0.0, 0.0, 0.0, 0.0, 0.0, 0.0], [0.9699024558067322, 0.030097533017396927, 0.0, 0.0, 0.0, 0.0, 0.0, 0.0], [0.866702139377594, 0.05377102643251419, 0.07952684164047241, 0.0, 0.0, 0.0, 0.0, 0.0], [0.7342373132705688, 0.08074900507926941, 0.09714743494987488, 0.08786621689796448, 0.0, 0.0, 0.0, 0.0], [0.7138438820838928, 0.07049457728862762, 0.08150069415569305, 0.08551334589719772, 0.0486474484205246, 0.0, 0.0, 0.0], [0.8460883498191833, 0.00334313977509737, 0.004303786903619766, 0.00857494492083788, 0.06288646906614304, 0.07480330765247345, 0.0, 0.0], [0.644787609577179, 0.00045372676686383784, 0.00045479682739824057, 0.0014286927180364728, 0.08665464073419571, 0.09535668790340424, 0.17086389660835266, 0.0], [0.19448025524616241, 0.007778832223266363, 0.0016657996457070112, 0.002600334817543626, 0.10778194665908813, 0.17506694793701172, 0.4698469638824463, 0.04077896848320961]], [[1.0, 0.0, 0.0, 0.0, 0.0, 0.0, 0.0, 0.0], [0.961581289768219, 0.0384187251329422, 0.0, 0.0, 0.0, 0.0, 0.0, 0.0], [0.7300726771354675, 0.21622975170612335, 0.05369759723544121, 0.0, 0.0, 0.0, 0.0, 0.0], [0.7239878177642822, 0.11141803115606308, 0.10188891738653183, 0.06270521134138107, 0.0, 0.0, 0.0, 0.0], [0.43013909459114075, 0.12207983434200287, 0.1420307159423828, 0.24320825934410095, 0.06254208087921143, 0.0, 0.0, 0.0], [0.5760921239852905, 0.07083927094936371, 0.057975515723228455, 0.1265544891357422, 0.11055436730384827, 0.05798422917723656, 0.0, 0.0], [0.5725743174552917, 0.058994606137275696, 0.047102879732847214, 0.07363700121641159, 0.17271597683429718, 0.054356206208467484, 0.02061900496482849, 0.0], [0.6302250623703003, 0.06329644471406937, 0.02977071702480316, 0.03377583250403404, 0.11493167281150818, 0.048042599111795425, 0.055592797696590424, 0.024364875629544258]], [[1.0, 0.0, 0.0, 0.0, 0.0, 0.0, 0.0, 0.0], [0.9766547679901123, 0.0233452245593071, 0.0, 0.0, 0.0, 0.0, 0.0, 0.0], [0.7218988537788391, 0.03767000138759613, 0.24043112993240356, 0.0, 0.0, 0.0, 0.0, 0.0], [0.2914307713508606, 0.009816519916057587, 0.18390098214149475, 0.5148516893386841, 0.0, 0.0, 0.0, 0.0], [0.3319755792617798, 0.0049353428184986115, 0.03140751272439957, 0.16191917657852173, 0.46976232528686523, 0.0, 0.0, 0.0], [0.1920592188835144, 0.008733650669455528, 0.0035208947956562042, 0.008413992822170258, 0.2744902968406677, 0.5127818584442139, 0.0, 0.0], [0.1875799000263214, 0.008766605518758297, 0.003011096501722932, 0.004519485868513584, 0.046175140887498856, 0.13828249275684357, 0.6116652488708496, 0.0], [0.2037721574306488, 0.04596051946282387, 0.03603212907910347, 0.009969302453100681, 0.013326448388397694, 0.011217738501727581, 0.17262087762355804, 0.5071008205413818]], [[1.0, 0.0, 0.0, 0.0, 0.0, 0.0, 0.0, 0.0], [0.9906526803970337, 0.009347314946353436, 0.0, 0.0, 0.0, 0.0, 0.0, 0.0], [0.944754958152771, 0.014321738854050636, 0.040923234075307846, 0.0, 0.0, 0.0, 0.0, 0.0], [0.8550933003425598, 0.02511403150856495, 0.04355360567569733, 0.07623907923698425, 0.0, 0.0, 0.0, 0.0], [0.8565527200698853, 0.009412636049091816, 0.010719828307628632, 0.03656643256545067, 0.08674842119216919, 0.0, 0.0, 0.0], [0.7491847276687622, 0.011973204091191292, 0.015998458489775658, 0.05181463062763214, 0.11585865914821625, 0.05517033860087395, 0.0, 0.0], [0.7649877071380615, 0.012449268251657486, 0.012599830515682697, 0.030279243364930153, 0.1107369139790535, 0.04848215728998184, 0.020464841276407242, 0.0], [0.8514891266822815, 0.006737040355801582, 0.019507547840476036, 0.03462965041399002, 0.03153233230113983, 0.010823368094861507, 0.025260290130972862, 0.02002059295773506]], [[1.0, 0.0, 0.0, 0.0, 0.0, 0.0, 0.0, 0.0], [0.9599456787109375, 0.0400543250143528, 0.0, 0.0, 0.0, 0.0, 0.0, 0.0], [0.8848966360092163, 0.09182113409042358, 0.02328226901590824, 0.0, 0.0, 0.0, 0.0, 0.0], [0.8905259966850281, 0.0553133599460125, 0.013050053268671036, 0.04111065715551376, 0.0, 0.0, 0.0, 0.0], [0.895918607711792, 0.03144484758377075, 0.007736739702522755, 0.03438766673207283, 0.030512064695358276, 0.0, 0.0, 0.0], [0.721868097782135, 0.020104212686419487, 0.0071297138929367065, 0.05132554471492767, 0.12545903027057648, 0.07411347329616547, 0.0, 0.0], [0.5487423539161682, 0.0058992039412260056, 0.0015659997006878257, 0.013483595103025436, 0.16304656863212585, 0.20669932663440704, 0.06056299805641174, 0.0], [0.45680510997772217, 0.015114743262529373, 0.006025360897183418, 0.03230597823858261, 0.1702888011932373, 0.13837243616580963, 0.16015468537807465, 0.020932843908667564]], [[1.0, 0.0, 0.0, 0.0, 0.0, 0.0, 0.0, 0.0], [0.9931597709655762, 0.006840200163424015, 0.0, 0.0, 0.0, 0.0, 0.0, 0.0], [0.8669648766517639, 0.015278027392923832, 0.11775712668895721, 0.0, 0.0, 0.0, 0.0, 0.0], [0.954412043094635, 0.013460868038237095, 0.011147347278892994, 0.020979834720492363, 0.0, 0.0, 0.0, 0.0], [0.9615832567214966, 0.002376795280724764, 0.007344026584178209, 0.012610550969839096, 0.016085399314761162, 0.0, 0.0, 0.0], [0.9377926588058472, 0.0011010576272383332, 0.004705384839326143, 0.006444545928388834, 0.0139323640614748, 0.036023978143930435, 0.0, 0.0], [0.9355395436286926, 0.0005218223668634892, 0.0030968314968049526, 0.0063444641418755054, 0.025543246418237686, 0.026339804753661156, 0.0026143051218241453, 0.0], [0.8945358991622925, 0.0014231398236006498, 0.02782738395035267, 0.012594001367688179, 0.005497390870004892, 0.02182050421833992, 0.01019162219017744, 0.02611016295850277]], [[1.0, 0.0, 0.0, 0.0, 0.0, 0.0, 0.0, 0.0], [1.0, 4.314347989975431e-08, 0.0, 0.0, 0.0, 0.0, 0.0, 0.0], [1.2142764717282262e-05, 0.9999761581420898, 1.1740639820345677e-05, 0.0, 0.0, 0.0, 0.0, 0.0], [2.568266950220277e-07, 1.3829284398525488e-05, 0.9990377426147461, 0.0009482221212238073, 0.0, 0.0, 0.0, 0.0], [6.284026454750347e-08, 2.2834492074963464e-09, 0.0002533239603508264, 0.9996953010559082, 5.132017031428404e-05, 0.0, 0.0, 0.0], [6.364603954978065e-09, 8.367812227903868e-15, 9.148030369245802e-14, 1.3184142666489151e-10, 0.9998273253440857, 0.00017264956841245294, 0.0, 0.0], [3.1095712671458386e-08, 5.448461929698613e-15, 7.487289007430897e-18, 7.877318004537027e-19, 7.954111813646136e-10, 0.9999979734420776, 2.00328554456064e-06, 0.0], [9.69182067933616e-08, 3.0582757659658455e-08, 2.1142883450953054e-12, 9.204829857589834e-16, 4.059325098282329e-11, 2.3480975386291902e-08, 0.9997162222862244, 0.00028353140805847943]]], [[[1.0, 0.0, 0.0, 0.0, 0.0, 0.0, 0.0, 0.0], [0.9379101395606995, 0.06208992004394531, 0.0, 0.0, 0.0, 0.0, 0.0, 0.0], [0.9807643294334412, 0.006692512892186642, 0.012543137185275555, 0.0, 0.0, 0.0, 0.0, 0.0], [0.9469777345657349, 0.013601475395262241, 0.005511792842298746, 0.03390903398394585, 0.0, 0.0, 0.0, 0.0], [0.9415244460105896, 0.003527875756844878, 0.002178691793233156, 0.0014571193605661392, 0.0513119138777256, 0.0, 0.0, 0.0], [0.9479816555976868, 0.0011736246524378657, 0.0016254393849521875, 0.0019537676125764847, 0.02037953957915306, 0.02688603475689888, 0.0, 0.0], [0.9350663423538208, 0.0007736170664429665, 0.0022845419589430094, 0.0028138880152255297, 0.013413750566542149, 0.0023180365096777678, 0.04332983121275902, 0.0], [0.8716185688972473, 0.0008557145483791828, 0.005150574259459972, 0.03240227326750755, 0.03608535975217819, 0.002598850056529045, 0.008466348983347416, 0.0428222119808197]], [[1.0, 0.0, 0.0, 0.0, 0.0, 0.0, 0.0, 0.0], [0.9969015121459961, 0.0030984992627054453, 0.0, 0.0, 0.0, 0.0, 0.0, 0.0], [0.9971103072166443, 3.953994018957019e-05, 0.002850132994353771, 0.0, 0.0, 0.0, 0.0, 0.0], [0.9990944862365723, 9.13850362849189e-06, 2.8577426292031305e-07, 0.0008961907587945461, 0.0, 0.0, 0.0, 0.0], [0.9967702627182007, 9.936225069395732e-06, 5.154951168151456e-07, 3.1986137400963344e-06, 0.003216091776266694, 0.0, 0.0, 0.0], [0.9987038373947144, 9.555415090289898e-07, 1.898341338346654e-06, 4.405144409247441e-07, 8.44194528326625e-06, 0.0012843552976846695, 0.0, 0.0], [0.9991963505744934, 1.7615597244002856e-05, 2.441784272377845e-05, 1.6537269402761012e-06, 2.22316066356143e-06, 2.2833110335795936e-07, 0.0007574716000817716, 0.0], [0.9958655834197998, 2.338580543437274e-06, 2.0009341824334115e-05, 0.00016883696662262082, 3.972565991716692e-06, 8.820454588942539e-09, 7.904863537078199e-07, 0.003938553389161825]], [[1.0, 0.0, 0.0, 0.0, 0.0, 0.0, 0.0, 0.0], [0.662287712097168, 0.33771225810050964, 0.0, 0.0, 0.0, 0.0, 0.0, 0.0], [0.11519921571016312, 0.877683162689209, 0.0071175433695316315, 0.0, 0.0, 0.0, 0.0, 0.0], [0.07311660051345825, 0.8944640159606934, 0.021914197131991386, 0.010505282320082188, 0.0, 0.0, 0.0, 0.0], [0.202977254986763, 0.7273209691047668, 0.037762757390737534, 0.022325821220874786, 0.009613211266696453, 0.0, 0.0, 0.0], [0.6960878372192383, 0.07212158292531967, 0.018227363005280495, 0.029083583503961563, 0.17317743599414825, 0.01130230538547039, 0.0, 0.0], [0.7393046617507935, 0.051257871091365814, 0.007905377075076103, 0.017134688794612885, 0.06544768065214157, 0.1024743840098381, 0.016475370153784752, 0.0], [0.6862494945526123, 0.06183766946196556, 0.0017325159860774875, 0.0030693900771439075, 0.037622012197971344, 0.10589592903852463, 0.08523579686880112, 0.018357226625084877]], [[1.0, 0.0, 0.0, 0.0, 0.0, 0.0, 0.0, 0.0], [0.9337835311889648, 0.06621647626161575, 0.0, 0.0, 0.0, 0.0, 0.0, 0.0], [0.7050601243972778, 0.24373556673526764, 0.05120433121919632, 0.0, 0.0, 0.0, 0.0, 0.0], [0.6064075827598572, 0.24060267210006714, 0.06849782168865204, 0.08449188619852066, 0.0, 0.0, 0.0, 0.0], [0.7158446907997131, 0.08338594436645508, 0.04255593940615654, 0.040996842086315155, 0.1172165647149086, 0.0, 0.0, 0.0], [0.4828028082847595, 0.04607444256544113, 0.019275899976491928, 0.036650288850069046, 0.30370351672172546, 0.1114930659532547, 0.0, 0.0], [0.41554492712020874, 0.028167059645056725, 0.007800574880093336, 0.018176741898059845, 0.3137195408344269, 0.15587782859802246, 0.060713306069374084, 0.0], [0.3325338363647461, 0.06303826719522476, 0.01496918685734272, 0.036365896463394165, 0.3142375648021698, 0.10016125440597534, 0.10811034590005875, 0.03058365173637867]], [[1.0, 0.0, 0.0, 0.0, 0.0, 0.0, 0.0, 0.0], [0.948798656463623, 0.051201384514570236, 0.0, 0.0, 0.0, 0.0, 0.0, 0.0], [0.877448320388794, 0.03680235147476196, 0.08574934303760529, 0.0, 0.0, 0.0, 0.0, 0.0], [0.8518169522285461, 0.012459742836654186, 0.06019877269864082, 0.0755244567990303, 0.0, 0.0, 0.0, 0.0], [0.7975598573684692, 0.019986461848020554, 0.018091538920998573, 0.05834187939763069, 0.10602018982172012, 0.0, 0.0, 0.0], [0.43506190180778503, 0.019264275208115578, 0.021091151982545853, 0.029398515820503235, 0.4548291563987732, 0.0403548926115036, 0.0, 0.0], [0.735091507434845, 0.004382502753287554, 0.019284309819340706, 0.018565429374575615, 0.1508321464061737, 0.056068237870931625, 0.015775859355926514, 0.0], [0.6812273263931274, 0.005970839411020279, 0.014299935661256313, 0.029504956677556038, 0.08220256119966507, 0.09708640724420547, 0.07038606703281403, 0.019321978092193604]], [[1.0, 0.0, 0.0, 0.0, 0.0, 0.0, 0.0, 0.0], [0.9802605509757996, 0.019739434123039246, 0.0, 0.0, 0.0, 0.0, 0.0, 0.0], [0.9582907557487488, 0.0012286644196137786, 0.040480613708496094, 0.0, 0.0, 0.0, 0.0, 0.0], [0.9788448214530945, 0.010650155134499073, 0.00014653797552455217, 0.010358517989516258, 0.0, 0.0, 0.0, 0.0], [0.9576075673103333, 0.0013368609361350536, 0.00014200380246620625, 0.0011286359513178468, 0.03978487849235535, 0.0, 0.0, 0.0], [0.9747369885444641, 0.0015843118308112025, 0.0019934852607548237, 0.0018969353986904025, 0.010015121661126614, 0.009773176163434982, 0.0, 0.0], [0.9924371838569641, 0.0028521304484456778, 0.0007215566001832485, 0.00040009463555179536, 0.0010577589273452759, 3.4207940188935027e-05, 0.0024969466030597687, 0.0], [0.9691870808601379, 0.0012116426369175315, 0.00039452139753848314, 0.009722178801894188, 0.005228708032518625, 0.00013708820915780962, 0.0006716297939419746, 0.013447079807519913]], [[1.0, 0.0, 0.0, 0.0, 0.0, 0.0, 0.0, 0.0], [0.8774582743644714, 0.12254171818494797, 0.0, 0.0, 0.0, 0.0, 0.0, 0.0], [0.7963646054267883, 0.1648504137992859, 0.03878497704863548, 0.0, 0.0, 0.0, 0.0, 0.0], [0.6949341297149658, 0.027806749567389488, 0.2091866433620453, 0.06807246059179306, 0.0, 0.0, 0.0, 0.0], [0.7882152795791626, 0.0052468059584498405, 0.002460194518789649, 0.11791883409023285, 0.0861588642001152, 0.0, 0.0, 0.0], [0.9024319052696228, 0.0028867009095847607, 0.0002498916583135724, 0.004740534815937281, 0.07549089193344116, 0.014200055040419102, 0.0, 0.0], [0.869974672794342, 0.0020536473020911217, 0.00020544190192595124, 0.0013454905711114407, 0.04455962032079697, 0.06525891274213791, 0.016602205112576485, 0.0], [0.8074829578399658, 0.010446795262396336, 0.00036675494629889727, 7.980076770763844e-05, 0.0005668789963237941, 0.0009075709385797381, 0.16299745440483093, 0.017151713371276855]], [[1.0, 0.0, 0.0, 0.0, 0.0, 0.0, 0.0, 0.0], [0.9302813410758972, 0.06971871852874756, 0.0, 0.0, 0.0, 0.0, 0.0, 0.0], [0.9373920559883118, 0.03049110621213913, 0.032116856426000595, 0.0, 0.0, 0.0, 0.0, 0.0], [0.9253353476524353, 0.020691227167844772, 0.022403869777917862, 0.03156952187418938, 0.0, 0.0, 0.0, 0.0], [0.9505754709243774, 0.0023013614118099213, 0.0015210475539788604, 0.01965855248272419, 0.025943536311388016, 0.0, 0.0, 0.0], [0.5529482960700989, 0.003943904303014278, 0.005522599909454584, 0.015210337936878204, 0.3986291289329529, 0.02374574914574623, 0.0, 0.0], [0.784866988658905, 0.003867598483338952, 0.004150493070483208, 0.004553417209535837, 0.083494633436203, 0.035471655428409576, 0.08359523862600327, 0.0], [0.7679741978645325, 0.007593357469886541, 0.0029655643738806248, 0.011085590347647667, 0.01812143437564373, 0.022452667355537415, 0.13014137744903564, 0.03966585174202919]], [[1.0, 0.0, 0.0, 0.0, 0.0, 0.0, 0.0, 0.0], [0.9600982666015625, 0.03990175947546959, 0.0, 0.0, 0.0, 0.0, 0.0, 0.0], [0.9196995496749878, 0.03407903388142586, 0.046221379190683365, 0.0, 0.0, 0.0, 0.0, 0.0], [0.8412346243858337, 0.10614509880542755, 0.00877056922763586, 0.04384976997971535, 0.0, 0.0, 0.0, 0.0], [0.8939534425735474, 0.05355143919587135, 0.00306860008276999, 0.005771053954958916, 0.04365545138716698, 0.0, 0.0, 0.0], [0.890241801738739, 0.023762186989188194, 0.01996581070125103, 0.01326342485845089, 0.02651434950530529, 0.02625233493745327, 0.0, 0.0], [0.8810588717460632, 0.025031978264451027, 0.04066281393170357, 0.018968384712934494, 0.00973178818821907, 0.00197142967954278, 0.02257469855248928, 0.0], [0.843848466873169, 0.006996996235102415, 0.012758401222527027, 0.06052926555275917, 0.023050829768180847, 0.001031625084578991, 0.0032936560455709696, 0.04849077761173248]], [[1.0, 0.0, 0.0, 0.0, 0.0, 0.0, 0.0, 0.0], [0.9921919703483582, 0.007808005437254906, 0.0, 0.0, 0.0, 0.0, 0.0, 0.0], [0.9658583402633667, 0.02294500730931759, 0.011196712963283062, 0.0, 0.0, 0.0, 0.0, 0.0], [0.9136496186256409, 0.04016344994306564, 0.03339975327253342, 0.01278721820563078, 0.0, 0.0, 0.0, 0.0], [0.8609163761138916, 0.02617715857923031, 0.06702994555234909, 0.02570299804210663, 0.02017355151474476, 0.0, 0.0, 0.0], [0.7999114394187927, 0.04320389777421951, 0.06383414566516876, 0.04469829797744751, 0.034001704305410385, 0.014350494369864464, 0.0, 0.0], [0.8113329410552979, 0.05219245329499245, 0.05021589249372482, 0.04637642577290535, 0.027796754613518715, 0.011487334966659546, 0.0005982447182759643, 0.0], [0.8101434707641602, 0.04239770770072937, 0.07548471540212631, 0.025270946323871613, 0.021718235686421394, 0.007993004284799099, 0.010767781175673008, 0.006224165204912424]], [[1.0, 0.0, 0.0, 0.0, 0.0, 0.0, 0.0, 0.0], [0.9562419652938843, 0.04375796020030975, 0.0, 0.0, 0.0, 0.0, 0.0, 0.0], [0.43313175439834595, 0.15005886554718018, 0.41680943965911865, 0.0, 0.0, 0.0, 0.0, 0.0], [0.4222314953804016, 0.12625697255134583, 0.29322487115859985, 0.15828676521778107, 0.0, 0.0, 0.0, 0.0], [0.4271722435951233, 0.08054015785455704, 0.3214503526687622, 0.11221357434988022, 0.058623675256967545, 0.0, 0.0, 0.0], [0.6166456341743469, 0.08774662017822266, 0.11601570248603821, 0.0690002515912056, 0.10157240927219391, 0.009019333869218826, 0.0, 0.0], [0.7217174172401428, 0.01424019318073988, 0.04460013657808304, 0.05563618242740631, 0.0444694347679615, 0.019709089770913124, 0.09962746500968933, 0.0], [0.5522225499153137, 0.007887311279773712, 0.09701351821422577, 0.07602880895137787, 0.09863808751106262, 0.015601015649735928, 0.031416598707437515, 0.12119211256504059]], [[1.0, 0.0, 0.0, 0.0, 0.0, 0.0, 0.0, 0.0], [0.9810171723365784, 0.01898288168013096, 0.0, 0.0, 0.0, 0.0, 0.0, 0.0], [0.712240993976593, 0.1162591502070427, 0.17149986326694489, 0.0, 0.0, 0.0, 0.0, 0.0], [0.7292490005493164, 0.07558135688304901, 0.07905559241771698, 0.1161140576004982, 0.0, 0.0, 0.0, 0.0], [0.5906899571418762, 0.04011330381035805, 0.1615626960992813, 0.10001251846551895, 0.10762148350477219, 0.0, 0.0, 0.0], [0.7037695050239563, 0.025309499353170395, 0.02693788893520832, 0.03926931321620941, 0.07798503339290619, 0.12672874331474304, 0.0, 0.0], [0.837074875831604, 0.02527867630124092, 0.02203468605875969, 0.018222687765955925, 0.04137269780039787, 0.025562217459082603, 0.030454082414507866, 0.0], [0.7761023044586182, 0.03337347134947777, 0.048827264457941055, 0.034459155052900314, 0.03903334215283394, 0.022802583873271942, 0.016518577933311462, 0.02888333611190319]]], [[[1.0, 0.0, 0.0, 0.0, 0.0, 0.0, 0.0, 0.0], [0.88230961561203, 0.11769036948680878, 0.0, 0.0, 0.0, 0.0, 0.0, 0.0], [0.5639542937278748, 0.3149527311325073, 0.12109294533729553, 0.0, 0.0, 0.0, 0.0, 0.0], [0.45915231108665466, 0.35578566789627075, 0.1325087696313858, 0.05255325883626938, 0.0, 0.0, 0.0, 0.0], [0.5258651971817017, 0.1386311799287796, 0.10271906852722168, 0.0689137652516365, 0.16387073695659637, 0.0, 0.0, 0.0], [0.3285738229751587, 0.02703271433711052, 0.050540316849946976, 0.062445905059576035, 0.5042670965194702, 0.027140069752931595, 0.0, 0.0], [0.37997034192085266, 0.00843847170472145, 0.015393481589853764, 0.017719237133860588, 0.37667885422706604, 0.158901184797287, 0.04289843887090683, 0.0], [0.2130880355834961, 0.019438300281763077, 0.013540257699787617, 0.017752325162291527, 0.2769295871257782, 0.19656993448734283, 0.2363826036453247, 0.026298988610506058]], [[1.0, 0.0, 0.0, 0.0, 0.0, 0.0, 0.0, 0.0], [0.951185405254364, 0.048814620822668076, 0.0, 0.0, 0.0, 0.0, 0.0, 0.0], [0.8804369568824768, 0.11069444566965103, 0.008868633769452572, 0.0, 0.0, 0.0, 0.0, 0.0], [0.9358043074607849, 0.03776072338223457, 0.00301964208483696, 0.023415319621562958, 0.0, 0.0, 0.0, 0.0], [0.9432222843170166, 0.031808268278837204, 0.005377599503844976, 0.007844395935535431, 0.01174743752926588, 0.0, 0.0, 0.0], [0.9582124948501587, 0.009294033981859684, 0.003462887601926923, 0.005627810023725033, 0.011304039508104324, 0.012098745442926884, 0.0, 0.0], [0.9222651124000549, 0.004228824749588966, 0.003448129864409566, 0.004200706258416176, 0.0032951240427792072, 0.0066339182667434216, 0.05592817813158035, 0.0], [0.9268375039100647, 0.01256006769835949, 0.003538239048793912, 0.01539149321615696, 0.010432516224682331, 0.003116370178759098, 0.02145290933549404, 0.006670840084552765]], [[1.0, 0.0, 0.0, 0.0, 0.0, 0.0, 0.0, 0.0], [0.975897490978241, 0.02410254254937172, 0.0, 0.0, 0.0, 0.0, 0.0, 0.0], [0.8683258891105652, 0.056430596858263016, 0.07524359226226807, 0.0, 0.0, 0.0, 0.0, 0.0], [0.8267784118652344, 0.04984387010335922, 0.09048477560281754, 0.032892901450395584, 0.0, 0.0, 0.0, 0.0], [0.89494788646698, 0.020786862820386887, 0.033884067088365555, 0.017070017755031586, 0.0333111397922039, 0.0, 0.0, 0.0], [0.8832935690879822, 0.013839520514011383, 0.031663406640291214, 0.01361333392560482, 0.02922453172504902, 0.028365710750222206, 0.0, 0.0], [0.7902836203575134, 0.025959303602576256, 0.046334583312273026, 0.023661170154809952, 0.060213372111320496, 0.04732326418161392, 0.006224606651812792, 0.0], [0.771578311920166, 0.02755548618733883, 0.05597253143787384, 0.02921784669160843, 0.05627134442329407, 0.033621132373809814, 0.008427530527114868, 0.017355801537632942]], [[1.0, 0.0, 0.0, 0.0, 0.0, 0.0, 0.0, 0.0], [0.9818270802497864, 0.01817290671169758, 0.0, 0.0, 0.0, 0.0, 0.0, 0.0], [0.898008406162262, 0.058745454996824265, 0.04324614629149437, 0.0, 0.0, 0.0, 0.0, 0.0], [0.7510627508163452, 0.09346440434455872, 0.09112949669361115, 0.06434333324432373, 0.0, 0.0, 0.0, 0.0], [0.6621455550193787, 0.1306753307580948, 0.10322889685630798, 0.05618492513895035, 0.04776524752378464, 0.0, 0.0, 0.0], [0.7014455795288086, 0.09288962930440903, 0.07323480397462845, 0.07437773793935776, 0.04772011190652847, 0.010332177393138409, 0.0, 0.0], [0.8767892122268677, 0.013513049110770226, 0.017736360430717468, 0.0293353870511055, 0.03861255943775177, 0.00570816220715642, 0.018305394798517227, 0.0], [0.8956766128540039, 0.017083123326301575, 0.018906615674495697, 0.03195670619606972, 0.018283165991306305, 0.002918015932664275, 0.008543846197426319, 0.006631911266595125]], [[1.0, 0.0, 0.0, 0.0, 0.0, 0.0, 0.0, 0.0], [0.8809604644775391, 0.11903945356607437, 0.0, 0.0, 0.0, 0.0, 0.0, 0.0], [0.9570115208625793, 0.00782586820423603, 0.035162560641765594, 0.0, 0.0, 0.0, 0.0, 0.0], [0.8929184675216675, 0.01482278760522604, 0.04378127306699753, 0.04847750440239906, 0.0, 0.0, 0.0, 0.0], [0.8703118562698364, 0.009724171832203865, 0.036338772624731064, 0.03242436796426773, 0.05120079591870308, 0.0, 0.0, 0.0], [0.7825485467910767, 0.010678155347704887, 0.03584364056587219, 0.02872752770781517, 0.09784673899412155, 0.04435533657670021, 0.0, 0.0], [0.7782802581787109, 0.00991118885576725, 0.02056361362338066, 0.01920926384627819, 0.09071700274944305, 0.05441485345363617, 0.026903841644525528, 0.0], [0.8095822334289551, 0.010334105230867863, 0.025779586285352707, 0.05028388649225235, 0.017179589718580246, 0.025806516408920288, 0.03523222729563713, 0.025801802054047585]], [[1.0, 0.0, 0.0, 0.0, 0.0, 0.0, 0.0, 0.0], [0.9566628336906433, 0.043337125331163406, 0.0, 0.0, 0.0, 0.0, 0.0, 0.0], [0.8569546937942505, 0.028862910345196724, 0.11418235301971436, 0.0, 0.0, 0.0, 0.0, 0.0], [0.7873348593711853, 0.022927822545170784, 0.08212403208017349, 0.10761331766843796, 0.0, 0.0, 0.0, 0.0], [0.7252660393714905, 0.03248026221990585, 0.07037471234798431, 0.1103159487247467, 0.06156318262219429, 0.0, 0.0, 0.0], [0.7775753736495972, 0.022220373153686523, 0.023716337978839874, 0.04867776483297348, 0.08588138967752457, 0.041928794234991074, 0.0, 0.0], [0.8050214052200317, 0.020463822409510612, 0.014636451378464699, 0.02579440549015999, 0.05442994087934494, 0.03153477981686592, 0.0481191910803318, 0.0], [0.8272231817245483, 0.013612874783575535, 0.02004767395555973, 0.019337868317961693, 0.03426487743854523, 0.019510392099618912, 0.03195782005786896, 0.03404538333415985]], [[1.0, 0.0, 0.0, 0.0, 0.0, 0.0, 0.0, 0.0], [0.911257266998291, 0.0887427106499672, 0.0, 0.0, 0.0, 0.0, 0.0, 0.0], [0.909675121307373, 0.031009389087557793, 0.05931553617119789, 0.0, 0.0, 0.0, 0.0, 0.0], [0.8669664859771729, 0.029872115701436996, 0.03155271336436272, 0.07160868495702744, 0.0, 0.0, 0.0, 0.0], [0.8744640946388245, 0.015950875356793404, 0.013696175068616867, 0.015356941148638725, 0.08053196221590042, 0.0, 0.0, 0.0], [0.8260450959205627, 0.015065803192555904, 0.010898715816438198, 0.009567853063344955, 0.044629376381635666, 0.09379314631223679, 0.0, 0.0], [0.8870028853416443, 0.019404076039791107, 0.00762831000611186, 0.007208225782960653, 0.014868270605802536, 0.03467036411166191, 0.029217874631285667, 0.0], [0.8615424633026123, 0.015444725751876831, 0.024867486208677292, 0.024921070784330368, 0.010818587616086006, 0.006775178946554661, 0.005810505244880915, 0.04982004314661026]], [[1.0, 0.0, 0.0, 0.0, 0.0, 0.0, 0.0, 0.0], [0.9589998722076416, 0.04100009799003601, 0.0, 0.0, 0.0, 0.0, 0.0, 0.0], [0.6780167818069458, 0.09138285368680954, 0.23060041666030884, 0.0, 0.0, 0.0, 0.0, 0.0], [0.5243009328842163, 0.13168877363204956, 0.2474697381258011, 0.09654060751199722, 0.0, 0.0, 0.0, 0.0], [0.2841101288795471, 0.18418771028518677, 0.22475852072238922, 0.27100998163223267, 0.03593367710709572, 0.0, 0.0, 0.0], [0.31551092863082886, 0.13624009490013123, 0.18731379508972168, 0.21821309626102448, 0.11646739393472672, 0.02625470608472824, 0.0, 0.0], [0.5614476203918457, 0.04124612733721733, 0.10445050895214081, 0.153638556599617, 0.06301902234554291, 0.0272201094776392, 0.04897810518741608, 0.0], [0.6614586710929871, 0.026905104517936707, 0.06658945232629776, 0.06406522542238235, 0.07496602088212967, 0.011719106696546078, 0.025055360049009323, 0.06924103945493698]], [[1.0, 0.0, 0.0, 0.0, 0.0, 0.0, 0.0, 0.0], [0.9745624661445618, 0.02543754316866398, 0.0, 0.0, 0.0, 0.0, 0.0, 0.0], [0.3271212577819824, 0.6169574856758118, 0.05592123419046402, 0.0, 0.0, 0.0, 0.0, 0.0], [0.33494946360588074, 0.35541480779647827, 0.24390071630477905, 0.06573498249053955, 0.0, 0.0, 0.0, 0.0], [0.7185746431350708, 0.037524957209825516, 0.057303763926029205, 0.13725806772708893, 0.04933856427669525, 0.0, 0.0, 0.0], [0.6324678659439087, 0.006657210644334555, 0.01793641224503517, 0.045623861253261566, 0.28644123673439026, 0.010873439721763134, 0.0, 0.0], [0.7402876615524292, 0.006337987724691629, 0.0033946095500141382, 0.0067308079451322556, 0.11312086880207062, 0.11471261829137802, 0.01541546918451786, 0.0], [0.8161255717277527, 0.012071139179170132, 0.0015914486721158028, 0.000913763593416661, 0.019144222140312195, 0.03023339994251728, 0.0706876590847969, 0.049232810735702515]], [[1.0, 0.0, 0.0, 0.0, 0.0, 0.0, 0.0, 0.0], [0.9933010339736938, 0.006698937155306339, 0.0, 0.0, 0.0, 0.0, 0.0, 0.0], [0.993297278881073, 0.0007982798269949853, 0.005904362071305513, 0.0, 0.0, 0.0, 0.0, 0.0], [0.9973159432411194, 0.0004003853537142277, 2.0210827642586082e-05, 0.002263490343466401, 0.0, 0.0, 0.0, 0.0], [0.9942043423652649, 0.0001537051284685731, 2.1179785107960925e-05, 3.081381510128267e-05, 0.005589925218373537, 0.0, 0.0, 0.0], [0.9991115927696228, 1.899034032248892e-05, 4.643624197342433e-05, 1.3461904927680735e-05, 0.00020149412739556283, 0.0006079967133700848, 0.0, 0.0], [0.998544454574585, 0.000445421232143417, 0.00014198837743606418, 5.154337486601435e-06, 5.758818952017464e-05, 8.915788384911139e-06, 0.000796451058704406, 0.0], [0.9980795383453369, 0.00011657363211270422, 0.00023666741617489606, 0.00040351616917178035, 9.339721873402596e-05, 2.3464206151402323e-06, 3.290688619017601e-05, 0.0010350303491577506]], [[1.0, 0.0, 0.0, 0.0, 0.0, 0.0, 0.0, 0.0], [0.9890379905700684, 0.010962022468447685, 0.0, 0.0, 0.0, 0.0, 0.0, 0.0], [0.9698665142059326, 0.01645735464990139, 0.01367609016597271, 0.0, 0.0, 0.0, 0.0, 0.0], [0.8999632596969604, 0.024621248245239258, 0.019977713003754616, 0.055437829345464706, 0.0, 0.0, 0.0, 0.0], [0.9819526076316833, 0.0025944048538804054, 0.0029460599180310965, 0.005658949259668589, 0.006847890559583902, 0.0, 0.0, 0.0], [0.9824525117874146, 0.0023509925231337547, 0.002522139810025692, 0.004537330009043217, 0.005606757011264563, 0.0025302127469331026, 0.0, 0.0], [0.9617470502853394, 0.0018121186876669526, 0.0029317238368093967, 0.005593996495008469, 0.006126916967332363, 0.003866011742502451, 0.01792210526764393, 0.0], [0.9478639364242554, 0.0019034133292734623, 0.002444593934342265, 0.004918587859719992, 0.00784280989319086, 0.003108481876552105, 0.009812173433601856, 0.022105954587459564]], [[1.0, 0.0, 0.0, 0.0, 0.0, 0.0, 0.0, 0.0], [0.8939953446388245, 0.10600464791059494, 0.0, 0.0, 0.0, 0.0, 0.0, 0.0], [0.8672775030136108, 0.08060696721076965, 0.05211562290787697, 0.0, 0.0, 0.0, 0.0, 0.0], [0.8352523446083069, 0.042505860328674316, 0.03856831416487694, 0.08367356657981873, 0.0, 0.0, 0.0, 0.0], [0.922022819519043, 0.011809242889285088, 0.0077949813567101955, 0.02409515529870987, 0.03427782654762268, 0.0, 0.0, 0.0], [0.5988554954528809, 0.010354490019381046, 0.0042966557666659355, 0.013484532944858074, 0.34073376655578613, 0.032275065779685974, 0.0, 0.0], [0.3333626389503479, 0.007739093620330095, 0.0020456123165786266, 0.009007216431200504, 0.44756194949150085, 0.09193696826696396, 0.10834652185440063, 0.0], [0.472467839717865, 0.01523680705577135, 0.0038502903189510107, 0.010979922488331795, 0.2065543532371521, 0.09783823788166046, 0.17119300365447998, 0.021879518404603004]]], [[[1.0, 0.0, 0.0, 0.0, 0.0, 0.0, 0.0, 0.0], [0.8792707920074463, 0.12072921544313431, 0.0, 0.0, 0.0, 0.0, 0.0, 0.0], [0.6221990585327148, 0.2815748155117035, 0.09622613340616226, 0.0, 0.0, 0.0, 0.0, 0.0], [0.6126315593719482, 0.13148055970668793, 0.16446766257286072, 0.09142020344734192, 0.0, 0.0, 0.0, 0.0], [0.7698158621788025, 0.007498965598642826, 0.02101069875061512, 0.09020662307739258, 0.11146779358386993, 0.0, 0.0, 0.0], [0.7024475336074829, 0.002880509477108717, 0.0056957341730594635, 0.021871915087103844, 0.24194057285785675, 0.025163764134049416, 0.0, 0.0], [0.4797491729259491, 0.001600327086634934, 0.001570782857015729, 0.00489036412909627, 0.152727410197258, 0.32449236512184143, 0.03496962785720825, 0.0], [0.14971649646759033, 0.0048654028214514256, 0.00023945531575009227, 0.0006147369858808815, 0.025383593514561653, 0.06028838828206062, 0.7455555200576782, 0.01333644986152649]], [[1.0, 0.0, 0.0, 0.0, 0.0, 0.0, 0.0, 0.0], [0.969735324382782, 0.030264688655734062, 0.0, 0.0, 0.0, 0.0, 0.0, 0.0], [0.9171706438064575, 0.004400867503136396, 0.07842849940061569, 0.0, 0.0, 0.0, 0.0, 0.0], [0.9248407483100891, 0.015071621164679527, 0.019926337525248528, 0.04016131907701492, 0.0, 0.0, 0.0, 0.0], [0.9395154118537903, 0.003507794113829732, 0.019225338473916054, 0.01488084439188242, 0.022870603948831558, 0.0, 0.0, 0.0], [0.9006384611129761, 0.004624188877642155, 0.02302938885986805, 0.03257221728563309, 0.011013819836080074, 0.028121983632445335, 0.0, 0.0], [0.8583866953849792, 0.0015812473138794303, 0.004416821990162134, 0.008586673997342587, 0.0010959510691463947, 0.002946597058326006, 0.12298604100942612, 0.0], [0.9657958149909973, 0.0005819763173349202, 0.0009386715246364474, 0.0015611691633239388, 0.0015617476310580969, 0.002173307817429304, 0.005000512581318617, 0.02238674834370613]], [[1.0, 0.0, 0.0, 0.0, 0.0, 0.0, 0.0, 0.0], [0.979451596736908, 0.020548373460769653, 0.0, 0.0, 0.0, 0.0, 0.0, 0.0], [0.9946718811988831, 0.0013065726961940527, 0.004021618980914354, 0.0, 0.0, 0.0, 0.0, 0.0], [0.9840564727783203, 0.0006906567723490298, 0.00032782365451566875, 0.01492499653249979, 0.0, 0.0, 0.0, 0.0], [0.9948176741600037, 0.0002063083666143939, 0.00010861106420634314, 0.00030373645131476223, 0.00456366827711463, 0.0, 0.0, 0.0], [0.9973546266555786, 2.1929792637820356e-05, 2.674967072380241e-05, 9.119401511270553e-05, 0.0006727050058543682, 0.001832754584029317, 0.0, 0.0], [0.986914336681366, 0.0001687220938038081, 0.00010082420340040699, 4.628018359653652e-05, 0.00019051137496717274, 0.00011075886141043156, 0.012468544766306877, 0.0], [0.9941694736480713, 5.713527571060695e-05, 0.00014851456217002124, 0.0004799705639015883, 0.00030537531711161137, 5.848163709742948e-06, 0.00013299206329975277, 0.004700731951743364]], [[1.0, 0.0, 0.0, 0.0, 0.0, 0.0, 0.0, 0.0], [0.9043187499046326, 0.09568127244710922, 0.0, 0.0, 0.0, 0.0, 0.0, 0.0], [0.8725855350494385, 0.0448027104139328, 0.08261176198720932, 0.0, 0.0, 0.0, 0.0, 0.0], [0.8364025950431824, 0.05131518468260765, 0.06534890830516815, 0.04693328216671944, 0.0, 0.0, 0.0, 0.0], [0.7417502999305725, 0.022027036175131798, 0.05209989845752716, 0.07642952352762222, 0.10769316554069519, 0.0, 0.0, 0.0], [0.6317556500434875, 0.02231570892035961, 0.061021775007247925, 0.08127198368310928, 0.1759856641292572, 0.027649275958538055, 0.0, 0.0], [0.7830374240875244, 0.0117056118324399, 0.03394779935479164, 0.046634890139102936, 0.08755357563495636, 0.024303928017616272, 0.012816778384149075, 0.0], [0.8604190945625305, 0.007581532467156649, 0.009611708112061024, 0.01765214465558529, 0.05184243619441986, 0.013191789388656616, 0.010072248987853527, 0.0296289324760437]], [[1.0, 0.0, 0.0, 0.0, 0.0, 0.0, 0.0, 0.0], [0.9858981370925903, 0.014101854525506496, 0.0, 0.0, 0.0, 0.0, 0.0, 0.0], [0.6354981660842896, 0.317445307970047, 0.04705655202269554, 0.0, 0.0, 0.0, 0.0, 0.0], [0.5642574429512024, 0.32977133989334106, 0.05301734432578087, 0.05295383930206299, 0.0, 0.0, 0.0, 0.0], [0.9340519905090332, 0.012546480633318424, 0.015620690770447254, 0.020833974704146385, 0.016946788877248764, 0.0, 0.0, 0.0], [0.9383043646812439, 0.0031528687104582787, 0.0086459806188941, 0.013142421841621399, 0.03350681811571121, 0.0032475099433213472, 0.0, 0.0], [0.9434305429458618, 0.0034570915158838034, 0.0024176486767828465, 0.004710002802312374, 0.031123947352170944, 0.009391109459102154, 0.005469514522701502, 0.0], [0.8627013564109802, 0.012073710560798645, 0.002871723147109151, 0.004211131948977709, 0.04537583515048027, 0.036853671073913574, 0.028639858588576317, 0.007272603455930948]], [[1.0, 0.0, 0.0, 0.0, 0.0, 0.0, 0.0, 0.0], [0.9561887979507446, 0.04381125792860985, 0.0, 0.0, 0.0, 0.0, 0.0, 0.0], [0.9735220670700073, 0.008573377504944801, 0.017904549837112427, 0.0, 0.0, 0.0, 0.0, 0.0], [0.9043960571289062, 0.028904909268021584, 0.031484849750995636, 0.03521417826414108, 0.0, 0.0, 0.0, 0.0], [0.8269072771072388, 0.012188103049993515, 0.009275001473724842, 0.015563271939754486, 0.13606634736061096, 0.0, 0.0, 0.0], [0.6909795999526978, 0.009904340840876102, 0.006956969853490591, 0.009725452400743961, 0.2275647521018982, 0.05486882105469704, 0.0, 0.0], [0.8351199626922607, 0.0032399555202573538, 0.003032890846952796, 0.005924166180193424, 0.05631868913769722, 0.050180673599243164, 0.04618368670344353, 0.0], [0.5165550112724304, 0.004320904146879911, 0.00293459789827466, 0.005379626993089914, 0.0581192672252655, 0.16019073128700256, 0.23728622496128082, 0.015213626436889172]], [[1.0, 0.0, 0.0, 0.0, 0.0, 0.0, 0.0, 0.0], [0.9569610953330994, 0.04303894564509392, 0.0, 0.0, 0.0, 0.0, 0.0, 0.0], [0.8744041323661804, 0.03392800688743591, 0.09166788309812546, 0.0, 0.0, 0.0, 0.0, 0.0], [0.8536815643310547, 0.027060627937316895, 0.06790511310100555, 0.05135267972946167, 0.0, 0.0, 0.0, 0.0], [0.8119724988937378, 0.014846960082650185, 0.047973789274692535, 0.08864054083824158, 0.03656622767448425, 0.0, 0.0, 0.0], [0.7631576657295227, 0.015135977417230606, 0.049643632024526596, 0.10952028632164001, 0.034224703907966614, 0.028317682445049286, 0.0, 0.0], [0.838253378868103, 0.016380593180656433, 0.04545697569847107, 0.060710739344358444, 0.014641902409493923, 0.015054796822369099, 0.009501639753580093, 0.0], [0.8724623918533325, 0.00638853944838047, 0.02893730252981186, 0.049040231853723526, 0.006890814285725355, 0.007765063084661961, 0.01112225092947483, 0.017393501475453377]], [[1.0, 0.0, 0.0, 0.0, 0.0, 0.0, 0.0, 0.0], [0.9709782004356384, 0.02902175858616829, 0.0, 0.0, 0.0, 0.0, 0.0, 0.0], [0.9593220949172974, 0.018770607188344002, 0.021907242015004158, 0.0, 0.0, 0.0, 0.0, 0.0], [0.927436888217926, 0.01987350732088089, 0.020269140601158142, 0.032420553267002106, 0.0, 0.0, 0.0, 0.0], [0.9763176441192627, 0.0020889206789433956, 0.0025347743649035692, 0.006230108439922333, 0.012828570790588856, 0.0, 0.0, 0.0], [0.9726224541664124, 0.0018572863191366196, 0.0017975772498175502, 0.004953389521688223, 0.004685092251747847, 0.01408407837152481, 0.0, 0.0], [0.9718049764633179, 0.0009171952842734754, 0.0010889694094657898, 0.0023552593775093555, 0.0010471577988937497, 0.002082351129502058, 0.02070401795208454, 0.0], [0.9659451842308044, 0.0009057929273694754, 0.0006415993557311594, 0.0018910591024905443, 0.0010350855300202966, 0.0011761740315705538, 0.0038826537784188986, 0.02452247031033039]], [[1.0, 0.0, 0.0, 0.0, 0.0, 0.0, 0.0, 0.0], [0.9663732647895813, 0.03362672030925751, 0.0, 0.0, 0.0, 0.0, 0.0, 0.0], [0.8531225919723511, 0.09818196296691895, 0.048695433884859085, 0.0, 0.0, 0.0, 0.0, 0.0], [0.7687259316444397, 0.1344340592622757, 0.050495680421590805, 0.046344269067049026, 0.0, 0.0, 0.0, 0.0], [0.7705355882644653, 0.041123777627944946, 0.023492293432354927, 0.011818100698292255, 0.15303026139736176, 0.0, 0.0, 0.0], [0.653980016708374, 0.03314104303717613, 0.04164104908704758, 0.02877121791243553, 0.20537687838077545, 0.03708985447883606, 0.0, 0.0], [0.7637072801589966, 0.006496301852166653, 0.025321243330836296, 0.022425128147006035, 0.09155967086553574, 0.06521410495042801, 0.025276362895965576, 0.0], [0.49741384387016296, 0.02320411242544651, 0.03768884018063545, 0.027579279616475105, 0.10695945471525192, 0.05636086314916611, 0.14032158255577087, 0.11047204583883286]], [[1.0, 0.0, 0.0, 0.0, 0.0, 0.0, 0.0, 0.0], [0.967856764793396, 0.032143253833055496, 0.0, 0.0, 0.0, 0.0, 0.0, 0.0], [0.9165078997612, 0.055711157619953156, 0.027780963107943535, 0.0, 0.0, 0.0, 0.0, 0.0], [0.8963634967803955, 0.03464189171791077, 0.03713425248861313, 0.031860433518886566, 0.0, 0.0, 0.0, 0.0], [0.7853396534919739, 0.023485155776143074, 0.02122442051768303, 0.06432139873504639, 0.10562937706708908, 0.0, 0.0, 0.0], [0.6763750910758972, 0.03745652362704277, 0.023377059027552605, 0.053542859852313995, 0.16804537177085876, 0.04120311141014099, 0.0, 0.0], [0.7022046446800232, 0.013169570825994015, 0.02012844942510128, 0.025703631341457367, 0.14748120307922363, 0.06591470539569855, 0.02539777383208275, 0.0], [0.7616588473320007, 0.007507823873311281, 0.004605624359101057, 0.02161167748272419, 0.11381421983242035, 0.06161760538816452, 0.013805952854454517, 0.01537820789963007]], [[1.0, 0.0, 0.0, 0.0, 0.0, 0.0, 0.0, 0.0], [0.9709473252296448, 0.029052652418613434, 0.0, 0.0, 0.0, 0.0, 0.0, 0.0], [0.9939530491828918, 0.0018861867720261216, 0.004160684999078512, 0.0, 0.0, 0.0, 0.0, 0.0], [0.986672043800354, 0.0017427051207050681, 0.0005400461377575994, 0.011045197024941444, 0.0, 0.0, 0.0, 0.0], [0.9877412915229797, 0.0016544762765988708, 0.0012278888607397676, 0.0008967326139099896, 0.008479614742100239, 0.0, 0.0, 0.0], [0.9860885739326477, 0.001546876272186637, 0.0023078324738889933, 0.002326578600332141, 0.0026725789066404104, 0.005057444795966148, 0.0, 0.0], [0.9861494302749634, 0.0017577380640432239, 0.001322620315477252, 0.00014878642105031759, 0.0003716551000252366, 6.725717685185373e-05, 0.010182587429881096, 0.0], [0.9902862906455994, 0.00027530125225894153, 0.0013961665099486709, 0.0017930894391611218, 0.0010268574114888906, 1.9929731934098527e-05, 0.00031874951673671603, 0.004883707035332918]], [[1.0, 0.0, 0.0, 0.0, 0.0, 0.0, 0.0, 0.0], [0.9827927947044373, 0.017207244411110878, 0.0, 0.0, 0.0, 0.0, 0.0, 0.0], [0.9859943389892578, 0.008633959107100964, 0.005371640436351299, 0.0, 0.0, 0.0, 0.0, 0.0], [0.9799092411994934, 0.009361100383102894, 0.0028691610787063837, 0.007860485464334488, 0.0, 0.0, 0.0, 0.0], [0.9694450497627258, 0.01157438475638628, 0.001716917846351862, 0.003472532145678997, 0.013791198842227459, 0.0, 0.0, 0.0], [0.9840765595436096, 0.0024011072237044573, 0.000574070552829653, 0.00115208572242409, 0.007287501823157072, 0.00450870580971241, 0.0, 0.0], [0.9838899374008179, 0.0029599936679005623, 0.0022702442947775126, 0.0009289771551266313, 0.0019094196613878012, 0.0010589646408334374, 0.0069824219681322575, 0.0], [0.92661452293396, 0.0028316648676991463, 0.0024987508077174425, 0.0037640701048076153, 0.003223617095500231, 0.0020994767546653748, 0.003637742018327117, 0.05533020198345184]]], [[[1.0, 0.0, 0.0, 0.0, 0.0, 0.0, 0.0, 0.0], [0.951449453830719, 0.0485505685210228, 0.0, 0.0, 0.0, 0.0, 0.0, 0.0], [0.9658615589141846, 0.010058409534394741, 0.02408009022474289, 0.0, 0.0, 0.0, 0.0, 0.0], [0.9356444478034973, 0.008437186479568481, 0.02193453721702099, 0.033983852714300156, 0.0, 0.0, 0.0, 0.0], [0.8290913701057434, 0.006376205012202263, 0.013386509381234646, 0.03182952478528023, 0.1193164736032486, 0.0, 0.0, 0.0], [0.7986079454421997, 0.007539681624621153, 0.014148651622235775, 0.025707634165883064, 0.09108812361955643, 0.06290794909000397, 0.0, 0.0], [0.678389847278595, 0.02661948651075363, 0.035276610404253006, 0.060421884059906006, 0.08990280330181122, 0.07841742038726807, 0.030971957370638847, 0.0], [0.8510647416114807, 0.005510283168405294, 0.010787129402160645, 0.012628245167434216, 0.05411198362708092, 0.04119255393743515, 0.009183276444673538, 0.015521930530667305]], [[1.0, 0.0, 0.0, 0.0, 0.0, 0.0, 0.0, 0.0], [0.9712166786193848, 0.02878340147435665, 0.0, 0.0, 0.0, 0.0, 0.0, 0.0], [0.9875268340110779, 0.0052717868238687515, 0.007201253902167082, 0.0, 0.0, 0.0, 0.0, 0.0], [0.9809510707855225, 0.005698311608284712, 0.0027415615040808916, 0.010609153658151627, 0.0, 0.0, 0.0, 0.0], [0.9809651970863342, 0.0033261284697800875, 0.0019496312597766519, 0.001832805573940277, 0.011926311068236828, 0.0, 0.0, 0.0], [0.995495080947876, 0.0004732920788228512, 0.0004776646674145013, 0.0007649062317796052, 0.0011832024902105331, 0.0016058830078691244, 0.0, 0.0], [0.9875292778015137, 0.0013313113013282418, 0.0016899934271350503, 0.001083645154722035, 0.002334131160750985, 0.000799911271315068, 0.0052317045629024506, 0.0], [0.9808001518249512, 0.0005009445594623685, 0.0017413413152098656, 0.0029805898666381836, 0.0030050156638026237, 0.0006451113149523735, 0.000739436480216682, 0.009587443433701992]], [[1.0, 0.0, 0.0, 0.0, 0.0, 0.0, 0.0, 0.0], [0.9858216643333435, 0.014178343117237091, 0.0, 0.0, 0.0, 0.0, 0.0, 0.0], [0.9192677736282349, 0.02330642193555832, 0.057425860315561295, 0.0, 0.0, 0.0, 0.0, 0.0], [0.8197084665298462, 0.035190071910619736, 0.07514648139476776, 0.06995496898889542, 0.0, 0.0, 0.0, 0.0], [0.7379394769668579, 0.02593245543539524, 0.07463094592094421, 0.1136019304394722, 0.047895222902297974, 0.0, 0.0, 0.0], [0.685272216796875, 0.021387698128819466, 0.09903153032064438, 0.1121058464050293, 0.05126088857650757, 0.030941758304834366, 0.0, 0.0], [0.65684574842453, 0.015238592401146889, 0.0954543799161911, 0.09312772005796432, 0.03447316586971283, 0.051536425948143005, 0.053324028849601746, 0.0], [0.7701270580291748, 0.014220043085515499, 0.04100698232650757, 0.0508563406765461, 0.03685995936393738, 0.02124408446252346, 0.04227657616138458, 0.023408951237797737]], [[1.0, 0.0, 0.0, 0.0, 0.0, 0.0, 0.0, 0.0], [0.975985586643219, 0.024014359340071678, 0.0, 0.0, 0.0, 0.0, 0.0, 0.0], [0.9521355032920837, 0.010076479986310005, 0.03778804466128349, 0.0, 0.0, 0.0, 0.0, 0.0], [0.954176664352417, 0.011968923732638359, 0.020790589973330498, 0.01306380145251751, 0.0, 0.0, 0.0, 0.0], [0.938666820526123, 0.010401039384305477, 0.012205177918076515, 0.020218877121806145, 0.01850808598101139, 0.0, 0.0, 0.0], [0.9006164073944092, 0.018530091270804405, 0.014232429675757885, 0.019627073779702187, 0.023790568113327026, 0.023203421384096146, 0.0, 0.0], [0.9421818852424622, 0.004611070267856121, 0.009628403931856155, 0.008900352753698826, 0.008894293569028378, 0.01172626856714487, 0.014057720080018044, 0.0], [0.9441225528717041, 0.0012765651335939765, 0.005128661636263132, 0.003172821132466197, 0.011362320743501186, 0.010332603007555008, 0.0056957886554300785, 0.018908727914094925]], [[1.0, 0.0, 0.0, 0.0, 0.0, 0.0, 0.0, 0.0], [0.9044649004936218, 0.09553512930870056, 0.0, 0.0, 0.0, 0.0, 0.0, 0.0], [0.8435063362121582, 0.06397941708564758, 0.09251421689987183, 0.0, 0.0, 0.0, 0.0, 0.0], [0.7493969202041626, 0.04236855357885361, 0.10242089629173279, 0.1058136448264122, 0.0, 0.0, 0.0, 0.0], [0.936775803565979, 0.00403213407844305, 0.003279687138274312, 0.008262276649475098, 0.047650087624788284, 0.0, 0.0, 0.0], [0.8398222923278809, 0.007232543081045151, 0.007026905193924904, 0.011641927063465118, 0.11913487315177917, 0.015141379088163376, 0.0, 0.0], [0.6738957762718201, 0.0033773123286664486, 0.0037472995463758707, 0.004432335030287504, 0.0851195752620697, 0.14952756464481354, 0.07990012317895889, 0.0], [0.39084628224372864, 0.02092699147760868, 0.00239081890322268, 0.005111725069582462, 0.0431487001478672, 0.062353890389204025, 0.3968493640422821, 0.07837230712175369]], [[1.0, 0.0, 0.0, 0.0, 0.0, 0.0, 0.0, 0.0], [0.93937748670578, 0.06062256544828415, 0.0, 0.0, 0.0, 0.0, 0.0, 0.0], [0.8151305317878723, 0.10590600222349167, 0.07896335422992706, 0.0, 0.0, 0.0, 0.0, 0.0], [0.7006478905677795, 0.1109970360994339, 0.08529030531644821, 0.10306475311517715, 0.0, 0.0, 0.0, 0.0], [0.5807071328163147, 0.025286588817834854, 0.08335479348897934, 0.11828793585300446, 0.19236357510089874, 0.0, 0.0, 0.0], [0.35518941283226013, 0.02630288153886795, 0.06276316940784454, 0.06307632476091385, 0.4529270827770233, 0.03974118083715439, 0.0, 0.0], [0.32086557149887085, 0.011715448461472988, 0.041245222091674805, 0.07210636138916016, 0.31725776195526123, 0.1828574240207672, 0.05395223945379257, 0.0], [0.4011250436306, 0.01400334294885397, 0.02027999609708786, 0.031903695315122604, 0.21041139960289001, 0.13799048960208893, 0.1135210245847702, 0.07076498121023178]], [[1.0, 0.0, 0.0, 0.0, 0.0, 0.0, 0.0, 0.0], [0.9910324215888977, 0.008967609144747257, 0.0, 0.0, 0.0, 0.0, 0.0, 0.0], [0.9735907912254333, 0.002889057621359825, 0.023520128801465034, 0.0, 0.0, 0.0, 0.0, 0.0], [0.9417220950126648, 0.00537826307117939, 0.013999599032104015, 0.0388999879360199, 0.0, 0.0, 0.0, 0.0], [0.8861562609672546, 0.006982819177210331, 0.045466575771570206, 0.047627005726099014, 0.013767228461802006, 0.0, 0.0, 0.0], [0.9596819877624512, 0.001681181718595326, 0.0061345151625573635, 0.0171890277415514, 0.006394658237695694, 0.008918583393096924, 0.0, 0.0], [0.9471617341041565, 0.002395245246589184, 0.009279051795601845, 0.013231925666332245, 0.005007267463952303, 0.007051022723317146, 0.015873843804001808, 0.0], [0.9580639004707336, 0.0001936645567184314, 0.0017023744294419885, 0.009266040287911892, 0.004875712562352419, 0.004297199193388224, 0.0015061157755553722, 0.020094936713576317]], [[1.0, 0.0, 0.0, 0.0, 0.0, 0.0, 0.0, 0.0], [0.7030377388000488, 0.29696235060691833, 0.0, 0.0, 0.0, 0.0, 0.0, 0.0], [0.5280811190605164, 0.3391064703464508, 0.13281241059303284, 0.0, 0.0, 0.0, 0.0, 0.0], [0.5491084456443787, 0.13266931474208832, 0.1684279888868332, 0.14979428052902222, 0.0, 0.0, 0.0, 0.0], [0.751487672328949, 0.0012564117787405849, 0.005117455031722784, 0.013230962678790092, 0.2289075404405594, 0.0, 0.0, 0.0], [0.34711191058158875, 0.004330409690737724, 0.00616071093827486, 0.012210773304104805, 0.5786059498786926, 0.05158017575740814, 0.0, 0.0], [0.3316650390625, 0.0020678117871284485, 0.00397638650611043, 0.0062788380309939384, 0.34233757853507996, 0.2364598959684372, 0.07721448689699173, 0.0], [0.1408127099275589, 0.0034582039806991816, 0.0004921498475596309, 0.0008494019275531173, 0.17962001264095306, 0.1612924337387085, 0.4911425709724426, 0.022332562133669853]], [[1.0, 0.0, 0.0, 0.0, 0.0, 0.0, 0.0, 0.0], [0.7935627102851868, 0.20643728971481323, 0.0, 0.0, 0.0, 0.0, 0.0, 0.0], [0.8793578743934631, 0.023507606238126755, 0.09713450819253922, 0.0, 0.0, 0.0, 0.0, 0.0], [0.8590282797813416, 0.03438371419906616, 0.05009611323475838, 0.0564919039607048, 0.0, 0.0, 0.0, 0.0], [0.6103184223175049, 0.05823757126927376, 0.08898581564426422, 0.1563243418931961, 0.0861339196562767, 0.0, 0.0, 0.0], [0.525111973285675, 0.07262928038835526, 0.09481268376111984, 0.14990083873271942, 0.12256906181573868, 0.03497620299458504, 0.0, 0.0], [0.524936318397522, 0.05701183155179024, 0.10914282500743866, 0.1502019613981247, 0.07617057859897614, 0.044221650809049606, 0.03831484541296959, 0.0], [0.5268656015396118, 0.004686358850449324, 0.010911373421549797, 0.0224679596722126, 0.07664761692285538, 0.03350022807717323, 0.03322828188538551, 0.2916925549507141]], [[1.0, 0.0, 0.0, 0.0, 0.0, 0.0, 0.0, 0.0], [0.9674617052078247, 0.03253823518753052, 0.0, 0.0, 0.0, 0.0, 0.0, 0.0], [0.8075478672981262, 0.047011084854602814, 0.1454409956932068, 0.0, 0.0, 0.0, 0.0, 0.0], [0.6745768785476685, 0.057916536927223206, 0.1514519602060318, 0.11605455726385117, 0.0, 0.0, 0.0, 0.0], [0.3943260908126831, 0.08104345947504044, 0.21625038981437683, 0.2634754776954651, 0.04490455985069275, 0.0, 0.0, 0.0], [0.4794429540634155, 0.06144009530544281, 0.15672118961811066, 0.24303318560123444, 0.03666478395462036, 0.022697746753692627, 0.0, 0.0], [0.662792980670929, 0.05213583633303642, 0.11382247507572174, 0.1331874281167984, 0.013508795760571957, 0.013069943524897099, 0.011482645757496357, 0.0], [0.7085103392601013, 0.020157817751169205, 0.06290307641029358, 0.08386314660310745, 0.009990667924284935, 0.01808260753750801, 0.016397682949900627, 0.08009465783834457]], [[1.0, 0.0, 0.0, 0.0, 0.0, 0.0, 0.0, 0.0], [0.9110164046287537, 0.08898357301950455, 0.0, 0.0, 0.0, 0.0, 0.0, 0.0], [0.8926831483840942, 0.0277556162327528, 0.07956113666296005, 0.0, 0.0, 0.0, 0.0, 0.0], [0.8677011728286743, 0.028491836041212082, 0.05258573964238167, 0.05122127756476402, 0.0, 0.0, 0.0, 0.0], [0.7698479890823364, 0.033289749175310135, 0.04746515676379204, 0.06817261874675751, 0.08122441917657852, 0.0, 0.0, 0.0], [0.6963474750518799, 0.04269702732563019, 0.04663695767521858, 0.0757979303598404, 0.07290256023406982, 0.06561804562807083, 0.0, 0.0], [0.6871410012245178, 0.017700763419270515, 0.05543796718120575, 0.06729330867528915, 0.052738387137651443, 0.05699654296040535, 0.06269203126430511, 0.0], [0.7688592672348022, 0.00717894034460187, 0.01831272430717945, 0.0353475958108902, 0.03984765708446503, 0.035274334251880646, 0.029483070597052574, 0.06569647789001465]], [[1.0, 0.0, 0.0, 0.0, 0.0, 0.0, 0.0, 0.0], [0.9813536405563354, 0.018646348267793655, 0.0, 0.0, 0.0, 0.0, 0.0, 0.0], [0.9570956230163574, 0.01279626227915287, 0.030108094215393066, 0.0, 0.0, 0.0, 0.0, 0.0], [0.9513317942619324, 0.009805375710129738, 0.02275724522769451, 0.01610551029443741, 0.0, 0.0, 0.0, 0.0], [0.8893520832061768, 0.020017588511109352, 0.031909551471471786, 0.02940402738749981, 0.029316769912838936, 0.0, 0.0, 0.0], [0.886516273021698, 0.017359884455800056, 0.028086399659514427, 0.03598964586853981, 0.018704421818256378, 0.013343374244868755, 0.0, 0.0], [0.9186536073684692, 0.009973659180104733, 0.011934151872992516, 0.0165829099714756, 0.012413845397531986, 0.01643703319132328, 0.014004828408360481, 0.0], [0.9136124849319458, 0.003545226063579321, 0.00714718084782362, 0.011791612952947617, 0.018722232431173325, 0.012360727414488792, 0.010670678690075874, 0.0221498254686594]]], [[[1.0, 0.0, 0.0, 0.0, 0.0, 0.0, 0.0, 0.0], [0.9435385465621948, 0.05646141991019249, 0.0, 0.0, 0.0, 0.0, 0.0, 0.0], [0.9027257561683655, 0.018646173179149628, 0.07862812280654907, 0.0, 0.0, 0.0, 0.0, 0.0], [0.9333773851394653, 0.009436972439289093, 0.027229707688093185, 0.02995600737631321, 0.0, 0.0, 0.0, 0.0], [0.8169316053390503, 0.009507295675575733, 0.08339003473520279, 0.058180466294288635, 0.031990692019462585, 0.0, 0.0, 0.0], [0.8087671995162964, 0.007102742325514555, 0.051180656999349594, 0.04214007407426834, 0.07320588827133179, 0.0176034327596426, 0.0, 0.0], [0.7765289545059204, 0.0060193841345608234, 0.06221739575266838, 0.04448912665247917, 0.07196145504713058, 0.021928921341896057, 0.016854722052812576, 0.0], [0.7767960429191589, 0.0067061008885502815, 0.02221708931028843, 0.03776121884584427, 0.032342713326215744, 0.014036029577255249, 0.015614391304552555, 0.09452644735574722]], [[1.0, 0.0, 0.0, 0.0, 0.0, 0.0, 0.0, 0.0], [0.9888717532157898, 0.011128256097435951, 0.0, 0.0, 0.0, 0.0, 0.0, 0.0], [0.9885013103485107, 0.003913162276148796, 0.007585490588098764, 0.0, 0.0, 0.0, 0.0, 0.0], [0.9849525094032288, 0.004996048752218485, 0.003976214211434126, 0.006075243931263685, 0.0, 0.0, 0.0, 0.0], [0.968299925327301, 0.005128007382154465, 0.001791292568668723, 0.006568076089024544, 0.018212726339697838, 0.0, 0.0, 0.0], [0.9482281804084778, 0.0006137996097095311, 0.00041940013761632144, 0.003040183801203966, 0.01035117544233799, 0.037347231060266495, 0.0, 0.0], [0.9803755879402161, 0.0011591423535719514, 0.001867840881459415, 0.003535469528287649, 0.0011973469518125057, 0.0012383662397041917, 0.010626288130879402, 0.0], [0.9698187112808228, 0.0007861762423999608, 0.0013244576985016465, 0.006814640015363693, 0.001984059577807784, 0.0013945044483989477, 0.0033414880745112896, 0.014535991474986076]], [[1.0, 0.0, 0.0, 0.0, 0.0, 0.0, 0.0, 0.0], [0.9546023011207581, 0.045397721230983734, 0.0, 0.0, 0.0, 0.0, 0.0, 0.0], [0.9485079646110535, 0.008415885269641876, 0.04307623580098152, 0.0, 0.0, 0.0, 0.0, 0.0], [0.9592610001564026, 0.00798018742352724, 0.017515700310468674, 0.015243198722600937, 0.0, 0.0, 0.0, 0.0], [0.7416039109230042, 0.017296064645051956, 0.06768685579299927, 0.11539734154939651, 0.05801582336425781, 0.0, 0.0, 0.0], [0.7625539302825928, 0.008643962442874908, 0.04608917608857155, 0.05952663719654083, 0.062024910002946854, 0.06116137653589249, 0.0, 0.0], [0.8135555386543274, 0.007118513807654381, 0.05299518629908562, 0.06494805961847305, 0.019136665388941765, 0.018239488825201988, 0.024006549268960953, 0.0], [0.8082900047302246, 0.002097941702231765, 0.016843309625983238, 0.02219334803521633, 0.03723231703042984, 0.018331114202737808, 0.024664586409926414, 0.0703473761677742]], [[1.0, 0.0, 0.0, 0.0, 0.0, 0.0, 0.0, 0.0], [0.8302692770957947, 0.1697307527065277, 0.0, 0.0, 0.0, 0.0, 0.0, 0.0], [0.7336011528968811, 0.14844751358032227, 0.11795131862163544, 0.0, 0.0, 0.0, 0.0, 0.0], [0.749567449092865, 0.024084776639938354, 0.1418469250202179, 0.08450090885162354, 0.0, 0.0, 0.0, 0.0], [0.6938269138336182, 0.004867913667112589, 0.05119108781218529, 0.1183597594499588, 0.13175435364246368, 0.0, 0.0, 0.0], [0.40410494804382324, 0.006051728967577219, 0.024305569007992744, 0.043079085648059845, 0.4910559058189392, 0.03140277788043022, 0.0, 0.0], [0.3680669069290161, 0.002210809849202633, 0.010149630717933178, 0.019444309175014496, 0.29646554589271545, 0.26541686058044434, 0.03824589401483536, 0.0], [0.40159764885902405, 0.010820536874234676, 0.006620360538363457, 0.004931027535349131, 0.06294349581003189, 0.06255686283111572, 0.35544660687446594, 0.09508349746465683]], [[1.0, 0.0, 0.0, 0.0, 0.0, 0.0, 0.0, 0.0], [0.9972623586654663, 0.0027376164216548204, 0.0, 0.0, 0.0, 0.0, 0.0, 0.0], [0.977132260799408, 0.0028423070907592773, 0.020025448873639107, 0.0, 0.0, 0.0, 0.0, 0.0], [0.9645379781723022, 0.005626395344734192, 0.022184662520885468, 0.007650991901755333, 0.0, 0.0, 0.0, 0.0], [0.9531646966934204, 0.0022949741687625647, 0.01924489066004753, 0.015601493418216705, 0.009694059379398823, 0.0, 0.0, 0.0], [0.9666702747344971, 0.0025226178113371134, 0.009091831743717194, 0.012779032811522484, 0.005502720829099417, 0.0034335735253989697, 0.0, 0.0], [0.9762043356895447, 0.00043928352533839643, 0.012740381062030792, 0.006726655177772045, 0.0013752481900155544, 0.0007634684443473816, 0.001750570023432374, 0.0], [0.9707805514335632, 0.00023666613560635597, 0.0041096811182796955, 0.003419478191062808, 0.002875077072530985, 0.0015531168319284916, 0.0012933657271787524, 0.015732059255242348]], [[1.0, 0.0, 0.0, 0.0, 0.0, 0.0, 0.0, 0.0], [0.858851432800293, 0.14114858210086823, 0.0, 0.0, 0.0, 0.0, 0.0, 0.0], [0.9236416816711426, 0.013843497261404991, 0.06251481175422668, 0.0, 0.0, 0.0, 0.0, 0.0], [0.9438913464546204, 0.010062294080853462, 0.026787400245666504, 0.01925886981189251, 0.0, 0.0, 0.0, 0.0], [0.8860254287719727, 0.015226637944579124, 0.021696509793400764, 0.0227858517318964, 0.054265592247247696, 0.0, 0.0, 0.0], [0.8778051733970642, 0.010303957387804985, 0.009957512840628624, 0.009362561628222466, 0.054661065340042114, 0.03790973871946335, 0.0, 0.0], [0.8891486525535583, 0.007085450459271669, 0.014125948771834373, 0.010054434649646282, 0.033209193497896194, 0.020705683156847954, 0.02567063644528389, 0.0], [0.8998197913169861, 0.004415045492351055, 0.004417793825268745, 0.005586732178926468, 0.027533655986189842, 0.015246469527482986, 0.013117026537656784, 0.029863417148590088]], [[1.0, 0.0, 0.0, 0.0, 0.0, 0.0, 0.0, 0.0], [0.9919121265411377, 0.00808783620595932, 0.0, 0.0, 0.0, 0.0, 0.0, 0.0], [0.9889293313026428, 0.005226423963904381, 0.005844225641340017, 0.0, 0.0, 0.0, 0.0, 0.0], [0.9871363639831543, 0.0049098581075668335, 0.0018255501054227352, 0.006128286477178335, 0.0, 0.0, 0.0, 0.0], [0.953066885471344, 0.02029988542199135, 0.009151596575975418, 0.015282736159861088, 0.002198757603764534, 0.0, 0.0, 0.0], [0.9753722548484802, 0.006279466673731804, 0.0033232064452022314, 0.01111841481178999, 0.002398462500423193, 0.0015081316232681274, 0.0, 0.0], [0.9722164273262024, 0.004203633405268192, 0.004345622379332781, 0.0036119946744292974, 0.0008458744850941002, 0.0003090144891757518, 0.014467564411461353, 0.0], [0.9668177962303162, 0.000841780100017786, 0.003951694816350937, 0.007885918952524662, 0.0022311205975711346, 0.00019855034770444036, 0.0010805130004882812, 0.016992714256048203]], [[1.0, 0.0, 0.0, 0.0, 0.0, 0.0, 0.0, 0.0], [0.9764449000358582, 0.023555105552077293, 0.0, 0.0, 0.0, 0.0, 0.0, 0.0], [0.945409893989563, 0.020349761471152306, 0.03424032777547836, 0.0, 0.0, 0.0, 0.0, 0.0], [0.9552974104881287, 0.012166515924036503, 0.020975660532712936, 0.011560454033315182, 0.0, 0.0, 0.0, 0.0], [0.7378346920013428, 0.04092520475387573, 0.07879573106765747, 0.08168832212686539, 0.060756053775548935, 0.0, 0.0, 0.0], [0.8699150085449219, 0.02025274559855461, 0.02298390306532383, 0.04565104842185974, 0.02735098823904991, 0.013846318237483501, 0.0, 0.0], [0.7688676714897156, 0.024739958345890045, 0.0730070099234581, 0.06595323234796524, 0.03743010386824608, 0.019757315516471863, 0.010244667530059814, 0.0], [0.8267437219619751, 0.0054705399088561535, 0.017759541049599648, 0.04348130151629448, 0.04829355701804161, 0.020121145993471146, 0.004259706940501928, 0.03387041017413139]], [[1.0, 0.0, 0.0, 0.0, 0.0, 0.0, 0.0, 0.0], [0.9777876138687134, 0.022212352603673935, 0.0, 0.0, 0.0, 0.0, 0.0, 0.0], [0.9845836162567139, 0.004473267588764429, 0.010943078435957432, 0.0, 0.0, 0.0, 0.0, 0.0], [0.977055549621582, 0.005387693643569946, 0.009277114644646645, 0.008279629051685333, 0.0, 0.0, 0.0, 0.0], [0.8371555209159851, 0.015612415969371796, 0.05017831549048424, 0.043723709881305695, 0.05333004146814346, 0.0, 0.0, 0.0], [0.8438835740089417, 0.019415851682424545, 0.032201431691646576, 0.036895524710416794, 0.04606247320771217, 0.021541081368923187, 0.0, 0.0], [0.8401215672492981, 0.016359718516469002, 0.036538563668727875, 0.03726418316364288, 0.04239388555288315, 0.019588302820920944, 0.0077338069677352905, 0.0], [0.8963731527328491, 0.006494280882179737, 0.010327528230845928, 0.01133043970912695, 0.016249634325504303, 0.015019887126982212, 0.006275765597820282, 0.03792930766940117]], [[1.0, 0.0, 0.0, 0.0, 0.0, 0.0, 0.0, 0.0], [0.9900571703910828, 0.009942819364368916, 0.0, 0.0, 0.0, 0.0, 0.0, 0.0], [0.9619874954223633, 0.0176609605550766, 0.020351586863398552, 0.0, 0.0, 0.0, 0.0, 0.0], [0.9902645349502563, 0.0030913245864212513, 0.0012633127626031637, 0.005380779039114714, 0.0, 0.0, 0.0, 0.0], [0.937524139881134, 0.015439169481396675, 0.016185713931918144, 0.025112293660640717, 0.0057386071421206, 0.0, 0.0, 0.0], [0.9697208404541016, 0.003521785605698824, 0.004625793546438217, 0.01503694336861372, 0.004543967079371214, 0.002550573321059346, 0.0, 0.0], [0.9762362837791443, 0.0021901936270296574, 0.003347368910908699, 0.004292795900255442, 0.0016399255255237222, 0.0007894752197898924, 0.011503899469971657, 0.0], [0.966009795665741, 0.0005227610236033797, 0.003437947016209364, 0.01037462055683136, 0.00201014569029212, 0.00016075099119916558, 0.0017429771833121777, 0.01574094034731388]], [[1.0, 0.0, 0.0, 0.0, 0.0, 0.0, 0.0, 0.0], [0.9856634140014648, 0.014336551539599895, 0.0, 0.0, 0.0, 0.0, 0.0, 0.0], [0.8299614787101746, 0.0941532552242279, 0.0758853331208229, 0.0, 0.0, 0.0, 0.0, 0.0], [0.7031471729278564, 0.10163942724466324, 0.1189221665263176, 0.07629115134477615, 0.0, 0.0, 0.0, 0.0], [0.8334305882453918, 0.005439326632767916, 0.011097199283540249, 0.012335855513811111, 0.1376969814300537, 0.0, 0.0, 0.0], [0.5444712042808533, 0.013607785105705261, 0.009823753498494625, 0.011763662099838257, 0.34824198484420776, 0.07209163159132004, 0.0, 0.0], [0.8295558094978333, 0.00424719974398613, 0.0018243301892653108, 0.004784583579748869, 0.03668609634041786, 0.06021604686975479, 0.06268583983182907, 0.0], [0.5689511895179749, 0.014828851446509361, 0.0007679456030018628, 0.0018869196064770222, 0.0397183783352375, 0.0512726753950119, 0.2989448606967926, 0.02362920716404915]], [[1.0, 0.0, 0.0, 0.0, 0.0, 0.0, 0.0, 0.0], [0.9967743754386902, 0.003225656459107995, 0.0, 0.0, 0.0, 0.0, 0.0, 0.0], [0.9952599406242371, 0.002539372304454446, 0.0022007005754858255, 0.0, 0.0, 0.0, 0.0, 0.0], [0.9948623776435852, 0.0017235632985830307, 0.001198250101879239, 0.002215777989476919, 0.0, 0.0, 0.0, 0.0], [0.9788505434989929, 0.007955213077366352, 0.004161261022090912, 0.003022865392267704, 0.006010077893733978, 0.0, 0.0, 0.0], [0.9757687449455261, 0.004127474036067724, 0.00835186056792736, 0.006116485223174095, 0.001979503780603409, 0.0036559009458869696, 0.0, 0.0], [0.9575083255767822, 0.0032539977692067623, 0.018713349476456642, 0.006783064920455217, 0.0020658038556575775, 0.0050905742682516575, 0.006584888324141502, 0.0], [0.962988018989563, 0.002146838465705514, 0.007957492023706436, 0.006596807390451431, 0.003111578058451414, 0.0039664520882070065, 0.003243735060095787, 0.00998904462903738]]], [[[1.0, 0.0, 0.0, 0.0, 0.0, 0.0, 0.0, 0.0], [0.9567565321922302, 0.043243467807769775, 0.0, 0.0, 0.0, 0.0, 0.0, 0.0], [0.8872593641281128, 0.025760624557733536, 0.08698005974292755, 0.0, 0.0, 0.0, 0.0, 0.0], [0.9450151920318604, 0.010042499750852585, 0.02935498021543026, 0.015587316825985909, 0.0, 0.0, 0.0, 0.0], [0.6486431360244751, 0.053894348442554474, 0.17076152563095093, 0.10503174364566803, 0.021669168025255203, 0.0, 0.0, 0.0], [0.7998860478401184, 0.032422445714473724, 0.06114271655678749, 0.08115163445472717, 0.019990604370832443, 0.005406495649367571, 0.0, 0.0], [0.7694825530052185, 0.03069218434393406, 0.10588854551315308, 0.05417630821466446, 0.010317101143300533, 0.00485607935115695, 0.024587295949459076, 0.0], [0.8539735674858093, 0.00853708479553461, 0.03470947593450546, 0.04164338856935501, 0.012602808885276318, 0.004421382676810026, 0.007330102846026421, 0.036782119423151016]], [[1.0, 0.0, 0.0, 0.0, 0.0, 0.0, 0.0, 0.0], [0.980556070804596, 0.01944393292069435, 0.0, 0.0, 0.0, 0.0, 0.0, 0.0], [0.9665948748588562, 0.010614195838570595, 0.02279103547334671, 0.0, 0.0, 0.0, 0.0, 0.0], [0.9629364013671875, 0.010350813157856464, 0.011570795439183712, 0.015141986310482025, 0.0, 0.0, 0.0, 0.0], [0.9040108919143677, 0.03125307336449623, 0.027292706072330475, 0.021855397149920464, 0.01558784581720829, 0.0, 0.0, 0.0], [0.918462872505188, 0.006376678589731455, 0.007543531712144613, 0.01262395828962326, 0.01769096963107586, 0.03730204701423645, 0.0, 0.0], [0.943065345287323, 0.012832972221076488, 0.01496713887900114, 0.005431543104350567, 0.0043345289304852486, 0.001401520217768848, 0.017966972663998604, 0.0], [0.9379202723503113, 0.0016648720484226942, 0.01431560330092907, 0.012867024168372154, 0.006147239822894335, 0.0009938519215211272, 0.007921067997813225, 0.018170079216361046]], [[1.0, 0.0, 0.0, 0.0, 0.0, 0.0, 0.0, 0.0], [0.9883677363395691, 0.011632242240011692, 0.0, 0.0, 0.0, 0.0, 0.0, 0.0], [0.9665014147758484, 0.005992090795189142, 0.027506526559591293, 0.0, 0.0, 0.0, 0.0, 0.0], [0.9559738039970398, 0.00834241509437561, 0.018573231995105743, 0.0171105545014143, 0.0, 0.0, 0.0, 0.0], [0.838269829750061, 0.014429708942770958, 0.04658238962292671, 0.046509649604558945, 0.05420849099755287, 0.0, 0.0, 0.0], [0.9235464930534363, 0.00584560539573431, 0.013120735064148903, 0.025390734896063805, 0.020875290036201477, 0.011221143417060375, 0.0, 0.0], [0.8749715089797974, 0.009799734689295292, 0.04207438603043556, 0.022811012342572212, 0.009732086211442947, 0.007051724940538406, 0.03355960175395012, 0.0], [0.8833149671554565, 0.0021897912956774235, 0.010781723074615002, 0.01538280863314867, 0.01309220027178526, 0.004669819492846727, 0.007512620650231838, 0.06305605173110962]], [[1.0, 0.0, 0.0, 0.0, 0.0, 0.0, 0.0, 0.0], [0.9859684705734253, 0.014031543396413326, 0.0, 0.0, 0.0, 0.0, 0.0, 0.0], [0.9544152021408081, 0.016654497012495995, 0.0289303045719862, 0.0, 0.0, 0.0, 0.0, 0.0], [0.95363450050354, 0.010564109310507774, 0.021435000002384186, 0.01436637993901968, 0.0, 0.0, 0.0, 0.0], [0.9099381566047668, 0.012374472804367542, 0.02799498848617077, 0.011058257892727852, 0.03863415867090225, 0.0, 0.0, 0.0], [0.9055838584899902, 0.008008228614926338, 0.01676771230995655, 0.012269227765500546, 0.02229168266057968, 0.03507928550243378, 0.0, 0.0], [0.9014139771461487, 0.007512696087360382, 0.027516864240169525, 0.01309732161462307, 0.012325039133429527, 0.017384381964802742, 0.020749783143401146, 0.0], [0.8810113072395325, 0.007451671175658703, 0.02555481716990471, 0.017138272523880005, 0.018141139298677444, 0.009468598291277885, 0.0061634499579668045, 0.035070717334747314]], [[1.0, 0.0, 0.0, 0.0, 0.0, 0.0, 0.0, 0.0], [0.9752967357635498, 0.024703238159418106, 0.0, 0.0, 0.0, 0.0, 0.0, 0.0], [0.9560981392860413, 0.018894579261541367, 0.02500727027654648, 0.0, 0.0, 0.0, 0.0, 0.0], [0.9483197331428528, 0.012159287929534912, 0.015359095297753811, 0.02416187711060047, 0.0, 0.0, 0.0, 0.0], [0.700753390789032, 0.030517861247062683, 0.05327945947647095, 0.1347089409828186, 0.0807403177022934, 0.0, 0.0, 0.0], [0.7213711142539978, 0.014903063885867596, 0.03197609260678291, 0.054746124893426895, 0.09968964010477066, 0.07731397449970245, 0.0, 0.0], [0.8003870248794556, 0.018115296959877014, 0.04486905783414841, 0.03222162276506424, 0.020490871742367744, 0.04991091787815094, 0.03400523215532303, 0.0], [0.7617974281311035, 0.006175327114760876, 0.015018139965832233, 0.025929832831025124, 0.022589061409235, 0.07300063967704773, 0.03403695300221443, 0.06145259737968445]], [[1.0, 0.0, 0.0, 0.0, 0.0, 0.0, 0.0, 0.0], [0.9953473210334778, 0.004652715753763914, 0.0, 0.0, 0.0, 0.0, 0.0, 0.0], [0.8805364966392517, 0.06558559089899063, 0.05387789383530617, 0.0, 0.0, 0.0, 0.0, 0.0], [0.7440310716629028, 0.07732342928647995, 0.0803239569067955, 0.09832148253917694, 0.0, 0.0, 0.0, 0.0], [0.8612642884254456, 0.01218290627002716, 0.012419994920492172, 0.012764855287969112, 0.1013680025935173, 0.0, 0.0, 0.0], [0.8833633065223694, 0.007362100761383772, 0.007213301490992308, 0.014127086848020554, 0.08163309842348099, 0.0063009983859956264, 0.0, 0.0], [0.9849105477333069, 0.0013464447110891342, 0.0008959898259490728, 0.001347708865068853, 0.006603981833904982, 0.0028088181279599667, 0.0020865185651928186, 0.0], [0.9859517812728882, 0.0005510197370313108, 0.00047750744852237403, 0.0008204703335650265, 0.004476923029869795, 0.0029948242008686066, 0.002363774925470352, 0.0023637658450752497]], [[1.0, 0.0, 0.0, 0.0, 0.0, 0.0, 0.0, 0.0], [0.9867700338363647, 0.013229972682893276, 0.0, 0.0, 0.0, 0.0, 0.0, 0.0], [0.9389233589172363, 0.007085590623319149, 0.05399104952812195, 0.0, 0.0, 0.0, 0.0, 0.0], [0.9641446471214294, 0.006010344251990318, 0.015866681933403015, 0.013978341594338417, 0.0, 0.0, 0.0, 0.0], [0.8115807175636292, 0.015021124854683876, 0.08003640174865723, 0.0698118507862091, 0.023549892008304596, 0.0, 0.0, 0.0], [0.8680784702301025, 0.006972665432840586, 0.02939002402126789, 0.046049974858760834, 0.031171975657343864, 0.018336864188313484, 0.0, 0.0], [0.8072901964187622, 0.003867129096761346, 0.03015044704079628, 0.021100744605064392, 0.01417474914342165, 0.026082251220941544, 0.09733451157808304, 0.0], [0.8574259877204895, 0.0010402610059827566, 0.013391092419624329, 0.02084384672343731, 0.009454866871237755, 0.011157195083796978, 0.02638443373143673, 0.060302432626485825]], [[1.0, 0.0, 0.0, 0.0, 0.0, 0.0, 0.0, 0.0], [0.9595409035682678, 0.04045911878347397, 0.0, 0.0, 0.0, 0.0, 0.0, 0.0], [0.9007777571678162, 0.01964363269507885, 0.07957865297794342, 0.0, 0.0, 0.0, 0.0, 0.0], [0.9491091370582581, 0.005813606549054384, 0.012629907578229904, 0.03244735673069954, 0.0, 0.0, 0.0, 0.0], [0.588621973991394, 0.06269772350788116, 0.2105902135372162, 0.07981948554515839, 0.05827070400118828, 0.0, 0.0, 0.0], [0.7616365551948547, 0.026989100500941277, 0.0558556392788887, 0.036040712147951126, 0.0779687836766243, 0.04150921851396561, 0.0, 0.0], [0.6925936341285706, 0.011985338293015957, 0.10171599686145782, 0.0324016697704792, 0.057729363441467285, 0.03752738982439041, 0.06604664772748947, 0.0], [0.8265882134437561, 0.004910013638436794, 0.020191187039017677, 0.01954903081059456, 0.03314535692334175, 0.009659400209784508, 0.007611416280269623, 0.07834537327289581]], [[1.0, 0.0, 0.0, 0.0, 0.0, 0.0, 0.0, 0.0], [0.9728171229362488, 0.027182824909687042, 0.0, 0.0, 0.0, 0.0, 0.0, 0.0], [0.9864315390586853, 0.00567890889942646, 0.007889574393630028, 0.0, 0.0, 0.0, 0.0, 0.0], [0.982699990272522, 0.003069438273087144, 0.0049989428371191025, 0.009231703355908394, 0.0, 0.0, 0.0, 0.0], [0.9494931697845459, 0.007280557882040739, 0.004250994883477688, 0.009930415078997612, 0.029044868424534798, 0.0, 0.0, 0.0], [0.9571384191513062, 0.002354332245886326, 0.004957935772836208, 0.020227404311299324, 0.013336794450879097, 0.001985104288905859, 0.0, 0.0], [0.9750741720199585, 0.00410101655870676, 0.0046641831286251545, 0.005904802121222019, 0.004730242770165205, 0.0010400661267340183, 0.004485646262764931, 0.0], [0.9693312048912048, 0.0021641596686095, 0.002985927974805236, 0.009277223609387875, 0.004981710575520992, 0.0009601990459486842, 0.0015080083394423127, 0.008791434578597546]], [[1.0, 0.0, 0.0, 0.0, 0.0, 0.0, 0.0, 0.0], [0.8501452803611755, 0.14985476434230804, 0.0, 0.0, 0.0, 0.0, 0.0, 0.0], [0.46074047684669495, 0.3280462324619293, 0.21121326088905334, 0.0, 0.0, 0.0, 0.0, 0.0], [0.42574039101600647, 0.15978142619132996, 0.27135324478149414, 0.14312498271465302, 0.0, 0.0, 0.0, 0.0], [0.8577409386634827, 0.009466190822422504, 0.025200802832841873, 0.04222242534160614, 0.06536957621574402, 0.0, 0.0, 0.0], [0.7921112775802612, 0.01015822496265173, 0.02076360397040844, 0.027787765488028526, 0.12440510839223862, 0.02477407641708851, 0.0, 0.0], [0.726943850517273, 0.004596930928528309, 0.007906176149845123, 0.01630895584821701, 0.06876882165670395, 0.1367565244436264, 0.038718633353710175, 0.0], [0.6438659429550171, 0.012284904718399048, 0.002749630017206073, 0.004188141319900751, 0.013911373913288116, 0.062810979783535, 0.20810775458812714, 0.05208127200603485]], [[1.0, 0.0, 0.0, 0.0, 0.0, 0.0, 0.0, 0.0], [0.9804217219352722, 0.01957831159234047, 0.0, 0.0, 0.0, 0.0, 0.0, 0.0], [0.9647644758224487, 0.011123109608888626, 0.024112429469823837, 0.0, 0.0, 0.0, 0.0, 0.0], [0.979903519153595, 0.010607127100229263, 0.004326351452618837, 0.005163098219782114, 0.0, 0.0, 0.0, 0.0], [0.8941099047660828, 0.03644442930817604, 0.040647953748703, 0.016968440264463425, 0.011829227209091187, 0.0, 0.0, 0.0], [0.9353995323181152, 0.013915583491325378, 0.021578364074230194, 0.016746487468481064, 0.0071474406868219376, 0.005212496966123581, 0.0, 0.0], [0.9309971332550049, 0.01002338994294405, 0.025837279856204987, 0.010210531763732433, 0.005189533345401287, 0.006838702596724033, 0.01090336125344038, 0.0], [0.9309767484664917, 0.0030396177899092436, 0.0170145183801651, 0.01006357092410326, 0.005718024913221598, 0.008932876400649548, 0.003943684045225382, 0.02031092159450054]], [[1.0, 0.0, 0.0, 0.0, 0.0, 0.0, 0.0, 0.0], [0.9179637432098389, 0.08203627169132233, 0.0, 0.0, 0.0, 0.0, 0.0, 0.0], [0.7727534174919128, 0.12198810279369354, 0.1052585020661354, 0.0, 0.0, 0.0, 0.0, 0.0], [0.9757071137428284, 0.0029794243164360523, 0.0026967728044837713, 0.018616696819663048, 0.0, 0.0, 0.0, 0.0], [0.8658203482627869, 0.0029843179509043694, 0.020252132788300514, 0.024037012830376625, 0.08690617233514786, 0.0, 0.0, 0.0], [0.7261425256729126, 0.0013334467075765133, 0.007399045862257481, 0.008418722078204155, 0.20841361582279205, 0.04829270765185356, 0.0, 0.0], [0.6090216040611267, 0.00023778121976647526, 0.0016398730222135782, 0.0030609339009970427, 0.03524031490087509, 0.15200628340244293, 0.1987931728363037, 0.0], [0.13521811366081238, 0.00013554553152062, 0.00011814972822321579, 0.0005651264800690114, 0.005681556649506092, 0.0401102714240551, 0.7983691692352295, 0.01980205811560154]]], [[[1.0, 0.0, 0.0, 0.0, 0.0, 0.0, 0.0, 0.0], [0.8174369931221008, 0.1825629621744156, 0.0, 0.0, 0.0, 0.0, 0.0, 0.0], [0.4360755383968353, 0.20817825198173523, 0.35574617981910706, 0.0, 0.0, 0.0, 0.0, 0.0], [0.20824536681175232, 0.1416071206331253, 0.24577291309833527, 0.4043745994567871, 0.0, 0.0, 0.0, 0.0], [0.24730274081230164, 0.10981954634189606, 0.2815417945384979, 0.19418060779571533, 0.16715526580810547, 0.0, 0.0, 0.0], [0.281310498714447, 0.08083415031433105, 0.18682171404361725, 0.14491018652915955, 0.17423206567764282, 0.13189134001731873, 0.0, 0.0], [0.2941822409629822, 0.07713431864976883, 0.19880937039852142, 0.1150166317820549, 0.18577688932418823, 0.07072335481643677, 0.05835721269249916, 0.0], [0.30496665835380554, 0.040362533181905746, 0.11782200634479523, 0.09559084475040436, 0.1825854480266571, 0.062095895409584045, 0.09515300393104553, 0.10142362862825394]], [[1.0, 0.0, 0.0, 0.0, 0.0, 0.0, 0.0, 0.0], [0.9697790145874023, 0.030221007764339447, 0.0, 0.0, 0.0, 0.0, 0.0, 0.0], [0.9046961665153503, 0.042139675468206406, 0.053164247423410416, 0.0, 0.0, 0.0, 0.0, 0.0], [0.9042806029319763, 0.027952639386057854, 0.029484359547495842, 0.038282446563243866, 0.0, 0.0, 0.0, 0.0], [0.8172638416290283, 0.03640381991863251, 0.04383021965622902, 0.06005726754665375, 0.04244472086429596, 0.0, 0.0, 0.0], [0.8142133355140686, 0.02069762349128723, 0.030750082805752754, 0.06791199743747711, 0.03843948245048523, 0.027987509965896606, 0.0, 0.0], [0.8001892566680908, 0.013643218204379082, 0.021740121766924858, 0.028910527005791664, 0.03682434558868408, 0.042526960372924805, 0.05616552010178566, 0.0], [0.8081125020980835, 0.005292195361107588, 0.011520967818796635, 0.020695023238658905, 0.04192188382148743, 0.06384128332138062, 0.03585057705640793, 0.012765544466674328]], [[1.0, 0.0, 0.0, 0.0, 0.0, 0.0, 0.0, 0.0], [0.9788005948066711, 0.02119942009449005, 0.0, 0.0, 0.0, 0.0, 0.0, 0.0], [0.9405468702316284, 0.024527529254555702, 0.03492550179362297, 0.0, 0.0, 0.0, 0.0, 0.0], [0.9211282134056091, 0.026706447824835777, 0.023962728679180145, 0.028202518820762634, 0.0, 0.0, 0.0, 0.0], [0.8803735971450806, 0.02889026142656803, 0.03935173898935318, 0.025769704952836037, 0.025614645332098007, 0.0, 0.0, 0.0], [0.8843779563903809, 0.023420952260494232, 0.0289765615016222, 0.025728747248649597, 0.02609759196639061, 0.011398178525269032, 0.0, 0.0], [0.7992238998413086, 0.028277434408664703, 0.08532671630382538, 0.03681964427232742, 0.02647453360259533, 0.013095918111503124, 0.01078181341290474, 0.0], [0.9144789576530457, 0.004740864038467407, 0.012439117766916752, 0.013416335918009281, 0.015489239245653152, 0.011933748610317707, 0.0078024775721132755, 0.019699322059750557]], [[1.0, 0.0, 0.0, 0.0, 0.0, 0.0, 0.0, 0.0], [0.9002647995948792, 0.09973522275686264, 0.0, 0.0, 0.0, 0.0, 0.0, 0.0], [0.7521457076072693, 0.06320042908191681, 0.18465390801429749, 0.0, 0.0, 0.0, 0.0, 0.0], [0.8248746991157532, 0.026826461777091026, 0.08989205956459045, 0.05840675160288811, 0.0, 0.0, 0.0, 0.0], [0.4773664176464081, 0.045638564974069595, 0.1260034590959549, 0.1562335342168808, 0.19475795328617096, 0.0, 0.0, 0.0], [0.42952772974967957, 0.036266766488552094, 0.13134030997753143, 0.08769728243350983, 0.25995492935180664, 0.055213022977113724, 0.0, 0.0], [0.2227412909269333, 0.00868032593280077, 0.051091503351926804, 0.058480557054281235, 0.268462210893631, 0.3436906039714813, 0.04685347527265549, 0.0], [0.7571847438812256, 0.010597480461001396, 0.0054413024336099625, 0.008138557896018028, 0.03115500696003437, 0.06215161457657814, 0.08533289283514023, 0.03999846801161766]], [[1.0, 0.0, 0.0, 0.0, 0.0, 0.0, 0.0, 0.0], [0.8900484442710876, 0.10995151847600937, 0.0, 0.0, 0.0, 0.0, 0.0, 0.0], [0.8721020221710205, 0.0480940006673336, 0.07980401068925858, 0.0, 0.0, 0.0, 0.0, 0.0], [0.8530208468437195, 0.022142577916383743, 0.0324462428689003, 0.09239035844802856, 0.0, 0.0, 0.0, 0.0], [0.7488625049591064, 0.03338180482387543, 0.057004109025001526, 0.06790602207183838, 0.09284556657075882, 0.0, 0.0, 0.0], [0.7437292337417603, 0.022320261225104332, 0.04492437094449997, 0.045319557189941406, 0.10595227032899857, 0.037754349410533905, 0.0, 0.0], [0.693274736404419, 0.0333322137594223, 0.07442042976617813, 0.06298039108514786, 0.07815539091825485, 0.02260860800743103, 0.03522821515798569, 0.0], [0.6945593953132629, 0.022630905732512474, 0.03640216588973999, 0.043379977345466614, 0.08225669711828232, 0.02958637662231922, 0.023237530142068863, 0.06794697046279907]], [[1.0, 0.0, 0.0, 0.0, 0.0, 0.0, 0.0, 0.0], [0.9744856357574463, 0.02551434375345707, 0.0, 0.0, 0.0, 0.0, 0.0, 0.0], [0.9541841745376587, 0.022412847727537155, 0.023403054103255272, 0.0, 0.0, 0.0, 0.0, 0.0], [0.9615285992622375, 0.009928860701620579, 0.0063660163432359695, 0.022176504135131836, 0.0, 0.0, 0.0, 0.0], [0.9329490661621094, 0.01888451725244522, 0.012691481970250607, 0.020519545301795006, 0.014955325052142143, 0.0, 0.0, 0.0], [0.9320349097251892, 0.007315318565815687, 0.00860182661563158, 0.026339780539274216, 0.01134895533323288, 0.014359242282807827, 0.0, 0.0], [0.9030157327651978, 0.005704008042812347, 0.006527075543999672, 0.010731249116361141, 0.004098798148334026, 0.004253502003848553, 0.0656697005033493, 0.0], [0.9191806316375732, 0.0022403267212212086, 0.002011143369600177, 0.008613476529717445, 0.0055715166963636875, 0.010307286866009235, 0.02010725997388363, 0.03196828439831734]], [[1.0, 0.0, 0.0, 0.0, 0.0, 0.0, 0.0, 0.0], [0.9690955281257629, 0.030904503539204597, 0.0, 0.0, 0.0, 0.0, 0.0, 0.0], [0.9591164588928223, 0.023777078837156296, 0.01710640825331211, 0.0, 0.0, 0.0, 0.0, 0.0], [0.9569592475891113, 0.02003447897732258, 0.009874111972749233, 0.013132195919752121, 0.0, 0.0, 0.0, 0.0], [0.9226442575454712, 0.02895321138203144, 0.02068692073225975, 0.015015685930848122, 0.012699819169938564, 0.0, 0.0, 0.0], [0.9204269051551819, 0.019930046051740646, 0.016561971977353096, 0.022684937343001366, 0.014361529611051083, 0.006034686230123043, 0.0, 0.0], [0.9150126576423645, 0.015399500727653503, 0.024009304121136665, 0.014064937829971313, 0.008338836021721363, 0.0042380038648843765, 0.018936827778816223, 0.0], [0.924034595489502, 0.006465816404670477, 0.01517106220126152, 0.011669779196381569, 0.006953373551368713, 0.00337026035413146, 0.006135142873972654, 0.02619997225701809]], [[1.0, 0.0, 0.0, 0.0, 0.0, 0.0, 0.0, 0.0], [0.9242569804191589, 0.07574299722909927, 0.0, 0.0, 0.0, 0.0, 0.0, 0.0], [0.8552876114845276, 0.07761385291814804, 0.06709855794906616, 0.0, 0.0, 0.0, 0.0, 0.0], [0.8434634208679199, 0.06382614374160767, 0.04134424403309822, 0.05136628821492195, 0.0, 0.0, 0.0, 0.0], [0.6675005555152893, 0.13717009127140045, 0.055698737502098083, 0.058184728026390076, 0.08144588023424149, 0.0, 0.0, 0.0], [0.6631648540496826, 0.10555911064147949, 0.04378864914178848, 0.09250699728727341, 0.053146842867136, 0.04183366894721985, 0.0, 0.0], [0.6480815410614014, 0.10110726207494736, 0.06436768174171448, 0.05732601881027222, 0.037857748568058014, 0.03706919774413109, 0.05419061705470085, 0.0], [0.785082995891571, 0.021021073684096336, 0.02096913382411003, 0.05647238716483116, 0.036723777651786804, 0.032499972730875015, 0.019279832020401955, 0.027950860559940338]], [[1.0, 0.0, 0.0, 0.0, 0.0, 0.0, 0.0, 0.0], [0.00012039679859299213, 0.9998795986175537, 0.0, 0.0, 0.0, 0.0, 0.0, 0.0], [8.541189890820533e-05, 0.4808177053928375, 0.519096851348877, 0.0, 0.0, 0.0, 0.0, 0.0], [2.3255111955222674e-05, 0.16570037603378296, 0.5259301066398621, 0.30834630131721497, 0.0, 0.0, 0.0, 0.0], [0.00021809182362630963, 0.1170426458120346, 0.2378094643354416, 0.16765236854553223, 0.4772774279117584, 0.0, 0.0, 0.0], [0.0001532409223727882, 0.06643302738666534, 0.1052325963973999, 0.054545268416404724, 0.6580303311347961, 0.11560549587011337, 0.0, 0.0], [7.99192494014278e-05, 0.030413571745157242, 0.04375039413571358, 0.023742731660604477, 0.2564593553543091, 0.5564661026000977, 0.08908788859844208, 0.0], [8.549410267733037e-05, 0.03303127735853195, 0.011239220388233662, 0.010247181169688702, 0.14526836574077606, 0.37017714977264404, 0.37211236357688904, 0.05783889442682266]], [[1.0, 0.0, 0.0, 0.0, 0.0, 0.0, 0.0, 0.0], [0.9810580015182495, 0.018942032009363174, 0.0, 0.0, 0.0, 0.0, 0.0, 0.0], [0.9476872086524963, 0.02038789913058281, 0.03192482516169548, 0.0, 0.0, 0.0, 0.0, 0.0], [0.963687002658844, 0.010445295833051205, 0.006236154120415449, 0.01963154599070549, 0.0, 0.0, 0.0, 0.0], [0.9359138607978821, 0.01428373996168375, 0.008350702933967113, 0.022819796577095985, 0.01863199472427368, 0.0, 0.0, 0.0], [0.9294375777244568, 0.005914916750043631, 0.0034069870598614216, 0.01654525101184845, 0.03548286855220795, 0.009212442673742771, 0.0, 0.0], [0.9486967325210571, 0.0036296609323471785, 0.005807460285723209, 0.00868684146553278, 0.012093108147382736, 0.003112983191385865, 0.017973225563764572, 0.0], [0.8889471292495728, 0.0029301506001502275, 0.0030167654622346163, 0.013399231247603893, 0.01914542354643345, 0.008613583631813526, 0.02021906152367592, 0.04372873529791832]], [[1.0, 0.0, 0.0, 0.0, 0.0, 0.0, 0.0, 0.0], [0.802443265914917, 0.1975567489862442, 0.0, 0.0, 0.0, 0.0, 0.0, 0.0], [0.5767242908477783, 0.1745603233575821, 0.24871544539928436, 0.0, 0.0, 0.0, 0.0, 0.0], [0.7691839337348938, 0.03223421052098274, 0.08152652531862259, 0.11705536395311356, 0.0, 0.0, 0.0, 0.0], [0.6199756860733032, 0.04694131016731262, 0.08262031525373459, 0.07773855328559875, 0.17272412776947021, 0.0, 0.0, 0.0], [0.48241713643074036, 0.013265535235404968, 0.04882632941007614, 0.044091567397117615, 0.3238281309604645, 0.08757125586271286, 0.0, 0.0], [0.2932415306568146, 0.00669507822021842, 0.07721229642629623, 0.06231660768389702, 0.20528562366962433, 0.25734224915504456, 0.09790660440921783, 0.0], [0.252654492855072, 0.004451144486665726, 0.00981574784964323, 0.013477245345711708, 0.04458827152848244, 0.08696556091308594, 0.5405591130256653, 0.04748840630054474]], [[1.0, 0.0, 0.0, 0.0, 0.0, 0.0, 0.0, 0.0], [0.9200639128684998, 0.07993607968091965, 0.0, 0.0, 0.0, 0.0, 0.0, 0.0], [0.8573935031890869, 0.07504842430353165, 0.06755807995796204, 0.0, 0.0, 0.0, 0.0, 0.0], [0.8790890574455261, 0.04195854440331459, 0.040646038949489594, 0.038306377828121185, 0.0, 0.0, 0.0, 0.0], [0.772611677646637, 0.05002825707197189, 0.030442574992775917, 0.04946007952094078, 0.09745745360851288, 0.0, 0.0, 0.0], [0.5290020704269409, 0.02506999857723713, 0.01603899709880352, 0.023406818509101868, 0.3497714102268219, 0.056710757315158844, 0.0, 0.0], [0.5653807520866394, 0.006672462914139032, 0.010535361245274544, 0.01844867505133152, 0.12373217195272446, 0.23699088394641876, 0.038239654153585434, 0.0], [0.3841356635093689, 0.009663485921919346, 0.0026038927026093006, 0.005287077743560076, 0.04880332201719284, 0.10315799713134766, 0.39042824506759644, 0.05592034012079239]]]], \"left_text\": [\"Building\", \" artificial\", \" intelligence\", \" tools\", \" requires\", \" a\", \" solid\", \" mathematical\"], \"right_text\": [\"Building\", \" artificial\", \" intelligence\", \" tools\", \" requires\", \" a\", \" solid\", \" mathematical\"]}], \"default_filter\": \"0\", \"root_div_id\": \"bertviz-3793fffe645c482fbfe7d2f20ac7a83a\", \"layer\": null, \"heads\": null, \"include_layers\": [0, 1, 2, 3, 4, 5, 6, 7, 8, 9, 10, 11]} is a template marker that is replaced by actual params.\n",
       "    const TEXT_SIZE = 15;\n",
       "    const BOXWIDTH = 110;\n",
       "    const BOXHEIGHT = 22.5;\n",
       "    const MATRIX_WIDTH = 115;\n",
       "    const CHECKBOX_SIZE = 20;\n",
       "    const TEXT_TOP = 30;\n",
       "\n",
       "    console.log(\"d3 version\", d3.version)\n",
       "    let headColors;\n",
       "    try {\n",
       "        headColors = d3.scaleOrdinal(d3.schemeCategory10);\n",
       "    } catch (err) {\n",
       "        console.log('Older d3 version')\n",
       "        headColors = d3.scale.category10();\n",
       "    }\n",
       "    let config = {};\n",
       "    initialize();\n",
       "    renderVis();\n",
       "\n",
       "    function initialize() {\n",
       "        config.attention = params['attention'];\n",
       "        config.filter = params['default_filter'];\n",
       "        config.rootDivId = params['root_div_id'];\n",
       "        config.nLayers = config.attention[config.filter]['attn'].length;\n",
       "        config.nHeads = config.attention[config.filter]['attn'][0].length;\n",
       "        config.layers = params['include_layers']\n",
       "\n",
       "        if (params['heads']) {\n",
       "            config.headVis = new Array(config.nHeads).fill(false);\n",
       "            params['heads'].forEach(x => config.headVis[x] = true);\n",
       "        } else {\n",
       "            config.headVis = new Array(config.nHeads).fill(true);\n",
       "        }\n",
       "        config.initialTextLength = config.attention[config.filter].right_text.length;\n",
       "        config.layer_seq = (params['layer'] == null ? 0 : config.layers.findIndex(layer => params['layer'] === layer));\n",
       "        config.layer = config.layers[config.layer_seq]\n",
       "\n",
       "        let layerEl = $(`#${config.rootDivId} #layer`);\n",
       "        for (const layer of config.layers) {\n",
       "            layerEl.append($(\"<option />\").val(layer).text(layer));\n",
       "        }\n",
       "        layerEl.val(config.layer).change();\n",
       "        layerEl.on('change', function (e) {\n",
       "            config.layer = +e.currentTarget.value;\n",
       "            config.layer_seq = config.layers.findIndex(layer => config.layer === layer);\n",
       "            renderVis();\n",
       "        });\n",
       "\n",
       "        $(`#${config.rootDivId} #filter`).on('change', function (e) {\n",
       "            config.filter = e.currentTarget.value;\n",
       "            renderVis();\n",
       "        });\n",
       "    }\n",
       "\n",
       "    function renderVis() {\n",
       "\n",
       "        // Load parameters\n",
       "        const attnData = config.attention[config.filter];\n",
       "        const leftText = attnData.left_text;\n",
       "        const rightText = attnData.right_text;\n",
       "\n",
       "        // Select attention for given layer\n",
       "        const layerAttention = attnData.attn[config.layer_seq];\n",
       "\n",
       "        // Clear vis\n",
       "        $(`#${config.rootDivId} #vis`).empty();\n",
       "\n",
       "        // Determine size of visualization\n",
       "        const height = Math.max(leftText.length, rightText.length) * BOXHEIGHT + TEXT_TOP;\n",
       "        const svg = d3.select(`#${config.rootDivId} #vis`)\n",
       "            .append('svg')\n",
       "            .attr(\"width\", \"100%\")\n",
       "            .attr(\"height\", height + \"px\");\n",
       "\n",
       "        // Display tokens on left and right side of visualization\n",
       "        renderText(svg, leftText, true, layerAttention, 0);\n",
       "        renderText(svg, rightText, false, layerAttention, MATRIX_WIDTH + BOXWIDTH);\n",
       "\n",
       "        // Render attention arcs\n",
       "        renderAttention(svg, layerAttention);\n",
       "\n",
       "        // Draw squares at top of visualization, one for each head\n",
       "        drawCheckboxes(0, svg, layerAttention);\n",
       "    }\n",
       "\n",
       "    function renderText(svg, text, isLeft, attention, leftPos) {\n",
       "\n",
       "        const textContainer = svg.append(\"svg:g\")\n",
       "            .attr(\"id\", isLeft ? \"left\" : \"right\");\n",
       "\n",
       "        // Add attention highlights superimposed over words\n",
       "        textContainer.append(\"g\")\n",
       "            .classed(\"attentionBoxes\", true)\n",
       "            .selectAll(\"g\")\n",
       "            .data(attention)\n",
       "            .enter()\n",
       "            .append(\"g\")\n",
       "            .attr(\"head-index\", (d, i) => i)\n",
       "            .selectAll(\"rect\")\n",
       "            .data(d => isLeft ? d : transpose(d)) // if right text, transpose attention to get right-to-left weights\n",
       "            .enter()\n",
       "            .append(\"rect\")\n",
       "            .attr(\"x\", function () {\n",
       "                var headIndex = +this.parentNode.getAttribute(\"head-index\");\n",
       "                return leftPos + boxOffsets(headIndex);\n",
       "            })\n",
       "            .attr(\"y\", (+1) * BOXHEIGHT)\n",
       "            .attr(\"width\", BOXWIDTH / activeHeads())\n",
       "            .attr(\"height\", BOXHEIGHT)\n",
       "            .attr(\"fill\", function () {\n",
       "                return headColors(+this.parentNode.getAttribute(\"head-index\"))\n",
       "            })\n",
       "            .style(\"opacity\", 0.0);\n",
       "\n",
       "        const tokenContainer = textContainer.append(\"g\").selectAll(\"g\")\n",
       "            .data(text)\n",
       "            .enter()\n",
       "            .append(\"g\");\n",
       "\n",
       "        // Add gray background that appears when hovering over text\n",
       "        tokenContainer.append(\"rect\")\n",
       "            .classed(\"background\", true)\n",
       "            .style(\"opacity\", 0.0)\n",
       "            .attr(\"fill\", \"lightgray\")\n",
       "            .attr(\"x\", leftPos)\n",
       "            .attr(\"y\", (d, i) => TEXT_TOP + i * BOXHEIGHT)\n",
       "            .attr(\"width\", BOXWIDTH)\n",
       "            .attr(\"height\", BOXHEIGHT);\n",
       "\n",
       "        // Add token text\n",
       "        const textEl = tokenContainer.append(\"text\")\n",
       "            .text(d => d)\n",
       "            .attr(\"font-size\", TEXT_SIZE + \"px\")\n",
       "            .style(\"cursor\", \"default\")\n",
       "            .style(\"-webkit-user-select\", \"none\")\n",
       "            .attr(\"x\", leftPos)\n",
       "            .attr(\"y\", (d, i) => TEXT_TOP + i * BOXHEIGHT);\n",
       "\n",
       "        if (isLeft) {\n",
       "            textEl.style(\"text-anchor\", \"end\")\n",
       "                .attr(\"dx\", BOXWIDTH - 0.5 * TEXT_SIZE)\n",
       "                .attr(\"dy\", TEXT_SIZE);\n",
       "        } else {\n",
       "            textEl.style(\"text-anchor\", \"start\")\n",
       "                .attr(\"dx\", +0.5 * TEXT_SIZE)\n",
       "                .attr(\"dy\", TEXT_SIZE);\n",
       "        }\n",
       "\n",
       "        tokenContainer.on(\"mouseover\", function (d, index) {\n",
       "\n",
       "            // Show gray background for moused-over token\n",
       "            textContainer.selectAll(\".background\")\n",
       "                .style(\"opacity\", (d, i) => i === index ? 1.0 : 0.0)\n",
       "\n",
       "            // Reset visibility attribute for any previously highlighted attention arcs\n",
       "            svg.select(\"#attention\")\n",
       "                .selectAll(\"line[visibility='visible']\")\n",
       "                .attr(\"visibility\", null)\n",
       "\n",
       "            // Hide group containing attention arcs\n",
       "            svg.select(\"#attention\").attr(\"visibility\", \"hidden\");\n",
       "\n",
       "            // Set to visible appropriate attention arcs to be highlighted\n",
       "            if (isLeft) {\n",
       "                svg.select(\"#attention\").selectAll(\"line[left-token-index='\" + index + \"']\").attr(\"visibility\", \"visible\");\n",
       "            } else {\n",
       "                svg.select(\"#attention\").selectAll(\"line[right-token-index='\" + index + \"']\").attr(\"visibility\", \"visible\");\n",
       "            }\n",
       "\n",
       "            // Update color boxes superimposed over tokens\n",
       "            const id = isLeft ? \"right\" : \"left\";\n",
       "            const leftPos = isLeft ? MATRIX_WIDTH + BOXWIDTH : 0;\n",
       "            svg.select(\"#\" + id)\n",
       "                .selectAll(\".attentionBoxes\")\n",
       "                .selectAll(\"g\")\n",
       "                .attr(\"head-index\", (d, i) => i)\n",
       "                .selectAll(\"rect\")\n",
       "                .attr(\"x\", function () {\n",
       "                    const headIndex = +this.parentNode.getAttribute(\"head-index\");\n",
       "                    return leftPos + boxOffsets(headIndex);\n",
       "                })\n",
       "                .attr(\"y\", (d, i) => TEXT_TOP + i * BOXHEIGHT)\n",
       "                .attr(\"width\", BOXWIDTH / activeHeads())\n",
       "                .attr(\"height\", BOXHEIGHT)\n",
       "                .style(\"opacity\", function (d) {\n",
       "                    const headIndex = +this.parentNode.getAttribute(\"head-index\");\n",
       "                    if (config.headVis[headIndex])\n",
       "                        if (d) {\n",
       "                            return d[index];\n",
       "                        } else {\n",
       "                            return 0.0;\n",
       "                        }\n",
       "                    else\n",
       "                        return 0.0;\n",
       "                });\n",
       "        });\n",
       "\n",
       "        textContainer.on(\"mouseleave\", function () {\n",
       "\n",
       "            // Unhighlight selected token\n",
       "            d3.select(this).selectAll(\".background\")\n",
       "                .style(\"opacity\", 0.0);\n",
       "\n",
       "            // Reset visibility attributes for previously selected lines\n",
       "            svg.select(\"#attention\")\n",
       "                .selectAll(\"line[visibility='visible']\")\n",
       "                .attr(\"visibility\", null) ;\n",
       "            svg.select(\"#attention\").attr(\"visibility\", \"visible\");\n",
       "\n",
       "            // Reset highlights superimposed over tokens\n",
       "            svg.selectAll(\".attentionBoxes\")\n",
       "                .selectAll(\"g\")\n",
       "                .selectAll(\"rect\")\n",
       "                .style(\"opacity\", 0.0);\n",
       "        });\n",
       "    }\n",
       "\n",
       "    function renderAttention(svg, attention) {\n",
       "\n",
       "        // Remove previous dom elements\n",
       "        svg.select(\"#attention\").remove();\n",
       "\n",
       "        // Add new elements\n",
       "        svg.append(\"g\")\n",
       "            .attr(\"id\", \"attention\") // Container for all attention arcs\n",
       "            .selectAll(\".headAttention\")\n",
       "            .data(attention)\n",
       "            .enter()\n",
       "            .append(\"g\")\n",
       "            .classed(\"headAttention\", true) // Group attention arcs by head\n",
       "            .attr(\"head-index\", (d, i) => i)\n",
       "            .selectAll(\".tokenAttention\")\n",
       "            .data(d => d)\n",
       "            .enter()\n",
       "            .append(\"g\")\n",
       "            .classed(\"tokenAttention\", true) // Group attention arcs by left token\n",
       "            .attr(\"left-token-index\", (d, i) => i)\n",
       "            .selectAll(\"line\")\n",
       "            .data(d => d)\n",
       "            .enter()\n",
       "            .append(\"line\")\n",
       "            .attr(\"x1\", BOXWIDTH)\n",
       "            .attr(\"y1\", function () {\n",
       "                const leftTokenIndex = +this.parentNode.getAttribute(\"left-token-index\")\n",
       "                return TEXT_TOP + leftTokenIndex * BOXHEIGHT + (BOXHEIGHT / 2)\n",
       "            })\n",
       "            .attr(\"x2\", BOXWIDTH + MATRIX_WIDTH)\n",
       "            .attr(\"y2\", (d, rightTokenIndex) => TEXT_TOP + rightTokenIndex * BOXHEIGHT + (BOXHEIGHT / 2))\n",
       "            .attr(\"stroke-width\", 2)\n",
       "            .attr(\"stroke\", function () {\n",
       "                const headIndex = +this.parentNode.parentNode.getAttribute(\"head-index\");\n",
       "                return headColors(headIndex)\n",
       "            })\n",
       "            .attr(\"left-token-index\", function () {\n",
       "                return +this.parentNode.getAttribute(\"left-token-index\")\n",
       "            })\n",
       "            .attr(\"right-token-index\", (d, i) => i)\n",
       "        ;\n",
       "        updateAttention(svg)\n",
       "    }\n",
       "\n",
       "    function updateAttention(svg) {\n",
       "        svg.select(\"#attention\")\n",
       "            .selectAll(\"line\")\n",
       "            .attr(\"stroke-opacity\", function (d) {\n",
       "                const headIndex = +this.parentNode.parentNode.getAttribute(\"head-index\");\n",
       "                // If head is selected\n",
       "                if (config.headVis[headIndex]) {\n",
       "                    // Set opacity to attention weight divided by number of active heads\n",
       "                    return d / activeHeads()\n",
       "                } else {\n",
       "                    return 0.0;\n",
       "                }\n",
       "            })\n",
       "    }\n",
       "\n",
       "    function boxOffsets(i) {\n",
       "        const numHeadsAbove = config.headVis.reduce(\n",
       "            function (acc, val, cur) {\n",
       "                return val && cur < i ? acc + 1 : acc;\n",
       "            }, 0);\n",
       "        return numHeadsAbove * (BOXWIDTH / activeHeads());\n",
       "    }\n",
       "\n",
       "    function activeHeads() {\n",
       "        return config.headVis.reduce(function (acc, val) {\n",
       "            return val ? acc + 1 : acc;\n",
       "        }, 0);\n",
       "    }\n",
       "\n",
       "    function drawCheckboxes(top, svg) {\n",
       "        const checkboxContainer = svg.append(\"g\");\n",
       "        const checkbox = checkboxContainer.selectAll(\"rect\")\n",
       "            .data(config.headVis)\n",
       "            .enter()\n",
       "            .append(\"rect\")\n",
       "            .attr(\"fill\", (d, i) => headColors(i))\n",
       "            .attr(\"x\", (d, i) => i * CHECKBOX_SIZE)\n",
       "            .attr(\"y\", top)\n",
       "            .attr(\"width\", CHECKBOX_SIZE)\n",
       "            .attr(\"height\", CHECKBOX_SIZE);\n",
       "\n",
       "        function updateCheckboxes() {\n",
       "            checkboxContainer.selectAll(\"rect\")\n",
       "                .data(config.headVis)\n",
       "                .attr(\"fill\", (d, i) => d ? headColors(i): lighten(headColors(i)));\n",
       "        }\n",
       "\n",
       "        updateCheckboxes();\n",
       "\n",
       "        checkbox.on(\"click\", function (d, i) {\n",
       "            if (config.headVis[i] && activeHeads() === 1) return;\n",
       "            config.headVis[i] = !config.headVis[i];\n",
       "            updateCheckboxes();\n",
       "            updateAttention(svg);\n",
       "        });\n",
       "\n",
       "        checkbox.on(\"dblclick\", function (d, i) {\n",
       "            // If we double click on the only active head then reset\n",
       "            if (config.headVis[i] && activeHeads() === 1) {\n",
       "                config.headVis = new Array(config.nHeads).fill(true);\n",
       "            } else {\n",
       "                config.headVis = new Array(config.nHeads).fill(false);\n",
       "                config.headVis[i] = true;\n",
       "            }\n",
       "            updateCheckboxes();\n",
       "            updateAttention(svg);\n",
       "        });\n",
       "    }\n",
       "\n",
       "    function lighten(color) {\n",
       "        const c = d3.hsl(color);\n",
       "        const increment = (1 - c.l) * 0.6;\n",
       "        c.l += increment;\n",
       "        c.s -= increment;\n",
       "        return c;\n",
       "    }\n",
       "\n",
       "    function transpose(mat) {\n",
       "        return mat[0].map(function (col, i) {\n",
       "            return mat.map(function (row) {\n",
       "                return row[i];\n",
       "            });\n",
       "        });\n",
       "    }\n",
       "\n",
       "});"
      ],
      "text/plain": [
       "<IPython.core.display.Javascript object>"
      ]
     },
     "metadata": {},
     "output_type": "display_data"
    }
   ],
   "source": [
    "from IPython.core.display import HTML\n",
    "display(HTML('<script src=\"/static/components/requirejs/require.js\"></script>'))\n",
    "# Above two lines only needed when running in Colab\n",
    "\n",
    "from bertviz import head_view\n",
    "head_view(attention, tokens)"
   ]
  },
  {
   "cell_type": "markdown",
   "metadata": {
    "id": "TE-0QskYaqv3"
   },
   "source": [
    "## <font color=darkred> Part II: Introduction to Transformers for time series</font>"
   ]
  },
  {
   "cell_type": "code",
   "execution_count": null,
   "metadata": {
    "colab": {
     "base_uri": "https://localhost:8080/"
    },
    "id": "f3d-95vKNWf6",
    "outputId": "43f5c150-d628-42b0-e5e4-6eb063f896ac"
   },
   "outputs": [
    {
     "name": "stdout",
     "output_type": "stream",
     "text": [
      "  Preparing metadata (setup.py) ... \u001b[?25l\u001b[?25hdone\n",
      "  % Total    % Received % Xferd  Average Speed   Time    Time     Time  Current\n",
      "                                 Dload  Upload   Total   Spent    Left  Speed\n",
      "100 1373k  100 1373k    0     0  5903k      0 --:--:-- --:--:-- --:--:-- 5919k\n"
     ]
    }
   ],
   "source": [
    "!pip install --quiet tsloader git+https://github.com/maxjcohen/transformer\n",
    "!curl -O https://gitlab.com/max.cohen/ateliers-algos/-/raw/main/heating_lilles.csv"
   ]
  },
  {
   "cell_type": "code",
   "execution_count": null,
   "metadata": {
    "id": "2jqf2yeRNdf1"
   },
   "outputs": [],
   "source": [
    "import datetime\n",
    "\n",
    "import pandas as pd\n",
    "from sklearn.model_selection import train_test_split\n",
    "from tqdm import tqdm\n",
    "import torch\n",
    "import numpy as np\n",
    "import matplotlib.pyplot as plt\n",
    "from tst import Transformer\n",
    "from tsloader import TimeSeriesDataModule\n",
    "\n",
    "torch.manual_seed(0)\n",
    "np.random.seed(0)"
   ]
  },
  {
   "cell_type": "markdown",
   "metadata": {
    "id": "EVtbALrAOFsi"
   },
   "source": [
    "#### Load the dataset in a dataframe"
   ]
  },
  {
   "cell_type": "code",
   "execution_count": null,
   "metadata": {
    "colab": {
     "base_uri": "https://localhost:8080/",
     "height": 397
    },
    "id": "XWzpU6pVNddf",
    "outputId": "b911f939-c1da-4dbf-f47e-b2c6bbe083db"
   },
   "outputs": [
    {
     "data": {
      "text/html": [
       "\n",
       "  <div id=\"df-a22f5dde-af5b-4820-a389-24ba8909aefc\" class=\"colab-df-container\">\n",
       "    <div>\n",
       "<style scoped>\n",
       "    .dataframe tbody tr th:only-of-type {\n",
       "        vertical-align: middle;\n",
       "    }\n",
       "\n",
       "    .dataframe tbody tr th {\n",
       "        vertical-align: top;\n",
       "    }\n",
       "\n",
       "    .dataframe thead th {\n",
       "        text-align: right;\n",
       "    }\n",
       "</style>\n",
       "<table border=\"1\" class=\"dataframe\">\n",
       "  <thead>\n",
       "    <tr style=\"text-align: right;\">\n",
       "      <th></th>\n",
       "      <th>datetime</th>\n",
       "      <th>outdoor_temperature_deg_celsius</th>\n",
       "      <th>relative_humidity_per_cent</th>\n",
       "      <th>wind_speed_m_per_s</th>\n",
       "      <th>diffuse_horizontal_radiation_Wh_per_m2</th>\n",
       "      <th>direct_normal_radiation_Wh_per_m2</th>\n",
       "      <th>ZONE+00_+00_+00:Zone Operative Temperature [C](Hourly)</th>\n",
       "      <th>heating_J</th>\n",
       "      <th>cooling_J</th>\n",
       "      <th>heating_kWh</th>\n",
       "      <th>cooling_kWh</th>\n",
       "      <th>internal_gains_kWh</th>\n",
       "      <th>infiltration_energy_kWh</th>\n",
       "      <th>ventilation_energy_kWh</th>\n",
       "      <th>inside_conduction_energy_kWh</th>\n",
       "      <th>windows_energy_constant_temperature_kWh</th>\n",
       "      <th>occupation</th>\n",
       "    </tr>\n",
       "    <tr>\n",
       "      <th>datetime</th>\n",
       "      <th></th>\n",
       "      <th></th>\n",
       "      <th></th>\n",
       "      <th></th>\n",
       "      <th></th>\n",
       "      <th></th>\n",
       "      <th></th>\n",
       "      <th></th>\n",
       "      <th></th>\n",
       "      <th></th>\n",
       "      <th></th>\n",
       "      <th></th>\n",
       "      <th></th>\n",
       "      <th></th>\n",
       "      <th></th>\n",
       "      <th></th>\n",
       "      <th></th>\n",
       "    </tr>\n",
       "  </thead>\n",
       "  <tbody>\n",
       "    <tr>\n",
       "      <th>2019-12-10 21:00:00</th>\n",
       "      <td>2020-12-10 21:00:00</td>\n",
       "      <td>7.19</td>\n",
       "      <td>77.0</td>\n",
       "      <td>7.66</td>\n",
       "      <td>0.0</td>\n",
       "      <td>0.00</td>\n",
       "      <td>16.740805</td>\n",
       "      <td>0.000000e+00</td>\n",
       "      <td>0.0</td>\n",
       "      <td>0.000000</td>\n",
       "      <td>0.0</td>\n",
       "      <td>0.0</td>\n",
       "      <td>-2.018321</td>\n",
       "      <td>0.000000</td>\n",
       "      <td>-3.643560</td>\n",
       "      <td>5.661881</td>\n",
       "      <td>0</td>\n",
       "    </tr>\n",
       "    <tr>\n",
       "      <th>2019-11-14 08:00:00</th>\n",
       "      <td>2020-11-14 08:00:00</td>\n",
       "      <td>5.46</td>\n",
       "      <td>93.0</td>\n",
       "      <td>4.41</td>\n",
       "      <td>56.9</td>\n",
       "      <td>41.00</td>\n",
       "      <td>19.002746</td>\n",
       "      <td>1.127792e+08</td>\n",
       "      <td>0.0</td>\n",
       "      <td>31.327558</td>\n",
       "      <td>0.0</td>\n",
       "      <td>0.0</td>\n",
       "      <td>-3.233358</td>\n",
       "      <td>-11.056083</td>\n",
       "      <td>-29.564500</td>\n",
       "      <td>12.526382</td>\n",
       "      <td>1</td>\n",
       "    </tr>\n",
       "    <tr>\n",
       "      <th>2019-10-03 02:00:00</th>\n",
       "      <td>2020-10-03 02:00:00</td>\n",
       "      <td>8.99</td>\n",
       "      <td>89.0</td>\n",
       "      <td>2.55</td>\n",
       "      <td>0.0</td>\n",
       "      <td>0.00</td>\n",
       "      <td>17.747302</td>\n",
       "      <td>0.000000e+00</td>\n",
       "      <td>0.0</td>\n",
       "      <td>0.000000</td>\n",
       "      <td>0.0</td>\n",
       "      <td>0.0</td>\n",
       "      <td>-1.514086</td>\n",
       "      <td>0.000000</td>\n",
       "      <td>3.437929</td>\n",
       "      <td>-1.923843</td>\n",
       "      <td>0</td>\n",
       "    </tr>\n",
       "    <tr>\n",
       "      <th>2019-03-27 08:00:00</th>\n",
       "      <td>2020-03-27 08:00:00</td>\n",
       "      <td>6.69</td>\n",
       "      <td>72.0</td>\n",
       "      <td>0.28</td>\n",
       "      <td>157.5</td>\n",
       "      <td>289.12</td>\n",
       "      <td>19.018771</td>\n",
       "      <td>6.950458e+07</td>\n",
       "      <td>0.0</td>\n",
       "      <td>19.306827</td>\n",
       "      <td>0.0</td>\n",
       "      <td>0.0</td>\n",
       "      <td>-2.943831</td>\n",
       "      <td>-10.076516</td>\n",
       "      <td>-26.500533</td>\n",
       "      <td>20.214052</td>\n",
       "      <td>1</td>\n",
       "    </tr>\n",
       "    <tr>\n",
       "      <th>2019-10-29 03:00:00</th>\n",
       "      <td>2020-10-29 03:00:00</td>\n",
       "      <td>7.77</td>\n",
       "      <td>81.0</td>\n",
       "      <td>2.48</td>\n",
       "      <td>0.0</td>\n",
       "      <td>0.00</td>\n",
       "      <td>16.289886</td>\n",
       "      <td>0.000000e+00</td>\n",
       "      <td>0.0</td>\n",
       "      <td>0.000000</td>\n",
       "      <td>0.0</td>\n",
       "      <td>0.0</td>\n",
       "      <td>-1.701213</td>\n",
       "      <td>0.000000</td>\n",
       "      <td>3.089906</td>\n",
       "      <td>-1.388693</td>\n",
       "      <td>0</td>\n",
       "    </tr>\n",
       "  </tbody>\n",
       "</table>\n",
       "</div>\n",
       "    <div class=\"colab-df-buttons\">\n",
       "\n",
       "  <div class=\"colab-df-container\">\n",
       "    <button class=\"colab-df-convert\" onclick=\"convertToInteractive('df-a22f5dde-af5b-4820-a389-24ba8909aefc')\"\n",
       "            title=\"Convert this dataframe to an interactive table.\"\n",
       "            style=\"display:none;\">\n",
       "\n",
       "  <svg xmlns=\"http://www.w3.org/2000/svg\" height=\"24px\" viewBox=\"0 -960 960 960\">\n",
       "    <path d=\"M120-120v-720h720v720H120Zm60-500h600v-160H180v160Zm220 220h160v-160H400v160Zm0 220h160v-160H400v160ZM180-400h160v-160H180v160Zm440 0h160v-160H620v160ZM180-180h160v-160H180v160Zm440 0h160v-160H620v160Z\"/>\n",
       "  </svg>\n",
       "    </button>\n",
       "\n",
       "  <style>\n",
       "    .colab-df-container {\n",
       "      display:flex;\n",
       "      gap: 12px;\n",
       "    }\n",
       "\n",
       "    .colab-df-convert {\n",
       "      background-color: #E8F0FE;\n",
       "      border: none;\n",
       "      border-radius: 50%;\n",
       "      cursor: pointer;\n",
       "      display: none;\n",
       "      fill: #1967D2;\n",
       "      height: 32px;\n",
       "      padding: 0 0 0 0;\n",
       "      width: 32px;\n",
       "    }\n",
       "\n",
       "    .colab-df-convert:hover {\n",
       "      background-color: #E2EBFA;\n",
       "      box-shadow: 0px 1px 2px rgba(60, 64, 67, 0.3), 0px 1px 3px 1px rgba(60, 64, 67, 0.15);\n",
       "      fill: #174EA6;\n",
       "    }\n",
       "\n",
       "    .colab-df-buttons div {\n",
       "      margin-bottom: 4px;\n",
       "    }\n",
       "\n",
       "    [theme=dark] .colab-df-convert {\n",
       "      background-color: #3B4455;\n",
       "      fill: #D2E3FC;\n",
       "    }\n",
       "\n",
       "    [theme=dark] .colab-df-convert:hover {\n",
       "      background-color: #434B5C;\n",
       "      box-shadow: 0px 1px 3px 1px rgba(0, 0, 0, 0.15);\n",
       "      filter: drop-shadow(0px 1px 2px rgba(0, 0, 0, 0.3));\n",
       "      fill: #FFFFFF;\n",
       "    }\n",
       "  </style>\n",
       "\n",
       "    <script>\n",
       "      const buttonEl =\n",
       "        document.querySelector('#df-a22f5dde-af5b-4820-a389-24ba8909aefc button.colab-df-convert');\n",
       "      buttonEl.style.display =\n",
       "        google.colab.kernel.accessAllowed ? 'block' : 'none';\n",
       "\n",
       "      async function convertToInteractive(key) {\n",
       "        const element = document.querySelector('#df-a22f5dde-af5b-4820-a389-24ba8909aefc');\n",
       "        const dataTable =\n",
       "          await google.colab.kernel.invokeFunction('convertToInteractive',\n",
       "                                                    [key], {});\n",
       "        if (!dataTable) return;\n",
       "\n",
       "        const docLinkHtml = 'Like what you see? Visit the ' +\n",
       "          '<a target=\"_blank\" href=https://colab.research.google.com/notebooks/data_table.ipynb>data table notebook</a>'\n",
       "          + ' to learn more about interactive tables.';\n",
       "        element.innerHTML = '';\n",
       "        dataTable['output_type'] = 'display_data';\n",
       "        await google.colab.output.renderOutput(dataTable, element);\n",
       "        const docLink = document.createElement('div');\n",
       "        docLink.innerHTML = docLinkHtml;\n",
       "        element.appendChild(docLink);\n",
       "      }\n",
       "    </script>\n",
       "  </div>\n",
       "\n",
       "\n",
       "<div id=\"df-2f121a9f-672c-442a-8cd4-d3b41e96276a\">\n",
       "  <button class=\"colab-df-quickchart\" onclick=\"quickchart('df-2f121a9f-672c-442a-8cd4-d3b41e96276a')\"\n",
       "            title=\"Suggest charts.\"\n",
       "            style=\"display:none;\">\n",
       "\n",
       "<svg xmlns=\"http://www.w3.org/2000/svg\" height=\"24px\"viewBox=\"0 0 24 24\"\n",
       "     width=\"24px\">\n",
       "    <g>\n",
       "        <path d=\"M19 3H5c-1.1 0-2 .9-2 2v14c0 1.1.9 2 2 2h14c1.1 0 2-.9 2-2V5c0-1.1-.9-2-2-2zM9 17H7v-7h2v7zm4 0h-2V7h2v10zm4 0h-2v-4h2v4z\"/>\n",
       "    </g>\n",
       "</svg>\n",
       "  </button>\n",
       "\n",
       "<style>\n",
       "  .colab-df-quickchart {\n",
       "      --bg-color: #E8F0FE;\n",
       "      --fill-color: #1967D2;\n",
       "      --hover-bg-color: #E2EBFA;\n",
       "      --hover-fill-color: #174EA6;\n",
       "      --disabled-fill-color: #AAA;\n",
       "      --disabled-bg-color: #DDD;\n",
       "  }\n",
       "\n",
       "  [theme=dark] .colab-df-quickchart {\n",
       "      --bg-color: #3B4455;\n",
       "      --fill-color: #D2E3FC;\n",
       "      --hover-bg-color: #434B5C;\n",
       "      --hover-fill-color: #FFFFFF;\n",
       "      --disabled-bg-color: #3B4455;\n",
       "      --disabled-fill-color: #666;\n",
       "  }\n",
       "\n",
       "  .colab-df-quickchart {\n",
       "    background-color: var(--bg-color);\n",
       "    border: none;\n",
       "    border-radius: 50%;\n",
       "    cursor: pointer;\n",
       "    display: none;\n",
       "    fill: var(--fill-color);\n",
       "    height: 32px;\n",
       "    padding: 0;\n",
       "    width: 32px;\n",
       "  }\n",
       "\n",
       "  .colab-df-quickchart:hover {\n",
       "    background-color: var(--hover-bg-color);\n",
       "    box-shadow: 0 1px 2px rgba(60, 64, 67, 0.3), 0 1px 3px 1px rgba(60, 64, 67, 0.15);\n",
       "    fill: var(--button-hover-fill-color);\n",
       "  }\n",
       "\n",
       "  .colab-df-quickchart-complete:disabled,\n",
       "  .colab-df-quickchart-complete:disabled:hover {\n",
       "    background-color: var(--disabled-bg-color);\n",
       "    fill: var(--disabled-fill-color);\n",
       "    box-shadow: none;\n",
       "  }\n",
       "\n",
       "  .colab-df-spinner {\n",
       "    border: 2px solid var(--fill-color);\n",
       "    border-color: transparent;\n",
       "    border-bottom-color: var(--fill-color);\n",
       "    animation:\n",
       "      spin 1s steps(1) infinite;\n",
       "  }\n",
       "\n",
       "  @keyframes spin {\n",
       "    0% {\n",
       "      border-color: transparent;\n",
       "      border-bottom-color: var(--fill-color);\n",
       "      border-left-color: var(--fill-color);\n",
       "    }\n",
       "    20% {\n",
       "      border-color: transparent;\n",
       "      border-left-color: var(--fill-color);\n",
       "      border-top-color: var(--fill-color);\n",
       "    }\n",
       "    30% {\n",
       "      border-color: transparent;\n",
       "      border-left-color: var(--fill-color);\n",
       "      border-top-color: var(--fill-color);\n",
       "      border-right-color: var(--fill-color);\n",
       "    }\n",
       "    40% {\n",
       "      border-color: transparent;\n",
       "      border-right-color: var(--fill-color);\n",
       "      border-top-color: var(--fill-color);\n",
       "    }\n",
       "    60% {\n",
       "      border-color: transparent;\n",
       "      border-right-color: var(--fill-color);\n",
       "    }\n",
       "    80% {\n",
       "      border-color: transparent;\n",
       "      border-right-color: var(--fill-color);\n",
       "      border-bottom-color: var(--fill-color);\n",
       "    }\n",
       "    90% {\n",
       "      border-color: transparent;\n",
       "      border-bottom-color: var(--fill-color);\n",
       "    }\n",
       "  }\n",
       "</style>\n",
       "\n",
       "  <script>\n",
       "    async function quickchart(key) {\n",
       "      const quickchartButtonEl =\n",
       "        document.querySelector('#' + key + ' button');\n",
       "      quickchartButtonEl.disabled = true;  // To prevent multiple clicks.\n",
       "      quickchartButtonEl.classList.add('colab-df-spinner');\n",
       "      try {\n",
       "        const charts = await google.colab.kernel.invokeFunction(\n",
       "            'suggestCharts', [key], {});\n",
       "      } catch (error) {\n",
       "        console.error('Error during call to suggestCharts:', error);\n",
       "      }\n",
       "      quickchartButtonEl.classList.remove('colab-df-spinner');\n",
       "      quickchartButtonEl.classList.add('colab-df-quickchart-complete');\n",
       "    }\n",
       "    (() => {\n",
       "      let quickchartButtonEl =\n",
       "        document.querySelector('#df-2f121a9f-672c-442a-8cd4-d3b41e96276a button');\n",
       "      quickchartButtonEl.style.display =\n",
       "        google.colab.kernel.accessAllowed ? 'block' : 'none';\n",
       "    })();\n",
       "  </script>\n",
       "</div>\n",
       "    </div>\n",
       "  </div>\n"
      ],
      "text/plain": [
       "                                datetime  outdoor_temperature_deg_celsius  \\\n",
       "datetime                                                                    \n",
       "2019-12-10 21:00:00  2020-12-10 21:00:00                             7.19   \n",
       "2019-11-14 08:00:00  2020-11-14 08:00:00                             5.46   \n",
       "2019-10-03 02:00:00  2020-10-03 02:00:00                             8.99   \n",
       "2019-03-27 08:00:00  2020-03-27 08:00:00                             6.69   \n",
       "2019-10-29 03:00:00  2020-10-29 03:00:00                             7.77   \n",
       "\n",
       "                     relative_humidity_per_cent  wind_speed_m_per_s  \\\n",
       "datetime                                                              \n",
       "2019-12-10 21:00:00                        77.0                7.66   \n",
       "2019-11-14 08:00:00                        93.0                4.41   \n",
       "2019-10-03 02:00:00                        89.0                2.55   \n",
       "2019-03-27 08:00:00                        72.0                0.28   \n",
       "2019-10-29 03:00:00                        81.0                2.48   \n",
       "\n",
       "                     diffuse_horizontal_radiation_Wh_per_m2  \\\n",
       "datetime                                                      \n",
       "2019-12-10 21:00:00                                     0.0   \n",
       "2019-11-14 08:00:00                                    56.9   \n",
       "2019-10-03 02:00:00                                     0.0   \n",
       "2019-03-27 08:00:00                                   157.5   \n",
       "2019-10-29 03:00:00                                     0.0   \n",
       "\n",
       "                     direct_normal_radiation_Wh_per_m2  \\\n",
       "datetime                                                 \n",
       "2019-12-10 21:00:00                               0.00   \n",
       "2019-11-14 08:00:00                              41.00   \n",
       "2019-10-03 02:00:00                               0.00   \n",
       "2019-03-27 08:00:00                             289.12   \n",
       "2019-10-29 03:00:00                               0.00   \n",
       "\n",
       "                     ZONE+00_+00_+00:Zone Operative Temperature [C](Hourly)  \\\n",
       "datetime                                                                      \n",
       "2019-12-10 21:00:00                                          16.740805        \n",
       "2019-11-14 08:00:00                                          19.002746        \n",
       "2019-10-03 02:00:00                                          17.747302        \n",
       "2019-03-27 08:00:00                                          19.018771        \n",
       "2019-10-29 03:00:00                                          16.289886        \n",
       "\n",
       "                        heating_J  cooling_J  heating_kWh  cooling_kWh  \\\n",
       "datetime                                                                 \n",
       "2019-12-10 21:00:00  0.000000e+00        0.0     0.000000          0.0   \n",
       "2019-11-14 08:00:00  1.127792e+08        0.0    31.327558          0.0   \n",
       "2019-10-03 02:00:00  0.000000e+00        0.0     0.000000          0.0   \n",
       "2019-03-27 08:00:00  6.950458e+07        0.0    19.306827          0.0   \n",
       "2019-10-29 03:00:00  0.000000e+00        0.0     0.000000          0.0   \n",
       "\n",
       "                     internal_gains_kWh  infiltration_energy_kWh  \\\n",
       "datetime                                                           \n",
       "2019-12-10 21:00:00                 0.0                -2.018321   \n",
       "2019-11-14 08:00:00                 0.0                -3.233358   \n",
       "2019-10-03 02:00:00                 0.0                -1.514086   \n",
       "2019-03-27 08:00:00                 0.0                -2.943831   \n",
       "2019-10-29 03:00:00                 0.0                -1.701213   \n",
       "\n",
       "                     ventilation_energy_kWh  inside_conduction_energy_kWh  \\\n",
       "datetime                                                                    \n",
       "2019-12-10 21:00:00                0.000000                     -3.643560   \n",
       "2019-11-14 08:00:00              -11.056083                    -29.564500   \n",
       "2019-10-03 02:00:00                0.000000                      3.437929   \n",
       "2019-03-27 08:00:00              -10.076516                    -26.500533   \n",
       "2019-10-29 03:00:00                0.000000                      3.089906   \n",
       "\n",
       "                     windows_energy_constant_temperature_kWh  occupation  \n",
       "datetime                                                                  \n",
       "2019-12-10 21:00:00                                 5.661881           0  \n",
       "2019-11-14 08:00:00                                12.526382           1  \n",
       "2019-10-03 02:00:00                                -1.923843           0  \n",
       "2019-03-27 08:00:00                                20.214052           1  \n",
       "2019-10-29 03:00:00                                -1.388693           0  "
      ]
     },
     "execution_count": 19,
     "metadata": {},
     "output_type": "execute_result"
    }
   ],
   "source": [
    "# Download dataset\n",
    "df = pd.read_csv(\"heating_lilles.csv\")\n",
    "df.index = pd.DatetimeIndex(df.datetime) + pd.DateOffset(years=-1)\n",
    "# Add occupation as prior knowledge of the building\n",
    "df[\"occupation\"] = df.index.map(\n",
    "    lambda date: date.hour > 6 and date.hour < 20 and date.weekday() < 5\n",
    ").astype(int)\n",
    "# Select heating period\n",
    "df = df[\n",
    "    (df.index < datetime.datetime(2019, 4, 18))\n",
    "    | (df.index >= datetime.datetime(2019, 10, 3))\n",
    "]\n",
    "# Display the dataframe\n",
    "df.sample(5)"
   ]
  },
  {
   "cell_type": "code",
   "execution_count": null,
   "metadata": {
    "colab": {
     "base_uri": "https://localhost:8080/",
     "height": 452
    },
    "id": "NIMUEVtrNda4",
    "outputId": "afecfabe-4608-4927-d59f-828b87e2e393"
   },
   "outputs": [
    {
     "data": {
      "text/plain": [
       "<Axes: xlabel='datetime'>"
      ]
     },
     "execution_count": 20,
     "metadata": {},
     "output_type": "execute_result"
    },
    {
     "data": {
      "image/png": "[encoded data removed]",
      "text/plain": [
       "<Figure size 640x480 with 1 Axes>"
      ]
     },
     "metadata": {},
     "output_type": "display_data"
    }
   ],
   "source": [
    "df.plot(y=[\"outdoor_temperature_deg_celsius\", \"heating_kWh\"], alpha=0.7)"
   ]
  },
  {
   "cell_type": "markdown",
   "metadata": {
    "id": "ID4l8rWtOJU1"
   },
   "source": [
    "#### Split train/test and divide in windows"
   ]
  },
  {
   "cell_type": "code",
   "execution_count": null,
   "metadata": {
    "id": "Sda-1B60NdTV"
   },
   "outputs": [],
   "source": [
    "validation_start = datetime.datetime.fromisoformat(\"2019-10-01\")\n",
    "datamodule = TimeSeriesDataModule(\n",
    "    df,\n",
    "    batch_size=4,\n",
    "    batch_first=True,\n",
    "    columns_inputs=[\"outdoor_temperature_deg_celsius\", \"occupation\"],\n",
    "    columns_targets=[\"heating_kWh\"],\n",
    "    forecast_size=168,\n",
    "    stride_size=24,\n",
    "    validation_start=validation_start,\n",
    "    train_end=validation_start,\n",
    ")\n",
    "datamodule.setup(\"fit\")"
   ]
  },
  {
   "cell_type": "markdown",
   "metadata": {
    "id": "7qnQXpZ3OQwX"
   },
   "source": [
    "#### Load the Transformer model for time series"
   ]
  },
  {
   "cell_type": "code",
   "execution_count": null,
   "metadata": {
    "id": "kL91pu_4NdQ_"
   },
   "outputs": [],
   "source": [
    "# Load transformer mode\n",
    "device = torch.device(\"cuda\" if torch.cuda.is_available() else \"cpu\")\n",
    "transformer = Transformer(\n",
    "    d_input=2, d_model=4, d_output=1, q=4, v=4, h=4, N=1, chunk_mode=None\n",
    ").to(device)\n",
    "optimizer = torch.optim.Adam(transformer.parameters())\n",
    "loss_function = torch.nn.MSELoss()"
   ]
  },
  {
   "cell_type": "markdown",
   "metadata": {
    "id": "ti_t4M63PkRF"
   },
   "source": [
    "You can find documentation on the Transformer class here ``https://pytorch.org/docs/stable/generated/torch.nn.Transformer.html``"
   ]
  },
  {
   "cell_type": "markdown",
   "metadata": {
    "id": "wRu-t_FEOUT-"
   },
   "source": [
    "#### Train"
   ]
  },
  {
   "cell_type": "code",
   "execution_count": null,
   "metadata": {
    "colab": {
     "base_uri": "https://localhost:8080/"
    },
    "id": "0JKbH9rqNdOp",
    "outputId": "7f60b7b6-4c8f-4a51-fbaa-15b3c8dfdc3c"
   },
   "outputs": [
    {
     "name": "stderr",
     "output_type": "stream",
     "text": [
      "[Epoch   1/10]: 100%|██████████| 101/101 [00:00<00:00, 237.40it/s, loss=0.00806]\n",
      "[Epoch   2/10]: 100%|██████████| 101/101 [00:00<00:00, 240.09it/s, loss=0.00354]\n",
      "[Epoch   3/10]: 100%|██████████| 101/101 [00:00<00:00, 247.41it/s, loss=0.00266]\n",
      "[Epoch   4/10]: 100%|██████████| 101/101 [00:00<00:00, 248.28it/s, loss=0.00239]\n",
      "[Epoch   5/10]: 100%|██████████| 101/101 [00:00<00:00, 253.85it/s, loss=0.00225]\n",
      "[Epoch   6/10]: 100%|██████████| 101/101 [00:00<00:00, 207.22it/s, loss=0.00215]\n",
      "[Epoch   7/10]: 100%|██████████| 101/101 [00:00<00:00, 178.95it/s, loss=0.0021]\n",
      "[Epoch   8/10]: 100%|██████████| 101/101 [00:00<00:00, 195.61it/s, loss=0.00215]\n",
      "[Epoch   9/10]: 100%|██████████| 101/101 [00:00<00:00, 194.32it/s, loss=0.002]\n",
      "[Epoch  10/10]: 100%|██████████| 101/101 [00:00<00:00, 186.70it/s, loss=0.002]\n"
     ]
    }
   ],
   "source": [
    "EPOCHS = 10\n",
    "hist_loss = np.zeros(EPOCHS)\n",
    "dataloader_train = datamodule.train_dataloader()\n",
    "for idx_epoch in range(EPOCHS):\n",
    "    running_loss = 0\n",
    "    with tqdm(total=len(dataloader_train.dataset), desc=f\"[Epoch {idx_epoch+1:3d}/{EPOCHS}]\") as pbar:\n",
    "        for idx_batch, (x, y) in enumerate(dataloader_train):\n",
    "            optimizer.zero_grad()\n",
    "            # Propagate input\n",
    "            netout = transformer(x.to(device))\n",
    "            # Comupte loss\n",
    "            loss = torch.nn.functional.mse_loss(y.to(device)/10+0.3, netout)\n",
    "            # Backpropage loss\n",
    "            loss.backward()\n",
    "            # Update weights\n",
    "            optimizer.step()\n",
    "            # Log current loss\n",
    "            running_loss += loss.item()\n",
    "            pbar.set_postfix({'loss': running_loss/(idx_batch+1)})\n",
    "            pbar.update(x.shape[0])\n",
    "        train_loss = running_loss/len(dataloader_train)\n",
    "        hist_loss[idx_epoch] = train_loss"
   ]
  },
  {
   "cell_type": "code",
   "execution_count": null,
   "metadata": {
    "colab": {
     "base_uri": "https://localhost:8080/",
     "height": 449
    },
    "id": "weOJFBGINdMT",
    "outputId": "2ba5de85-8424-40bb-bf78-d7c1f0bce6ee"
   },
   "outputs": [
    {
     "data": {
      "text/plain": [
       "<matplotlib.legend.Legend at 0x7f5461fc2b60>"
      ]
     },
     "execution_count": 24,
     "metadata": {},
     "output_type": "execute_result"
    },
    {
     "data": {
      "image/png": "[encoded data removed]",
      "text/plain": [
       "<Figure size 640x480 with 1 Axes>"
      ]
     },
     "metadata": {},
     "output_type": "display_data"
    }
   ],
   "source": [
    "plt.plot(hist_loss, 'o-', label='train')\n",
    "plt.legend()"
   ]
  },
  {
   "cell_type": "markdown",
   "metadata": {
    "id": "kkRP1aqZOWvM"
   },
   "source": [
    "#### Visualize on a validation sample"
   ]
  },
  {
   "cell_type": "code",
   "execution_count": null,
   "metadata": {
    "colab": {
     "base_uri": "https://localhost:8080/",
     "height": 430
    },
    "id": "hb3Dav0VNdJ9",
    "outputId": "1d9659ea-9c84-4815-e1ba-3717c8ab9ae4"
   },
   "outputs": [
    {
     "data": {
      "image/png": "[encoded data removed]",
      "text/plain": [
       "<Figure size 640x480 with 1 Axes>"
      ]
     },
     "metadata": {},
     "output_type": "display_data"
    }
   ],
   "source": [
    "for x, y in datamodule.train_dataloader():\n",
    "    break\n",
    "with torch.no_grad():\n",
    "    netout = transformer(x.to(device)).cpu()\n",
    "idx_batch = 0\n",
    "plt.plot(netout[idx_batch, :, 0].numpy(), label=\"prediction\")\n",
    "plt.plot(y[idx_batch, :, 0].numpy()/10+0.3, label=\"observation\")\n",
    "plt.legend();"
   ]
  },
  {
   "cell_type": "markdown",
   "metadata": {
    "id": "wArFriN7OcQl"
   },
   "source": [
    "#### Display an attention map"
   ]
  },
  {
   "cell_type": "code",
   "execution_count": null,
   "metadata": {
    "colab": {
     "base_uri": "https://localhost:8080/",
     "height": 453
    },
    "id": "AfYs39vdNdAl",
    "outputId": "f3606cb8-5893-46f1-aefc-31012a319bb1"
   },
   "outputs": [
    {
     "data": {
      "text/plain": [
       "<matplotlib.image.AxesImage at 0x7f5461f627d0>"
      ]
     },
     "execution_count": 28,
     "metadata": {},
     "output_type": "execute_result"
    },
    {
     "data": {
      "image/png": "[encoded data removed]",
      "text/plain": [
       "<Figure size 640x480 with 1 Axes>"
      ]
     },
     "metadata": {},
     "output_type": "display_data"
    }
   ],
   "source": [
    "plt.imshow(transformer.layers_encoding[0].attention_map[0].cpu(), cmap=\"hot\")"
   ]
  }
 ],
 "metadata": {
  "accelerator": "GPU",
  "colab": {
   "collapsed_sections": [
    "oCrZx7jngJ2w"
   ],
   "provenance": [],
   "toc_visible": true
  },
  "gpuClass": "standard",
  "kernelspec": {
   "display_name": "Python 3 (ipykernel)",
   "language": "python",
   "name": "python3"
  },
  "language_info": {
   "codemirror_mode": {
    "name": "ipython",
    "version": 3
   },
   "file_extension": ".py",
   "mimetype": "text/x-python",
   "name": "python",
   "nbconvert_exporter": "python",
   "pygments_lexer": "ipython3",
   "version": "3.9.13"
  },
  "widgets": {
   "application/vnd.jupyter.widget-state+json": {
    "028d33274a4e45d79d625871dec795b7": {
     "model_module": "@jupyter-widgets/controls",
     "model_module_version": "1.5.0",
     "model_name": "DescriptionStyleModel",
     "state": {
      "_model_module": "@jupyter-widgets/controls",
      "_model_module_version": "1.5.0",
      "_model_name": "DescriptionStyleModel",
      "_view_count": null,
      "_view_module": "@jupyter-widgets/base",
      "_view_module_version": "1.2.0",
      "_view_name": "StyleView",
      "description_width": ""
     }
    },
    "0367db1b8ea341bb8ed93ba4d68de82b": {
     "model_module": "@jupyter-widgets/base",
     "model_module_version": "1.2.0",
     "model_name": "LayoutModel",
     "state": {
      "_model_module": "@jupyter-widgets/base",
      "_model_module_version": "1.2.0",
      "_model_name": "LayoutModel",
      "_view_count": null,
      "_view_module": "@jupyter-widgets/base",
      "_view_module_version": "1.2.0",
      "_view_name": "LayoutView",
      "align_content": null,
      "align_items": null,
      "align_self": null,
      "border": null,
      "bottom": null,
      "display": null,
      "flex": null,
      "flex_flow": null,
      "grid_area": null,
      "grid_auto_columns": null,
      "grid_auto_flow": null,
      "grid_auto_rows": null,
      "grid_column": null,
      "grid_gap": null,
      "grid_row": null,
      "grid_template_areas": null,
      "grid_template_columns": null,
      "grid_template_rows": null,
      "height": null,
      "justify_content": null,
      "justify_items": null,
      "left": null,
      "margin": null,
      "max_height": null,
      "max_width": null,
      "min_height": null,
      "min_width": null,
      "object_fit": null,
      "object_position": null,
      "order": null,
      "overflow": null,
      "overflow_x": null,
      "overflow_y": null,
      "padding": null,
      "right": null,
      "top": null,
      "visibility": null,
      "width": null
     }
    },
    "0920f6be29ea427bb80fb117aa92d7a2": {
     "model_module": "@jupyter-widgets/controls",
     "model_module_version": "1.5.0",
     "model_name": "HTMLModel",
     "state": {
      "_dom_classes": [],
      "_model_module": "@jupyter-widgets/controls",
      "_model_module_version": "1.5.0",
      "_model_name": "HTMLModel",
      "_view_count": null,
      "_view_module": "@jupyter-widgets/controls",
      "_view_module_version": "1.5.0",
      "_view_name": "HTMLView",
      "description": "",
      "description_tooltip": null,
      "layout": "IPY_MODEL_aa4871e40bd24037b56a5a44c205ab0c",
      "placeholder": "​",
      "style": "IPY_MODEL_028d33274a4e45d79d625871dec795b7",
      "value": " 548M/548M [00:04&lt;00:00, 235MB/s]"
     }
    },
    "0c1c703696a74f24a8fd7eada25269e0": {
     "model_module": "@jupyter-widgets/controls",
     "model_module_version": "1.5.0",
     "model_name": "HTMLModel",
     "state": {
      "_dom_classes": [],
      "_model_module": "@jupyter-widgets/controls",
      "_model_module_version": "1.5.0",
      "_model_name": "HTMLModel",
      "_view_count": null,
      "_view_module": "@jupyter-widgets/controls",
      "_view_module_version": "1.5.0",
      "_view_name": "HTMLView",
      "description": "",
      "description_tooltip": null,
      "layout": "IPY_MODEL_c1a131ec2330443e910285c2050ff5aa",
      "placeholder": "​",
      "style": "IPY_MODEL_5ddb571efe10481284ba2c8c34827305",
      "value": "Downloading (…)olve/main/vocab.json: 100%"
     }
    },
    "0cdd0b999c6a447698286dcb41c61bac": {
     "model_module": "@jupyter-widgets/controls",
     "model_module_version": "1.5.0",
     "model_name": "DescriptionStyleModel",
     "state": {
      "_model_module": "@jupyter-widgets/controls",
      "_model_module_version": "1.5.0",
      "_model_name": "DescriptionStyleModel",
      "_view_count": null,
      "_view_module": "@jupyter-widgets/base",
      "_view_module_version": "1.2.0",
      "_view_name": "StyleView",
      "description_width": ""
     }
    },
    "10c7a7621425491780e5d00956499c3b": {
     "model_module": "@jupyter-widgets/controls",
     "model_module_version": "1.5.0",
     "model_name": "HTMLModel",
     "state": {
      "_dom_classes": [],
      "_model_module": "@jupyter-widgets/controls",
      "_model_module_version": "1.5.0",
      "_model_name": "HTMLModel",
      "_view_count": null,
      "_view_module": "@jupyter-widgets/controls",
      "_view_module_version": "1.5.0",
      "_view_name": "HTMLView",
      "description": "",
      "description_tooltip": null,
      "layout": "IPY_MODEL_db21541eb86b4a789ce748fe74fd9918",
      "placeholder": "​",
      "style": "IPY_MODEL_fbb7737a35eb4e2aba9310b15ba443cf",
      "value": " 1.04M/1.04M [00:00&lt;00:00, 3.97MB/s]"
     }
    },
    "14d85ad5095b49969b1bae1b7ffbb96f": {
     "model_module": "@jupyter-widgets/controls",
     "model_module_version": "1.5.0",
     "model_name": "HTMLModel",
     "state": {
      "_dom_classes": [],
      "_model_module": "@jupyter-widgets/controls",
      "_model_module_version": "1.5.0",
      "_model_name": "HTMLModel",
      "_view_count": null,
      "_view_module": "@jupyter-widgets/controls",
      "_view_module_version": "1.5.0",
      "_view_name": "HTMLView",
      "description": "",
      "description_tooltip": null,
      "layout": "IPY_MODEL_811fd72cf4894d28a234b37f0c662093",
      "placeholder": "​",
      "style": "IPY_MODEL_60bb97d0dcd44c6385f8844035546775",
      "value": " 124/124 [00:00&lt;00:00, 7.55kB/s]"
     }
    },
    "15c3a557292440a0b430c515c5556302": {
     "model_module": "@jupyter-widgets/controls",
     "model_module_version": "1.5.0",
     "model_name": "FloatProgressModel",
     "state": {
      "_dom_classes": [],
      "_model_module": "@jupyter-widgets/controls",
      "_model_module_version": "1.5.0",
      "_model_name": "FloatProgressModel",
      "_view_count": null,
      "_view_module": "@jupyter-widgets/controls",
      "_view_module_version": "1.5.0",
      "_view_name": "ProgressView",
      "bar_style": "success",
      "description": "",
      "description_tooltip": null,
      "layout": "IPY_MODEL_645bd75786d64aa3974cdf68f9da92d6",
      "max": 1042301,
      "min": 0,
      "orientation": "horizontal",
      "style": "IPY_MODEL_c8d69009aca34703b474e506d21b6f1f",
      "value": 1042301
     }
    },
    "198a05d2867e4b65a064585ee5ab43ce": {
     "model_module": "@jupyter-widgets/controls",
     "model_module_version": "1.5.0",
     "model_name": "FloatProgressModel",
     "state": {
      "_dom_classes": [],
      "_model_module": "@jupyter-widgets/controls",
      "_model_module_version": "1.5.0",
      "_model_name": "FloatProgressModel",
      "_view_count": null,
      "_view_module": "@jupyter-widgets/controls",
      "_view_module_version": "1.5.0",
      "_view_name": "ProgressView",
      "bar_style": "success",
      "description": "",
      "description_tooltip": null,
      "layout": "IPY_MODEL_4f3ae39ba22a4a6498c56d5830a66cdc",
      "max": 124,
      "min": 0,
      "orientation": "horizontal",
      "style": "IPY_MODEL_d11638f996c3463db78ed45cc36ed95b",
      "value": 124
     }
    },
    "1c0959c6f7f94e8083e3a9afd62f5768": {
     "model_module": "@jupyter-widgets/controls",
     "model_module_version": "1.5.0",
     "model_name": "FloatProgressModel",
     "state": {
      "_dom_classes": [],
      "_model_module": "@jupyter-widgets/controls",
      "_model_module_version": "1.5.0",
      "_model_name": "FloatProgressModel",
      "_view_count": null,
      "_view_module": "@jupyter-widgets/controls",
      "_view_module_version": "1.5.0",
      "_view_name": "ProgressView",
      "bar_style": "success",
      "description": "",
      "description_tooltip": null,
      "layout": "IPY_MODEL_c5f3c16ae2df43ab954bc9e8f77e66ef",
      "max": 456318,
      "min": 0,
      "orientation": "horizontal",
      "style": "IPY_MODEL_ece96e271ff54e85862cc47263ef5838",
      "value": 456318
     }
    },
    "238ee10e92e84c08ab99fcbcdc570527": {
     "model_module": "@jupyter-widgets/controls",
     "model_module_version": "1.5.0",
     "model_name": "HBoxModel",
     "state": {
      "_dom_classes": [],
      "_model_module": "@jupyter-widgets/controls",
      "_model_module_version": "1.5.0",
      "_model_name": "HBoxModel",
      "_view_count": null,
      "_view_module": "@jupyter-widgets/controls",
      "_view_module_version": "1.5.0",
      "_view_name": "HBoxView",
      "box_style": "",
      "children": [
       "IPY_MODEL_0c1c703696a74f24a8fd7eada25269e0",
       "IPY_MODEL_15c3a557292440a0b430c515c5556302",
       "IPY_MODEL_10c7a7621425491780e5d00956499c3b"
      ],
      "layout": "IPY_MODEL_ae7f7fc5e1374b14a6ca32bb802e3f08"
     }
    },
    "26dc299174c547b1846f826217db9645": {
     "model_module": "@jupyter-widgets/controls",
     "model_module_version": "1.5.0",
     "model_name": "HTMLModel",
     "state": {
      "_dom_classes": [],
      "_model_module": "@jupyter-widgets/controls",
      "_model_module_version": "1.5.0",
      "_model_name": "HTMLModel",
      "_view_count": null,
      "_view_module": "@jupyter-widgets/controls",
      "_view_module_version": "1.5.0",
      "_view_name": "HTMLView",
      "description": "",
      "description_tooltip": null,
      "layout": "IPY_MODEL_2ed898c557ab4773aef78741cfb89db7",
      "placeholder": "​",
      "style": "IPY_MODEL_a1649de7928941d2ae3ed12a2afe6a82",
      "value": " 456k/456k [00:00&lt;00:00, 3.55MB/s]"
     }
    },
    "2ed898c557ab4773aef78741cfb89db7": {
     "model_module": "@jupyter-widgets/base",
     "model_module_version": "1.2.0",
     "model_name": "LayoutModel",
     "state": {
      "_model_module": "@jupyter-widgets/base",
      "_model_module_version": "1.2.0",
      "_model_name": "LayoutModel",
      "_view_count": null,
      "_view_module": "@jupyter-widgets/base",
      "_view_module_version": "1.2.0",
      "_view_name": "LayoutView",
      "align_content": null,
      "align_items": null,
      "align_self": null,
      "border": null,
      "bottom": null,
      "display": null,
      "flex": null,
      "flex_flow": null,
      "grid_area": null,
      "grid_auto_columns": null,
      "grid_auto_flow": null,
      "grid_auto_rows": null,
      "grid_column": null,
      "grid_gap": null,
      "grid_row": null,
      "grid_template_areas": null,
      "grid_template_columns": null,
      "grid_template_rows": null,
      "height": null,
      "justify_content": null,
      "justify_items": null,
      "left": null,
      "margin": null,
      "max_height": null,
      "max_width": null,
      "min_height": null,
      "min_width": null,
      "object_fit": null,
      "object_position": null,
      "order": null,
      "overflow": null,
      "overflow_x": null,
      "overflow_y": null,
      "padding": null,
      "right": null,
      "top": null,
      "visibility": null,
      "width": null
     }
    },
    "348b4f586d6845a2aa7f4bfb4c6cd382": {
     "model_module": "@jupyter-widgets/base",
     "model_module_version": "1.2.0",
     "model_name": "LayoutModel",
     "state": {
      "_model_module": "@jupyter-widgets/base",
      "_model_module_version": "1.2.0",
      "_model_name": "LayoutModel",
      "_view_count": null,
      "_view_module": "@jupyter-widgets/base",
      "_view_module_version": "1.2.0",
      "_view_name": "LayoutView",
      "align_content": null,
      "align_items": null,
      "align_self": null,
      "border": null,
      "bottom": null,
      "display": null,
      "flex": null,
      "flex_flow": null,
      "grid_area": null,
      "grid_auto_columns": null,
      "grid_auto_flow": null,
      "grid_auto_rows": null,
      "grid_column": null,
      "grid_gap": null,
      "grid_row": null,
      "grid_template_areas": null,
      "grid_template_columns": null,
      "grid_template_rows": null,
      "height": null,
      "justify_content": null,
      "justify_items": null,
      "left": null,
      "margin": null,
      "max_height": null,
      "max_width": null,
      "min_height": null,
      "min_width": null,
      "object_fit": null,
      "object_position": null,
      "order": null,
      "overflow": null,
      "overflow_x": null,
      "overflow_y": null,
      "padding": null,
      "right": null,
      "top": null,
      "visibility": null,
      "width": null
     }
    },
    "4320d25779c9468ea6a1c12eeabe699d": {
     "model_module": "@jupyter-widgets/controls",
     "model_module_version": "1.5.0",
     "model_name": "HTMLModel",
     "state": {
      "_dom_classes": [],
      "_model_module": "@jupyter-widgets/controls",
      "_model_module_version": "1.5.0",
      "_model_name": "HTMLModel",
      "_view_count": null,
      "_view_module": "@jupyter-widgets/controls",
      "_view_module_version": "1.5.0",
      "_view_name": "HTMLView",
      "description": "",
      "description_tooltip": null,
      "layout": "IPY_MODEL_967f9f31a81b446e959f655d0293c8a7",
      "placeholder": "​",
      "style": "IPY_MODEL_7d468eedc98144ffa6ca028c7e5b66b2",
      "value": "Downloading model.safetensors: 100%"
     }
    },
    "4f3ae39ba22a4a6498c56d5830a66cdc": {
     "model_module": "@jupyter-widgets/base",
     "model_module_version": "1.2.0",
     "model_name": "LayoutModel",
     "state": {
      "_model_module": "@jupyter-widgets/base",
      "_model_module_version": "1.2.0",
      "_model_name": "LayoutModel",
      "_view_count": null,
      "_view_module": "@jupyter-widgets/base",
      "_view_module_version": "1.2.0",
      "_view_name": "LayoutView",
      "align_content": null,
      "align_items": null,
      "align_self": null,
      "border": null,
      "bottom": null,
      "display": null,
      "flex": null,
      "flex_flow": null,
      "grid_area": null,
      "grid_auto_columns": null,
      "grid_auto_flow": null,
      "grid_auto_rows": null,
      "grid_column": null,
      "grid_gap": null,
      "grid_row": null,
      "grid_template_areas": null,
      "grid_template_columns": null,
      "grid_template_rows": null,
      "height": null,
      "justify_content": null,
      "justify_items": null,
      "left": null,
      "margin": null,
      "max_height": null,
      "max_width": null,
      "min_height": null,
      "min_width": null,
      "object_fit": null,
      "object_position": null,
      "order": null,
      "overflow": null,
      "overflow_x": null,
      "overflow_y": null,
      "padding": null,
      "right": null,
      "top": null,
      "visibility": null,
      "width": null
     }
    },
    "525ca0a396114a318bec52303cff1c16": {
     "model_module": "@jupyter-widgets/base",
     "model_module_version": "1.2.0",
     "model_name": "LayoutModel",
     "state": {
      "_model_module": "@jupyter-widgets/base",
      "_model_module_version": "1.2.0",
      "_model_name": "LayoutModel",
      "_view_count": null,
      "_view_module": "@jupyter-widgets/base",
      "_view_module_version": "1.2.0",
      "_view_name": "LayoutView",
      "align_content": null,
      "align_items": null,
      "align_self": null,
      "border": null,
      "bottom": null,
      "display": null,
      "flex": null,
      "flex_flow": null,
      "grid_area": null,
      "grid_auto_columns": null,
      "grid_auto_flow": null,
      "grid_auto_rows": null,
      "grid_column": null,
      "grid_gap": null,
      "grid_row": null,
      "grid_template_areas": null,
      "grid_template_columns": null,
      "grid_template_rows": null,
      "height": null,
      "justify_content": null,
      "justify_items": null,
      "left": null,
      "margin": null,
      "max_height": null,
      "max_width": null,
      "min_height": null,
      "min_width": null,
      "object_fit": null,
      "object_position": null,
      "order": null,
      "overflow": null,
      "overflow_x": null,
      "overflow_y": null,
      "padding": null,
      "right": null,
      "top": null,
      "visibility": null,
      "width": null
     }
    },
    "5a456c9144cd43eabbb3704fc1131e1b": {
     "model_module": "@jupyter-widgets/controls",
     "model_module_version": "1.5.0",
     "model_name": "HBoxModel",
     "state": {
      "_dom_classes": [],
      "_model_module": "@jupyter-widgets/controls",
      "_model_module_version": "1.5.0",
      "_model_name": "HBoxModel",
      "_view_count": null,
      "_view_module": "@jupyter-widgets/controls",
      "_view_module_version": "1.5.0",
      "_view_name": "HBoxView",
      "box_style": "",
      "children": [
       "IPY_MODEL_f7c87fe3b0824ee493bc77746d8f72eb",
       "IPY_MODEL_82052913bd58456789ed04b9340f45c3",
       "IPY_MODEL_b4c1845da12a4f07ad98c6b7108755a3"
      ],
      "layout": "IPY_MODEL_525ca0a396114a318bec52303cff1c16"
     }
    },
    "5c99265b5de34b94a2c1a9b994c2a771": {
     "model_module": "@jupyter-widgets/controls",
     "model_module_version": "1.5.0",
     "model_name": "HBoxModel",
     "state": {
      "_dom_classes": [],
      "_model_module": "@jupyter-widgets/controls",
      "_model_module_version": "1.5.0",
      "_model_name": "HBoxModel",
      "_view_count": null,
      "_view_module": "@jupyter-widgets/controls",
      "_view_module_version": "1.5.0",
      "_view_name": "HBoxView",
      "box_style": "",
      "children": [
       "IPY_MODEL_cd55bff2cbe74b76a4a0c792b124f9bc",
       "IPY_MODEL_198a05d2867e4b65a064585ee5ab43ce",
       "IPY_MODEL_14d85ad5095b49969b1bae1b7ffbb96f"
      ],
      "layout": "IPY_MODEL_74f6ceb9e798440fa4093f99b875faf8"
     }
    },
    "5ddb571efe10481284ba2c8c34827305": {
     "model_module": "@jupyter-widgets/controls",
     "model_module_version": "1.5.0",
     "model_name": "DescriptionStyleModel",
     "state": {
      "_model_module": "@jupyter-widgets/controls",
      "_model_module_version": "1.5.0",
      "_model_name": "DescriptionStyleModel",
      "_view_count": null,
      "_view_module": "@jupyter-widgets/base",
      "_view_module_version": "1.2.0",
      "_view_name": "StyleView",
      "description_width": ""
     }
    },
    "60bb97d0dcd44c6385f8844035546775": {
     "model_module": "@jupyter-widgets/controls",
     "model_module_version": "1.5.0",
     "model_name": "DescriptionStyleModel",
     "state": {
      "_model_module": "@jupyter-widgets/controls",
      "_model_module_version": "1.5.0",
      "_model_name": "DescriptionStyleModel",
      "_view_count": null,
      "_view_module": "@jupyter-widgets/base",
      "_view_module_version": "1.2.0",
      "_view_name": "StyleView",
      "description_width": ""
     }
    },
    "645bd75786d64aa3974cdf68f9da92d6": {
     "model_module": "@jupyter-widgets/base",
     "model_module_version": "1.2.0",
     "model_name": "LayoutModel",
     "state": {
      "_model_module": "@jupyter-widgets/base",
      "_model_module_version": "1.2.0",
      "_model_name": "LayoutModel",
      "_view_count": null,
      "_view_module": "@jupyter-widgets/base",
      "_view_module_version": "1.2.0",
      "_view_name": "LayoutView",
      "align_content": null,
      "align_items": null,
      "align_self": null,
      "border": null,
      "bottom": null,
      "display": null,
      "flex": null,
      "flex_flow": null,
      "grid_area": null,
      "grid_auto_columns": null,
      "grid_auto_flow": null,
      "grid_auto_rows": null,
      "grid_column": null,
      "grid_gap": null,
      "grid_row": null,
      "grid_template_areas": null,
      "grid_template_columns": null,
      "grid_template_rows": null,
      "height": null,
      "justify_content": null,
      "justify_items": null,
      "left": null,
      "margin": null,
      "max_height": null,
      "max_width": null,
      "min_height": null,
      "min_width": null,
      "object_fit": null,
      "object_position": null,
      "order": null,
      "overflow": null,
      "overflow_x": null,
      "overflow_y": null,
      "padding": null,
      "right": null,
      "top": null,
      "visibility": null,
      "width": null
     }
    },
    "67a0dc4e522249d7ac420271de8759fb": {
     "model_module": "@jupyter-widgets/base",
     "model_module_version": "1.2.0",
     "model_name": "LayoutModel",
     "state": {
      "_model_module": "@jupyter-widgets/base",
      "_model_module_version": "1.2.0",
      "_model_name": "LayoutModel",
      "_view_count": null,
      "_view_module": "@jupyter-widgets/base",
      "_view_module_version": "1.2.0",
      "_view_name": "LayoutView",
      "align_content": null,
      "align_items": null,
      "align_self": null,
      "border": null,
      "bottom": null,
      "display": null,
      "flex": null,
      "flex_flow": null,
      "grid_area": null,
      "grid_auto_columns": null,
      "grid_auto_flow": null,
      "grid_auto_rows": null,
      "grid_column": null,
      "grid_gap": null,
      "grid_row": null,
      "grid_template_areas": null,
      "grid_template_columns": null,
      "grid_template_rows": null,
      "height": null,
      "justify_content": null,
      "justify_items": null,
      "left": null,
      "margin": null,
      "max_height": null,
      "max_width": null,
      "min_height": null,
      "min_width": null,
      "object_fit": null,
      "object_position": null,
      "order": null,
      "overflow": null,
      "overflow_x": null,
      "overflow_y": null,
      "padding": null,
      "right": null,
      "top": null,
      "visibility": null,
      "width": null
     }
    },
    "74f6ceb9e798440fa4093f99b875faf8": {
     "model_module": "@jupyter-widgets/base",
     "model_module_version": "1.2.0",
     "model_name": "LayoutModel",
     "state": {
      "_model_module": "@jupyter-widgets/base",
      "_model_module_version": "1.2.0",
      "_model_name": "LayoutModel",
      "_view_count": null,
      "_view_module": "@jupyter-widgets/base",
      "_view_module_version": "1.2.0",
      "_view_name": "LayoutView",
      "align_content": null,
      "align_items": null,
      "align_self": null,
      "border": null,
      "bottom": null,
      "display": null,
      "flex": null,
      "flex_flow": null,
      "grid_area": null,
      "grid_auto_columns": null,
      "grid_auto_flow": null,
      "grid_auto_rows": null,
      "grid_column": null,
      "grid_gap": null,
      "grid_row": null,
      "grid_template_areas": null,
      "grid_template_columns": null,
      "grid_template_rows": null,
      "height": null,
      "justify_content": null,
      "justify_items": null,
      "left": null,
      "margin": null,
      "max_height": null,
      "max_width": null,
      "min_height": null,
      "min_width": null,
      "object_fit": null,
      "object_position": null,
      "order": null,
      "overflow": null,
      "overflow_x": null,
      "overflow_y": null,
      "padding": null,
      "right": null,
      "top": null,
      "visibility": null,
      "width": null
     }
    },
    "79732734f0974fa28f797b2c57913dea": {
     "model_module": "@jupyter-widgets/controls",
     "model_module_version": "1.5.0",
     "model_name": "FloatProgressModel",
     "state": {
      "_dom_classes": [],
      "_model_module": "@jupyter-widgets/controls",
      "_model_module_version": "1.5.0",
      "_model_name": "FloatProgressModel",
      "_view_count": null,
      "_view_module": "@jupyter-widgets/controls",
      "_view_module_version": "1.5.0",
      "_view_name": "ProgressView",
      "bar_style": "success",
      "description": "",
      "description_tooltip": null,
      "layout": "IPY_MODEL_0367db1b8ea341bb8ed93ba4d68de82b",
      "max": 548105171,
      "min": 0,
      "orientation": "horizontal",
      "style": "IPY_MODEL_bcd7f51a96764705af8b079a40ba9668",
      "value": 548105171
     }
    },
    "7ba9bfbcebb04d63a4ea4ae47e2d591c": {
     "model_module": "@jupyter-widgets/controls",
     "model_module_version": "1.5.0",
     "model_name": "HBoxModel",
     "state": {
      "_dom_classes": [],
      "_model_module": "@jupyter-widgets/controls",
      "_model_module_version": "1.5.0",
      "_model_name": "HBoxModel",
      "_view_count": null,
      "_view_module": "@jupyter-widgets/controls",
      "_view_module_version": "1.5.0",
      "_view_name": "HBoxView",
      "box_style": "",
      "children": [
       "IPY_MODEL_eff934d82d2a429ba96c57cac9942a85",
       "IPY_MODEL_1c0959c6f7f94e8083e3a9afd62f5768",
       "IPY_MODEL_26dc299174c547b1846f826217db9645"
      ],
      "layout": "IPY_MODEL_67a0dc4e522249d7ac420271de8759fb"
     }
    },
    "7d468eedc98144ffa6ca028c7e5b66b2": {
     "model_module": "@jupyter-widgets/controls",
     "model_module_version": "1.5.0",
     "model_name": "DescriptionStyleModel",
     "state": {
      "_model_module": "@jupyter-widgets/controls",
      "_model_module_version": "1.5.0",
      "_model_name": "DescriptionStyleModel",
      "_view_count": null,
      "_view_module": "@jupyter-widgets/base",
      "_view_module_version": "1.2.0",
      "_view_name": "StyleView",
      "description_width": ""
     }
    },
    "7f9fb7e678bd42b0a95cab49234c232a": {
     "model_module": "@jupyter-widgets/controls",
     "model_module_version": "1.5.0",
     "model_name": "DescriptionStyleModel",
     "state": {
      "_model_module": "@jupyter-widgets/controls",
      "_model_module_version": "1.5.0",
      "_model_name": "DescriptionStyleModel",
      "_view_count": null,
      "_view_module": "@jupyter-widgets/base",
      "_view_module_version": "1.2.0",
      "_view_name": "StyleView",
      "description_width": ""
     }
    },
    "811fd72cf4894d28a234b37f0c662093": {
     "model_module": "@jupyter-widgets/base",
     "model_module_version": "1.2.0",
     "model_name": "LayoutModel",
     "state": {
      "_model_module": "@jupyter-widgets/base",
      "_model_module_version": "1.2.0",
      "_model_name": "LayoutModel",
      "_view_count": null,
      "_view_module": "@jupyter-widgets/base",
      "_view_module_version": "1.2.0",
      "_view_name": "LayoutView",
      "align_content": null,
      "align_items": null,
      "align_self": null,
      "border": null,
      "bottom": null,
      "display": null,
      "flex": null,
      "flex_flow": null,
      "grid_area": null,
      "grid_auto_columns": null,
      "grid_auto_flow": null,
      "grid_auto_rows": null,
      "grid_column": null,
      "grid_gap": null,
      "grid_row": null,
      "grid_template_areas": null,
      "grid_template_columns": null,
      "grid_template_rows": null,
      "height": null,
      "justify_content": null,
      "justify_items": null,
      "left": null,
      "margin": null,
      "max_height": null,
      "max_width": null,
      "min_height": null,
      "min_width": null,
      "object_fit": null,
      "object_position": null,
      "order": null,
      "overflow": null,
      "overflow_x": null,
      "overflow_y": null,
      "padding": null,
      "right": null,
      "top": null,
      "visibility": null,
      "width": null
     }
    },
    "82052913bd58456789ed04b9340f45c3": {
     "model_module": "@jupyter-widgets/controls",
     "model_module_version": "1.5.0",
     "model_name": "FloatProgressModel",
     "state": {
      "_dom_classes": [],
      "_model_module": "@jupyter-widgets/controls",
      "_model_module_version": "1.5.0",
      "_model_name": "FloatProgressModel",
      "_view_count": null,
      "_view_module": "@jupyter-widgets/controls",
      "_view_module_version": "1.5.0",
      "_view_name": "ProgressView",
      "bar_style": "success",
      "description": "",
      "description_tooltip": null,
      "layout": "IPY_MODEL_e1bdf57700c04c679d3bb22e11d106d3",
      "max": 665,
      "min": 0,
      "orientation": "horizontal",
      "style": "IPY_MODEL_8d03e5215d0f4c05b615dbc3fe390c75",
      "value": 665
     }
    },
    "84d118476eae4a86a7437794589a5b97": {
     "model_module": "@jupyter-widgets/controls",
     "model_module_version": "1.5.0",
     "model_name": "HBoxModel",
     "state": {
      "_dom_classes": [],
      "_model_module": "@jupyter-widgets/controls",
      "_model_module_version": "1.5.0",
      "_model_name": "HBoxModel",
      "_view_count": null,
      "_view_module": "@jupyter-widgets/controls",
      "_view_module_version": "1.5.0",
      "_view_name": "HBoxView",
      "box_style": "",
      "children": [
       "IPY_MODEL_4320d25779c9468ea6a1c12eeabe699d",
       "IPY_MODEL_79732734f0974fa28f797b2c57913dea",
       "IPY_MODEL_0920f6be29ea427bb80fb117aa92d7a2"
      ],
      "layout": "IPY_MODEL_348b4f586d6845a2aa7f4bfb4c6cd382"
     }
    },
    "8d03e5215d0f4c05b615dbc3fe390c75": {
     "model_module": "@jupyter-widgets/controls",
     "model_module_version": "1.5.0",
     "model_name": "ProgressStyleModel",
     "state": {
      "_model_module": "@jupyter-widgets/controls",
      "_model_module_version": "1.5.0",
      "_model_name": "ProgressStyleModel",
      "_view_count": null,
      "_view_module": "@jupyter-widgets/base",
      "_view_module_version": "1.2.0",
      "_view_name": "StyleView",
      "bar_color": null,
      "description_width": ""
     }
    },
    "967f9f31a81b446e959f655d0293c8a7": {
     "model_module": "@jupyter-widgets/base",
     "model_module_version": "1.2.0",
     "model_name": "LayoutModel",
     "state": {
      "_model_module": "@jupyter-widgets/base",
      "_model_module_version": "1.2.0",
      "_model_name": "LayoutModel",
      "_view_count": null,
      "_view_module": "@jupyter-widgets/base",
      "_view_module_version": "1.2.0",
      "_view_name": "LayoutView",
      "align_content": null,
      "align_items": null,
      "align_self": null,
      "border": null,
      "bottom": null,
      "display": null,
      "flex": null,
      "flex_flow": null,
      "grid_area": null,
      "grid_auto_columns": null,
      "grid_auto_flow": null,
      "grid_auto_rows": null,
      "grid_column": null,
      "grid_gap": null,
      "grid_row": null,
      "grid_template_areas": null,
      "grid_template_columns": null,
      "grid_template_rows": null,
      "height": null,
      "justify_content": null,
      "justify_items": null,
      "left": null,
      "margin": null,
      "max_height": null,
      "max_width": null,
      "min_height": null,
      "min_width": null,
      "object_fit": null,
      "object_position": null,
      "order": null,
      "overflow": null,
      "overflow_x": null,
      "overflow_y": null,
      "padding": null,
      "right": null,
      "top": null,
      "visibility": null,
      "width": null
     }
    },
    "9cb0895ba0d54317857528771e170ef2": {
     "model_module": "@jupyter-widgets/base",
     "model_module_version": "1.2.0",
     "model_name": "LayoutModel",
     "state": {
      "_model_module": "@jupyter-widgets/base",
      "_model_module_version": "1.2.0",
      "_model_name": "LayoutModel",
      "_view_count": null,
      "_view_module": "@jupyter-widgets/base",
      "_view_module_version": "1.2.0",
      "_view_name": "LayoutView",
      "align_content": null,
      "align_items": null,
      "align_self": null,
      "border": null,
      "bottom": null,
      "display": null,
      "flex": null,
      "flex_flow": null,
      "grid_area": null,
      "grid_auto_columns": null,
      "grid_auto_flow": null,
      "grid_auto_rows": null,
      "grid_column": null,
      "grid_gap": null,
      "grid_row": null,
      "grid_template_areas": null,
      "grid_template_columns": null,
      "grid_template_rows": null,
      "height": null,
      "justify_content": null,
      "justify_items": null,
      "left": null,
      "margin": null,
      "max_height": null,
      "max_width": null,
      "min_height": null,
      "min_width": null,
      "object_fit": null,
      "object_position": null,
      "order": null,
      "overflow": null,
      "overflow_x": null,
      "overflow_y": null,
      "padding": null,
      "right": null,
      "top": null,
      "visibility": null,
      "width": null
     }
    },
    "a1649de7928941d2ae3ed12a2afe6a82": {
     "model_module": "@jupyter-widgets/controls",
     "model_module_version": "1.5.0",
     "model_name": "DescriptionStyleModel",
     "state": {
      "_model_module": "@jupyter-widgets/controls",
      "_model_module_version": "1.5.0",
      "_model_name": "DescriptionStyleModel",
      "_view_count": null,
      "_view_module": "@jupyter-widgets/base",
      "_view_module_version": "1.2.0",
      "_view_name": "StyleView",
      "description_width": ""
     }
    },
    "aa4871e40bd24037b56a5a44c205ab0c": {
     "model_module": "@jupyter-widgets/base",
     "model_module_version": "1.2.0",
     "model_name": "LayoutModel",
     "state": {
      "_model_module": "@jupyter-widgets/base",
      "_model_module_version": "1.2.0",
      "_model_name": "LayoutModel",
      "_view_count": null,
      "_view_module": "@jupyter-widgets/base",
      "_view_module_version": "1.2.0",
      "_view_name": "LayoutView",
      "align_content": null,
      "align_items": null,
      "align_self": null,
      "border": null,
      "bottom": null,
      "display": null,
      "flex": null,
      "flex_flow": null,
      "grid_area": null,
      "grid_auto_columns": null,
      "grid_auto_flow": null,
      "grid_auto_rows": null,
      "grid_column": null,
      "grid_gap": null,
      "grid_row": null,
      "grid_template_areas": null,
      "grid_template_columns": null,
      "grid_template_rows": null,
      "height": null,
      "justify_content": null,
      "justify_items": null,
      "left": null,
      "margin": null,
      "max_height": null,
      "max_width": null,
      "min_height": null,
      "min_width": null,
      "object_fit": null,
      "object_position": null,
      "order": null,
      "overflow": null,
      "overflow_x": null,
      "overflow_y": null,
      "padding": null,
      "right": null,
      "top": null,
      "visibility": null,
      "width": null
     }
    },
    "ad1ab0430a1347fca94a18e3e20281cb": {
     "model_module": "@jupyter-widgets/base",
     "model_module_version": "1.2.0",
     "model_name": "LayoutModel",
     "state": {
      "_model_module": "@jupyter-widgets/base",
      "_model_module_version": "1.2.0",
      "_model_name": "LayoutModel",
      "_view_count": null,
      "_view_module": "@jupyter-widgets/base",
      "_view_module_version": "1.2.0",
      "_view_name": "LayoutView",
      "align_content": null,
      "align_items": null,
      "align_self": null,
      "border": null,
      "bottom": null,
      "display": null,
      "flex": null,
      "flex_flow": null,
      "grid_area": null,
      "grid_auto_columns": null,
      "grid_auto_flow": null,
      "grid_auto_rows": null,
      "grid_column": null,
      "grid_gap": null,
      "grid_row": null,
      "grid_template_areas": null,
      "grid_template_columns": null,
      "grid_template_rows": null,
      "height": null,
      "justify_content": null,
      "justify_items": null,
      "left": null,
      "margin": null,
      "max_height": null,
      "max_width": null,
      "min_height": null,
      "min_width": null,
      "object_fit": null,
      "object_position": null,
      "order": null,
      "overflow": null,
      "overflow_x": null,
      "overflow_y": null,
      "padding": null,
      "right": null,
      "top": null,
      "visibility": null,
      "width": null
     }
    },
    "ae7f7fc5e1374b14a6ca32bb802e3f08": {
     "model_module": "@jupyter-widgets/base",
     "model_module_version": "1.2.0",
     "model_name": "LayoutModel",
     "state": {
      "_model_module": "@jupyter-widgets/base",
      "_model_module_version": "1.2.0",
      "_model_name": "LayoutModel",
      "_view_count": null,
      "_view_module": "@jupyter-widgets/base",
      "_view_module_version": "1.2.0",
      "_view_name": "LayoutView",
      "align_content": null,
      "align_items": null,
      "align_self": null,
      "border": null,
      "bottom": null,
      "display": null,
      "flex": null,
      "flex_flow": null,
      "grid_area": null,
      "grid_auto_columns": null,
      "grid_auto_flow": null,
      "grid_auto_rows": null,
      "grid_column": null,
      "grid_gap": null,
      "grid_row": null,
      "grid_template_areas": null,
      "grid_template_columns": null,
      "grid_template_rows": null,
      "height": null,
      "justify_content": null,
      "justify_items": null,
      "left": null,
      "margin": null,
      "max_height": null,
      "max_width": null,
      "min_height": null,
      "min_width": null,
      "object_fit": null,
      "object_position": null,
      "order": null,
      "overflow": null,
      "overflow_x": null,
      "overflow_y": null,
      "padding": null,
      "right": null,
      "top": null,
      "visibility": null,
      "width": null
     }
    },
    "af5cede299cf4364a574c28c33d85000": {
     "model_module": "@jupyter-widgets/controls",
     "model_module_version": "1.5.0",
     "model_name": "DescriptionStyleModel",
     "state": {
      "_model_module": "@jupyter-widgets/controls",
      "_model_module_version": "1.5.0",
      "_model_name": "DescriptionStyleModel",
      "_view_count": null,
      "_view_module": "@jupyter-widgets/base",
      "_view_module_version": "1.2.0",
      "_view_name": "StyleView",
      "description_width": ""
     }
    },
    "b4c1845da12a4f07ad98c6b7108755a3": {
     "model_module": "@jupyter-widgets/controls",
     "model_module_version": "1.5.0",
     "model_name": "HTMLModel",
     "state": {
      "_dom_classes": [],
      "_model_module": "@jupyter-widgets/controls",
      "_model_module_version": "1.5.0",
      "_model_name": "HTMLModel",
      "_view_count": null,
      "_view_module": "@jupyter-widgets/controls",
      "_view_module_version": "1.5.0",
      "_view_name": "HTMLView",
      "description": "",
      "description_tooltip": null,
      "layout": "IPY_MODEL_ad1ab0430a1347fca94a18e3e20281cb",
      "placeholder": "​",
      "style": "IPY_MODEL_af5cede299cf4364a574c28c33d85000",
      "value": " 665/665 [00:00&lt;00:00, 25.3kB/s]"
     }
    },
    "bcd7f51a96764705af8b079a40ba9668": {
     "model_module": "@jupyter-widgets/controls",
     "model_module_version": "1.5.0",
     "model_name": "ProgressStyleModel",
     "state": {
      "_model_module": "@jupyter-widgets/controls",
      "_model_module_version": "1.5.0",
      "_model_name": "ProgressStyleModel",
      "_view_count": null,
      "_view_module": "@jupyter-widgets/base",
      "_view_module_version": "1.2.0",
      "_view_name": "StyleView",
      "bar_color": null,
      "description_width": ""
     }
    },
    "c1a131ec2330443e910285c2050ff5aa": {
     "model_module": "@jupyter-widgets/base",
     "model_module_version": "1.2.0",
     "model_name": "LayoutModel",
     "state": {
      "_model_module": "@jupyter-widgets/base",
      "_model_module_version": "1.2.0",
      "_model_name": "LayoutModel",
      "_view_count": null,
      "_view_module": "@jupyter-widgets/base",
      "_view_module_version": "1.2.0",
      "_view_name": "LayoutView",
      "align_content": null,
      "align_items": null,
      "align_self": null,
      "border": null,
      "bottom": null,
      "display": null,
      "flex": null,
      "flex_flow": null,
      "grid_area": null,
      "grid_auto_columns": null,
      "grid_auto_flow": null,
      "grid_auto_rows": null,
      "grid_column": null,
      "grid_gap": null,
      "grid_row": null,
      "grid_template_areas": null,
      "grid_template_columns": null,
      "grid_template_rows": null,
      "height": null,
      "justify_content": null,
      "justify_items": null,
      "left": null,
      "margin": null,
      "max_height": null,
      "max_width": null,
      "min_height": null,
      "min_width": null,
      "object_fit": null,
      "object_position": null,
      "order": null,
      "overflow": null,
      "overflow_x": null,
      "overflow_y": null,
      "padding": null,
      "right": null,
      "top": null,
      "visibility": null,
      "width": null
     }
    },
    "c5f3c16ae2df43ab954bc9e8f77e66ef": {
     "model_module": "@jupyter-widgets/base",
     "model_module_version": "1.2.0",
     "model_name": "LayoutModel",
     "state": {
      "_model_module": "@jupyter-widgets/base",
      "_model_module_version": "1.2.0",
      "_model_name": "LayoutModel",
      "_view_count": null,
      "_view_module": "@jupyter-widgets/base",
      "_view_module_version": "1.2.0",
      "_view_name": "LayoutView",
      "align_content": null,
      "align_items": null,
      "align_self": null,
      "border": null,
      "bottom": null,
      "display": null,
      "flex": null,
      "flex_flow": null,
      "grid_area": null,
      "grid_auto_columns": null,
      "grid_auto_flow": null,
      "grid_auto_rows": null,
      "grid_column": null,
      "grid_gap": null,
      "grid_row": null,
      "grid_template_areas": null,
      "grid_template_columns": null,
      "grid_template_rows": null,
      "height": null,
      "justify_content": null,
      "justify_items": null,
      "left": null,
      "margin": null,
      "max_height": null,
      "max_width": null,
      "min_height": null,
      "min_width": null,
      "object_fit": null,
      "object_position": null,
      "order": null,
      "overflow": null,
      "overflow_x": null,
      "overflow_y": null,
      "padding": null,
      "right": null,
      "top": null,
      "visibility": null,
      "width": null
     }
    },
    "c8d69009aca34703b474e506d21b6f1f": {
     "model_module": "@jupyter-widgets/controls",
     "model_module_version": "1.5.0",
     "model_name": "ProgressStyleModel",
     "state": {
      "_model_module": "@jupyter-widgets/controls",
      "_model_module_version": "1.5.0",
      "_model_name": "ProgressStyleModel",
      "_view_count": null,
      "_view_module": "@jupyter-widgets/base",
      "_view_module_version": "1.2.0",
      "_view_name": "StyleView",
      "bar_color": null,
      "description_width": ""
     }
    },
    "cd55bff2cbe74b76a4a0c792b124f9bc": {
     "model_module": "@jupyter-widgets/controls",
     "model_module_version": "1.5.0",
     "model_name": "HTMLModel",
     "state": {
      "_dom_classes": [],
      "_model_module": "@jupyter-widgets/controls",
      "_model_module_version": "1.5.0",
      "_model_name": "HTMLModel",
      "_view_count": null,
      "_view_module": "@jupyter-widgets/controls",
      "_view_module_version": "1.5.0",
      "_view_name": "HTMLView",
      "description": "",
      "description_tooltip": null,
      "layout": "IPY_MODEL_df98c930caa74c7291594212cda7719d",
      "placeholder": "​",
      "style": "IPY_MODEL_dea67fe220b04f349d23ae92d5c07bd2",
      "value": "Downloading (…)neration_config.json: 100%"
     }
    },
    "d11638f996c3463db78ed45cc36ed95b": {
     "model_module": "@jupyter-widgets/controls",
     "model_module_version": "1.5.0",
     "model_name": "ProgressStyleModel",
     "state": {
      "_model_module": "@jupyter-widgets/controls",
      "_model_module_version": "1.5.0",
      "_model_name": "ProgressStyleModel",
      "_view_count": null,
      "_view_module": "@jupyter-widgets/base",
      "_view_module_version": "1.2.0",
      "_view_name": "StyleView",
      "bar_color": null,
      "description_width": ""
     }
    },
    "db21541eb86b4a789ce748fe74fd9918": {
     "model_module": "@jupyter-widgets/base",
     "model_module_version": "1.2.0",
     "model_name": "LayoutModel",
     "state": {
      "_model_module": "@jupyter-widgets/base",
      "_model_module_version": "1.2.0",
      "_model_name": "LayoutModel",
      "_view_count": null,
      "_view_module": "@jupyter-widgets/base",
      "_view_module_version": "1.2.0",
      "_view_name": "LayoutView",
      "align_content": null,
      "align_items": null,
      "align_self": null,
      "border": null,
      "bottom": null,
      "display": null,
      "flex": null,
      "flex_flow": null,
      "grid_area": null,
      "grid_auto_columns": null,
      "grid_auto_flow": null,
      "grid_auto_rows": null,
      "grid_column": null,
      "grid_gap": null,
      "grid_row": null,
      "grid_template_areas": null,
      "grid_template_columns": null,
      "grid_template_rows": null,
      "height": null,
      "justify_content": null,
      "justify_items": null,
      "left": null,
      "margin": null,
      "max_height": null,
      "max_width": null,
      "min_height": null,
      "min_width": null,
      "object_fit": null,
      "object_position": null,
      "order": null,
      "overflow": null,
      "overflow_x": null,
      "overflow_y": null,
      "padding": null,
      "right": null,
      "top": null,
      "visibility": null,
      "width": null
     }
    },
    "dea67fe220b04f349d23ae92d5c07bd2": {
     "model_module": "@jupyter-widgets/controls",
     "model_module_version": "1.5.0",
     "model_name": "DescriptionStyleModel",
     "state": {
      "_model_module": "@jupyter-widgets/controls",
      "_model_module_version": "1.5.0",
      "_model_name": "DescriptionStyleModel",
      "_view_count": null,
      "_view_module": "@jupyter-widgets/base",
      "_view_module_version": "1.2.0",
      "_view_name": "StyleView",
      "description_width": ""
     }
    },
    "df98c930caa74c7291594212cda7719d": {
     "model_module": "@jupyter-widgets/base",
     "model_module_version": "1.2.0",
     "model_name": "LayoutModel",
     "state": {
      "_model_module": "@jupyter-widgets/base",
      "_model_module_version": "1.2.0",
      "_model_name": "LayoutModel",
      "_view_count": null,
      "_view_module": "@jupyter-widgets/base",
      "_view_module_version": "1.2.0",
      "_view_name": "LayoutView",
      "align_content": null,
      "align_items": null,
      "align_self": null,
      "border": null,
      "bottom": null,
      "display": null,
      "flex": null,
      "flex_flow": null,
      "grid_area": null,
      "grid_auto_columns": null,
      "grid_auto_flow": null,
      "grid_auto_rows": null,
      "grid_column": null,
      "grid_gap": null,
      "grid_row": null,
      "grid_template_areas": null,
      "grid_template_columns": null,
      "grid_template_rows": null,
      "height": null,
      "justify_content": null,
      "justify_items": null,
      "left": null,
      "margin": null,
      "max_height": null,
      "max_width": null,
      "min_height": null,
      "min_width": null,
      "object_fit": null,
      "object_position": null,
      "order": null,
      "overflow": null,
      "overflow_x": null,
      "overflow_y": null,
      "padding": null,
      "right": null,
      "top": null,
      "visibility": null,
      "width": null
     }
    },
    "e1bdf57700c04c679d3bb22e11d106d3": {
     "model_module": "@jupyter-widgets/base",
     "model_module_version": "1.2.0",
     "model_name": "LayoutModel",
     "state": {
      "_model_module": "@jupyter-widgets/base",
      "_model_module_version": "1.2.0",
      "_model_name": "LayoutModel",
      "_view_count": null,
      "_view_module": "@jupyter-widgets/base",
      "_view_module_version": "1.2.0",
      "_view_name": "LayoutView",
      "align_content": null,
      "align_items": null,
      "align_self": null,
      "border": null,
      "bottom": null,
      "display": null,
      "flex": null,
      "flex_flow": null,
      "grid_area": null,
      "grid_auto_columns": null,
      "grid_auto_flow": null,
      "grid_auto_rows": null,
      "grid_column": null,
      "grid_gap": null,
      "grid_row": null,
      "grid_template_areas": null,
      "grid_template_columns": null,
      "grid_template_rows": null,
      "height": null,
      "justify_content": null,
      "justify_items": null,
      "left": null,
      "margin": null,
      "max_height": null,
      "max_width": null,
      "min_height": null,
      "min_width": null,
      "object_fit": null,
      "object_position": null,
      "order": null,
      "overflow": null,
      "overflow_x": null,
      "overflow_y": null,
      "padding": null,
      "right": null,
      "top": null,
      "visibility": null,
      "width": null
     }
    },
    "ece96e271ff54e85862cc47263ef5838": {
     "model_module": "@jupyter-widgets/controls",
     "model_module_version": "1.5.0",
     "model_name": "ProgressStyleModel",
     "state": {
      "_model_module": "@jupyter-widgets/controls",
      "_model_module_version": "1.5.0",
      "_model_name": "ProgressStyleModel",
      "_view_count": null,
      "_view_module": "@jupyter-widgets/base",
      "_view_module_version": "1.2.0",
      "_view_name": "StyleView",
      "bar_color": null,
      "description_width": ""
     }
    },
    "eff934d82d2a429ba96c57cac9942a85": {
     "model_module": "@jupyter-widgets/controls",
     "model_module_version": "1.5.0",
     "model_name": "HTMLModel",
     "state": {
      "_dom_classes": [],
      "_model_module": "@jupyter-widgets/controls",
      "_model_module_version": "1.5.0",
      "_model_name": "HTMLModel",
      "_view_count": null,
      "_view_module": "@jupyter-widgets/controls",
      "_view_module_version": "1.5.0",
      "_view_name": "HTMLView",
      "description": "",
      "description_tooltip": null,
      "layout": "IPY_MODEL_9cb0895ba0d54317857528771e170ef2",
      "placeholder": "​",
      "style": "IPY_MODEL_0cdd0b999c6a447698286dcb41c61bac",
      "value": "Downloading (…)olve/main/merges.txt: 100%"
     }
    },
    "f7c87fe3b0824ee493bc77746d8f72eb": {
     "model_module": "@jupyter-widgets/controls",
     "model_module_version": "1.5.0",
     "model_name": "HTMLModel",
     "state": {
      "_dom_classes": [],
      "_model_module": "@jupyter-widgets/controls",
      "_model_module_version": "1.5.0",
      "_model_name": "HTMLModel",
      "_view_count": null,
      "_view_module": "@jupyter-widgets/controls",
      "_view_module_version": "1.5.0",
      "_view_name": "HTMLView",
      "description": "",
      "description_tooltip": null,
      "layout": "IPY_MODEL_faa2a8d3aae4476890992c31927c1ef1",
      "placeholder": "​",
      "style": "IPY_MODEL_7f9fb7e678bd42b0a95cab49234c232a",
      "value": "Downloading (…)lve/main/config.json: 100%"
     }
    },
    "faa2a8d3aae4476890992c31927c1ef1": {
     "model_module": "@jupyter-widgets/base",
     "model_module_version": "1.2.0",
     "model_name": "LayoutModel",
     "state": {
      "_model_module": "@jupyter-widgets/base",
      "_model_module_version": "1.2.0",
      "_model_name": "LayoutModel",
      "_view_count": null,
      "_view_module": "@jupyter-widgets/base",
      "_view_module_version": "1.2.0",
      "_view_name": "LayoutView",
      "align_content": null,
      "align_items": null,
      "align_self": null,
      "border": null,
      "bottom": null,
      "display": null,
      "flex": null,
      "flex_flow": null,
      "grid_area": null,
      "grid_auto_columns": null,
      "grid_auto_flow": null,
      "grid_auto_rows": null,
      "grid_column": null,
      "grid_gap": null,
      "grid_row": null,
      "grid_template_areas": null,
      "grid_template_columns": null,
      "grid_template_rows": null,
      "height": null,
      "justify_content": null,
      "justify_items": null,
      "left": null,
      "margin": null,
      "max_height": null,
      "max_width": null,
      "min_height": null,
      "min_width": null,
      "object_fit": null,
      "object_position": null,
      "order": null,
      "overflow": null,
      "overflow_x": null,
      "overflow_y": null,
      "padding": null,
      "right": null,
      "top": null,
      "visibility": null,
      "width": null
     }
    },
    "fbb7737a35eb4e2aba9310b15ba443cf": {
     "model_module": "@jupyter-widgets/controls",
     "model_module_version": "1.5.0",
     "model_name": "DescriptionStyleModel",
     "state": {
      "_model_module": "@jupyter-widgets/controls",
      "_model_module_version": "1.5.0",
      "_model_name": "DescriptionStyleModel",
      "_view_count": null,
      "_view_module": "@jupyter-widgets/base",
      "_view_module_version": "1.2.0",
      "_view_name": "StyleView",
      "description_width": ""
     }
    }
   }
  }
 },
 "nbformat": 4,
 "nbformat_minor": 1
}
